{
 "cells": [
  {
   "cell_type": "code",
   "execution_count": 1,
   "metadata": {
    "collapsed": true
   },
   "outputs": [],
   "source": [
    "import graphlab as gl"
   ]
  },
  {
   "cell_type": "code",
   "execution_count": 2,
   "metadata": {
    "collapsed": false
   },
   "outputs": [
    {
     "name": "stderr",
     "output_type": "stream",
     "text": [
      "[INFO] graphlab.cython.cy_server: GraphLab Create v2.1 started. Logging: C:\\Users\\david\\AppData\\Local\\Temp\\graphlab_server_1495344748.log.0\n"
     ]
    },
    {
     "name": "stdout",
     "output_type": "stream",
     "text": [
      "This non-commercial license of GraphLab Create for academic use is assigned to lionsterben@outlook.com and will expire on May 04, 2018.\n"
     ]
    }
   ],
   "source": [
    "image_train = gl.SFrame('image_train_data/')\n",
    "image_test = gl.SFrame('image_test_data/')"
   ]
  },
  {
   "cell_type": "code",
   "execution_count": 3,
   "metadata": {
    "collapsed": false
   },
   "outputs": [
    {
     "data": {
      "text/plain": [
       "\n",
       "+------------------+-------+----------+\n",
       "|       item       | value | is exact |\n",
       "+------------------+-------+----------+\n",
       "|      Length      |  2005 |   Yes    |\n",
       "| # Missing Values |   0   |   Yes    |\n",
       "| # unique values  |   4   |    No    |\n",
       "+------------------+-------+----------+\n",
       "\n",
       "Most frequent items:\n",
       "+-------+------------+-----+-----+------+\n",
       "| value | automobile | cat | dog | bird |\n",
       "+-------+------------+-----+-----+------+\n",
       "| count |    509     | 509 | 509 | 478  |\n",
       "+-------+------------+-----+-----+------+\n"
      ]
     },
     "execution_count": 3,
     "metadata": {},
     "output_type": "execute_result"
    }
   ],
   "source": [
    "image_train['label'].sketch_summary()"
   ]
  },
  {
   "cell_type": "code",
   "execution_count": 4,
   "metadata": {
    "collapsed": true
   },
   "outputs": [],
   "source": [
    "dog = image_train[image_train['label']=='dog']\n",
    "auto = image_train[image_train['label']=='automobile']\n",
    "cat = image_train[image_train['label']=='cat']\n",
    "bird = image_train[image_train['label']=='bird']\n"
   ]
  },
  {
   "cell_type": "code",
   "execution_count": 9,
   "metadata": {
    "collapsed": false
   },
   "outputs": [
    {
     "data": {
      "text/html": [
       "<pre>Starting brute force nearest neighbors model training.</pre>"
      ],
      "text/plain": [
       "Starting brute force nearest neighbors model training."
      ]
     },
     "metadata": {},
     "output_type": "display_data"
    }
   ],
   "source": [
    "dog_model = gl.nearest_neighbors.create(dog,features = ['deep_features'],\n",
    "                                       label = 'id')"
   ]
  },
  {
   "cell_type": "code",
   "execution_count": 10,
   "metadata": {
    "collapsed": false
   },
   "outputs": [
    {
     "data": {
      "text/html": [
       "<pre>Starting brute force nearest neighbors model training.</pre>"
      ],
      "text/plain": [
       "Starting brute force nearest neighbors model training."
      ]
     },
     "metadata": {},
     "output_type": "display_data"
    }
   ],
   "source": [
    "cat_model = gl.nearest_neighbors.create(cat,features = ['deep_features'],\n",
    "                                       label = 'id')"
   ]
  },
  {
   "cell_type": "code",
   "execution_count": 11,
   "metadata": {
    "collapsed": false
   },
   "outputs": [
    {
     "data": {
      "text/html": [
       "<pre>Starting brute force nearest neighbors model training.</pre>"
      ],
      "text/plain": [
       "Starting brute force nearest neighbors model training."
      ]
     },
     "metadata": {},
     "output_type": "display_data"
    }
   ],
   "source": [
    "auto_model = gl.nearest_neighbors.create(auto,features = ['deep_features'],\n",
    "                                       label = 'id')"
   ]
  },
  {
   "cell_type": "code",
   "execution_count": 12,
   "metadata": {
    "collapsed": false
   },
   "outputs": [
    {
     "data": {
      "text/html": [
       "<pre>Starting brute force nearest neighbors model training.</pre>"
      ],
      "text/plain": [
       "Starting brute force nearest neighbors model training."
      ]
     },
     "metadata": {},
     "output_type": "display_data"
    }
   ],
   "source": [
    "bird_model = gl.nearest_neighbors.create(bird,features = ['deep_features'],\n",
    "                                       label = 'id')"
   ]
  },
  {
   "cell_type": "code",
   "execution_count": 13,
   "metadata": {
    "collapsed": true
   },
   "outputs": [],
   "source": [
    "test_cat = image_test[0:1]"
   ]
  },
  {
   "cell_type": "code",
   "execution_count": 14,
   "metadata": {
    "collapsed": false
   },
   "outputs": [
    {
     "name": "stdout",
     "output_type": "stream",
     "text": [
      "Canvas is accessible via web browser at the URL: http://localhost:2518/index.html\n",
      "Opening Canvas in default web browser.\n"
     ]
    }
   ],
   "source": [
    "test_cat['image'].show()"
   ]
  },
  {
   "cell_type": "code",
   "execution_count": 15,
   "metadata": {
    "collapsed": false
   },
   "outputs": [
    {
     "data": {
      "text/html": [
       "<pre>Starting pairwise querying.</pre>"
      ],
      "text/plain": [
       "Starting pairwise querying."
      ]
     },
     "metadata": {},
     "output_type": "display_data"
    },
    {
     "data": {
      "text/html": [
       "<pre>+--------------+---------+-------------+--------------+</pre>"
      ],
      "text/plain": [
       "+--------------+---------+-------------+--------------+"
      ]
     },
     "metadata": {},
     "output_type": "display_data"
    },
    {
     "data": {
      "text/html": [
       "<pre>| Query points | # Pairs | % Complete. | Elapsed Time |</pre>"
      ],
      "text/plain": [
       "| Query points | # Pairs | % Complete. | Elapsed Time |"
      ]
     },
     "metadata": {},
     "output_type": "display_data"
    },
    {
     "data": {
      "text/html": [
       "<pre>+--------------+---------+-------------+--------------+</pre>"
      ],
      "text/plain": [
       "+--------------+---------+-------------+--------------+"
      ]
     },
     "metadata": {},
     "output_type": "display_data"
    },
    {
     "data": {
      "text/html": [
       "<pre>| 0            | 1       | 0.196464    | 11.029ms     |</pre>"
      ],
      "text/plain": [
       "| 0            | 1       | 0.196464    | 11.029ms     |"
      ]
     },
     "metadata": {},
     "output_type": "display_data"
    },
    {
     "data": {
      "text/html": [
       "<pre>| Done         |         | 100         | 68.688ms     |</pre>"
      ],
      "text/plain": [
       "| Done         |         | 100         | 68.688ms     |"
      ]
     },
     "metadata": {},
     "output_type": "display_data"
    },
    {
     "data": {
      "text/html": [
       "<pre>+--------------+---------+-------------+--------------+</pre>"
      ],
      "text/plain": [
       "+--------------+---------+-------------+--------------+"
      ]
     },
     "metadata": {},
     "output_type": "display_data"
    },
    {
     "data": {
      "text/html": [
       "<div style=\"max-height:1000px;max-width:1500px;overflow:auto;\"><table frame=\"box\" rules=\"cols\">\n",
       "    <tr>\n",
       "        <th style=\"padding-left: 1em; padding-right: 1em; text-align: center\">query_label</th>\n",
       "        <th style=\"padding-left: 1em; padding-right: 1em; text-align: center\">reference_label</th>\n",
       "        <th style=\"padding-left: 1em; padding-right: 1em; text-align: center\">distance</th>\n",
       "        <th style=\"padding-left: 1em; padding-right: 1em; text-align: center\">rank</th>\n",
       "    </tr>\n",
       "    <tr>\n",
       "        <td style=\"padding-left: 1em; padding-right: 1em; text-align: center; vertical-align: top\">0</td>\n",
       "        <td style=\"padding-left: 1em; padding-right: 1em; text-align: center; vertical-align: top\">16289</td>\n",
       "        <td style=\"padding-left: 1em; padding-right: 1em; text-align: center; vertical-align: top\">34.623719208</td>\n",
       "        <td style=\"padding-left: 1em; padding-right: 1em; text-align: center; vertical-align: top\">1</td>\n",
       "    </tr>\n",
       "    <tr>\n",
       "        <td style=\"padding-left: 1em; padding-right: 1em; text-align: center; vertical-align: top\">0</td>\n",
       "        <td style=\"padding-left: 1em; padding-right: 1em; text-align: center; vertical-align: top\">45646</td>\n",
       "        <td style=\"padding-left: 1em; padding-right: 1em; text-align: center; vertical-align: top\">36.0068799284</td>\n",
       "        <td style=\"padding-left: 1em; padding-right: 1em; text-align: center; vertical-align: top\">2</td>\n",
       "    </tr>\n",
       "    <tr>\n",
       "        <td style=\"padding-left: 1em; padding-right: 1em; text-align: center; vertical-align: top\">0</td>\n",
       "        <td style=\"padding-left: 1em; padding-right: 1em; text-align: center; vertical-align: top\">32139</td>\n",
       "        <td style=\"padding-left: 1em; padding-right: 1em; text-align: center; vertical-align: top\">36.5200813436</td>\n",
       "        <td style=\"padding-left: 1em; padding-right: 1em; text-align: center; vertical-align: top\">3</td>\n",
       "    </tr>\n",
       "    <tr>\n",
       "        <td style=\"padding-left: 1em; padding-right: 1em; text-align: center; vertical-align: top\">0</td>\n",
       "        <td style=\"padding-left: 1em; padding-right: 1em; text-align: center; vertical-align: top\">25713</td>\n",
       "        <td style=\"padding-left: 1em; padding-right: 1em; text-align: center; vertical-align: top\">36.7548502521</td>\n",
       "        <td style=\"padding-left: 1em; padding-right: 1em; text-align: center; vertical-align: top\">4</td>\n",
       "    </tr>\n",
       "    <tr>\n",
       "        <td style=\"padding-left: 1em; padding-right: 1em; text-align: center; vertical-align: top\">0</td>\n",
       "        <td style=\"padding-left: 1em; padding-right: 1em; text-align: center; vertical-align: top\">331</td>\n",
       "        <td style=\"padding-left: 1em; padding-right: 1em; text-align: center; vertical-align: top\">36.8731228168</td>\n",
       "        <td style=\"padding-left: 1em; padding-right: 1em; text-align: center; vertical-align: top\">5</td>\n",
       "    </tr>\n",
       "</table>\n",
       "[5 rows x 4 columns]<br/>\n",
       "</div>"
      ],
      "text/plain": [
       "Columns:\n",
       "\tquery_label\tint\n",
       "\treference_label\tint\n",
       "\tdistance\tfloat\n",
       "\trank\tint\n",
       "\n",
       "Rows: 5\n",
       "\n",
       "Data:\n",
       "+-------------+-----------------+---------------+------+\n",
       "| query_label | reference_label |    distance   | rank |\n",
       "+-------------+-----------------+---------------+------+\n",
       "|      0      |      16289      |  34.623719208 |  1   |\n",
       "|      0      |      45646      | 36.0068799284 |  2   |\n",
       "|      0      |      32139      | 36.5200813436 |  3   |\n",
       "|      0      |      25713      | 36.7548502521 |  4   |\n",
       "|      0      |       331       | 36.8731228168 |  5   |\n",
       "+-------------+-----------------+---------------+------+\n",
       "[5 rows x 4 columns]"
      ]
     },
     "execution_count": 15,
     "metadata": {},
     "output_type": "execute_result"
    }
   ],
   "source": [
    "cat_model.query(test_cat)"
   ]
  },
  {
   "cell_type": "code",
   "execution_count": 16,
   "metadata": {
    "collapsed": false
   },
   "outputs": [
    {
     "data": {
      "text/html": [
       "<pre>Starting pairwise querying.</pre>"
      ],
      "text/plain": [
       "Starting pairwise querying."
      ]
     },
     "metadata": {},
     "output_type": "display_data"
    },
    {
     "data": {
      "text/html": [
       "<pre>+--------------+---------+-------------+--------------+</pre>"
      ],
      "text/plain": [
       "+--------------+---------+-------------+--------------+"
      ]
     },
     "metadata": {},
     "output_type": "display_data"
    },
    {
     "data": {
      "text/html": [
       "<pre>| Query points | # Pairs | % Complete. | Elapsed Time |</pre>"
      ],
      "text/plain": [
       "| Query points | # Pairs | % Complete. | Elapsed Time |"
      ]
     },
     "metadata": {},
     "output_type": "display_data"
    },
    {
     "data": {
      "text/html": [
       "<pre>+--------------+---------+-------------+--------------+</pre>"
      ],
      "text/plain": [
       "+--------------+---------+-------------+--------------+"
      ]
     },
     "metadata": {},
     "output_type": "display_data"
    },
    {
     "data": {
      "text/html": [
       "<pre>| 0            | 1       | 0.196464    | 12.033ms     |</pre>"
      ],
      "text/plain": [
       "| 0            | 1       | 0.196464    | 12.033ms     |"
      ]
     },
     "metadata": {},
     "output_type": "display_data"
    },
    {
     "data": {
      "text/html": [
       "<pre>| Done         |         | 100         | 68.682ms     |</pre>"
      ],
      "text/plain": [
       "| Done         |         | 100         | 68.682ms     |"
      ]
     },
     "metadata": {},
     "output_type": "display_data"
    },
    {
     "data": {
      "text/html": [
       "<pre>+--------------+---------+-------------+--------------+</pre>"
      ],
      "text/plain": [
       "+--------------+---------+-------------+--------------+"
      ]
     },
     "metadata": {},
     "output_type": "display_data"
    },
    {
     "data": {
      "text/html": [
       "<div style=\"max-height:1000px;max-width:1500px;overflow:auto;\"><table frame=\"box\" rules=\"cols\">\n",
       "    <tr>\n",
       "        <th style=\"padding-left: 1em; padding-right: 1em; text-align: center\">query_label</th>\n",
       "        <th style=\"padding-left: 1em; padding-right: 1em; text-align: center\">reference_label</th>\n",
       "        <th style=\"padding-left: 1em; padding-right: 1em; text-align: center\">distance</th>\n",
       "        <th style=\"padding-left: 1em; padding-right: 1em; text-align: center\">rank</th>\n",
       "    </tr>\n",
       "    <tr>\n",
       "        <td style=\"padding-left: 1em; padding-right: 1em; text-align: center; vertical-align: top\">0</td>\n",
       "        <td style=\"padding-left: 1em; padding-right: 1em; text-align: center; vertical-align: top\">16976</td>\n",
       "        <td style=\"padding-left: 1em; padding-right: 1em; text-align: center; vertical-align: top\">37.4642628784</td>\n",
       "        <td style=\"padding-left: 1em; padding-right: 1em; text-align: center; vertical-align: top\">1</td>\n",
       "    </tr>\n",
       "    <tr>\n",
       "        <td style=\"padding-left: 1em; padding-right: 1em; text-align: center; vertical-align: top\">0</td>\n",
       "        <td style=\"padding-left: 1em; padding-right: 1em; text-align: center; vertical-align: top\">13387</td>\n",
       "        <td style=\"padding-left: 1em; padding-right: 1em; text-align: center; vertical-align: top\">37.5666832169</td>\n",
       "        <td style=\"padding-left: 1em; padding-right: 1em; text-align: center; vertical-align: top\">2</td>\n",
       "    </tr>\n",
       "    <tr>\n",
       "        <td style=\"padding-left: 1em; padding-right: 1em; text-align: center; vertical-align: top\">0</td>\n",
       "        <td style=\"padding-left: 1em; padding-right: 1em; text-align: center; vertical-align: top\">35867</td>\n",
       "        <td style=\"padding-left: 1em; padding-right: 1em; text-align: center; vertical-align: top\">37.6047267079</td>\n",
       "        <td style=\"padding-left: 1em; padding-right: 1em; text-align: center; vertical-align: top\">3</td>\n",
       "    </tr>\n",
       "    <tr>\n",
       "        <td style=\"padding-left: 1em; padding-right: 1em; text-align: center; vertical-align: top\">0</td>\n",
       "        <td style=\"padding-left: 1em; padding-right: 1em; text-align: center; vertical-align: top\">44603</td>\n",
       "        <td style=\"padding-left: 1em; padding-right: 1em; text-align: center; vertical-align: top\">37.7065585153</td>\n",
       "        <td style=\"padding-left: 1em; padding-right: 1em; text-align: center; vertical-align: top\">4</td>\n",
       "    </tr>\n",
       "    <tr>\n",
       "        <td style=\"padding-left: 1em; padding-right: 1em; text-align: center; vertical-align: top\">0</td>\n",
       "        <td style=\"padding-left: 1em; padding-right: 1em; text-align: center; vertical-align: top\">6094</td>\n",
       "        <td style=\"padding-left: 1em; padding-right: 1em; text-align: center; vertical-align: top\">38.5113254907</td>\n",
       "        <td style=\"padding-left: 1em; padding-right: 1em; text-align: center; vertical-align: top\">5</td>\n",
       "    </tr>\n",
       "</table>\n",
       "[5 rows x 4 columns]<br/>\n",
       "</div>"
      ],
      "text/plain": [
       "Columns:\n",
       "\tquery_label\tint\n",
       "\treference_label\tint\n",
       "\tdistance\tfloat\n",
       "\trank\tint\n",
       "\n",
       "Rows: 5\n",
       "\n",
       "Data:\n",
       "+-------------+-----------------+---------------+------+\n",
       "| query_label | reference_label |    distance   | rank |\n",
       "+-------------+-----------------+---------------+------+\n",
       "|      0      |      16976      | 37.4642628784 |  1   |\n",
       "|      0      |      13387      | 37.5666832169 |  2   |\n",
       "|      0      |      35867      | 37.6047267079 |  3   |\n",
       "|      0      |      44603      | 37.7065585153 |  4   |\n",
       "|      0      |       6094      | 38.5113254907 |  5   |\n",
       "+-------------+-----------------+---------------+------+\n",
       "[5 rows x 4 columns]"
      ]
     },
     "execution_count": 16,
     "metadata": {},
     "output_type": "execute_result"
    }
   ],
   "source": [
    "dog_model.query(test_cat)"
   ]
  },
  {
   "cell_type": "code",
   "execution_count": 17,
   "metadata": {
    "collapsed": false
   },
   "outputs": [
    {
     "data": {
      "text/html": [
       "<pre>Starting pairwise querying.</pre>"
      ],
      "text/plain": [
       "Starting pairwise querying."
      ]
     },
     "metadata": {},
     "output_type": "display_data"
    },
    {
     "data": {
      "text/html": [
       "<pre>+--------------+---------+-------------+--------------+</pre>"
      ],
      "text/plain": [
       "+--------------+---------+-------------+--------------+"
      ]
     },
     "metadata": {},
     "output_type": "display_data"
    },
    {
     "data": {
      "text/html": [
       "<pre>| Query points | # Pairs | % Complete. | Elapsed Time |</pre>"
      ],
      "text/plain": [
       "| Query points | # Pairs | % Complete. | Elapsed Time |"
      ]
     },
     "metadata": {},
     "output_type": "display_data"
    },
    {
     "data": {
      "text/html": [
       "<pre>+--------------+---------+-------------+--------------+</pre>"
      ],
      "text/plain": [
       "+--------------+---------+-------------+--------------+"
      ]
     },
     "metadata": {},
     "output_type": "display_data"
    },
    {
     "data": {
      "text/html": [
       "<pre>| 0            | 1       | 0.196464    | 12.534ms     |</pre>"
      ],
      "text/plain": [
       "| 0            | 1       | 0.196464    | 12.534ms     |"
      ]
     },
     "metadata": {},
     "output_type": "display_data"
    },
    {
     "data": {
      "text/html": [
       "<pre>| Done         |         | 100         | 71.191ms     |</pre>"
      ],
      "text/plain": [
       "| Done         |         | 100         | 71.191ms     |"
      ]
     },
     "metadata": {},
     "output_type": "display_data"
    },
    {
     "data": {
      "text/html": [
       "<pre>+--------------+---------+-------------+--------------+</pre>"
      ],
      "text/plain": [
       "+--------------+---------+-------------+--------------+"
      ]
     },
     "metadata": {},
     "output_type": "display_data"
    }
   ],
   "source": [
    "top_5_cat = cat_model.query(test_cat)[0:5]"
   ]
  },
  {
   "cell_type": "code",
   "execution_count": 19,
   "metadata": {
    "collapsed": false
   },
   "outputs": [],
   "source": [
    "cat_distance = top_5_cat['distance'].mean()"
   ]
  },
  {
   "cell_type": "code",
   "execution_count": 20,
   "metadata": {
    "collapsed": false
   },
   "outputs": [
    {
     "data": {
      "text/plain": [
       "36.15573070978294"
      ]
     },
     "execution_count": 20,
     "metadata": {},
     "output_type": "execute_result"
    }
   ],
   "source": [
    "cat_distance"
   ]
  },
  {
   "cell_type": "code",
   "execution_count": 21,
   "metadata": {
    "collapsed": false
   },
   "outputs": [
    {
     "data": {
      "text/html": [
       "<pre>Starting pairwise querying.</pre>"
      ],
      "text/plain": [
       "Starting pairwise querying."
      ]
     },
     "metadata": {},
     "output_type": "display_data"
    },
    {
     "data": {
      "text/html": [
       "<pre>+--------------+---------+-------------+--------------+</pre>"
      ],
      "text/plain": [
       "+--------------+---------+-------------+--------------+"
      ]
     },
     "metadata": {},
     "output_type": "display_data"
    },
    {
     "data": {
      "text/html": [
       "<pre>| Query points | # Pairs | % Complete. | Elapsed Time |</pre>"
      ],
      "text/plain": [
       "| Query points | # Pairs | % Complete. | Elapsed Time |"
      ]
     },
     "metadata": {},
     "output_type": "display_data"
    },
    {
     "data": {
      "text/html": [
       "<pre>+--------------+---------+-------------+--------------+</pre>"
      ],
      "text/plain": [
       "+--------------+---------+-------------+--------------+"
      ]
     },
     "metadata": {},
     "output_type": "display_data"
    },
    {
     "data": {
      "text/html": [
       "<pre>| 0            | 1       | 0.196464    | 12.534ms     |</pre>"
      ],
      "text/plain": [
       "| 0            | 1       | 0.196464    | 12.534ms     |"
      ]
     },
     "metadata": {},
     "output_type": "display_data"
    },
    {
     "data": {
      "text/html": [
       "<pre>| Done         |         | 100         | 73.699ms     |</pre>"
      ],
      "text/plain": [
       "| Done         |         | 100         | 73.699ms     |"
      ]
     },
     "metadata": {},
     "output_type": "display_data"
    },
    {
     "data": {
      "text/html": [
       "<pre>+--------------+---------+-------------+--------------+</pre>"
      ],
      "text/plain": [
       "+--------------+---------+-------------+--------------+"
      ]
     },
     "metadata": {},
     "output_type": "display_data"
    }
   ],
   "source": [
    "dog_distance = dog_model.query(test_cat)[0:5]['distance'].mean()"
   ]
  },
  {
   "cell_type": "code",
   "execution_count": 22,
   "metadata": {
    "collapsed": false
   },
   "outputs": [
    {
     "name": "stdout",
     "output_type": "stream",
     "text": [
      "37.7707113618\n"
     ]
    }
   ],
   "source": [
    "print dog_distance"
   ]
  },
  {
   "cell_type": "code",
   "execution_count": 23,
   "metadata": {
    "collapsed": true
   },
   "outputs": [],
   "source": [
    "image_test_dog = image_test[image_test['label']=='dog']\n",
    "image_test_auto = image_test[image_test['label']=='automobile']\n",
    "image_test_cat = image_test[image_test['label']=='cat']\n",
    "image_test_bird = image_test[image_test['label']=='bird']"
   ]
  },
  {
   "cell_type": "code",
   "execution_count": 26,
   "metadata": {
    "collapsed": false
   },
   "outputs": [
    {
     "data": {
      "text/html": [
       "<pre>Starting blockwise querying.</pre>"
      ],
      "text/plain": [
       "Starting blockwise querying."
      ]
     },
     "metadata": {},
     "output_type": "display_data"
    },
    {
     "data": {
      "text/html": [
       "<pre>max rows per data block: 4348</pre>"
      ],
      "text/plain": [
       "max rows per data block: 4348"
      ]
     },
     "metadata": {},
     "output_type": "display_data"
    },
    {
     "data": {
      "text/html": [
       "<pre>number of reference data blocks: 4</pre>"
      ],
      "text/plain": [
       "number of reference data blocks: 4"
      ]
     },
     "metadata": {},
     "output_type": "display_data"
    },
    {
     "data": {
      "text/html": [
       "<pre>number of query data blocks: 1</pre>"
      ],
      "text/plain": [
       "number of query data blocks: 1"
      ]
     },
     "metadata": {},
     "output_type": "display_data"
    },
    {
     "data": {
      "text/html": [
       "<pre>+--------------+---------+-------------+--------------+</pre>"
      ],
      "text/plain": [
       "+--------------+---------+-------------+--------------+"
      ]
     },
     "metadata": {},
     "output_type": "display_data"
    },
    {
     "data": {
      "text/html": [
       "<pre>| Query points | # Pairs | % Complete. | Elapsed Time |</pre>"
      ],
      "text/plain": [
       "| Query points | # Pairs | % Complete. | Elapsed Time |"
      ]
     },
     "metadata": {},
     "output_type": "display_data"
    },
    {
     "data": {
      "text/html": [
       "<pre>+--------------+---------+-------------+--------------+</pre>"
      ],
      "text/plain": [
       "+--------------+---------+-------------+--------------+"
      ]
     },
     "metadata": {},
     "output_type": "display_data"
    },
    {
     "data": {
      "text/html": [
       "<pre>| 1000         | 127000  | 24.9509     | 431.159ms    |</pre>"
      ],
      "text/plain": [
       "| 1000         | 127000  | 24.9509     | 431.159ms    |"
      ]
     },
     "metadata": {},
     "output_type": "display_data"
    },
    {
     "data": {
      "text/html": [
       "<pre>| Done         | 509000  | 100         | 449.709ms    |</pre>"
      ],
      "text/plain": [
       "| Done         | 509000  | 100         | 449.709ms    |"
      ]
     },
     "metadata": {},
     "output_type": "display_data"
    },
    {
     "data": {
      "text/html": [
       "<pre>+--------------+---------+-------------+--------------+</pre>"
      ],
      "text/plain": [
       "+--------------+---------+-------------+--------------+"
      ]
     },
     "metadata": {},
     "output_type": "display_data"
    },
    {
     "data": {
      "text/html": [
       "<pre>Starting blockwise querying.</pre>"
      ],
      "text/plain": [
       "Starting blockwise querying."
      ]
     },
     "metadata": {},
     "output_type": "display_data"
    },
    {
     "data": {
      "text/html": [
       "<pre>max rows per data block: 4348</pre>"
      ],
      "text/plain": [
       "max rows per data block: 4348"
      ]
     },
     "metadata": {},
     "output_type": "display_data"
    },
    {
     "data": {
      "text/html": [
       "<pre>number of reference data blocks: 4</pre>"
      ],
      "text/plain": [
       "number of reference data blocks: 4"
      ]
     },
     "metadata": {},
     "output_type": "display_data"
    },
    {
     "data": {
      "text/html": [
       "<pre>number of query data blocks: 1</pre>"
      ],
      "text/plain": [
       "number of query data blocks: 1"
      ]
     },
     "metadata": {},
     "output_type": "display_data"
    },
    {
     "data": {
      "text/html": [
       "<pre>+--------------+---------+-------------+--------------+</pre>"
      ],
      "text/plain": [
       "+--------------+---------+-------------+--------------+"
      ]
     },
     "metadata": {},
     "output_type": "display_data"
    },
    {
     "data": {
      "text/html": [
       "<pre>| Query points | # Pairs | % Complete. | Elapsed Time |</pre>"
      ],
      "text/plain": [
       "| Query points | # Pairs | % Complete. | Elapsed Time |"
      ]
     },
     "metadata": {},
     "output_type": "display_data"
    },
    {
     "data": {
      "text/html": [
       "<pre>+--------------+---------+-------------+--------------+</pre>"
      ],
      "text/plain": [
       "+--------------+---------+-------------+--------------+"
      ]
     },
     "metadata": {},
     "output_type": "display_data"
    },
    {
     "data": {
      "text/html": [
       "<pre>| 1000         | 127000  | 24.9509     | 433.655ms    |</pre>"
      ],
      "text/plain": [
       "| 1000         | 127000  | 24.9509     | 433.655ms    |"
      ]
     },
     "metadata": {},
     "output_type": "display_data"
    },
    {
     "data": {
      "text/html": [
       "<pre>| Done         | 509000  | 100         | 477.772ms    |</pre>"
      ],
      "text/plain": [
       "| Done         | 509000  | 100         | 477.772ms    |"
      ]
     },
     "metadata": {},
     "output_type": "display_data"
    },
    {
     "data": {
      "text/html": [
       "<pre>+--------------+---------+-------------+--------------+</pre>"
      ],
      "text/plain": [
       "+--------------+---------+-------------+--------------+"
      ]
     },
     "metadata": {},
     "output_type": "display_data"
    },
    {
     "data": {
      "text/html": [
       "<pre>Starting blockwise querying.</pre>"
      ],
      "text/plain": [
       "Starting blockwise querying."
      ]
     },
     "metadata": {},
     "output_type": "display_data"
    },
    {
     "data": {
      "text/html": [
       "<pre>max rows per data block: 4348</pre>"
      ],
      "text/plain": [
       "max rows per data block: 4348"
      ]
     },
     "metadata": {},
     "output_type": "display_data"
    },
    {
     "data": {
      "text/html": [
       "<pre>number of reference data blocks: 4</pre>"
      ],
      "text/plain": [
       "number of reference data blocks: 4"
      ]
     },
     "metadata": {},
     "output_type": "display_data"
    },
    {
     "data": {
      "text/html": [
       "<pre>number of query data blocks: 1</pre>"
      ],
      "text/plain": [
       "number of query data blocks: 1"
      ]
     },
     "metadata": {},
     "output_type": "display_data"
    },
    {
     "data": {
      "text/html": [
       "<pre>+--------------+---------+-------------+--------------+</pre>"
      ],
      "text/plain": [
       "+--------------+---------+-------------+--------------+"
      ]
     },
     "metadata": {},
     "output_type": "display_data"
    },
    {
     "data": {
      "text/html": [
       "<pre>| Query points | # Pairs | % Complete. | Elapsed Time |</pre>"
      ],
      "text/plain": [
       "| Query points | # Pairs | % Complete. | Elapsed Time |"
      ]
     },
     "metadata": {},
     "output_type": "display_data"
    },
    {
     "data": {
      "text/html": [
       "<pre>+--------------+---------+-------------+--------------+</pre>"
      ],
      "text/plain": [
       "+--------------+---------+-------------+--------------+"
      ]
     },
     "metadata": {},
     "output_type": "display_data"
    },
    {
     "data": {
      "text/html": [
       "<pre>| 1000         | 127000  | 24.9509     | 507.372ms    |</pre>"
      ],
      "text/plain": [
       "| 1000         | 127000  | 24.9509     | 507.372ms    |"
      ]
     },
     "metadata": {},
     "output_type": "display_data"
    },
    {
     "data": {
      "text/html": [
       "<pre>| Done         | 509000  | 100         | 555.499ms    |</pre>"
      ],
      "text/plain": [
       "| Done         | 509000  | 100         | 555.499ms    |"
      ]
     },
     "metadata": {},
     "output_type": "display_data"
    },
    {
     "data": {
      "text/html": [
       "<pre>+--------------+---------+-------------+--------------+</pre>"
      ],
      "text/plain": [
       "+--------------+---------+-------------+--------------+"
      ]
     },
     "metadata": {},
     "output_type": "display_data"
    },
    {
     "data": {
      "text/html": [
       "<pre>Starting blockwise querying.</pre>"
      ],
      "text/plain": [
       "Starting blockwise querying."
      ]
     },
     "metadata": {},
     "output_type": "display_data"
    },
    {
     "data": {
      "text/html": [
       "<pre>max rows per data block: 4348</pre>"
      ],
      "text/plain": [
       "max rows per data block: 4348"
      ]
     },
     "metadata": {},
     "output_type": "display_data"
    },
    {
     "data": {
      "text/html": [
       "<pre>number of reference data blocks: 4</pre>"
      ],
      "text/plain": [
       "number of reference data blocks: 4"
      ]
     },
     "metadata": {},
     "output_type": "display_data"
    },
    {
     "data": {
      "text/html": [
       "<pre>number of query data blocks: 1</pre>"
      ],
      "text/plain": [
       "number of query data blocks: 1"
      ]
     },
     "metadata": {},
     "output_type": "display_data"
    },
    {
     "data": {
      "text/html": [
       "<pre>+--------------+---------+-------------+--------------+</pre>"
      ],
      "text/plain": [
       "+--------------+---------+-------------+--------------+"
      ]
     },
     "metadata": {},
     "output_type": "display_data"
    },
    {
     "data": {
      "text/html": [
       "<pre>| Query points | # Pairs | % Complete. | Elapsed Time |</pre>"
      ],
      "text/plain": [
       "| Query points | # Pairs | % Complete. | Elapsed Time |"
      ]
     },
     "metadata": {},
     "output_type": "display_data"
    },
    {
     "data": {
      "text/html": [
       "<pre>+--------------+---------+-------------+--------------+</pre>"
      ],
      "text/plain": [
       "+--------------+---------+-------------+--------------+"
      ]
     },
     "metadata": {},
     "output_type": "display_data"
    },
    {
     "data": {
      "text/html": [
       "<pre>| 1000         | 120000  | 25.1046     | 524.43ms     |</pre>"
      ],
      "text/plain": [
       "| 1000         | 120000  | 25.1046     | 524.43ms     |"
      ]
     },
     "metadata": {},
     "output_type": "display_data"
    },
    {
     "data": {
      "text/html": [
       "<pre>| Done         | 478000  | 100         | 562.024ms    |</pre>"
      ],
      "text/plain": [
       "| Done         | 478000  | 100         | 562.024ms    |"
      ]
     },
     "metadata": {},
     "output_type": "display_data"
    },
    {
     "data": {
      "text/html": [
       "<pre>+--------------+---------+-------------+--------------+</pre>"
      ],
      "text/plain": [
       "+--------------+---------+-------------+--------------+"
      ]
     },
     "metadata": {},
     "output_type": "display_data"
    }
   ],
   "source": [
    "dog_cat_neighbors = cat_model.query(image_test_dog, k=1)\n",
    "dog_dog_neighbors = dog_model.query(image_test_dog, k=1)\n",
    "dog_auto_neighbors = auto_model.query(image_test_dog, k=1)\n",
    "dog_bird_neighbors = bird_model.query(image_test_dog, k=1)"
   ]
  },
  {
   "cell_type": "code",
   "execution_count": 27,
   "metadata": {
    "collapsed": false
   },
   "outputs": [],
   "source": [
    "dog_distances = gl.SFrame({'dog-dog':dog_dog_neighbors['distance'],\n",
    "                       'dog-cat':dog_cat_neighbors['distance'],\n",
    "                          'dog-auto':dog_auto_neighbors['distance'],\n",
    "                          'dog-bird':dog_bird_neighbors['distance']})"
   ]
  },
  {
   "cell_type": "code",
   "execution_count": 28,
   "metadata": {
    "collapsed": false
   },
   "outputs": [
    {
     "data": {
      "text/html": [
       "<div style=\"max-height:1000px;max-width:1500px;overflow:auto;\"><table frame=\"box\" rules=\"cols\">\n",
       "    <tr>\n",
       "        <th style=\"padding-left: 1em; padding-right: 1em; text-align: center\">dog-auto</th>\n",
       "        <th style=\"padding-left: 1em; padding-right: 1em; text-align: center\">dog-bird</th>\n",
       "        <th style=\"padding-left: 1em; padding-right: 1em; text-align: center\">dog-cat</th>\n",
       "        <th style=\"padding-left: 1em; padding-right: 1em; text-align: center\">dog-dog</th>\n",
       "    </tr>\n",
       "    <tr>\n",
       "        <td style=\"padding-left: 1em; padding-right: 1em; text-align: center; vertical-align: top\">41.9579761457</td>\n",
       "        <td style=\"padding-left: 1em; padding-right: 1em; text-align: center; vertical-align: top\">41.7538647304</td>\n",
       "        <td style=\"padding-left: 1em; padding-right: 1em; text-align: center; vertical-align: top\">36.4196077068</td>\n",
       "        <td style=\"padding-left: 1em; padding-right: 1em; text-align: center; vertical-align: top\">33.4773590373</td>\n",
       "    </tr>\n",
       "    <tr>\n",
       "        <td style=\"padding-left: 1em; padding-right: 1em; text-align: center; vertical-align: top\">46.0021331807</td>\n",
       "        <td style=\"padding-left: 1em; padding-right: 1em; text-align: center; vertical-align: top\">41.3382958925</td>\n",
       "        <td style=\"padding-left: 1em; padding-right: 1em; text-align: center; vertical-align: top\">38.8353268874</td>\n",
       "        <td style=\"padding-left: 1em; padding-right: 1em; text-align: center; vertical-align: top\">32.8458495684</td>\n",
       "    </tr>\n",
       "    <tr>\n",
       "        <td style=\"padding-left: 1em; padding-right: 1em; text-align: center; vertical-align: top\">42.9462290692</td>\n",
       "        <td style=\"padding-left: 1em; padding-right: 1em; text-align: center; vertical-align: top\">38.6157590853</td>\n",
       "        <td style=\"padding-left: 1em; padding-right: 1em; text-align: center; vertical-align: top\">36.9763410854</td>\n",
       "        <td style=\"padding-left: 1em; padding-right: 1em; text-align: center; vertical-align: top\">35.0397073189</td>\n",
       "    </tr>\n",
       "    <tr>\n",
       "        <td style=\"padding-left: 1em; padding-right: 1em; text-align: center; vertical-align: top\">41.6866060048</td>\n",
       "        <td style=\"padding-left: 1em; padding-right: 1em; text-align: center; vertical-align: top\">37.0892269954</td>\n",
       "        <td style=\"padding-left: 1em; padding-right: 1em; text-align: center; vertical-align: top\">34.5750072914</td>\n",
       "        <td style=\"padding-left: 1em; padding-right: 1em; text-align: center; vertical-align: top\">33.9010327697</td>\n",
       "    </tr>\n",
       "    <tr>\n",
       "        <td style=\"padding-left: 1em; padding-right: 1em; text-align: center; vertical-align: top\">39.2269664935</td>\n",
       "        <td style=\"padding-left: 1em; padding-right: 1em; text-align: center; vertical-align: top\">38.272288694</td>\n",
       "        <td style=\"padding-left: 1em; padding-right: 1em; text-align: center; vertical-align: top\">34.778824791</td>\n",
       "        <td style=\"padding-left: 1em; padding-right: 1em; text-align: center; vertical-align: top\">37.4849250909</td>\n",
       "    </tr>\n",
       "    <tr>\n",
       "        <td style=\"padding-left: 1em; padding-right: 1em; text-align: center; vertical-align: top\">40.5845117698</td>\n",
       "        <td style=\"padding-left: 1em; padding-right: 1em; text-align: center; vertical-align: top\">39.1462089236</td>\n",
       "        <td style=\"padding-left: 1em; padding-right: 1em; text-align: center; vertical-align: top\">35.1171578292</td>\n",
       "        <td style=\"padding-left: 1em; padding-right: 1em; text-align: center; vertical-align: top\">34.945165344</td>\n",
       "    </tr>\n",
       "    <tr>\n",
       "        <td style=\"padding-left: 1em; padding-right: 1em; text-align: center; vertical-align: top\">45.1067352961</td>\n",
       "        <td style=\"padding-left: 1em; padding-right: 1em; text-align: center; vertical-align: top\">40.523040106</td>\n",
       "        <td style=\"padding-left: 1em; padding-right: 1em; text-align: center; vertical-align: top\">40.6095830913</td>\n",
       "        <td style=\"padding-left: 1em; padding-right: 1em; text-align: center; vertical-align: top\">39.0957278345</td>\n",
       "    </tr>\n",
       "    <tr>\n",
       "        <td style=\"padding-left: 1em; padding-right: 1em; text-align: center; vertical-align: top\">41.3221140974</td>\n",
       "        <td style=\"padding-left: 1em; padding-right: 1em; text-align: center; vertical-align: top\">38.1947918393</td>\n",
       "        <td style=\"padding-left: 1em; padding-right: 1em; text-align: center; vertical-align: top\">39.9036867306</td>\n",
       "        <td style=\"padding-left: 1em; padding-right: 1em; text-align: center; vertical-align: top\">37.7696131032</td>\n",
       "    </tr>\n",
       "    <tr>\n",
       "        <td style=\"padding-left: 1em; padding-right: 1em; text-align: center; vertical-align: top\">41.8244654995</td>\n",
       "        <td style=\"padding-left: 1em; padding-right: 1em; text-align: center; vertical-align: top\">40.1567131661</td>\n",
       "        <td style=\"padding-left: 1em; padding-right: 1em; text-align: center; vertical-align: top\">38.0674700168</td>\n",
       "        <td style=\"padding-left: 1em; padding-right: 1em; text-align: center; vertical-align: top\">35.1089144603</td>\n",
       "    </tr>\n",
       "    <tr>\n",
       "        <td style=\"padding-left: 1em; padding-right: 1em; text-align: center; vertical-align: top\">45.4976929401</td>\n",
       "        <td style=\"padding-left: 1em; padding-right: 1em; text-align: center; vertical-align: top\">45.5597962603</td>\n",
       "        <td style=\"padding-left: 1em; padding-right: 1em; text-align: center; vertical-align: top\">42.7258732951</td>\n",
       "        <td style=\"padding-left: 1em; padding-right: 1em; text-align: center; vertical-align: top\">43.2422832585</td>\n",
       "    </tr>\n",
       "</table>\n",
       "[1000 rows x 4 columns]<br/>Note: Only the head of the SFrame is printed.<br/>You can use print_rows(num_rows=m, num_columns=n) to print more rows and columns.\n",
       "</div>"
      ],
      "text/plain": [
       "Columns:\n",
       "\tdog-auto\tfloat\n",
       "\tdog-bird\tfloat\n",
       "\tdog-cat\tfloat\n",
       "\tdog-dog\tfloat\n",
       "\n",
       "Rows: 1000\n",
       "\n",
       "Data:\n",
       "+---------------+---------------+---------------+---------------+\n",
       "|    dog-auto   |    dog-bird   |    dog-cat    |    dog-dog    |\n",
       "+---------------+---------------+---------------+---------------+\n",
       "| 41.9579761457 | 41.7538647304 | 36.4196077068 | 33.4773590373 |\n",
       "| 46.0021331807 | 41.3382958925 | 38.8353268874 | 32.8458495684 |\n",
       "| 42.9462290692 | 38.6157590853 | 36.9763410854 | 35.0397073189 |\n",
       "| 41.6866060048 | 37.0892269954 | 34.5750072914 | 33.9010327697 |\n",
       "| 39.2269664935 |  38.272288694 |  34.778824791 | 37.4849250909 |\n",
       "| 40.5845117698 | 39.1462089236 | 35.1171578292 |  34.945165344 |\n",
       "| 45.1067352961 |  40.523040106 | 40.6095830913 | 39.0957278345 |\n",
       "| 41.3221140974 | 38.1947918393 | 39.9036867306 | 37.7696131032 |\n",
       "| 41.8244654995 | 40.1567131661 | 38.0674700168 | 35.1089144603 |\n",
       "| 45.4976929401 | 45.5597962603 | 42.7258732951 | 43.2422832585 |\n",
       "+---------------+---------------+---------------+---------------+\n",
       "[1000 rows x 4 columns]\n",
       "Note: Only the head of the SFrame is printed.\n",
       "You can use print_rows(num_rows=m, num_columns=n) to print more rows and columns."
      ]
     },
     "execution_count": 28,
     "metadata": {},
     "output_type": "execute_result"
    }
   ],
   "source": [
    "dog_distances"
   ]
  },
  {
   "cell_type": "code",
   "execution_count": 31,
   "metadata": {
    "collapsed": false
   },
   "outputs": [],
   "source": [
    "def is_dog_correct(row):\n",
    "    if row['dog-dog']<row['dog-auto'] and row['dog-dog']<row['dog-cat'] and row['dog-dog']<row['dog-bird']:\n",
    "        return 1\n",
    "    else:\n",
    "        return 0\n",
    "    "
   ]
  },
  {
   "cell_type": "code",
   "execution_count": 33,
   "metadata": {
    "collapsed": false
   },
   "outputs": [],
   "source": [
    "auc = dog_distances.apply(is_dog_correct)"
   ]
  },
  {
   "cell_type": "code",
   "execution_count": 34,
   "metadata": {
    "collapsed": false
   },
   "outputs": [
    {
     "data": {
      "text/plain": [
       "678L"
      ]
     },
     "execution_count": 34,
     "metadata": {},
     "output_type": "execute_result"
    }
   ],
   "source": [
    "auc.sum()"
   ]
  },
  {
   "cell_type": "code",
   "execution_count": 35,
   "metadata": {
    "collapsed": true
   },
   "outputs": [],
   "source": [
    "def is_cat_correct(row):\n",
    "    if row['dog-cat']<row['dog-auto'] and row['dog-cat']<row['dog-dog'] and row['dog-cat']<row['dog-bird']:\n",
    "        return 1\n",
    "    else:\n",
    "        return 0"
   ]
  },
  {
   "cell_type": "code",
   "execution_count": 36,
   "metadata": {
    "collapsed": true
   },
   "outputs": [],
   "source": [
    "cat_auc = dog_distances.apply(is_cat_correct)"
   ]
  },
  {
   "cell_type": "code",
   "execution_count": 37,
   "metadata": {
    "collapsed": false
   },
   "outputs": [
    {
     "data": {
      "text/plain": [
       "248L"
      ]
     },
     "execution_count": 37,
     "metadata": {},
     "output_type": "execute_result"
    }
   ],
   "source": [
    "cat_auc.sum()"
   ]
  },
  {
   "cell_type": "code",
   "execution_count": 38,
   "metadata": {
    "collapsed": false
   },
   "outputs": [
    {
     "name": "stdout",
     "output_type": "stream",
     "text": [
      "1000\n"
     ]
    }
   ],
   "source": [
    "print len(auc)"
   ]
  },
  {
   "cell_type": "code",
   "execution_count": 54,
   "metadata": {
    "collapsed": false
   },
   "outputs": [
    {
     "data": {
      "application/javascript": [
       "$(\"head\").append($(\"<link/>\").attr({\n",
       "  rel:  \"stylesheet\",\n",
       "  type: \"text/css\",\n",
       "  href: \"//cdnjs.cloudflare.com/ajax/libs/font-awesome/4.1.0/css/font-awesome.min.css\"\n",
       "}));\n",
       "$(\"head\").append($(\"<link/>\").attr({\n",
       "  rel:  \"stylesheet\",\n",
       "  type: \"text/css\",\n",
       "  href: \"https://static.turi.com/products/graphlab-create/2.1/canvas/css/canvas.css\"\n",
       "}));\n",
       "\n",
       "            (function(){\n",
       "\n",
       "                var e = null;\n",
       "                if (typeof element == 'undefined') {\n",
       "                    var scripts = document.getElementsByTagName('script');\n",
       "                    var thisScriptTag = scripts[scripts.length-1];\n",
       "                    var parentDiv = thisScriptTag.parentNode;\n",
       "                    e = document.createElement('div');\n",
       "                    parentDiv.appendChild(e);\n",
       "                } else {\n",
       "                    e = element[0];\n",
       "                }\n",
       "\n",
       "                if (typeof requirejs !== 'undefined') {\n",
       "                    // disable load timeout; ipython_app.js is large and can take a while to load.\n",
       "                    requirejs.config({waitSeconds: 0});\n",
       "                }\n",
       "\n",
       "                require(['https://static.turi.com/products/graphlab-create/2.1/canvas/js/ipython_app.js'], function(IPythonApp){\n",
       "                    var app = new IPythonApp();\n",
       "                    app.attachView('sarray','Images', {\"ipython\": true, \"rows\": [{\"format\": \"raw\", \"value\": [16, 17, 11, 18, 19, 13, 20, 21, 15, 24, 25, 19, 26, 27, 21, 22, 23, 17, 19, 20, 14, 19, 20, 15, 16, 17, 12, 12, 13, 8, 11, 12, 8, 28, 17, 6, 88, 44, 8, 84, 41, 13, 84, 46, 31, 91, 51, 34, 97, 56, 36, 101, 61, 40, 85, 51, 33, 74, 45, 28, 79, 47, 29, 92, 54, 35, 96, 53, 33, 103, 58, 34, 86, 48, 27, 86, 52, 34, 107, 68, 51, 90, 61, 48, 101, 93, 92, 116, 130, 145, 103, 110, 123, 98, 94, 100, 12, 13, 9, 15, 16, 12, 20, 21, 17, 23, 24, 19, 27, 28, 22, 24, 25, 19, 20, 21, 15, 21, 22, 16, 16, 17, 12, 13, 14, 9, 12, 13, 9, 25, 15, 5, 81, 41, 10, 80, 41, 14, 83, 45, 25, 100, 55, 33, 108, 61, 39, 100, 57, 36, 67, 31, 16, 62, 30, 19, 75, 39, 25, 99, 57, 37, 112, 65, 43, 99, 55, 31, 74, 38, 19, 80, 45, 29, 102, 62, 43, 98, 66, 53, 105, 95, 95, 114, 126, 142, 102, 108, 123, 97, 92, 99, 19, 19, 17, 22, 22, 20, 20, 20, 17, 23, 25, 19, 28, 29, 23, 26, 27, 21, 21, 22, 16, 21, 22, 16, 16, 17, 12, 16, 16, 11, 14, 16, 12, 23, 18, 13, 78, 45, 25, 102, 68, 50, 94, 59, 39, 102, 57, 34, 108, 61, 37, 112, 67, 43, 100, 61, 40, 105, 64, 45, 111, 66, 47, 114, 67, 46, 124, 75, 52, 103, 61, 36, 81, 46, 29, 78, 43, 28, 102, 61, 40, 99, 72, 61, 108, 103, 105, 118, 133, 149, 103, 109, 123, 96, 94, 100, 23, 23, 21, 70, 70, 69, 64, 63, 60, 29, 29, 24, 25, 26, 21, 26, 27, 22, 22, 23, 17, 22, 23, 18, 18, 19, 14, 16, 16, 12, 15, 17, 15, 46, 44, 46, 112, 84, 75, 106, 78, 70, 96, 65, 52, 105, 64, 42, 107, 64, 38, 118, 73, 46, 121, 80, 52, 123, 82, 55, 122, 80, 53, 120, 80, 53, 121, 82, 54, 107, 67, 41, 87, 52, 37, 82, 45, 30, 101, 59, 37, 83, 63, 54, 84, 85, 88, 108, 123, 135, 88, 93, 102, 77, 77, 82, 29, 28, 28, 78, 77, 81, 116, 104, 102, 104, 94, 91, 37, 35, 32, 25, 25, 21, 24, 23, 20, 23, 23, 20, 19, 19, 17, 16, 15, 14, 22, 23, 24, 97, 90, 89, 151, 118, 108, 111, 87, 81, 111, 85, 77, 111, 70, 48, 110, 66, 40, 114, 70, 43, 115, 72, 45, 119, 80, 51, 123, 78, 50, 114, 71, 46, 113, 72, 43, 110, 66, 40, 86, 49, 34, 81, 41, 24, 97, 54, 32, 70, 49, 41, 49, 44, 44, 61, 62, 66, 56, 54, 60, 52, 49, 51, 29, 28, 28, 49, 48, 52, 108, 92, 88, 156, 139, 128, 90, 83, 72, 31, 30, 21, 23, 23, 18, 40, 39, 34, 60, 57, 53, 68, 63, 60, 66, 61, 58, 130, 111, 102, 135, 95, 80, 122, 95, 86, 126, 105, 100, 103, 70, 55, 94, 60, 40, 92, 58, 39, 94, 59, 40, 99, 61, 38, 101, 57, 33, 93, 51, 28, 91, 51, 29, 87, 47, 25, 74, 40, 25, 73, 41, 28, 88, 53, 40, 63, 45, 40, 51, 44, 43, 52, 49, 49, 53, 49, 52, 53, 48, 49, 27, 26, 24, 56, 56, 59, 105, 88, 82, 137, 105, 88, 139, 114, 97, 109, 95, 84, 98, 87, 81, 117, 110, 105, 162, 153, 146, 158, 144, 136, 117, 100, 89, 127, 96, 79, 128, 84, 67, 123, 93, 80, 129, 113, 109, 92, 75, 69, 55, 38, 29, 55, 38, 30, 63, 44, 34, 83, 53, 38, 94, 61, 42, 101, 63, 38, 92, 59, 37, 103, 71, 49, 89, 59, 37, 63, 44, 36, 67, 47, 46, 55, 41, 40, 52, 48, 46, 55, 53, 53, 58, 54, 55, 58, 54, 54, 26, 25, 22, 64, 64, 65, 99, 82, 75, 130, 92, 76, 161, 127, 112, 164, 140, 131, 168, 149, 144, 173, 160, 154, 211, 196, 186, 172, 149, 136, 122, 93, 75, 144, 106, 87, 143, 101, 87, 135, 104, 89, 120, 108, 106, 90, 85, 87, 38, 33, 34, 31, 26, 28, 46, 38, 38, 86, 67, 59, 106, 87, 72, 140, 105, 73, 129, 99, 69, 138, 113, 82, 147, 118, 81, 65, 57, 45, 49, 42, 45, 50, 41, 41, 54, 53, 51, 60, 60, 58, 63, 58, 58, 64, 59, 58, 31, 31, 27, 67, 66, 66, 116, 99, 93, 143, 114, 102, 181, 158, 147, 194, 179, 171, 196, 182, 177, 198, 185, 177, 206, 187, 174, 156, 127, 109, 131, 97, 75, 162, 126, 108, 152, 115, 104, 151, 120, 104, 125, 115, 112, 79, 79, 84, 37, 37, 41, 21, 22, 26, 24, 23, 26, 58, 49, 44, 103, 93, 77, 160, 127, 88, 149, 121, 83, 144, 120, 79, 177, 149, 99, 85, 82, 64, 41, 40, 45, 51, 47, 49, 56, 56, 56, 63, 62, 61, 66, 61, 61, 68, 64, 63, 29, 29, 29, 70, 66, 66, 118, 103, 100, 160, 141, 133, 180, 168, 159, 185, 172, 167, 206, 195, 192, 196, 183, 172, 174, 153, 133, 141, 112, 90, 148, 123, 105, 175, 150, 137, 172, 139, 123, 178, 150, 133, 142, 130, 126, 65, 65, 67, 29, 30, 32, 19, 20, 23, 18, 18, 21, 57, 52, 45, 142, 124, 100, 186, 156, 120, 166, 145, 104, 175, 158, 118, 185, 168, 126, 87, 81, 67, 42, 44, 50, 47, 49, 57, 46, 46, 52, 60, 59, 62, 69, 65, 67, 70, 67, 66, 51, 51, 52, 77, 72, 74, 117, 103, 102, 156, 142, 135, 156, 147, 137, 138, 123, 114, 154, 140, 131, 159, 141, 132, 136, 110, 98, 126, 99, 87, 166, 147, 140, 201, 184, 176, 183, 158, 143, 201, 177, 163, 142, 130, 126, 46, 46, 47, 18, 19, 21, 17, 18, 20, 22, 22, 25, 43, 38, 34, 138, 119, 97, 166, 136, 107, 185, 162, 122, 157, 147, 114, 173, 168, 135, 98, 94, 82, 46, 47, 49, 50, 53, 62, 45, 45, 53, 51, 49, 54, 70, 66, 69, 76, 72, 72, 60, 58, 59, 79, 74, 77, 127, 115, 116, 143, 132, 126, 143, 136, 124, 143, 125, 112, 128, 110, 94, 105, 86, 72, 127, 100, 88, 142, 123, 110, 167, 151, 144, 209, 197, 190, 176, 159, 148, 195, 175, 165, 149, 137, 134, 44, 42, 45, 23, 24, 28, 30, 31, 34, 33, 33, 38, 42, 37, 39, 74, 60, 50, 121, 95, 74, 177, 144, 103, 173, 147, 109, 193, 179, 144, 124, 119, 108, 46, 50, 52, 52, 55, 63, 45, 45, 53, 43, 42, 46, 68, 64, 67, 80, 76, 75, 59, 56, 56, 71, 68, 70, 131, 121, 123, 147, 135, 130, 137, 128, 117, 150, 130, 119, 128, 110, 95, 94, 77, 63, 140, 112, 103, 156, 143, 129, 162, 146, 136, 196, 181, 173, 182, 167, 156, 175, 158, 148, 132, 120, 114, 50, 49, 51, 32, 34, 38, 39, 40, 44, 44, 44, 50, 48, 46, 53, 44, 41, 40, 98, 80, 65, 176, 139, 97, 150, 117, 83, 145, 128, 101, 101, 98, 94, 45, 50, 56, 48, 52, 61, 42, 42, 50, 39, 38, 42, 68, 64, 67, 87, 80, 81, 65, 61, 60, 73, 69, 71, 135, 125, 127, 149, 134, 128, 113, 101, 92, 111, 92, 85, 129, 114, 105, 116, 105, 101, 128, 103, 105, 112, 99, 95, 134, 111, 105, 195, 174, 167, 193, 177, 167, 167, 151, 140, 118, 108, 99, 51, 50, 52, 40, 41, 47, 42, 43, 49, 50, 51, 56, 47, 50, 58, 52, 56, 60, 114, 101, 90, 180, 144, 101, 126, 103, 83, 94, 89, 82, 69, 70, 75, 55, 57, 65, 53, 55, 64, 40, 41, 48, 37, 36, 40, 69, 65, 66, 90, 82, 83, 71, 66, 67, 88, 80, 81, 119, 107, 106, 130, 115, 104, 135, 119, 112, 128, 114, 108, 152, 144, 142, 158, 152, 152, 140, 124, 124, 114, 93, 91, 159, 125, 110, 200, 176, 164, 198, 182, 173, 170, 156, 149, 114, 107, 104, 53, 53, 58, 46, 49, 56, 44, 47, 54, 46, 49, 55, 39, 40, 46, 57, 58, 65, 132, 119, 107, 190, 152, 106, 178, 140, 102, 133, 115, 102, 68, 67, 68, 54, 58, 68, 46, 50, 60, 31, 36, 40, 37, 38, 39, 69, 63, 63, 92, 83, 83, 78, 73, 74, 89, 80, 80, 87, 76, 74, 94, 81, 71, 121, 103, 98, 141, 126, 119, 146, 138, 137, 160, 150, 152, 164, 144, 143, 168, 141, 138, 179, 140, 125, 200, 172, 156, 197, 177, 164, 167, 152, 145, 106, 101, 102, 54, 56, 62, 53, 57, 64, 49, 52, 59, 43, 46, 53, 42, 45, 51, 63, 64, 72, 105, 93, 84, 156, 126, 89, 152, 121, 90, 123, 108, 101, 71, 73, 75, 73, 79, 91, 50, 54, 66, 34, 39, 45, 36, 37, 39, 70, 64, 64, 98, 89, 90, 85, 79, 81, 89, 81, 80, 65, 57, 54, 72, 61, 55, 130, 111, 108, 167, 149, 140, 132, 122, 119, 128, 121, 124, 170, 154, 149, 199, 178, 172, 205, 175, 163, 207, 177, 161, 192, 169, 152, 154, 141, 132, 86, 84, 88, 53, 56, 63, 57, 60, 67, 51, 54, 61, 47, 51, 57, 49, 53, 60, 54, 55, 61, 75, 66, 60, 114, 96, 74, 139, 124, 111, 136, 130, 134, 95, 99, 105, 90, 96, 108, 64, 69, 81, 43, 49, 56, 40, 41, 44, 71, 65, 66, 106, 96, 97, 90, 83, 84, 90, 82, 82, 73, 66, 63, 97, 87, 84, 164, 142, 141, 165, 144, 132, 97, 87, 82, 88, 83, 87, 181, 166, 159, 206, 189, 180, 201, 179, 170, 218, 194, 183, 193, 174, 159, 137, 127, 119, 67, 67, 74, 51, 54, 62, 55, 58, 65, 52, 55, 62, 50, 53, 60, 46, 49, 53, 47, 44, 44, 93, 83, 77, 130, 118, 109, 140, 129, 123, 152, 145, 150, 144, 145, 148, 103, 106, 115, 71, 74, 87, 47, 53, 61, 45, 46, 51, 78, 72, 75, 116, 107, 108, 88, 79, 81, 90, 84, 83, 93, 88, 85, 105, 97, 96, 148, 127, 125, 152, 128, 116, 81, 66, 61, 77, 65, 70, 164, 141, 136, 186, 162, 155, 191, 166, 161, 211, 190, 185, 184, 169, 158, 117, 110, 103, 57, 58, 66, 52, 55, 65, 55, 58, 65, 54, 57, 64, 49, 52, 59, 42, 42, 45, 69, 61, 56, 129, 116, 109, 162, 150, 146, 124, 112, 108, 142, 129, 129, 161, 155, 153, 107, 107, 113, 67, 71, 83, 50, 56, 65, 45, 46, 52, 89, 83, 85, 122, 112, 114, 96, 87, 88, 99, 90, 91, 105, 98, 97, 107, 100, 98, 115, 99, 96, 121, 96, 90, 98, 74, 67, 102, 83, 79, 132, 107, 103, 153, 126, 121, 175, 148, 142, 189, 163, 156, 158, 142, 137, 89, 86, 84, 50, 52, 58, 47, 50, 60, 47, 50, 59, 47, 49, 57, 43, 43, 50, 46, 45, 49, 85, 77, 75, 151, 136, 132, 162, 148, 144, 125, 114, 112, 145, 129, 122, 151, 138, 131, 115, 115, 120, 77, 84, 94, 62, 70, 79, 51, 53, 59, 94, 88, 88, 121, 110, 112, 106, 97, 98, 108, 99, 100, 111, 102, 103, 95, 89, 86, 72, 59, 56, 115, 95, 91, 139, 118, 112, 152, 131, 121, 186, 162, 153, 178, 154, 147, 165, 146, 138, 158, 140, 137, 107, 98, 98, 53, 54, 57, 43, 47, 54, 42, 46, 55, 41, 44, 53, 36, 37, 44, 36, 36, 42, 46, 46, 49, 87, 81, 81, 158, 146, 145, 171, 159, 158, 131, 121, 118, 165, 148, 140, 171, 155, 147, 131, 127, 129, 83, 86, 92, 63, 67, 74, 60, 60, 65, 104, 97, 97, 120, 110, 112, 104, 95, 96, 107, 98, 99, 111, 103, 103, 107, 102, 99, 100, 89, 86, 136, 122, 120, 149, 135, 131, 181, 162, 152, 228, 206, 197, 194, 176, 169, 157, 147, 141, 101, 95, 96, 56, 56, 60, 44, 50, 54, 43, 47, 54, 44, 46, 54, 44, 45, 52, 37, 36, 42, 38, 37, 42, 46, 45, 48, 77, 72, 71, 146, 136, 134, 182, 173, 173, 143, 133, 129, 168, 151, 142, 185, 168, 160, 143, 134, 131, 92, 87, 89, 61, 59, 63, 73, 70, 75, 114, 106, 108, 123, 112, 115, 104, 95, 96, 108, 99, 100, 115, 106, 107, 114, 108, 106, 113, 104, 102, 84, 74, 74, 76, 70, 68, 149, 139, 138, 168, 155, 156, 136, 126, 126, 96, 93, 92, 48, 48, 51, 44, 48, 52, 44, 49, 53, 44, 46, 51, 49, 50, 57, 46, 46, 53, 44, 42, 48, 41, 39, 43, 54, 51, 49, 79, 71, 66, 115, 104, 99, 150, 141, 139, 163, 151, 146, 174, 156, 146, 174, 157, 146, 166, 151, 145, 132, 120, 118, 85, 77, 79, 94, 89, 93, 125, 116, 118, 126, 115, 118, 108, 99, 100, 111, 102, 103, 113, 104, 105, 115, 109, 107, 114, 106, 105, 86, 78, 78, 81, 78, 78, 76, 73, 79, 59, 55, 63, 73, 69, 75, 64, 65, 67, 42, 45, 48, 48, 52, 56, 49, 51, 53, 52, 50, 52, 59, 57, 62, 55, 54, 60, 47, 46, 51, 42, 39, 41, 64, 56, 50, 107, 95, 86, 130, 116, 108, 128, 117, 111, 168, 155, 148, 189, 173, 164, 171, 153, 143, 169, 151, 142, 170, 155, 149, 117, 107, 107, 104, 97, 102, 127, 118, 122, 129, 118, 122, 107, 98, 99, 110, 101, 102, 111, 102, 103, 115, 107, 105, 118, 110, 108, 119, 111, 109, 120, 114, 112, 79, 76, 77, 40, 38, 44, 64, 62, 68, 48, 49, 50, 42, 43, 47, 53, 52, 57, 71, 68, 69, 93, 87, 87, 70, 64, 66, 59, 57, 62, 57, 56, 61, 57, 51, 51, 93, 79, 73, 134, 117, 109, 151, 134, 126, 135, 118, 111, 152, 138, 131, 188, 176, 170, 182, 167, 160, 169, 150, 138, 178, 163, 154, 137, 128, 127, 118, 111, 115, 131, 121, 127, 131, 122, 125, 109, 100, 101, 112, 103, 104, 112, 103, 104, 117, 109, 107, 120, 112, 110, 121, 113, 110, 123, 115, 113, 108, 103, 102, 64, 60, 63, 61, 58, 61, 50, 50, 50, 63, 62, 64, 95, 92, 94, 97, 90, 89, 125, 116, 113, 103, 94, 93, 86, 80, 81, 79, 73, 75, 83, 74, 73, 126, 111, 109, 155, 137, 135, 164, 147, 145, 148, 131, 129, 147, 132, 126, 171, 158, 151, 177, 161, 152, 166, 144, 131, 172, 150, 140, 153, 138, 134, 130, 120, 120, 132, 122, 123, 135, 125, 128, 111, 102, 103, 110, 101, 103, 114, 105, 106, 119, 111, 110, 120, 112, 110, 122, 114, 112, 125, 117, 115, 125, 117, 117, 97, 90, 90, 58, 53, 52, 64, 61, 60, 87, 82, 82, 131, 124, 123, 112, 102, 98, 125, 113, 107, 133, 119, 114, 137, 123, 118, 100, 88, 85, 103, 92, 91, 139, 125, 127, 154, 138, 141, 155, 139, 142, 154, 138, 140, 156, 140, 136, 180, 162, 154, 176, 155, 144, 150, 126, 114, 144, 118, 107, 139, 120, 114, 128, 116, 114, 131, 121, 119, 133, 123, 125, 111, 102, 103, 111, 102, 104, 116, 107, 108, 119, 111, 109, 121, 113, 111, 125, 117, 115, 129, 121, 119, 130, 120, 120, 115, 106, 103, 93, 86, 81, 102, 96, 94, 118, 110, 108, 152, 141, 138, 142, 128, 122, 139, 123, 114, 136, 117, 108, 141, 120, 111, 116, 98, 90, 117, 104, 101, 144, 130, 131, 152, 137, 138, 152, 137, 139, 144, 129, 130, 145, 129, 124, 152, 130, 121, 135, 108, 96, 117, 92, 80, 125, 104, 93, 124, 108, 102, 131, 119, 119, 137, 124, 124, 133, 123, 125, 112, 103, 104, 112, 103, 104, 117, 108, 109, 119, 111, 110, 124, 116, 114, 126, 118, 117, 127, 119, 117, 129, 116, 115, 139, 128, 122, 127, 118, 111, 119, 111, 106, 133, 121, 115, 154, 139, 131, 154, 137, 128, 148, 130, 119, 140, 118, 105, 129, 104, 92, 124, 103, 93, 131, 117, 113, 147, 134, 133, 147, 134, 133, 146, 134, 133, 148, 135, 134, 145, 130, 127, 142, 120, 113, 129, 104, 95, 127, 105, 97, 137, 122, 115, 136, 124, 121, 136, 125, 127, 138, 125, 127, 133, 123, 126, 111, 101, 102, 112, 103, 104, 117, 108, 109, 121, 112, 113, 124, 115, 116, 123, 114, 115, 126, 117, 117, 126, 113, 109, 131, 118, 111, 131, 119, 110, 121, 110, 99, 141, 123, 111, 150, 129, 116, 158, 138, 125, 156, 134, 121, 148, 123, 108, 131, 107, 94, 119, 101, 92, 144, 130, 125, 147, 136, 135, 143, 133, 132, 143, 133, 131, 144, 133, 132, 144, 130, 130, 147, 132, 131, 145, 130, 129, 142, 127, 127, 139, 128, 128, 138, 129, 129, 137, 127, 128, 132, 122, 123, 133, 123, 126, 109, 100, 101, 110, 101, 102, 114, 105, 106, 116, 107, 109, 119, 110, 111, 121, 112, 113, 122, 113, 113, 124, 115, 113, 125, 113, 108, 128, 114, 105, 122, 105, 93, 129, 107, 94, 134, 111, 97, 149, 126, 112, 155, 132, 118, 144, 120, 108, 135, 114, 104, 136, 119, 112, 145, 131, 128, 144, 134, 133, 143, 133, 133, 141, 131, 131, 141, 131, 130, 143, 130, 131, 142, 129, 130, 140, 127, 128, 138, 125, 126, 136, 125, 127, 133, 123, 124, 133, 123, 123, 129, 119, 120, 128, 119, 121, 105, 96, 97, 107, 98, 99, 111, 102, 103, 114, 105, 106, 119, 110, 111, 120, 111, 112, 118, 109, 110, 119, 113, 113, 126, 117, 114, 123, 108, 100, 123, 103, 92, 121, 98, 86, 124, 101, 89, 130, 107, 95, 129, 106, 94, 131, 111, 103, 139, 121, 115, 146, 131, 128, 142, 129, 128, 142, 132, 133, 143, 133, 134, 141, 131, 132, 141, 131, 132, 138, 127, 129, 138, 126, 128, 135, 123, 126, 132, 121, 123, 133, 122, 124, 130, 120, 121, 128, 118, 119, 127, 117, 118, 127, 117, 120], \"height\": 32, \"channels\": 3, \"width\": 32, \"type\": \"image\", \"id\": 860949584}], \"selected_variable\": {\"name\": [\"<SArray>\"], \"dtype\": \"Image\", \"view_component\": \"Images\", \"view_file\": \"sarray\", \"descriptives\": {\"rows\": 1}, \"type\": \"SArray\", \"view_components\": [\"Images\"]}}, e);\n",
       "                });\n",
       "            })();\n",
       "        "
      ]
     },
     "metadata": {},
     "output_type": "display_data"
    }
   ],
   "source": [
    "image_train[image_train['id']==16976]['image'].show()"
   ]
  },
  {
   "cell_type": "code",
   "execution_count": 46,
   "metadata": {
    "collapsed": true
   },
   "outputs": [],
   "source": [
    "gl.canvas.set_target('ipynb')"
   ]
  },
  {
   "cell_type": "code",
   "execution_count": null,
   "metadata": {
    "collapsed": true
   },
   "outputs": [],
   "source": []
  }
 ],
 "metadata": {
  "kernelspec": {
   "display_name": "Python 2",
   "language": "python",
   "name": "python2"
  },
  "language_info": {
   "codemirror_mode": {
    "name": "ipython",
    "version": 2
   },
   "file_extension": ".py",
   "mimetype": "text/x-python",
   "name": "python",
   "nbconvert_exporter": "python",
   "pygments_lexer": "ipython2",
   "version": "2.7.11"
  }
 },
 "nbformat": 4,
 "nbformat_minor": 0
}
