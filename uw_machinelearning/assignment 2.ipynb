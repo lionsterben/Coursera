{
 "cells": [
  {
   "cell_type": "code",
   "execution_count": 1,
   "metadata": {
    "collapsed": true
   },
   "outputs": [],
   "source": [
    "import graphlab as gl"
   ]
  },
  {
   "cell_type": "code",
   "execution_count": 2,
   "metadata": {
    "collapsed": false
   },
   "outputs": [
    {
     "name": "stdout",
     "output_type": "stream",
     "text": [
      "This non-commercial license of GraphLab Create for academic use is assigned to lionsterben@outlook.com and will expire on May 04, 2018.\n"
     ]
    },
    {
     "name": "stderr",
     "output_type": "stream",
     "text": [
      "[INFO] graphlab.cython.cy_server: GraphLab Create v2.1 started. Logging: C:\\Users\\david\\AppData\\Local\\Temp\\graphlab_server_1494762078.log.0\n"
     ]
    }
   ],
   "source": [
    "data = gl.SFrame('amazon_baby.gl/')"
   ]
  },
  {
   "cell_type": "code",
   "execution_count": 3,
   "metadata": {
    "collapsed": true
   },
   "outputs": [],
   "source": [
    "selected_words = ['awesome', 'great', 'fantastic', 'amazing', 'love', 'horrible', 'bad', 'terrible', 'awful', 'wow', 'hate']"
   ]
  },
  {
   "cell_type": "code",
   "execution_count": 4,
   "metadata": {
    "collapsed": true
   },
   "outputs": [],
   "source": [
    "data['word_count'] = gl.text_analytics.count_words(data['review'])"
   ]
  },
  {
   "cell_type": "code",
   "execution_count": 5,
   "metadata": {
    "collapsed": false
   },
   "outputs": [
    {
     "data": {
      "text/plain": [
       "graphlab.data_structures.sarray.SArray"
      ]
     },
     "execution_count": 5,
     "metadata": {},
     "output_type": "execute_result"
    }
   ],
   "source": [
    "type(data['word_count'])\n",
    "    "
   ]
  },
  {
   "cell_type": "code",
   "execution_count": 6,
   "metadata": {
    "collapsed": false
   },
   "outputs": [
    {
     "name": "stdout",
     "output_type": "stream",
     "text": [
      "[{'and': 5L, 'stink': 1L, 'because': 1L, 'ordered': 1L, 'just': 1L, 'had': 2L, 'wipes-ocean': 1L, 'hands': 1L, 'wipes,': 1L, 'replace': 1L, 'fab': 1L, 'softer': 1L, 'are': 3L, 'have': 2L, 'in': 1L, 'need': 1L, 'been': 1L, 'rough': 1L, 'ok,': 1L, 'issues': 1L, 'seemed': 1L, 'use': 1L, 'blue-12': 1L, 'vimse': 1L, 'for': 2L, 'to': 2L, 'that': 1L, 'larger,': 1L, 'texture': 1L, 'also': 1L, 'someimse': 1L, 'quality.': 1L, 'no': 1L, 'boyfor': 1L, 'worth': 1L, 'higher': 1L, 'them': 1L, 'get': 1L, 'keeping.': 1L, 'countwhich': 1L, '6': 1L, 'but': 1L, 'cloth': 2L, 'usingthirsties': 1L, '8': 1L, 'they': 1L, 'opinion': 1L, 'not': 1L, 'now': 1L, 'flannel': 1L, 'a': 2L, 'about': 1L, 'nicer,': 1L, 'longer': 1L, 'these': 1L, 'starting': 1L, 'months': 1L, 'wipes': 2L, 'i': 2L, 'while': 1L, 'stripping': 1L, 'faces': 1L, 'handles.': 1L, 'my': 1L, 'pack': 1L}, {'and': 3L, 'love': 1L, 'it': 2L, 'highly': 1L, 'osocozy': 1L, 'bags': 1L, 'holder.': 1L, 'moist': 1L, 'does': 1L, 'recommend': 1L, 'was': 1L, 'wipes': 1L, 'it.': 1L, 'early': 1L, 'disappointed.': 1L, 'not': 2L, 'now': 1L, 'wipe': 1L, 'keps': 1L, 'wise': 1L, 'i': 1L, 'leak.': 1L, 'planet': 1L, 'my': 2L, 'came': 1L}, {'and': 2L, 'quilt': 1L, 'it': 1L, 'comfortable': 1L, 'warmer': 1L, 'size': 1L, 'anyone': 1L, 'for': 1L, 'looking': 1L, 'to': 1L, 'recommend': 1L, 'type': 1L, 'full': 1L, 'very': 1L, 'looks...fit': 1L, 'than': 1L, 'perfectly...would': 1L, 'this': 1L, 'of': 1L, 'bed': 1L, 'the': 1L, 'soft': 1L}, {'ingenious': 1L, 'and': 3L, 'love': 2L, 'positive,': 1L, 'is': 4L, 'it': 1L, 'losing': 1L, 'fairy.': 1L, 'have': 1L, 'in': 2L, 'rid': 1L, 'what': 1L, 'her': 1L, 'how': 1L, 'to': 1L, 'much': 1L, 'has': 1L, 'approach': 2L, 'worth': 1L, 'she': 1L, 'tool.': 1L, 'product': 2L, 'clever': 1L, 'chart': 1L, 'else': 1L, 'most': 1L, 'artwork,': 1L, 'ownership': 1L, 'not': 1L, 'little': 1L, 'purchase.': 1L, 'herself,': 1L, 'a': 2L, 'about': 1L, 'daughter': 1L, 'like': 1L, 'anything': 1L, 'getting': 1L, 'this': 3L, 'of': 3L, 'proud': 1L, 'well': 1L, 'this,': 1L, 'i': 3L, 'back,': 1L, 'so': 1L, 'binky.': 2L, 'loves': 1L, 'found': 1L, 'the': 7L, 'my': 1L}, {'and': 2L, 'parents!!': 1L, 'all': 2L, 'puppet.': 1L, 'help': 1L, 'cried': 1L, 'is': 3L, 'it': 1L, 'soo': 1L, 'rock!!': 1L, 'way': 1L, 'have': 1L, 'pacifier': 1L, 'my': 1L, 'your': 1L, 'tried': 1L, 'from': 1L, 'for': 2L, 'their': 2L, 'when': 1L, 'to': 5L, 'going': 1L, 'easy': 1L, 'pacifier,': 1L, 'you': 2L, 'save': 1L, 'until': 1L, \"love's\": 1L, 'book!': 1L, 'them': 4L, 'buy': 1L, 'ween': 1L, 'book,': 1L, 'part': 1L, 'understand': 1L, 'it.this': 1L, 'binky': 1L, 'an': 1L, 'with': 1L, 'must': 1L, 'a': 2L, 'great': 1L, 'kids': 2L, 'off': 1L, 'gift': 1L, 'this': 1L, 'many': 1L, 'work': 1L, 'non-stop': 1L, 'thumbuddy': 1L, 'will': 1L, 'i': 2L, 'expecting': 1L, 'allow': 1L, 'of': 1L, 'found': 1L, 'fairy': 1L, 'where': 1L, 'headaches.thanks': 1L}, {'and': 2L, 'cute': 1L, 'help': 2L, 'doll': 1L, 'is': 2L, \"didn't\": 1L, 'it': 1L, 'house,': 1L, 'highly': 1L, 'product': 1L, 'have': 1L, 'pacifier': 1L, 'comes.': 1L, 'your': 1L, 'special': 1L, 'happens': 1L, 'what': 1L, 'thumb': 1L, 'would': 1L, 'to': 6L, 'lots': 1L, 'explain': 1L, 'when': 2L, 'habit.': 1L, 'any': 2L, 'how': 1L, 'book': 2L, 'item.': 1L, 'recommend': 1L, 'pacifier.': 1L, 'adorable': 1L, 'we': 2L, 'sucking': 1L, 'parent': 1L, 'our': 2L, 'stop': 1L, 'great': 1L, 'movies': 1L, 'break': 1L, 'job': 1L, 'important': 1L, 'child': 1L, 'telling': 1L, 'using': 1L, 'binky': 3L, 'trying': 1L, 'with': 1L, 'the': 6L, 'a': 2L, 'loss': 1L, 'about': 2L, 'made': 1L, 'daughter': 1L, 'her': 1L, 'gift': 1L, 'i': 1L, 'of': 2L, 'favorite': 1L, 'their': 1L, 'this': 2L, 'prepare': 1L, 'does': 1L, 'fairy': 3L, 'or': 1L, 'came': 1L, 'for': 2L}, {'shop': 1L, 'be': 1L, 'is': 1L, 'it': 1L, 'as': 1L, 'spaces': 1L, 'at': 1L, 'in': 1L, 'before': 1L, 'from': 1L, 'for': 1L, '&': 1L, '29.95!': 1L, 'barnes': 1L, 'currently': 1L, 'able': 1L, 'aside': 1L, 'tightly': 1L, 'to': 1L, 'add': 1L, 'listed': 1L, 'you': 2L, 'lovely': 1L, 'noble': 1L, 'photos/cards': 1L, 'around': 1L, 'may': 1L, 'designated': 1L, 'book,': 1L, 'book.': 1L, 'bound': 1L, 'not': 1L, 'purchase,': 1L, 'of': 1L, 'so': 1L, 'alot': 1L, \"it's\": 1L, 'the': 2L}, {'feeding,': 1L, 'and': 2L, 'all': 1L, 'right': 1L, 'able': 1L, 'we': 2L, 'two': 1L, 'because': 1L, 'sleep': 1L, 'questions': 1L, 'perfect': 1L, 'her': 1L, 'doctor': 1L, 'when': 1L, 'there!': 1L, 'for': 2L, 'to': 1L, 'new': 1L, 'easier': 1L, 'life': 1L, 'schedule': 1L, 'track': 1L, 'it': 1L, 'diaper': 1L, 'half': 1L, 'ask': 1L, \"baby's\": 1L, 'change': 1L, 'had': 1L, 'a': 1L, 'about': 1L, 'made': 1L, 'would': 1L, 'of': 2L, 'months': 1L, 'keep': 1L, 'habits': 1L, 'were': 1L, 'life.': 1L, 'the': 2L, 'parents.': 1L, 'first': 1L}, {'and': 1L, 'help': 1L, 'give': 1L, 'is': 1L, 'mine': 1L, 'decided': 1L, 'are': 1L, 'if': 1L, 'pinterest': 1L, 'pinned': 1L, 'to': 1L, 'feedings,': 1L, 'new': 1L, 'you': 2L, 'friend': 1L, 'product': 1L, 'like!': 1L, 'track': 1L, 'fantastic!': 1L, 'whirl!': 1L, 'it': 2L, 'diaper': 1L, 'a': 3L, 'on': 1L, 'i': 1L, 'of': 2L, 'parent,': 1L, 'keep': 1L, 'will': 1L, 'this': 2L, 'so': 1L, 'the': 1L, 'changes': 1L}, {'journal.': 1L, 'all': 1L, 'standarad': 1L, 'another': 1L, 'informed': 1L, 'is': 2L, 'some': 1L, 'it': 1L, 'one': 1L, 'not': 2L, 'because': 1L, 'at': 1L, 'have': 1L, 'in': 1L, 'happen': 1L, 'your': 1L, 'out': 1L, 'options.i': 1L, \"you're\": 1L, 'what': 1L, 'for': 1L, 'record': 1L, 'ordering': 1L, 'there': 1L, 'when': 2L, 'while': 1L, 'been': 2L, 'the': 1L, 'to': 4L, 'only': 1L, '5': 1L, 'easy': 1L, 'recommend': 1L, 'has': 1L, 'home.': 1L, 'events': 1L, 'more': 1L, 'wants': 1L, 'we': 1L, 'someone': 1L, 'run': 1L, 'way': 1L, 'that': 1L, 'who': 1L, 'stay': 1L, 'reason': 1L, 'pre-printed': 1L, 'key': 1L, 'baby': 2L, 'highly': 1L, 'with': 1L, 'pages': 1L, 'a': 1L, 'on': 1L, 'would': 1L, 'this': 3L, 'plan': 1L, 'could': 1L, 'up': 1L, 'i': 1L, 'home.the': 1L, 'of': 2L, 'an': 1L, \"i'm\": 1L, 'my': 2L, 'think': 1L, \"isn't\": 1L, 'nanny': 1L}, {'all': 1L, 'forget': 1L, 'just': 1L, \"daughter's\": 1L, 'sleep': 1L, 'milk': 1L, 'weekly': 1L, 'layout': 1L, 'had': 1L, 'hot': 1L, 'to': 11L, 'add': 1L, 'easy': 1L, 'has': 2L, 'real': 1L, 'complaint': 1L, 'etc.)': 1L, 'food': 1L, 'overall': 1L, 'sleep,': 1L, 'nanny,': 1L, 'now': 1L, 'older).my': 1L, 'today)': 1L, 'instructions': 1L, 'notes': 1L, 'all,': 1L, 'leave': 1L, 'she': 3L, 'night': 1L, 'often': 1L, 'back': 1L, 'design': 1L, 'our': 2L, 'out': 1L, 'what': 1L, 'and/or': 1L, 'for': 2L, 'space': 1L, 'sun': 1L, 'comments': 2L, 'time,': 1L, \"nanny's\": 1L, 'day,': 1L, 'reply': 1L, 'previous': 1L, 'screen': 1L, 'knowing': 1L, 'we': 1L, 'eating': 1L, 'schedule': 1L, 'journal': 1L, 'communicate': 1L, 'nanny': 2L, 'rash,': 1L, 'ask': 1L, 'on': 3L, 'about': 1L, '(please': 1L, 'column': 1L, 'of': 4L, 'amount': 1L, 'changes': 1L, 'or': 2L, 'love': 2L, \"baby's\": 2L, 'time--tummy': 1L, 'highly': 1L, 'specifics': 1L, 'morning.': 1L, 'use': 2L, 'notes.': 1L, 'her': 2L, \"it's\": 1L, 'there': 1L, 'took,': 1L, 'quickly': 1L, 'recommend': 1L, 'tracker.': 1L, '(i.e.': 3L, 'naturally': 1L, 'only': 1L, 'that': 2L, \"didn't\": 1L, 'stick': 1L, 'baby': 4L, 'with': 1L, 'specify': 1L, 'rush': 1L, 'this': 2L, 'tell': 1L, 'etc)': 1L, 'my': 2L, 'and': 5L, 'activities.': 1L, 'is': 2L, 'post-its': 1L, 'moved': 1L, 'it': 3L, 'as': 2L, 'want': 1L, 'in': 5L, 'everyday': 1L, 'fill': 1L, 'patterns': 1L, 'make': 1L, '-': 1L, 'walk': 1L, 'also': 1L, 'nap': 1L, 'other': 2L, 'details': 2L, 'gets': 1L, 'play': 1L, 'track': 2L, 'uses': 1L, 'lunch,': 1L, 'a': 1L, 'no': 1L, 'i': 7L, 'sometimes': 1L, 'well': 1L, 'park,': 1L, 'time': 1L, 'very': 1L, 'the': 9L}, {'and': 1L, 'this': 3L, 'is': 1L, 'mom,': 1L, 'back': 1L, 'changes,': 1L, 'in': 1L, 'perfect!': 1L, 'would': 1L, 'doctor': 1L, \"it's\": 1L, 'to': 1L, 'enough': 1L, 'book': 2L, 'easy': 1L, 'recommend': 1L, 'feedings,': 1L, 'new': 2L, 'that': 1L, 'track': 1L, 'it': 1L, 'moms.': 1L, 'diaper': 2L, \"i'm\": 1L, 'sleep.': 1L, 'throw': 1L, 'a': 1L, 'made': 1L, 'for': 2L, 'i': 1L, 'of': 1L, 'so': 1L, 'keep': 1L, 'visits.': 1L, 'definitely': 1L, 'plus': 1L, 'time': 1L, 'small': 1L, 'the': 1L, 'first': 1L}, {'all': 1L, 'just': 1L, 'when': 2L, 'one.': 1L, 'front': 1L, 'paper': 1L, '6pm': 1L, 'provided.': 1L, 'before': 1L, 'perfect': 2L, 'fit': 1L, 'how': 2L, 'information.': 1L, 'day,': 1L, 'him': 1L, 'better': 1L, 'to': 9L, 'only': 1L, 'pretty': 2L, 'has': 1L, 'gave': 1L, 'real': 1L, 'shorthand,': 1L, '7': 2L, 'emergency': 1L, 'get': 1L, 'very': 1L, 'big': 1L, 'me': 1L, 'they': 1L, 'not': 1L, 'now': 1L, 'complain': 1L, 'entire': 1L, 'helpful': 1L, 'try': 1L, 'situation.': 1L, 'she': 4L, 'also,': 1L, 'each': 1L, 'small': 1L, 'works': 1L, 'page': 1L, \"isn't\": 1L, 'incomplete/inaccurate': 1L, 'because': 1L, 'me,': 1L, 'wohld': 1L, 'some': 2L, 'home': 1L, 'leave': 1L, 'for': 7L, 'space': 2L, 'section': 1L, 'behind': 1L, 'goes': 1L, 'ends': 1L, 'use': 2L, 'reported': 1L, 'phone.': 1L, 'nanny': 2L, 'wanted': 2L, 'on': 1L, 'about': 1L, 'her': 1L, 'getting': 2L, 'of': 6L, 'could': 1L, \"it's\": 1L, \"i'm\": 2L, 'out.': 1L, 'control': 1L, 'useful': 1L, 'info.': 1L, 'app': 1L, 'daycare/nanny/caregiver': 1L, '6.': 1L, 'deal.': 1L, 'down': 1L, 'little': 2L, 'from': 2L, 'additional': 1L, 'would': 2L, 'transfer': 1L, 'format.': 1L, 'there': 1L, 'two': 1L, 'much': 1L, 'too': 1L, 'way': 1L, '6': 1L, '6pm.': 1L, 'was': 2L, 'baby.': 1L, 'park': 1L, 'but': 2L, 'phone': 1L, 'with': 2L, 'info': 2L, 'this': 5L, 'originally': 1L, 'up': 1L, 'reviews': 1L, 'suppose': 1L, 'starts': 1L, 'problem': 1L, 'my': 4L, 'example': 1L, 'at': 2L, 'and': 5L, 'is': 3L, 'changes.': 1L, 'it': 2L, 'an': 2L, 'complaint:': 1L, 'something': 1L, 'have': 1L, 'in': 1L, 'if': 1L, 'information': 3L, 'documents': 1L, 'end': 1L, 'provide': 1L, 'solution!': 1L, '-': 6L, 'write': 1L, 'also': 2L, 'other': 1L, 'pad': 2L, 'take': 2L, 'you': 2L, 'fill': 1L, 'day': 1L, 'difficult': 1L, 'track': 1L, 'notebook': 1L, 'pouch': 1L, 'pages': 1L, 'a': 8L, '7am': 2L, 'tracking': 1L, 'remember': 1L, 'i': 7L, 'naps/feedings/diaper': 1L, 'contact': 1L, 'time': 1L, 'the': 15L, 'wanted.': 1L}, {'forget': 1L, 'just': 1L, \"don't\": 1L, '-': 6L, 'month': 1L, '(i': 1L, 'sleep': 2L, 'perfect': 1L, '(helpful': 1L, 'also': 1L, 'pen': 1L, '(granted': 1L, 'better': 1L, 'to': 5L, 'either,': 1L, 'connect).': 1L, \"haven't\": 1L, 'hit': 1L, '(baby': 1L, 'every': 1L, 'not': 1L, 'him': 1L, 'like': 1L, 'all,': 1L, 'serves': 1L, 'morning': 1L, 'grab': 1L, 'side': 1L, 'often': 2L, 'me.': 1L, 'been': 1L, 'are': 2L, 'satisfaction).': 1L, 'close': 1L, 'really': 1L, 'what': 2L, 'perverse': 1L, 'for': 2L, 'consistently': 1L, '3': 1L, 'nurse': 1L, 'example,': 1L, 'handwritten': 1L, 'be': 1L, 'we': 3L, \"you're\": 2L, 'journal': 1L, 'by': 1L, 'on': 2L, 'about': 1L, 'feeling': 1L, 'last': 1L, 'deprived': 1L, 'taking': 1L, 'keep': 1L, 'thing': 1L, \"i'd\": 1L, 'place': 1L, \"i'm\": 1L, 'think': 1L, 'useful': 1L, 'simple': 1L, 'app': 2L, 'skilled': 1L, 'yourself': 1L, 'long': 1L, 'feedings': 1L, '177': 1L, 'your': 2L, 'training).': 1L, 'time.)2.)': 1L, 'would': 1L, \"it's\": 1L, 'least': 2L, 'start': 1L, 'tell': 2L, 'gives': 1L, 'on.': 1L, 'breastfeeding,': 1L, 'that': 4L, 'started': 2L, 'entertained.': 1L, 'but': 2L, 'phone': 2L, 'with': 1L, 'than': 2L, \"here's\": 1L, 'me': 4L, 'keeping': 1L, 'look': 1L, 'this': 2L, 'when': 1L, 'can': 3L, 'of': 1L, 'more': 1L, 'and': 4L, 'side,': 1L, 'in': 2L, 'it': 3L, 'as': 1L, 'at': 5L, 'have': 5L, '*both*': 1L, 'times': 1L, 'nursed': 1L, 'data.': 1L, 'no': 1L, 'able': 1L, 'same': 1L, 'how': 1L, 'other': 1L, 'button.3.)': 1L, 'why:1.)': 1L, 'you': 3L, 'if': 1L, 'nice': 1L, 'used': 1L, 'notebook': 1L, 'purpose': 1L, 'nice.': 1L, 'a': 5L, 'mindlessly': 1L, 'i': 7L, 'average': 1L, 'or': 1L, 'thought': 1L, 'so': 2L, 'time': 1L, 'the': 4L}, {'it.': 1L, 'info': 1L, 'what': 1L, 'exactly': 1L, 'useful': 1L, 'and': 1L, 'for': 1L, 'space': 1L, 'i': 1L, 'come': 1L, 'is': 1L, 'wanted!!': 1L, 'with': 1L, 'it': 1L, 'photos,': 1L, 'monthly': 1L, 'a': 1L, 'lot': 1L, 'of': 1L, 'stickers': 1L}, {'and': 3L, 'there': 1L, 'useful': 1L, 'calender': 2L, 'just': 1L, 'photo': 1L, 'is': 3L, 'placed.': 1L, 'it': 3L, 'whatever': 1L, 'one': 1L, 'date': 1L, 'as': 4L, 'well.': 1L, 'likes': 1L, 'have': 2L, 'fine': 1L, 'event': 1L, 'special': 1L, 'before': 1L, 'baby': 1L, 'write': 1L, 'what': 1L, 'do.': 1L, 'would': 1L, 'also': 1L, 'not': 1L, 'stickers': 1L, 'weight,': 1L, 'for': 5L, 'day.': 1L, 'to': 3L, 'only': 1L, 'does': 1L, 'asterisks': 1L, 'has': 1L, 'sticker': 1L, 'friend': 1L, 'happened': 1L, 'be': 1L, 'complaint': 1L, 'colorful': 1L, 'that': 2L, 'very': 2L, 'some': 1L, 'like,': 1L, 'but': 1L, 'boxes': 1L, 'son.': 1L, 'put': 1L, 'writing.': 1L, 'a': 3L, 'on': 2L, 'myself': 1L, 'room': 3L, 'i': 4L, 'many': 1L, 'second': 1L, 'height,': 1L, 'this': 1L, 'she': 1L, 'each': 2L, 'found': 1L, 'the': 1L, 'bought': 2L, 'my': 2L, 'page': 2L}, {'and': 1L, 'the': 2L, 'all': 1L, 'love': 1L, 'like': 1L, 'i': 2L, 'of': 2L, \"baby's\": 1L, 'little': 1L, 'too.': 1L, 'keep': 1L, 'this': 1L, 'track': 1L, 'can': 1L, 'you': 1L, 'stickers': 1L, 'illustrations,': 1L, 'firsts.': 1L, 'calender,': 1L}, {'and': 1L, 'this': 2L, 'there': 1L, 'one': 3L, 'second': 1L, 'are': 1L, 'calender': 1L, 'year': 1L, 'still': 1L, 'find': 1L, 'note': 1L, 'for': 2L, 'things': 1L, 'him.': 1L, 'better': 1L, 'to': 2L, 'only': 1L, 'got': 1L, 'cause': 1L, 'was': 2L, 'after': 1L, 'year.': 1L, 'they': 1L, 'wanted': 1L, 'than': 1L, 'i': 3L, 'many': 1L, 'could': 1L, 'turn': 1L, 'continue': 1L, 'so': 1L, 'did': 1L, 'the': 4L, 'first': 2L, '1.': 1L}, {'and': 5L, 'all': 3L, 'have': 1L, 'moments': 1L, 'in': 1L, 'it': 1L, 'second': 1L, 'something': 1L, 'questions': 1L, 'year': 2L, 'calendar': 2L, 'still': 1L, 'stickers': 1L, 'enjoyed': 1L, 'special': 2L, 'really': 2L, 'layout': 1L, 'want': 1L, 'to': 2L, \"it's\": 1L, 'since': 1L, '-': 2L, 'least': 1L, 'day.': 1L, 'doing': 1L, 'amazing': 1L, 'much': 1L, 'you': 1L, 'might': 1L, \"son's\": 1L, 'his': 1L, 'moments!': 1L, 'that': 1L, 'completed': 1L, 'tracking': 1L, 'every': 1L, 'milestone': 1L, 'not': 1L, 'wanted': 1L, 'those': 1L, 'like': 1L, 'a': 1L, 'milestones': 1L, 'for': 1L, 'i': 3L, 'of': 2L, \"he's\": 1L, 'simple': 1L, 'keep': 1L, 'recording': 1L, 'while': 1L, 'continue': 1L, 'so': 2L, 'things': 1L, 'fun': 1L, 'the': 4L, 'first': 1L, 'my': 1L, 'at': 1L}, {'and': 2L, 'cute': 1L, 'there': 2L, 'is': 1L, 'something': 1L, 'our': 1L, 'keep': 1L, 'out': 1L, 'option.': 1L, 'what': 1L, 'wanted': 1L, 'get': 1L, 'to': 2L, 'does': 1L, 'we': 2L, \"child's\": 1L, 'track': 1L, 'exactly': 1L, \"aren't\": 1L, 'a': 1L, 'milestones': 1L, 'this': 2L, 'of': 1L, 'choices': 1L, 'many': 1L, 'other': 1L, 'wanted.': 1L}, {'and': 3L, 'all': 1L, 'memories.': 1L, 'reference': 1L, 'do': 2L, 'is': 3L, 'hard': 1L, 'some': 1L, 'it': 2L, 'one': 1L, 'milestones...and': 1L, 'put': 1L, 'as': 2L, 'vs': 1L, 'have': 1L, 'year': 1L, 'calendar': 1L, 'find': 1L, 'down': 1L, 'out': 1L, 'little': 1L, 'to': 5L, 'much': 1L, 'that': 1L, 'had': 1L, 'two': 1L, 'write': 1L, 'everything': 1L, 'enough': 1L, 'book': 1L, 'way': 1L, 'finding': 1L, 'you': 1L, 'fill': 1L, 'across': 1L, 'so!': 1L, 'picture': 1L, 'only': 1L, 'jot': 1L, 'squares': 1L, 'on': 1L, 'track': 1L, 'big': 1L, 'spot': 1L, 'book.': 1L, 'great!': 1L, 'they': 1L, 'baby': 2L, 'years': 1L, 'change': 1L, 'a': 6L, 'ones!': 1L, 'great': 1L, 'has': 1L, 'in': 2L, 'like': 1L, 'this': 3L, 'of': 1L, 'later': 1L, 'well': 1L, 'second': 1L, 'keep': 1L, 'large': 1L, 'i': 5L, 'easier': 1L, 'calendar,': 1L, 'so': 2L, 'can': 2L, \"month's\": 1L, 'time': 1L, 'the': 5L, 'came': 1L, 'first': 1L}, {'and': 1L, 'cute': 1L, 'because': 2L, 'just': 1L, 'second-year': 2L, 'is': 1L, 'lack': 1L, 'some': 1L, 'it': 2L, 'one': 3L, 'certain': 1L, 'calendar.': 1L, 'finish': 1L, 'are': 1L, 'purchased': 1L, 'in': 1L, 'general,': 1L, 'calendar': 1L, 'stickers': 1L, 'really': 1L, 'for': 4L, 'come': 1L, 'old-fashioned': 1L, 'had': 1L, 'pages': 2L, 'write': 1L, 'to': 1L, 'only': 2L, 'other': 1L, 'pretty': 1L, 'hopefully': 1L, 'selection': 1L, 'got': 1L, 'out': 1L, 'was': 2L, 'an': 1L, 'available': 1L, 'son': 1L, 'looking.': 1L, 'okay': 1L, 'which': 1L, 'with': 3L, 'pens.': 1L, 'calendars': 2L, 'makes': 1L, 'they': 1L, \"aren't\": 1L, 'disappointed': 1L, 'purchasers.': 1L, 'a': 1L, 'on': 2L, 'daughter.': 1L, 'hard': 1L, 'i': 4L, 'of': 2L, 'ones.': 1L, 'will': 1L, 'this': 1L, 'future': 1L, 'so': 1L, 'glossy': 1L, \"it's\": 1L, 'very': 1L, 'the': 6L, 'my': 2L}, {'and': 4L, 'cute': 1L, 'stop': 1L, 'on': 2L, 'love': 1L, 'reocording': 1L, 'just': 1L, 'is': 2L, \"nature's\": 1L, 'year': 4L, 'one.': 1L, 'highly': 1L, 'helped': 1L, 'not': 1L, 'second': 2L, 'are': 2L, 'want': 1L, '1st': 1L, 'calendar': 2L, 'stickers': 1L, 'calendar!': 1L, 'out': 1L, 'perfect': 1L, 'recording': 1L, 'gender.': 1L, 'for': 3L, \"it's\": 1L, 'own.': 1L, 'there': 2L, 'to': 2L, 'wonderful': 1L, 'lullabies': 1L, 'recommend': 1L, 'might': 1L, 'events': 2L, \"son's\": 1L, 'continuing': 1L, 'his': 1L, 'that': 2L, 'with': 1L, \"didn't\": 1L, 'calendars': 1L, 'keeping.': 1L, 'plenty': 1L, 'baby': 1L, 'now': 1L, 'super': 1L, 'he': 1L, 'me': 1L, 'loved': 1L, 'milestones': 1L, 'brat': 1L, 'i': 4L, 'of': 6L, 'this': 2L, 'daily': 1L, 'thought': 1L, 'record': 2L, 'plus': 1L, 'either': 1L, 'have': 1L, 'life.': 1L, 'the': 1L, 'my': 2L, 'think': 1L, 'first': 1L}, {'just': 1L, 'use.': 1L, 'is': 1L, 'it': 2L, 'as': 1L, 'looks': 1L, 'calendar': 1L, 'stickers': 1L, 'find': 1L, 'lots': 1L, 'there': 1L, 'to': 2L, 'was': 1L, 'nice': 1L, 'be': 1L, 'very': 1L, 'exactly': 1L, 'but': 1L, 'disappointed': 1L, 'described,': 1L, 'look': 1L, 'i': 2L, 'of': 2L, 'cheap.': 2L, 'so': 1L, 'the': 1L, 'are': 1L}, {'and': 2L, 'dont': 1L, 'just': 1L, 'sticker': 1L, 'it': 1L, 'as': 1L, 'spaces': 1L, 'down,': 1L, 'have': 1L, 'actually': 1L, 'stickers': 1L, 'out': 1L, 'option.': 1L, 'comes': 1L, 'use': 1L, 'for': 3L, 'sit': 1L, 'scrap': 1L, 'mark': 1L, 'to': 3L, 'enough': 1L, 'ton': 1L, 'easy': 1L, 'scrapbook': 1L, 'borders': 1L, 'is': 1L, 'booking': 1L, 'well.': 1L, 'lot': 1L, 'very': 1L, 'who': 1L, 'new': 1L, 'includes': 1L, 'photos': 1L, 'haul': 1L, 'milestone': 1L, 'with': 1L, 'a': 3L, 'moms': 1L, 'especially': 1L, 'wife': 1L, 'this': 1L, 'of': 2L, 'photos,': 1L, 'calender.': 1L, 'supplies': 1L, 'firsts.': 1L, 'loves': 1L, 'time': 1L, 'the': 1L, 'options': 1L, 'etc,': 1L}, {'and': 2L, 'one-year': 1L, 'work': 1L, 'art': 1L, '-': 2L, 'keepsake.': 1L, '1st': 1L, 'nearing': 1L, 'son': 1L, 'calendar.': 1L, 'second': 1L, 'ago.': 1L, 'thanks': 1L, 'year': 3L, 'tender': 1L, 'calendar': 1L, 'stickers': 1L, 'fill': 1L, 'i': 1L, 'her': 3L, 'record': 1L, 'had': 1L, 'looking': 1L, 'to': 4L, 'wonderful': 1L, 'sweet': 1L, 'fill.': 1L, 'was': 3L, 'over': 1L, 'nice': 1L, 'it.': 1L, 'his': 2L, 'get': 1L, 'amazon': 1L, 'birthday': 1L, 'baby': 1L, 'unique': 1L, 'pages': 1L, 'milestones.': 1L, 'helpful': 1L, 'a': 6L, 'daughter': 1L, 'for': 3L, 'gift': 1L, 'this': 1L, 'when': 1L, 'up': 1L, 'able': 1L, 'old!': 1L, 'did': 1L, 'she': 3L, 'loves': 1L, 'my': 1L, 'receive': 1L, 'first': 2L}, {'and': 1L, 'remembering': 1L, 'tired': 1L, 'ate,': 1L, 'helped': 1L, 'not': 1L, 'as': 1L, 'through': 1L, 'long': 1L, 'mom,': 1L, 'useful!': 1L, 'inexpedient,': 1L, 'two': 1L, 'months.': 1L, 'how': 1L, 'new': 1L, 'a': 1L, 'me': 1L, 'baby': 1L, 'extremely': 1L, 'ago': 1L, 'this': 1L, 'definitely': 1L, 'the': 1L, 'first': 1L}, {'and': 4L, 'right': 1L, 'just': 2L, 'peek': 1L, 'pretend': 1L, 'face.maybe': 1L, 'it': 2L, 'son': 1L, 'hair': 1L, 'will': 1L, 'shakes': 1L, 'through': 1L, 'at': 2L, 'mirror': 1L, 'perfect!': 1L, 'if': 2L, 'around.': 1L, \"doesn't\": 1L, 'end': 1L, 'takes': 1L, 'would': 1L, \"he's\": 1L, 'make': 1L, 'show': 1L, 'when': 2L, 'him.': 1L, 'does': 1L, 'enough': 1L, 'book': 4L, '9': 1L, 'be': 1L, 'his': 1L, 'though': 1L, 'blow-kisses': 1L, 'however': 1L, 'but': 1L, 'gestures': 1L, 'most': 1L, 'cover.': 1L, 'fan': 1L, 'hands': 1L, 'front': 1L, 'now': 1L, 'with': 1L, 'him': 1L, 'he': 5L, 'a': 1L, 'also': 1L, 'peekaboo': 1L, 'engage': 1L, 'like': 1L, 'older': 1L, 'i': 4L, 'of': 1L, 'age': 1L, 'months': 1L, 'cover': 1L, 'flip': 2L, 'thought': 1L, 'this': 3L, 'seems.': 1L, 'so': 1L, 'flaps': 1L, 'loves': 1L, 'boo': 1L, 'the': 10L, 'my': 1L, 'towards': 1L, 'likes': 2L}, {'and': 2L, 'because': 1L, 'family': 1L, 'people': 1L, \"baby's\": 1L, 'is': 1L, 'some': 1L, 'it': 1L, 'one': 1L, 'see': 1L, 'washable!': 1L, 'in': 1L, 'star': 1L, 'your': 1L, 'perfect': 1L, 'just': 1L, 'less': 1L, '-': 1L, '1': 1L, 'to': 1L, 'white': 1L, 'gave': 1L, 'diversity': 1L, 'not': 1L, ';)': 1L, 'than': 1L, 'like': 1L, 'books,': 1L, 'of': 1L, 'favorite': 1L, 'i': 1L, \"i'd\": 1L, 'the': 1L, 'typical': 1L, 'first': 1L}, {'family': 1L, 'over': 1L, 'it': 2L, 'seat': 1L, 'hook': 1L, 'members.': 1L, 'go': 1L, 'your': 1L, 'attach': 1L, '-': 1L, 'to': 3L, 'book': 1L, 'way': 1L, 'has': 1L, 'wont': 1L, 'get': 1L, 'lost.': 1L, 'how': 1L, 'a': 1L, 'great': 1L, 'like': 1L, 'i': 1L, 'car': 1L, 'stroller': 1L, 'the': 1L, 'or': 1L}, {'beautiful': 1L, 'saying': 1L, 'love': 1L, 'it': 1L, 'are': 1L, 'little': 2L, 'interacting': 1L, 'when': 1L, 'actually': 1L, 'to': 1L, 'you': 1L, 'it.': 1L, 'then': 1L, 'attention': 1L, 'story': 1L, 'book.': 1L, 'and': 2L, 'finished': 1L, 'baby': 2L, 'hold': 1L, 'with': 1L, 'pages': 1L, 'a': 1L, 'on': 1L, 'great': 1L, 'short': 1L, 'you....keeps': 1L, 'i': 1L, 'of': 1L, 'turn': 1L, 'can': 1L, 'the': 4L}, {'and': 1L, 'page.': 1L, 'says': 1L, 'cute': 1L, 'is': 1L, 'money.': 1L, 'it': 2L, 'born': 1L, 'are': 1L, 'open': 1L, 'before.': 1L, 'for': 1L, \"it's\": 1L, 'there': 1L, 'to': 4L, 'book': 1L, 'worth': 1L, 'be': 1L, '9+': 1L, 'very': 1L, 'use': 1L, 'but': 1L, 'every': 1L, 'baby': 1L, 'wait': 1L, 'box': 1L, 'on': 2L, 'i': 1L, 'months': 1L, 'this': 1L, 'try': 1L, 'interactive!': 1L, 'so': 2L, 'flaps': 1L, 'the': 2L, 'my': 1L, \"can't\": 1L}, {'and': 3L, 'chew': 1L, 'one-year-old': 1L, 'house!': 1L, 'love': 1L, 'just': 1L, 'simple': 1L, 'over': 1L, 'it': 3L, 'rip': 1L, 'carry': 1L, 'paper': 1L, 'learning': 1L, 'chunks': 1L, 'our': 1L, '\"puppy,\"': 1L, 'open': 1L, 'out': 1L, '\"daddy,\"': 1L, 'for': 1L, 'all': 1L, \"it's\": 1L, 'bite': 1L, 'book': 2L, 'board': 1L, 'got': 1L, 'is': 1L, 'nice': 1L, 'it.': 2L, 'we': 2L, 'that': 2L, 'she': 5L, 'little': 1L, 'it,': 2L, 'one.': 1L, 'words': 1L, 'pull': 1L, 'a': 2L, 'on': 2L, 'like': 3L, 'this': 1L, 'of': 1L, 'flaps': 1L, 'so': 1L, 'can': 2L, 'loves': 2L, '\"mommy,\"': 1L, 'the': 2L, 'etc.': 1L, 'or': 1L, \"can't\": 1L}, {'and': 2L, 'overnight.': 1L, 'is': 2L, 'detergent.': 1L, 'older.': 1L, '6months': 1L, 'in': 1L, 'perfect': 1L, 'and/or': 1L, 'for': 1L, 'material.': 1L, 'only': 1L, 'book': 2L, 'was': 1L, 'then': 1L, 'colorful': 1L, \"didn't\": 1L, 'let': 1L, 'dunked': 1L, 'strong': 1L, 'pages': 1L, 'dry': 1L, 'like': 1L, 'i': 2L, 'smell': 1L, 'thing': 1L, 'of': 1L, 'dyes': 1L, 'the': 6L}, {'and': 3L, 'family': 1L, 'is': 1L, 'some': 1L, 'we': 1L, 'one': 1L, 'hair': 1L, 'are': 1L, 'our': 1L, 'said,': 1L, 'brother)': 1L, 'huge': 1L, 'little': 1L, 'with': 1L, '(no': 1L, 'to': 1L, 'fans': 1L, 'book': 1L, 'out': 1L, 'cause': 1L, 'play': 1L, 'that': 1L, 'lamaze': 1L, 'hurt': 1L, 'possibly': 1L, 'members': 1L, 'baby': 1L, 'hands,': 1L, 'however,': 1L, 'cute,': 1L, 'products,': 1L, 'this': 1L, 'of': 1L, 'leaves': 1L, 'feelings.': 1L, 'can': 1L, 'loves': 1L, 'flaps!': 1L, 'the': 2L}, {'page.': 1L, \"couldn't\": 1L, 'be': 1L, 'is': 1L, 'moving': 1L, 'books': 2L, 'drool...so': 1L, 'another': 1L, 'your': 1L, 'flap': 1L, 'perfect': 1L, 'looking': 1L, 'what': 1L, 'adds': 1L, 'for': 3L, 'been': 1L, 'plastic': 1L, 'baby!': 1L, 'to': 1L, 'book': 3L, 'babies!': 1L, \"old's\": 1L, 'which': 1L, 'options.': 1L, 'damaged': 1L, 'cloth': 2L, 'part': 1L, 'every': 1L, 'by': 1L, '10-month': 1L, 'a': 1L, 'on': 1L, 'great': 1L, 'level': 1L, 'this': 2L, \"i'd\": 1L, 'were': 1L, 'fun': 1L, 'book--a': 1L, 'interactive': 1L, 'my': 3L, 'or': 2L, 'usual': 1L}, {'all': 1L, 'being': 1L, 'course': 1L, 'still': 1L, 'perfect': 1L, 'now': 2L, \"he's\": 1L, 'to': 1L, 'only': 2L, 'board': 1L, 'teaching': 1L, 'his': 2L, 'lamaze': 2L, 'nearly': 1L, 'they': 1L, 'not': 2L, 'one': 2L, 'like': 1L, 'this': 4L, 'them,': 1L, 'enjoy': 1L, 'chew': 1L, 'because': 1L, 'books': 1L, 'are': 2L, 'out': 1L, 'for': 4L, 'parent.i': 1L, 'does': 1L, 'reading': 1L, 'discovery': 1L, 'peek': 1L, 'we': 2L, 'of': 3L, 'book,': 1L, 'members': 1L, 'infant.': 1L, 'on': 1L, 'about': 1L, 'etc.': 1L, \"i'd\": 1L, 'liked': 1L, 'love': 1L, 'family': 1L, 'son': 3L, 'names': 1L, \"doesn't\": 1L, 'additional': 1L, 'would': 1L, 'two': 1L, 'lot': 1L, 'was': 3L, 'flap': 1L, 'series,': 1L, 'that': 3L, 'much,': 1L, 'but': 4L, 'lift': 1L, 'child': 1L, 'with': 2L, 'he': 3L, 'loved': 1L, 'look': 1L, 'books,': 1L, 'cat,': 1L, 'as': 3L, 'well.': 1L, 'learn': 1L, 'fun': 2L, 'favorites.': 1L, 'my': 3L, 'and': 6L, 'sister,': 1L, \"didn't\": 1L, 'it': 6L, 'an': 1L, 'say': 1L, 'issue.': 1L, 'at': 1L, 'have': 1L, 'grandparents,': 1L, 'book': 2L, 'destroy': 1L, 'used': 1L, 'again.': 1L, 'farm': 1L, 'a': 3L, 'i': 1L, 'dog': 1L, 'boo,': 1L, 'the': 5L, 'playing': 1L}, {'and': 1L, 'it': 3L, 'our': 1L, 'for': 1L, '&': 1L, 'own.': 1L, 'when': 1L, 'to': 1L, 'him,': 1L, 'book': 1L, 'enjoys': 2L, 'has': 1L, '...': 1L, 'his': 1L, 'loved': 1L, 'read': 1L, 'baby': 1L, 'now': 1L, 'with': 1L, 'he': 1L, 'a': 1L, 'on': 1L, 'this': 1L, 'i': 1L, 'while': 1L, 'loves': 1L, 'playing': 1L}, {}, {'a': 1L, 'brushing': 1L, 'play': 1L, 'kids': 1L, ':)': 1L, 'almost': 1L, 'with': 1L, 'haha': 1L, 'son': 1L, 'too': 1L, 'to': 1L, 'book': 1L, 'let': 1L, 'likes': 1L, 'of': 1L, 'the': 1L, \"elmo's\": 1L, 'my': 1L, 'teeth.': 1L, 'nice': 1L}, {'and': 3L, 'imaginative': 1L, 'old': 1L, 'grandchildren.': 1L, 'it': 2L, 'through': 1L, 'are': 1L, 'year': 1L, 'go': 1L, 'love': 1L, 'would': 1L, 'sit': 1L, 'pictures': 1L, 'young': 1L, '.': 1L, 'to': 1L, 'book': 1L, 'themselves': 1L, 'appeal': 1L, 'was': 1L, 'buy': 1L, 'again!': 1L, 'birthday': 1L, 'they': 1L, 'children.': 1L, '2': 1L, 'by': 1L, 'present': 1L, 'a': 1L, 'for': 1L, 'this': 2L, 'will': 1L, 'the': 1L, 'my': 1L, 'page': 2L}, {'and': 3L, 'cute': 1L, 'rating': 1L, 'have': 1L, 'just': 1L, 'give': 1L, 'battery': 1L, 'is': 1L, \"disappointment....it's\": 1L, 'it': 6L, 'dead': 1L, 'down': 1L, 'batteries': 1L, 'growled': 1L, 'other': 1L, 'something': 1L, 'giggled': 1L, 'in': 1L, 'handle': 1L, 'saw': 1L, 'find': 1L, 'simple': 1L, 'if': 2L, 'even': 1L, 'would': 2L, 'no': 1L, \"it's\": 1L, 'absolutely': 1L, 'when': 1L, 'now!': 1L, 'actually': 1L, 'to': 2L, 'going': 1L, '5': 1L, 'take': 1L, 'mail': 1L, 'adorable': 1L, 'kenzie,': 1L, 'star': 1L, 'was': 2L, 'bear': 1L, 'back': 1L, 'how': 1L, 'but': 1L, 'got': 1L, 'was!': 1L, 'such': 1L, 'new': 1L, 'day': 1L, 'a': 4L, 'super': 1L, 'like': 1L, 'gift': 1L, 'this': 1L, 'my': 1L, 'could': 1L, 'as': 2L, 'excited': 1L, 'granddaughter,': 1L, 'i': 6L, 'suppose': 1L, 'place': 1L, 'the': 3L, 'to!': 2L, 'where': 1L, 'or': 1L, \"can't\": 1L}, {'and': 4L, 'soft': 1L, 'all': 1L, 'would': 1L, 'hides': 1L, 'elmo': 3L, 'too.': 1L, 'is': 5L, 'it': 2L, 'one': 1L, 'illustrated': 1L, 'baby': 1L, 'featured': 1L, 'street': 1L, 'are': 1L, 'another': 1L, 'beautifully': 1L, 'fun,': 1L, '(which': 1L, 'page,': 1L, 'seemed': 1L, 'perfect': 1L, 'little': 1L, 'lovers': 1L, 'because': 1L, 'price).': 1L, 'for': 3L, 'twinkle': 1L, 'absolutely': 1L, 'character': 1L, 'right:': 1L, 'also': 2L, 'time.': 1L, 'book': 3L, 'which': 1L, 'recommend': 1L, 'he': 1L, 'was': 1L, 'happy': 1L, 'available': 1L, 'centric': 1L, '\"reads\"': 1L, 'to': 1L, 'that': 1L, 'each': 1L, 'amazon': 1L, '\"twinkle,': 1L, 'everywhere': 1L, 'characters': 1L, 'street/elmo': 1L, 'the': 3L, 'great,': 1L, 'a': 1L, 'on': 2L, 'great': 1L, 'main': 1L, 'takes': 1L, 'her.': 1L, 'i': 2L, 'my': 2L, 'say': 1L, 'elmo\"': 1L, 'sesame': 2L, 'this': 2L, 'while': 1L, 'so': 2L, 'loves': 1L, 'of': 2L, \"i'm\": 1L, 'nice': 1L, 'interactive,': 1L, 'other': 1L}, {'and': 2L, 'bright': 1L, 'love': 1L, 'is': 1L, 'colors': 1L, 'are': 1L, 'any': 1L, \"doesn't\": 1L, 'for': 2L, 'two': 1L, 'book': 1L, 'lastly,': 1L, 'baby,': 1L, 'bought': 1L, 'who': 1L, 'baby': 1L, 'showers!': 1L, 'recent': 1L, 'great': 1L, 'i': 1L, 'soft': 1L, 'elmo!': 1L, 'the': 2L, 'interactive,': 1L, 'beautiful.': 1L}, {'and': 2L, 'another': 1L, 'elmo': 1L, 'is': 2L, 'one': 1L, 'creative.': 1L, 'softplay': 1L, 'fun,': 1L, 'birds': 1L, 'variety': 1L, 'two': 1L, 'to': 1L, 'only': 1L, 'book': 2L, 'has': 1L, 'bird': 1L, 'more': 2L, 'we': 2L, 'get': 1L, 'big': 2L, 'book,': 1L, 'but': 1L, 'wanted': 1L, 'friends': 1L, 'like': 1L, 'this': 1L, 'books.': 1L, 'found': 1L, 'the': 3L}, {'and': 1L, 'a': 1L, 'little': 1L, 'soft.': 1L, 'safe.': 1L, 'for': 1L, 'cute': 1L, 'this': 1L, \"it's\": 2L, 'is': 2L, 'easy': 1L, 'story': 1L, 'book.': 1L, 'handle.': 1L, 'to': 1L, 'it': 1L, 'peek-a-boo': 1L, 'baby': 1L}, {'and': 7L, 'old': 1L, 'elmo': 1L, 'is': 1L, 'laughs': 1L, 'we': 3L, 'month': 1L, 'say': 1L, 'books': 1L, 'have': 1L, 'find': 1L, 'different': 1L, '&#34;peekaboo': 1L, 'for': 1L, 'few': 1L, 'to': 1L, '3': 1L, '5': 1L, 'stars': 1L, 'it': 1L, 'over': 2L, 'sure.': 1L, 'smiles': 1L, 'it,': 1L, 'elmo!&#34;': 1L, 'colorful': 1L, 'read': 1L, 'book.': 1L, 'read.': 1L, 'most': 1L, 'every': 1L, 'baby': 1L, 'son': 1L, 'he': 1L, 'a': 1L, 'adores': 1L, 'this': 2L, 'my': 1L, 'so': 1L, 'loves': 1L, 'time': 1L, 'fun': 1L, 'the': 1L, 'soft': 1L}, {'book!': 2L, 'great': 1L, 'colorful': 1L, 'for': 1L, '&': 1L, 'very': 1L, 'make': 1L, 'bright': 1L, 'son': 1L, 'this': 2L, 'toddlers.': 1L, 'cute': 1L, 'loves': 1L, 'babies': 1L, 'illustrations': 1L, 'the': 1L, 'my': 1L, 'interactive': 1L}, {'and': 2L, 'over.': 1L, 'all': 1L, 'love': 2L, 'they': 8L, 'safe.': 1L, 'elmo': 1L, 'mos,': 1L, 'play': 1L, 'high': 1L, 'as': 1L, 'are': 3L, 'still': 1L, 'if': 1L, 'use': 1L, 'now': 1L, 'for': 1L, 'how': 1L, 'before': 1L, 'when': 2L, 'two': 1L, 'to': 2L, 'time.': 1L, '9': 1L, 'got': 1L, 'reading': 1L, 'bought': 1L, 'soft,': 1L, 'we': 1L, 'buy': 1L, 'blocks': 1L, 'see': 1L, 'book,': 1L, 'it': 1L, 'them': 1L, 'granddauchildren': 1L, 'kiss': 1L, 'fall': 1L, 'baby': 1L, 'falls': 1L, 'with': 2L, 'stack': 1L, 'a': 1L, 'on': 1L, 'elmo.': 1L, 'i': 1L, 'present.': 1L, 'so': 1L, 'can': 1L, 'were': 1L, 'fun': 1L, 'them.': 2L, 'the': 4L, 'them,': 1L, 'having': 1L}, {'and': 5L, 'chew': 1L, 'all': 1L, 'the,': 2L, 'have': 1L, 'over': 2L, \"didn't\": 1L, 'baby': 1L, 'teething': 1L, 'crawling.': 1L, 'letting': 1L, 'bank.': 1L, 'for': 3L, 'to': 2L, 'their': 1L, 'encourage': 1L, 'setting': 1L, 'ruining': 1L, 'babies': 1L, 'christmas': 1L, 'them': 2L, 'great': 3L, 'about': 1L, 'break': 1L, 'they': 1L, 'rolling': 1L, 'entertaining': 1L, 'younger': 1L, 'off': 1L, 'gift': 1L, 'these': 1L, 'worrying': 1L, 'droll': 1L, 'i': 1L, 'without': 1L, 'were': 2L, 'them.': 1L, 'the': 2L, 'side': 1L}, {'a': 1L, 'boring.': 1L, 'would': 1L, 'to': 1L, 'i': 1L, 'of': 1L, 'is': 2L, 'money.': 1L, 'it': 2L, 'this': 1L, 'granddaughter.': 1L, 'book': 1L, 'nothing': 1L, 'recommend': 1L, 'not': 1L, 'waste': 1L, 'my': 1L, 'stimulate': 1L}, {'old': 1L, 'want': 1L, 'show': 1L, 'is': 2L, 'hard': 1L, 'it': 1L, 'one': 1L, 'not': 1L, 'books': 1L, 'looks': 1L, 'have': 1L, 'year': 1L, 'images': 1L, 'our': 1L, 'find': 1L, 'looking': 1L, 'what': 3L, 'animals/objects': 1L, 'unrealistic': 1L, '1': 1L, 'to': 2L, 'for!!when': 1L, 'is,': 1L, '\"lion\"': 1L, 'many': 1L, 'real': 2L, 'we': 3L, 'fantastic.': 1L, 'that': 1L, 'portrayals': 1L, 'like,': 1L, 'exactly': 1L, 'lion...': 1L, 'but': 1L, 'cloth': 1L, 'were': 1L, 'nothing': 1L, 'teach': 1L, 'with': 1L, 'him': 1L, 'like': 1L, 'a': 4L, 'on': 1L, 'actual': 1L, 'look': 1L, 'this': 1L, 'lion.': 1L, 'so': 2L, 'them!': 1L, 'of': 1L, 'drawing': 1L}, {'is': 1L, 'something': 1L, 'cute...so': 1L, '&#34;': 1L, 'for': 1L, 'no': 1L, 'memories': 1L, 'there': 1L, 'young': 1L, 'destroying..many': 1L, 'reading': 1L, 'happy': 2L, 'them': 1L, 'very': 1L, 'little': 1L, 'chance': 1L, 'they': 1L, 'child,': 1L, 'of': 1L, 'read&#34;': 1L, 'can': 1L, 'the': 1L, 'or': 1L}, {'cute': 1L, 'thought.': 1L, 'old': 1L, 'bad': 1L, 'i': 1L, 'interesting': 1L, 'anyway': 1L, 'but': 2L, 'mot': 1L, 'to': 1L, 'as': 2L, '[texture,': 1L, 'not': 2L, 'my': 1L, 'etc]': 1L, '1-year': 1L, 'interactive': 1L}, {'and': 1L, 'be': 1L, 'great': 1L, 'love': 1L, 'daughter': 1L, 'this': 1L, \"it's\": 1L, 'when': 1L, 'it!': 1L, 'will': 1L, 'me': 1L, 'so': 1L, 'a': 2L, 'our': 1L, 'fun': 1L, 'born.': 1L, 'calendar': 1L, 'bought': 1L, 'was': 1L, 'friend': 1L, 'momento.': 1L}, {'a': 2L, 'and': 1L, 'little': 1L, 'milestones': 1L, 'especially': 1L, 'for': 1L, 'all': 1L, 'with': 1L, 'of': 1L, 'first-time': 1L, 'one,': 1L, 'up': 1L, 'keep': 1L, 'to': 1L, 'mom.': 1L, 'easy': 1L, 'quick': 1L, 'the': 1L, 'busy,': 1L, 'first': 1L}, {'remembering': 1L, 'and': 4L, 'reviews.': 1L, 'pictures.': 1L, 'personalization': 1L, 'am': 1L, 'back': 1L, 'month': 1L, 'down': 1L, 'year': 1L, 'calendar': 1L, 'throughout': 1L, 'perfect': 1L, 'based': 1L, 'for': 3L, 'to': 1L, 'memories': 1L, 'did.': 1L, \"baby's\": 1L, 'spots': 1L, 'jotting': 1L, 'also': 1L, 'high': 1L, 'low': 1L, 'has': 1L, 'happy': 1L, 'be': 1L, 'on.': 1L, 'that': 1L, '&#34;firsts&#34;.': 1L, 'quick': 1L, 'one': 1L, 'a': 1L, 'on': 2L, 'dates': 1L, 'look': 1L, 'i': 3L, 'of': 1L, 'will': 1L, 'this': 1L, 'so': 1L, 'searched': 1L, 'fun': 1L, 'the': 2L, 'settled': 1L, 'first': 1L}, {'enjoy': 1L, 'would': 1L, 'give': 1L, 'children.': 1L, 'is': 2L, 'it': 1L, 'one': 1L, 'born': 1L, 'as': 3L, 'are': 1L, 'want': 1L, 'from': 1L, 'i': 1L, 'for': 2L, 'their': 1L, 'had': 1L, 'looking': 1L, 'to': 3L, 'parents': 2L, 'themselves.': 1L, 'new': 1L, 'you': 1L, 'start': 1L, '&#34;firsts&#34;': 1L, 'good': 1L, 'that': 1L, 'very': 2L, 'calendars': 1L, 'chart': 1L, 'soon': 1L, '&#34;firsts&#34;.': 1L, 'five': 1L, 'they': 3L, 'baby': 1L, 'now': 1L, 'beginning': 1L, 'mother.': 1L, 'a': 2L, 'especially': 1L, 'gift': 1L, 'this': 1L, 'of': 2L, 'up': 1L, 'these': 1L, 'so': 1L, 'can': 1L, 'each': 1L, 'the': 3L, 'my': 1L}, {}, {'and': 2L, 'it.': 1L, 'all': 1L, 'love': 1L, 'version': 1L, 'absolutely': 1L, 'it': 1L, 'born': 1L, 'purchased': 1L, 'in': 1L, 'for': 1L, 'when': 1L, 'same': 1L, 'to': 1L, 'book': 1L, 'scripture': 1L, 'daughter-in-law': 1L, 'again.': 1L, 'was': 2L, 'thrilled': 1L, 'baby': 1L, 'he': 1L, 'boy': 1L, 'grandson': 1L, 'i': 1L, 'of': 1L, 'receive': 1L, 'the': 3L, 'my': 2L}, {'simple': 1L, 'down.': 1L, 'verses': 1L, 'as': 1L, 'at': 1L, 'in': 1L, 'pages.': 1L, 'law.': 1L, 'for': 1L, 'bottom': 1L, 'memories': 1L, 'to': 1L, 'bought': 1L, 'it.': 1L, 'but': 1L, 'important': 1L, 'put': 1L, 'a': 2L, 'loved': 2L, 'daughter': 1L, 'gift': 1L, 'i': 1L, 'of': 1L, 'place': 1L, 'she': 1L, 'the': 1L, 'my': 1L}, {'all': 1L, 'right': 1L, 'memories,': 1L, 'prayers': 1L, 'almost': 1L, 'etc.).': 1L, 'ages': 1L, 'are': 1L, 'have': 1L, 'religious': 1L, 'out': 1L, 'fir': 1L, 'lifestyle,': 1L, 'some': 1L, 'i': 3L, 'for': 3L, 'product,': 1L, 'realize': 1L, 'book': 1L, '(not': 1L, 'has': 1L, 'was': 1L, 'baby,': 1L, 'it.': 2L, 'that,': 1L, 'we': 1L, 'sure': 1L, 'returned': 1L, 'that': 2L, \"didn't\": 1L, 'but': 2L, 'ask': 1L, 'with': 1L, 'pages': 1L, 'a': 1L, 'keeping': 1L, 'anything': 1L, \"wasn't\": 1L, 'of': 1L, 'favorite': 1L, 'against': 1L, 'this': 1L, 'so': 2L, 'scripture,': 1L, 'the': 4L}, {'and': 4L, 'cute': 1L, 'liked': 1L, 'when': 2L, 'is': 3L, 'gift!': 1L, 'one.': 1L, 'one': 1L, 'locks': 1L, 'want': 1L, 'your': 2L, 'perfect': 1L, 'little': 2L, 'for': 4L, 'also': 1L, 'memories': 1L, 'had': 1L, 'hair....etc!': 1L, 'to': 2L, 'asking': 1L, 'foot': 1L, 'which': 1L, 'main': 1L, 'questions.': 1L, 'you': 1L, 'has': 1L, 'book!': 1L, 'we': 1L, 'prints': 1L, 'even': 1L, 'it': 2L, 'reason': 1L, 'keepsakes': 1L, 'baby': 3L, 'hand': 1L, 'why': 1L, 'bigger': 1L, 'a': 2L, 'loved': 1L, 'great': 1L, 'gets': 1L, 'remember': 1L, 'places': 1L, 'born': 1L, 'this': 2L, 'of': 1L, 'put': 1L, 'omg.....we': 1L, 'shower': 1L, 'so': 1L, 'place': 1L, 'pockets': 1L, 'starts': 1L, 'the': 2L, 'first': 1L}, {'pink': 1L, 'pastel': 1L, 'life': 1L, 'love': 1L, 'to': 1L, 'i': 1L, 'with': 1L, 'cherished': 1L, 'book,': 1L, 'great': 1L, 'granddaughters': 1L, 'record': 1L, 'beautiful': 2L, 'in': 1L, 'it': 1L, 'the': 1L, 'color.': 1L, 'my': 1L, 'times': 1L}, {'and': 2L, 'mini': 1L, 'happy!': 1L, 'is': 2L, 'one.': 1L, 'an': 1L, 'firsts...and': 1L, 'really': 1L, 'maternity': 1L, 'hair,': 1L, 'in': 1L, 'fill': 1L, 'perfect': 1L, 'bracelet...really': 1L, 'for': 1L, 'with': 1L, 'family,': 1L, 'looking': 1L, 'to': 2L, 'book': 1L, 'lot': 1L, ':': 1L, 'was': 1L, 'happy': 1L, 'preserve': 1L, 'flammish)': 1L, 'french': 1L, 'baby': 1L, 'purchase.': 1L, 'info': 1L, 'i': 1L, 'of': 1L, 'this': 2L, 'pockets': 1L, 'english': 1L, 'the': 2L, 'daddy': 1L, \"(i'm\": 1L}, {'and': 2L, 'photographs': 1L, 'detailed': 1L, 'everyone': 1L, 'is': 1L, 'child': 1L, 'it': 1L, 'serving': 1L, 'through': 1L, 'are': 1L, 'questions': 1L, 'in': 1L, '\"my': 1L, 'its': 1L, 'perfect': 1L, 'kindergartener.': 1L, 'for': 2L, 'record': 2L, 'your': 2L, 'kindergarten': 2L, 'to': 3L, 'book': 2L, 'way': 1L, 'recommend': 1L, 'answer': 1L, 'receiving': 1L, 'was': 1L, 'surprised': 1L, \"one's\": 1L, 'entitled,': 1L, \"parent.i'd\": 1L, \"child's\": 1L, 'very': 1L, 'memory': 1L, 'upon': 1L, 'important': 1L, 'purpose': 1L, 'life.': 1L, 'with': 1L, 'pleasantly': 1L, 'a': 1L, 'i': 1L, 'of': 1L, 'experience': 1L, 'this': 2L, 'while': 1L, 'time': 1L, 'fun': 1L, 'year\".': 1L, 'the': 4L, 'descriptions': 1L}, {'and': 1L, 'already': 1L, 'it': 1L, 'years': 1L, 'see': 1L, 'questions': 1L, 'stumbled': 1L, 'how': 1L, 'answering': 1L, 'answered': 1L, 'memory': 1L, 'questions.': 1L, 'has': 1L, 'be': 1L, 'to': 2L, 'started': 1L, 'upon': 1L, 'back': 1L, 'son': 1L, 'the': 1L, 'glad': 1L, 'he': 1L, 'a': 1L, 'great': 1L, 'look': 1L, 'i': 2L, 'later': 1L, 'think': 1L, 'will': 1L, 'these': 1L, 'so': 1L, \"i'm\": 1L, 'my': 1L, 'gem.': 1L}, {'and': 1L, 'page.': 1L, 'old': 1L, 'just': 2L, 'character': 1L, 'is': 1L, 'it': 1L, 'son.': 1L, 'month': 1L, 'as': 1L, 'have': 1L, 'toy': 1L, \"he's\": 1L, 'when': 1L, 'long': 1L, 'pages': 1L, 'few': 2L, 'enough': 1L, 'book': 2L, 'stuffed': 1L, 'elephant': 1L, 'neat': 1L, 'be': 1L, 'we': 1L, 'attention': 1L, 'to': 3L, '6': 1L, 'realization': 1L, 'words': 1L, 'with': 1L, 'between': 1L, 'association': 1L, 'a': 2L, 'short': 1L, 'older': 1L, 'of': 2L, 'well': 1L, 'see': 1L, 'keep': 1L, 'will': 1L, 'so': 1L, 'each': 1L, 'the': 7L, 'my': 1L}, {'and': 1L, 'is': 1L, 'gift.': 1L, 'pretty,.': 1L, 'for': 1L, 'also': 1L, 'recommend': 1L, 'gives': 1L, 'be': 1L, 'used': 1L, 'very': 1L, 'it': 3L, 'years...i': 1L, 'a': 3L, 'great': 1L, 'made': 1L, 'this': 1L, 'light': 1L, 'well': 1L, 'will': 1L, 'highly.': 1L, 'nice': 1L, 'makes': 1L}, {'affordable': 1L, 'try': 1L, '!easy': 1L, 'and': 2L, 'for': 1L, 'wall': 1L, 'spring': 1L, 'a': 1L, '...fine': 1L, 'up': 1L, '**********': 1L, 'room..': 1L, 'decals': 1L, 'this': 1L, ',fun': 1L, 'brightens': 1L, '5+': 1L, 'quality': 1L, 'project': 1L, 'any': 1L, 'out': 1L}, {'all': 1L, 'because': 1L, 'reason:small': 1L, 'wall': 1L, 'money': 1L, 'is': 1L, 'it': 1L, 'one': 1L, 'second': 1L, 'in': 2L, 'apply': 1L, 'flowers': 1L, 'flower': 1L, 'floor': 1L, 'when': 1L, 'to': 1L, 'only': 1L, 'you': 1L, 'waste': 1L, 'roll.': 1L, 'most': 1L, 'fell': 1L, 'know': 1L, 'pieceyou': 1L, 'day': 1L, 'a': 1L, 'on': 2L, 'sizehard': 1L, 'of': 1L, 'see': 1L, 'morning': 1L, 'will': 1L, 'part': 1L, 'how': 1L, 'the': 4L}, {'and': 1L, 'wall': 1L, 'coming': 1L, 'decals': 1L, 'as': 1L, 'thick': 1L, 'recommend.': 1L, 'again': 1L, 'would': 2L, 'literally': 1L, 'stayed': 1L, 'plastic': 1L, 'stuck': 1L, '5': 1L, 'was': 1L, 'then': 1L, 'almost': 1L, 'started': 1L, 'peeling': 1L, 'like': 1L, 'stick!': 1L, 'not': 2L, 'off': 1L, 'off.': 1L, 'purchase': 1L, 'about': 1L, 'applying': 1L, 'for': 1L, 'i': 1L, 'them!': 1L, 'were': 2L, 'the': 3L, 'minutes': 1L, 'or': 1L}, {'and': 3L, 'fantastic': 1L, 'themed': 1L, 'winnie': 1L, 'paintwork.': 1L, 'cost': 1L, 'at': 1L, 'in': 1L, '&#34;look&#34;': 1L, 'stickers': 2L, 'impressed': 1L, 'decor': 1L, 'with.': 1L, \"don't\": 1L, '-': 1L, 'seamless': 1L, 'to': 1L, 'that': 1L, 'easy': 1L, 'new': 1L, 'was': 1L, 'a': 1L, 'option': 1L, 'get': 1L, 'very': 4L, 'stick': 1L, 'they': 2L, 'not': 1L, 'pooh': 1L, 'wall': 2L, 'like': 1L, 'zealand': 1L, 'on': 3L, 'look': 1L, 'effective': 1L, 'i': 2L, 'all.': 1L, 'could': 1L, 'these': 2L, 'were': 2L, 'professional': 1L, 'the': 3L}, {'page.': 1L, 'on': 1L, 'about': 1L, 'said': 1L, 'and': 1L, 'i': 2L, 'came': 1L, 'ir': 1L, 'grat': 1L, 'satisfied': 1L, 'reccomend': 1L, 'very': 1L, 'as': 1L, 'product,': 2L, 'it': 1L, 'follow': 1L, 'more.': 1L, 'highly': 1L, 'design,': 1L, 'the': 2L, 'buying': 1L}, {'love': 1L, 'chain': 1L, 'jesus': 1L, 'lives!': 1L, 'in': 1L, 'need': 1L, 'our': 1L, 'divine': 3L, 'your': 1L, 'jesuswho': 1L, 'for': 1L, 'pray': 1L, 'god': 1L, 'to': 1L, 'offers': 1L, 'neck.': 1L, 'you': 1L, 'nice': 1L, 'an': 1L, 'around': 1L, 'mercy': 2L, 'very': 1L, 'it!': 1L, 'pendant': 1L, 'mercy.': 1L, 'now': 1L, 'him': 1L, 'on': 1L, 'of': 2L, 'country.': 1L, 'us': 1L, 'ocean': 1L, 'represents': 1L, 'my': 1L}, {\"i'll\": 1L, 'soft': 1L, 'right': 1L, 'love': 1L, 'simple': 1L, 'wipes.': 2L, 'are': 3L, 'changes.': 1L, 'our': 1L, 'done.': 1L, 'find': 1L, 'and': 4L, 'for': 2L, 'ordering': 1L, 'get': 1L, 'now!': 1L, 'actually': 1L, 'other': 1L, 'more': 1L, 'a': 2L, 'them': 2L, 'million': 1L, 'that': 1L, 'price': 1L, 'after': 1L, 'uses': 1L, 'know': 1L, 'they': 3L, 'baby': 1L, 'during': 1L, 'reusable': 1L, 'dry': 1L, 'great': 1L, 'these': 1L, 'of': 1L, 'days': 1L, 'i': 2L, 'so': 1L, 'clean': 1L, \"i'm\": 1L, 'my': 1L, 'diaper': 2L}, {'and': 2L, 'thought,': 1L, 'smaller': 1L, 'just': 1L, 'is': 1L, 'it': 2L, 'wall.': 1L, 'looks': 1L, 'measurements.': 1L, 'what': 1L, 'was': 2L, 'nice': 1L, 'that': 1L, 'but': 1L, 'not': 1L, 'bit': 1L, 'than': 1L, 'a': 1L, 'on': 1L, 'great': 1L, 'i': 1L, 'fault': 1L, 'taking': 1L, 'the': 1L, 'my': 2L}, {'and': 2L, 'old': 1L, 'significantly': 1L, 'them': 1L, 'one': 1L, 'high': 1L, 'as': 1L, 'are': 1L, 'broken': 1L, 'year': 1L, 'seem': 1L, 'open': 3L, 'size': 1L, 'given': 1L, 'for': 1L, 'needed': 1L, 'package...': 1L, 'that': 1L, 'able': 1L, 'their': 1L, 'only': 1L, 'of': 2L, 'safety': 1L, 'normal': 1L, '6': 1L, 'pins': 3L, 'new': 1L, 'learned': 1L, 'has': 1L, 'was': 2L, 'bought': 1L, 'we': 2L, 'his': 1L, 'to': 4L, 'though': 1L, 'price': 1L, 'night': 1L, 'use': 1L, 'clothes.': 1L, 'break': 1L, 'how': 1L, 'bit': 1L, 'son': 1L, 'than': 1L, 'he': 2L, 'a': 1L, 'on': 1L, 'open.': 1L, 'autistic': 1L, 'sturdy': 1L, 'these': 1L, 'recall': 1L, \"hasn't\": 1L, 'shipping': 1L, 'side': 1L, 'i': 1L, 'reasonable': 1L, 'time': 1L, 'the': 4L, 'more': 2L, 'my': 1L, 'or': 1L, 'once': 1L}, {'and': 1L, 'duty--able': 1L, 'quality--worked': 1L, 'good': 1L, 'fine--heavy': 1L, 'to': 1L, 'in': 1L, 'no': 1L, 'these': 1L, 'others': 1L, 'needed': 1L, 'as': 1L, 'used': 1L, 'way': 1L, 'were': 1L, 'need': 1L, 'be': 1L, 'my': 1L, 'any': 1L, 'filled': 1L}, {'and': 1L, 'a': 3L, 'great': 2L, 'has': 1L, 'colors': 1L, 'for': 1L, 'dozen.': 1L, 'that': 1L, 'lots': 1L, 'of': 1L, 'easy': 1L, 'bargain': 1L, 'to': 1L, 'bright': 1L, 'safety': 1L, 'pin': 1L, 'uses.': 1L, 'with': 1L, 'find': 1L}, {'and': 1L, 'not': 1L, 'are': 2L, 'in': 1L, 'thick': 1L, 'little': 1L, 'fabric': 1L, 'no': 2L, 'fortunately': 1L, 'there': 1L, 'to': 1L, 'flimsy': 1L, 'stuck.': 1L, 'pins': 2L, 'was': 2L, 'them': 1L, 'used': 1L, 'on.': 1L, 'involved,': 1L, 'received': 1L, 'diaper': 1L, 'baby': 1L, 'attractive,': 1L, 'hold': 1L, 'on': 1L, 'i': 2L, 'metal': 1L, 'up': 1L, 'did': 1L, 'while': 1L, 'so': 1L, 'the': 4L}, {'honduras,': 1L, 'honduras': 1L, 'sent.': 1L, 'is': 1L, 'it': 1L, 'kits': 1L, 'have': 1L, 'in': 2L, 'our': 1L, 'find': 1L, 'also': 1L, 'with': 1L, 'appreciated': 1L, 'to': 3L, 'pins': 2L, 'sent': 1L, 'difficult': 1L, 'do': 1L, 'we': 2L, 'diapers': 1L, 'cloth': 1L, 'diaper': 2L, 'they': 2L, 'not': 1L, '&#34;pampers&#34;.': 1L, 'hold': 1L, '&#34;disposable&#34;': 1L, 'went': 1L, 'age.': 1L, 'these': 1L, 'the': 3L, 'missionaries.': 1L}, {'and': 3L, 'dressmaker': 1L, 'since': 1L, 'have': 1L, 'pin': 1L, 'up': 1L, 'it': 1L, 'socks': 2L, 'years': 1L, 'course': 1L, 'through': 2L, 'a': 1L, 'using': 1L, 'open': 1L, 'your': 1L, 'cycle.': 1L, 'yet.': 1L, 'little': 1L, 'working': 1L, 'to': 4L, 'that': 1L, 'been': 1L, 'pins,': 1L, 'needed': 1L, 'recommended': 1L, 'tended': 1L, 'pins': 2L, 'perfectly': 1L, 'was': 2L, 'do': 1L, 'staying': 1L, 'tried': 1L, 'get': 1L, 'never': 1L, \"thery're\": 1L, 'washing.': 1L, '&#34;friended': 1L, 'we': 2L, 'but': 3L, 'they': 2L, 'during': 1L, 'brass': 1L, 'one': 1L, 'matter': 1L, 'tricky': 1L, 'open,': 1L, 'has': 1L, 'like': 1L, 'lost': 1L, 'wash': 2L, 'up&#34;.': 1L, 'of': 2L, 'wife': 1L, 'suggested': 1L, 'together': 2L, 'keep': 1L, 'idea.': 1L, 'i': 2L, 'can': 1L, 'many': 1L, 'them.': 1L, 'the': 4L, 'my': 2L, 'fact': 1L, 'diaper': 2L}, {'and': 4L, 'the': 11L, 'reviews.': 1L, 'have': 1L, 'pin': 2L, \"don't\": 1L, 'clothespins,': 1L, 'sock': 1L, 'into': 1L, 'each': 1L, 'am': 1L, 'idea': 1L, 'socks': 6L, 'one': 1L, 'as': 2L, 'done': 1L, 'are': 2L, 'another': 1L, 'reviewer': 1L, 'my': 2L, 'dried,': 1L, 'still': 1L, 'saved': 1L, 'hamper': 1L, 'out': 1L, 'washer,': 1L, 'these': 1L, 'use': 1L, 'now': 1L, 'just': 2L, 'open': 1L, 'line.': 1L, 'with': 2L, 'noted,': 1L, 'had': 1L, 'matching': 1L, 'to': 2L, 'feet.': 1L, 'lot': 1L, 'before': 1L, 'hamper,': 1L, 'has': 1L, 'it.': 1L, 'dry': 2L, 'them': 1L, 'after': 1L, 'on.': 1L, 'stay': 1L, 'read': 1L, 'hang': 2L, 'of': 4L, 'shelf.': 1L, 'great': 2L, 'here': 1L, 'it': 1L, 'by': 1L, 'pins': 1L, 'mismatched': 1L, 'they': 2L, 'put': 1L, 'line': 1L, 'washing.': 1L, 'come': 1L, 'grab': 1L, 'glad': 1L, 'a': 3L, 'on': 5L, 'about': 1L, 'for': 1L, 'lost': 1L, 'this': 2L, 'wish': 1L, 'side': 1L, 'leave': 1L, 'i': 7L, 'without': 1L, 'dirty': 1L, 'time': 1L, 'life.': 1L, 'problem': 1L, 'whole': 1L, 'or': 1L, 'once': 1L}, {'fabric.': 1L, 'work': 1L, 'old': 1L, 'is': 1L, 'hard': 1L, 'it': 1L, 'through': 1L, 'at': 1L, 'still': 1L, 'pins,': 1L, 'recommend.': 1L, 'would': 1L, 'thicker': 1L, 'to': 1L, 'which': 1L, 'steel': 1L, 'have.': 1L, 'very': 1L, 'part': 1L, 'diaper': 1L, 'not': 2L, 'strong': 1L, 'a': 1L, 'unlike': 1L, 'i': 1L, 'all,': 1L, 'the': 2L}, {'there': 1L, 'am': 1L, 'back': 1L, 'really': 1L, 'are': 2L, 'have': 1L, 'in': 1L, '10.': 1L, 'should': 1L, 'out': 1L, 'thought': 1L, 'use': 1L, 'that': 1L, 'when': 1L, 'mark': 1L, 'to': 2L, 'only': 2L, 'going': 1L, 'safety': 1L, 'pins': 1L, 'pins.': 1L, 'was': 1L, 'be': 1L, 'them': 1L, 'dozen': 1L, 'pins..turns': 1L, 'overpriced.': 1L, 'regular': 1L, 'they': 1L, 'crochet': 1L, 'sad..and': 1L, 'a': 1L, 'getting': 1L, 'i': 8L, 'yarn': 1L, 'counted': 1L, 'will': 1L, 'so': 1L, 'picture..as': 1L, 'the': 2L, 'think': 1L}, {'because': 1L, 'anymore.': 1L, 'tabs': 1L, 'is': 1L, 'am': 1L, 'them': 1L, 'through': 2L, 'bend': 1L, 'sharp': 1L, 'said,': 1L, \"doesn't\": 1L, 'pain.': 1L, 'which': 1L, 'dislike': 1L, '=': 2L, 'ends': 1L, 'that': 2L, 'pushing': 1L, 'diapers': 2L, 'velcro': 2L, 'easier.': 1L, 'sides': 1L, 'a': 1L, 'on': 1L, 'pierce': 1L, 'like': 1L, 'older': 1L, 'i': 1L, 'work': 1L, 'the': 2L, 'my': 2L}, {'and': 1L, 'right': 1L, 'happy,': 1L, 'bends': 1L, 'is': 1L, 'am': 2L, 'as': 2L, 'are': 1L, 'for': 1L, 'these,': 1L, 'expected.': 1L, 'steel': 1L, 'needle': 1L, 'material': 1L, 'color,': 1L, 'but': 1L, 'not': 2L, 'strong': 1L, 'with': 1L, 'easily,': 1L, 'a': 1L, 'on': 1L, 'i': 3L, 'dog': 1L, 'bed': 1L, 'pinning': 1L, 'these': 1L, 'so': 1L, 'diapers.': 1L, 'the': 3L}, {'a': 1L, 'useful': 1L, 'to': 2L, 'no': 1L, 'this': 1L, 'item': 1L, 'is': 1L, 'hard': 1L, '-': 1L, 'locally!': 1L, 'matter': 1L, 'have': 1L, 'diaper': 1L, 'purpose...': 1L, 'pins': 1L, 'the': 1L, 'find': 1L, 'are': 1L}, {\"don't\": 1L, 'just': 1L, 'be': 1L, 'wall': 1L, 'of': 1L, 'hand.': 1L, 'am': 1L, 'it': 6L, 'an': 4L, 'not': 1L, 'as': 3L, 'design': 1L, 'at': 1L, 'have': 1L, 'sense': 2L, 'seen': 1L, 'pleased': 1L, \"doesn't\": 1L, 'compared': 1L, 'start': 1L, 'make': 2L, 'give': 1L, 'had': 2L, 'actually': 1L, 'to': 3L, 'difference': 1L, '2': 1L, 'actual': 1L, 'way': 1L, 'hold': 1L, 'was': 1L, 'sort': 1L, 'a': 1L, 'any': 1L, 'far': 1L, 'peeled': 1L, 'about': 1L, 'free': 1L, 'you': 2L, 'putting': 1L, 'they': 1L, 'half': 1L, 'put': 1L, 'branches': 1L, 'aligned': 1L, 'with': 2L, 'weeks': 1L, 'bigger': 1L, 'ago': 1L, 'picture': 2L, 'made': 1L, 'off': 1L, 'i': 4L, 'all.': 1L, 'could': 1L, 'instruction': 1L, 'up': 3L, 'together': 1L, '--': 2L, 'so': 1L, 'wish': 1L, 'the': 5L, 'my': 1L, 'numbers': 1L}, {'do': 1L, 'them': 1L, 'peel': 1L, 'start': 1L, 'these': 1L, 'soon': 1L, 'wall.': 2L, 'to': 3L, 'as': 2L, 'stick': 2L, 'they': 1L, 'not': 1L, 'you': 1L, 'the': 2L}, {'money': 1L, 'frustrating!': 1L, 'when': 1L, 'is': 1L, \"wouldn't\": 1L, 'it': 2L, 'sticky': 1L, 'ended': 1L, 'at': 1L, 'bedroom': 1L, 'bedroom!': 1L, 'glue': 1L, 'wall...very': 1L, 'for': 1L, 'not': 1L, 'girls': 1L, 'to': 3L, 'disappointing.': 1L, 'got': 1L, 'waste': 1L, 'was': 2L, 'excited': 1L, 'it.': 1L, 'floor!': 1L, 'product': 1L, 'get': 1L, 'very': 2L, 'back': 1L, 'every': 1L, 'baby': 1L, 'picking': 1L, 'pieces': 1L, 'super': 1L, 'on': 1L, 'off': 1L, 'all!': 1L, 'i': 4L, 'of': 1L, 'into': 1L, 'up': 2L, 'walked': 1L, 'having': 1L, 'this': 1L, 'so': 1L, 'time': 2L, 'the': 5L, 'my': 1L, 'or': 1L}, {'and': 3L, 'heart': 1L, 'because': 1L, 'blessed': 1L, 'pope': 2L, 'photo': 1L, 'is': 2L, 'am': 1L, 'it': 4L, 'as': 1L, 'in': 3L, 'ordered': 1L, 'between': 1L, 'to': 1L, 'again': 1L, 'strong': 1L, 'just': 1L, 'would': 1L, 'untier': 1L, 'giving': 1L, 'disappointed': 1L, 'whom': 1L, 'francis.': 1L, 'recommend': 1L, 'has': 1L, 'was': 1L, 'knotted': 1L, 'friend': 2L, 'lady': 1L, 'fathers.': 1L, 'buy': 1L, 'devotion.': 1L, 'crystal,': 1L, 'our': 2L, 'novena': 1L, 'beat.': 1L, 'made': 1L, 'not': 1L, 'along': 1L, 'francis': 1L, 'with': 2L, 'by': 1L, 'copy': 1L, 'a': 4L, 'lovely': 1L, 'rosary': 2L, 'for': 2L, 'undoer)': 1L, 'i': 4L, 'of': 3L, 'looked': 1L, 'this': 3L, 'definitely': 1L, '(or': 1L, 'the': 3L, 'my': 1L, 'beautiful,': 1L, 'knots,': 1L}, {'and': 2L, 'all': 1L, 'right': 1L, 'price.': 1L, 'just': 1L, 'scapular': 1L, 'some': 1L, 'an': 1L, 'quality': 1L, 'for': 2L, 'to': 1L, 'more': 1L, 'wearing': 1L, 'brown': 1L, 'around': 1L, 'blessing': 1L, 'precious.': 1L, 'excellent': 1L, 'a': 1L, 'neck': 1L, 'makes': 1L, 'value': 1L, 'item': 1L, 'the': 5L, 'such.': 1L, 'or': 1L, 'orattaching': 1L}, {'beautiful': 2L, 'and': 3L, 'love': 1L, \"don't\": 1L, 'recognize': 1L, 'is': 4L, 'me.': 1L, 'am': 3L, 'it': 4L, 'an': 1L, 'down': 1L, 'as': 2L, 'someone': 1L, 'through': 1L, 'fast': 1L, 'have': 1L, '$25.00.': 1L, 'still': 1L, 'if': 3L, 'even': 1L, 'song.': 1L, 'slow': 1L, 'would': 2L, 'box.': 1L, 'there': 2L, 'had': 3L, 'been': 2L, 'for': 1L, 'to': 5L, 'finally': 1L, 'item.': 1L, 'too': 1L, 'way': 2L, 'beware...': 1L, 'music': 4L, 'watching': 1L, 'was': 1L, 'tell': 1L, 'happy': 2L, 'be': 1L, 'play': 1L, 'nativity.': 1L, 'get': 1L, 'very': 1L, 'about': 1L, 'but': 1L, 'excuse': 1L, 'know': 1L, 'box;': 1L, 'not': 3L, 'song': 1L, 'with': 1L, 'the': 7L, 'a': 2L, 'nativity': 1L, 'great': 1L, 'look': 1L, 'this': 1L, 'wish': 1L, 'right.buyer': 1L, 'months': 1L, 'excited': 2L, 'i': 10L, 'so': 3L, 'of': 1L, 'nativity;': 1L, 'spend': 1L, 'once': 1L}, {'and': 2L, 'slid': 1L, 'tough': 2L, 'fit.': 1L, 'over': 1L, 'am': 1L, 'product': 1L, 'hair': 1L, 'snug': 1L, 'are': 2L, 'have': 2L, 'love': 1L, 'shipping!': 1L, 'satisfied': 1L, 'pleased': 1L, 'size': 1L, 'fit': 1L, 'bangle': 1L, 'had': 1L, 'fitting': 1L, 'fast': 1L, '.': 1L, 'to': 3L, 'lotion.': 1L, 'whew': 1L, 'bangles': 1L, 'small.': 1L, 'was': 1L, 'hand.': 1L, 'them': 1L, 'get': 1L, 'got': 1L, 'were': 1L, 'overall': 1L, 'however': 1L, 'but': 2L, 'like': 1L, 'if': 1L, 'adult': 1L, 'they': 4L, 'hands': 1L, 'bit': 1L, 'hand': 1L, 'with': 3L, 'bigger': 1L, 'kid': 1L, 'a': 3L, 'on': 2L, 'for': 1L, 'i': 5L, \"wouldn't\": 1L, 'large': 1L, 'these': 1L, 'stay.': 1L, 'also.': 1L, 'product.': 1L, 'small': 2L, 'wrist': 1L, 'the': 3L, 'my': 1L, 'on!!': 1L}, {'and': 2L, 'set': 1L, 'old': 1L, 'cooking.': 1L, 'for': 1L, '2': 1L, 'lot': 1L, 'has': 1L, 'was': 1L, 'granddaughter': 1L, 'with': 1L, 'a': 1L, 'great': 1L, 'yr.': 1L, 'this': 1L, 'of': 1L, 'pretend': 1L, 'she': 1L, 'fun': 1L, 'the': 1L, 'my': 1L, 'playing': 1L}, {'and': 1L, 'is': 1L, 'wash': 1L, 'are': 1L, 'also': 1L, 'useful.': 1L, 'to': 1L, 'easy': 1L, 'awesome.': 1L, 'them': 1L, 'dry.': 1L, 'very': 2L, 'price': 1L, 'much.': 1L, 'bibs.': 1L, 'they': 1L, 'friends': 1L, 'those': 1L, 'like': 2L, 'i': 1L, 'the': 1L, 'my': 1L}, {'beautiful': 1L, 'old': 1L, 'too.': 1L, 'curls': 1L, 'is': 1L, 'wash': 1L, 'good': 1L, 'in': 1L, 'messy': 1L, 'mouth.': 1L, 'provided': 1L, '20': 1L, 'for': 1L, 'to': 2L, 'front': 1L, 'boy': 1L, 'when': 1L, 'eaters,': 1L, 'bibs,': 1L, 'easy': 1L, 'elbows': 1L, 'his': 2L, 'missing': 1L, 'very': 1L, 'who': 1L, 'pasta': 2L, 'pocket': 1L, 'marinara': 1L, 'protections': 1L, 'fall': 1L, 'fingers.': 1L, 'bibs': 1L, 'with': 1L, 'eat': 1L, 'a': 1L, 'loved': 1L, 'daughter': 1L, 'grandson': 1L, 'this': 2L, 'months': 1L, 'loves': 1L, 'the': 2L, 'my': 2L, 'or': 1L}, {'perfect': 1L, 'and': 1L, 'i': 1L, 'collection!': 1L, 'collect': 1L, 'this': 2L, 'tree!': 1L, 'is': 2L, 'it': 1L, 'for': 1L, 'nativity': 2L, 'to': 2L, 'add': 1L, 'cute': 1L, 'a': 1L, 'ornaments': 1L, 'ornament,': 1L, 'such': 1L, 'my': 2L, \"can't\": 1L, 'wait': 1L}, ... ]\n"
     ]
    }
   ],
   "source": [
    "print data['word_count']"
   ]
  },
  {
   "cell_type": "code",
   "execution_count": 7,
   "metadata": {
    "collapsed": false
   },
   "outputs": [
    {
     "name": "stdout",
     "output_type": "stream",
     "text": [
      "{'and': 5L, 'stink': 1L, 'because': 1L, 'ordered': 1L, 'just': 1L, 'had': 2L, 'wipes-ocean': 1L, 'hands': 1L, 'wipes,': 1L, 'replace': 1L, 'fab': 1L, 'softer': 1L, 'are': 3L, 'have': 2L, 'in': 1L, 'need': 1L, 'been': 1L, 'rough': 1L, 'ok,': 1L, 'issues': 1L, 'seemed': 1L, 'use': 1L, 'blue-12': 1L, 'vimse': 1L, 'for': 2L, 'to': 2L, 'that': 1L, 'larger,': 1L, 'texture': 1L, 'also': 1L, 'someimse': 1L, 'quality.': 1L, 'no': 1L, 'boyfor': 1L, 'worth': 1L, 'higher': 1L, 'them': 1L, 'get': 1L, 'keeping.': 1L, 'countwhich': 1L, '6': 1L, 'but': 1L, 'cloth': 2L, 'usingthirsties': 1L, '8': 1L, 'they': 1L, 'opinion': 1L, 'not': 1L, 'now': 1L, 'flannel': 1L, 'a': 2L, 'about': 1L, 'nicer,': 1L, 'longer': 1L, 'these': 1L, 'starting': 1L, 'months': 1L, 'wipes': 2L, 'i': 2L, 'while': 1L, 'stripping': 1L, 'faces': 1L, 'handles.': 1L, 'my': 1L, 'pack': 1L}\n"
     ]
    }
   ],
   "source": [
    "print data['word_count'][0]"
   ]
  },
  {
   "cell_type": "code",
   "execution_count": 8,
   "metadata": {
    "collapsed": false
   },
   "outputs": [
    {
     "name": "stdout",
     "output_type": "stream",
     "text": [
      "5\n"
     ]
    }
   ],
   "source": [
    "print data['word_count'][0]['and']"
   ]
  },
  {
   "cell_type": "code",
   "execution_count": 13,
   "metadata": {
    "collapsed": true
   },
   "outputs": [],
   "source": [
    "def awesome_count(diction):\n",
    "    if 'awesome'in diction:\n",
    "        return diction['awesome']\n",
    "    else:\n",
    "        return 0"
   ]
  },
  {
   "cell_type": "code",
   "execution_count": 14,
   "metadata": {
    "collapsed": true
   },
   "outputs": [],
   "source": [
    "data['awesome'] = data['word_count'].apply(awesome_count)"
   ]
  },
  {
   "cell_type": "code",
   "execution_count": 15,
   "metadata": {
    "collapsed": false
   },
   "outputs": [
    {
     "name": "stdout",
     "output_type": "stream",
     "text": [
      "+-------------------------------+-------------------------------+--------+\n",
      "|              name             |             review            | rating |\n",
      "+-------------------------------+-------------------------------+--------+\n",
      "|    Planetwise Flannel Wipes   | These flannel wipes are OK... |  3.0   |\n",
      "|     Planetwise Wipe Pouch     | it came early and was not ... |  5.0   |\n",
      "| Annas Dream Full Quilt wit... | Very soft and comfortable ... |  5.0   |\n",
      "| Stop Pacifier Sucking with... | This is a product well wor... |  5.0   |\n",
      "| Stop Pacifier Sucking with... | All of my kids have cried ... |  5.0   |\n",
      "| Stop Pacifier Sucking with... | When the Binky Fairy came ... |  5.0   |\n",
      "| A Tale of Baby's Days with... | Lovely book, it's bound ti... |  4.0   |\n",
      "| Baby Tracker&reg; - Daily ... | Perfect for new parents. W... |  5.0   |\n",
      "| Baby Tracker&reg; - Daily ... | A friend of mine pinned th... |  5.0   |\n",
      "| Baby Tracker&reg; - Daily ... | This has been an easy way ... |  4.0   |\n",
      "+-------------------------------+-------------------------------+--------+\n",
      "+-------------------------------+---------+\n",
      "|           word_count          | awesome |\n",
      "+-------------------------------+---------+\n",
      "| {'and': 5L, 'stink': 1L, '... |    0    |\n",
      "| {'and': 3L, 'love': 1L, 'i... |    0    |\n",
      "| {'and': 2L, 'quilt': 1L, '... |    0    |\n",
      "| {'ingenious': 1L, 'and': 3... |    0    |\n",
      "| {'and': 2L, 'parents!!': 1... |    0    |\n",
      "| {'and': 2L, 'cute': 1L, 'h... |    0    |\n",
      "| {'shop': 1L, 'be': 1L, 'is... |    0    |\n",
      "| {'feeding,': 1L, 'and': 2L... |    0    |\n",
      "| {'and': 1L, 'help': 1L, 'g... |    0    |\n",
      "| {'journal.': 1L, 'all': 1L... |    0    |\n",
      "+-------------------------------+---------+\n",
      "[183531 rows x 5 columns]\n",
      "Note: Only the head of the SFrame is printed.\n",
      "You can use print_rows(num_rows=m, num_columns=n) to print more rows and columns.\n"
     ]
    }
   ],
   "source": [
    "print data"
   ]
  },
  {
   "cell_type": "code",
   "execution_count": 17,
   "metadata": {
    "collapsed": false
   },
   "outputs": [
    {
     "name": "stdout",
     "output_type": "stream",
     "text": [
      "Canvas is accessible via web browser at the URL: http://localhost:8849/index.html\n",
      "Opening Canvas in default web browser.\n",
      "None\n"
     ]
    }
   ],
   "source": [
    "print data['awesome'].show()"
   ]
  },
  {
   "cell_type": "code",
   "execution_count": 18,
   "metadata": {
    "collapsed": true
   },
   "outputs": [],
   "source": [
    "def awesome_count(diction):\n",
    "    if 'and'in diction:\n",
    "        return diction['and']\n",
    "    else:\n",
    "        return 0"
   ]
  },
  {
   "cell_type": "code",
   "execution_count": 21,
   "metadata": {
    "collapsed": false
   },
   "outputs": [],
   "source": [
    "data['and'] = data['word_count'].apply(awesome_count)"
   ]
  },
  {
   "cell_type": "raw",
   "metadata": {},
   "source": [
    "print "
   ]
  },
  {
   "cell_type": "code",
   "execution_count": 27,
   "metadata": {
    "collapsed": false
   },
   "outputs": [
    {
     "data": {
      "application/javascript": [
       "$(\"head\").append($(\"<link/>\").attr({\n",
       "  rel:  \"stylesheet\",\n",
       "  type: \"text/css\",\n",
       "  href: \"//cdnjs.cloudflare.com/ajax/libs/font-awesome/4.1.0/css/font-awesome.min.css\"\n",
       "}));\n",
       "$(\"head\").append($(\"<link/>\").attr({\n",
       "  rel:  \"stylesheet\",\n",
       "  type: \"text/css\",\n",
       "  href: \"https://static.turi.com/products/graphlab-create/2.1/canvas/css/canvas.css\"\n",
       "}));\n",
       "\n",
       "            (function(){\n",
       "\n",
       "                var e = null;\n",
       "                if (typeof element == 'undefined') {\n",
       "                    var scripts = document.getElementsByTagName('script');\n",
       "                    var thisScriptTag = scripts[scripts.length-1];\n",
       "                    var parentDiv = thisScriptTag.parentNode;\n",
       "                    e = document.createElement('div');\n",
       "                    parentDiv.appendChild(e);\n",
       "                } else {\n",
       "                    e = element[0];\n",
       "                }\n",
       "\n",
       "                if (typeof requirejs !== 'undefined') {\n",
       "                    // disable load timeout; ipython_app.js is large and can take a while to load.\n",
       "                    requirejs.config({waitSeconds: 0});\n",
       "                }\n",
       "\n",
       "                require(['https://static.turi.com/products/graphlab-create/2.1/canvas/js/ipython_app.js'], function(IPythonApp){\n",
       "                    var app = new IPythonApp();\n",
       "                    app.attachView('sarray','Categorical', {\"ipython\": true, \"sketch\": {\"std\": 2.8304875975212807, \"complete\": true, \"min\": 0.0, \"max\": 80.0, \"quantile\": [0.0, 0.0, 0.0, 0.0, 0.0, 0.0, 0.0, 0.0, 0.0, 0.0, 0.0, 0.0, 0.0, 0.0, 0.0, 0.0, 0.0, 0.0, 0.0, 1.0, 1.0, 1.0, 1.0, 1.0, 1.0, 1.0, 1.0, 1.0, 1.0, 1.0, 1.0, 1.0, 1.0, 1.0, 1.0, 1.0, 1.0, 1.0, 1.0, 1.0, 1.0, 1.0, 1.0, 1.0, 1.0, 1.0, 2.0, 2.0, 2.0, 2.0, 2.0, 2.0, 2.0, 2.0, 2.0, 2.0, 2.0, 2.0, 2.0, 2.0, 2.0, 2.0, 2.0, 2.0, 2.0, 2.0, 3.0, 3.0, 3.0, 3.0, 3.0, 3.0, 3.0, 3.0, 3.0, 3.0, 3.0, 3.0, 4.0, 4.0, 4.0, 4.0, 4.0, 4.0, 4.0, 4.0, 5.0, 5.0, 5.0, 5.0, 6.0, 6.0, 6.0, 7.0, 7.0, 8.0, 8.0, 9.0, 11.0, 14.0, 80.0], \"median\": 2.0, \"numeric\": true, \"num_unique\": 57, \"num_undefined\": 0, \"var\": 8.011660039721791, \"progress\": 1.0, \"size\": 183531, \"frequent_items\": {\"0\": {\"frequency\": 33931, \"value\": 0}, \"1\": {\"frequency\": 49329, \"value\": 1}, \"2\": {\"frequency\": 36993, \"value\": 2}, \"3\": {\"frequency\": 22559, \"value\": 3}, \"4\": {\"frequency\": 13722, \"value\": 4}, \"5\": {\"frequency\": 8768, \"value\": 5}, \"6\": {\"frequency\": 5565, \"value\": 6}, \"7\": {\"frequency\": 3650, \"value\": 7}, \"8\": {\"frequency\": 2458, \"value\": 8}, \"9\": {\"frequency\": 1741, \"value\": 9}, \"10\": {\"frequency\": 1161, \"value\": 10}, \"11\": {\"frequency\": 861, \"value\": 11}, \"12\": {\"frequency\": 624, \"value\": 12}, \"13\": {\"frequency\": 470, \"value\": 13}, \"14\": {\"frequency\": 357, \"value\": 14}, \"15\": {\"frequency\": 251, \"value\": 15}, \"16\": {\"frequency\": 202, \"value\": 16}, \"17\": {\"frequency\": 155, \"value\": 17}, \"18\": {\"frequency\": 134, \"value\": 18}, \"19\": {\"frequency\": 103, \"value\": 19}, \"20\": {\"frequency\": 84, \"value\": 20}, \"21\": {\"frequency\": 63, \"value\": 21}, \"22\": {\"frequency\": 59, \"value\": 22}, \"23\": {\"frequency\": 62, \"value\": 23}, \"24\": {\"frequency\": 33, \"value\": 24}, \"25\": {\"frequency\": 29, \"value\": 25}, \"26\": {\"frequency\": 24, \"value\": 26}, \"27\": {\"frequency\": 20, \"value\": 27}, \"28\": {\"frequency\": 17, \"value\": 28}, \"29\": {\"frequency\": 17, \"value\": 29}, \"30\": {\"frequency\": 12, \"value\": 30}, \"31\": {\"frequency\": 9, \"value\": 31}, \"32\": {\"frequency\": 7, \"value\": 32}, \"33\": {\"frequency\": 10, \"value\": 33}, \"34\": {\"frequency\": 5, \"value\": 34}, \"35\": {\"frequency\": 5, \"value\": 35}, \"36\": {\"frequency\": 5, \"value\": 36}, \"37\": {\"frequency\": 3, \"value\": 37}, \"38\": {\"frequency\": 2, \"value\": 38}, \"39\": {\"frequency\": 3, \"value\": 39}, \"40\": {\"frequency\": 2, \"value\": 40}, \"41\": {\"frequency\": 4, \"value\": 41}, \"43\": {\"frequency\": 2, \"value\": 43}, \"44\": {\"frequency\": 3, \"value\": 44}, \"45\": {\"frequency\": 2, \"value\": 45}, \"47\": {\"frequency\": 2, \"value\": 47}, \"48\": {\"frequency\": 1, \"value\": 48}, \"49\": {\"frequency\": 1, \"value\": 49}, \"50\": {\"frequency\": 1, \"value\": 50}, \"54\": {\"frequency\": 1, \"value\": 54}, \"56\": {\"frequency\": 1, \"value\": 56}, \"60\": {\"frequency\": 1, \"value\": 60}, \"65\": {\"frequency\": 3, \"value\": 65}, \"71\": {\"frequency\": 1, \"value\": 71}, \"76\": {\"frequency\": 1, \"value\": 76}, \"79\": {\"frequency\": 1, \"value\": 79}, \"80\": {\"frequency\": 1, \"value\": 80}}, \"mean\": 2.4548114487470856}, \"selected_variable\": {\"name\": [\"<SArray>\"], \"dtype\": \"int\", \"view_component\": \"Categorical\", \"view_file\": \"sarray\", \"descriptives\": {\"rows\": 183531}, \"type\": \"SArray\", \"view_components\": [\"Numeric\", \"Categorical\"]}, \"histogram\": {\"progress\": 1.0, \"histogram\": {\"max\": 81.56800000000001, \"bins\": [165302, 16060, 1672, 354, 92, 25, 13, 3, 3, 3, 1, 3], \"min\": -1.3760000000000048}, \"min\": 0, \"complete\": 1, \"max\": 80}}, e);\n",
       "                });\n",
       "            })();\n",
       "        "
      ]
     },
     "metadata": {},
     "output_type": "display_data"
    },
    {
     "name": "stdout",
     "output_type": "stream",
     "text": [
      "None\n"
     ]
    }
   ],
   "source": [
    "print data['and'].show(view ='Categorical')"
   ]
  },
  {
   "cell_type": "code",
   "execution_count": 26,
   "metadata": {
    "collapsed": true
   },
   "outputs": [],
   "source": [
    "gl.canvas.set_target('ipynb')"
   ]
  },
  {
   "cell_type": "code",
   "execution_count": 28,
   "metadata": {
    "collapsed": true
   },
   "outputs": [],
   "source": [
    "def awesome_count(diction):\n",
    "    if 'awesome'in diction:\n",
    "        return diction['awesome']\n",
    "    else:\n",
    "        return 0"
   ]
  },
  {
   "cell_type": "code",
   "execution_count": 29,
   "metadata": {
    "collapsed": true
   },
   "outputs": [],
   "source": [
    "data['awesome'] = data['word_count'].apply(awesome_count)"
   ]
  },
  {
   "cell_type": "code",
   "execution_count": 30,
   "metadata": {
    "collapsed": false
   },
   "outputs": [
    {
     "data": {
      "application/javascript": [
       "$(\"head\").append($(\"<link/>\").attr({\n",
       "  rel:  \"stylesheet\",\n",
       "  type: \"text/css\",\n",
       "  href: \"//cdnjs.cloudflare.com/ajax/libs/font-awesome/4.1.0/css/font-awesome.min.css\"\n",
       "}));\n",
       "$(\"head\").append($(\"<link/>\").attr({\n",
       "  rel:  \"stylesheet\",\n",
       "  type: \"text/css\",\n",
       "  href: \"https://static.turi.com/products/graphlab-create/2.1/canvas/css/canvas.css\"\n",
       "}));\n",
       "\n",
       "            (function(){\n",
       "\n",
       "                var e = null;\n",
       "                if (typeof element == 'undefined') {\n",
       "                    var scripts = document.getElementsByTagName('script');\n",
       "                    var thisScriptTag = scripts[scripts.length-1];\n",
       "                    var parentDiv = thisScriptTag.parentNode;\n",
       "                    e = document.createElement('div');\n",
       "                    parentDiv.appendChild(e);\n",
       "                } else {\n",
       "                    e = element[0];\n",
       "                }\n",
       "\n",
       "                if (typeof requirejs !== 'undefined') {\n",
       "                    // disable load timeout; ipython_app.js is large and can take a while to load.\n",
       "                    requirejs.config({waitSeconds: 0});\n",
       "                }\n",
       "\n",
       "                require(['https://static.turi.com/products/graphlab-create/2.1/canvas/js/ipython_app.js'], function(IPythonApp){\n",
       "                    var app = new IPythonApp();\n",
       "                    app.attachView('sarray','Categorical', {\"ipython\": true, \"sketch\": {\"std\": 0.11023440372378224, \"complete\": true, \"min\": 0.0, \"max\": 4.0, \"quantile\": [0.0, 0.0, 0.0, 0.0, 0.0, 0.0, 0.0, 0.0, 0.0, 0.0, 0.0, 0.0, 0.0, 0.0, 0.0, 0.0, 0.0, 0.0, 0.0, 0.0, 0.0, 0.0, 0.0, 0.0, 0.0, 0.0, 0.0, 0.0, 0.0, 0.0, 0.0, 0.0, 0.0, 0.0, 0.0, 0.0, 0.0, 0.0, 0.0, 0.0, 0.0, 0.0, 0.0, 0.0, 0.0, 0.0, 0.0, 0.0, 0.0, 0.0, 0.0, 0.0, 0.0, 0.0, 0.0, 0.0, 0.0, 0.0, 0.0, 0.0, 0.0, 0.0, 0.0, 0.0, 0.0, 0.0, 0.0, 0.0, 0.0, 0.0, 0.0, 0.0, 0.0, 0.0, 0.0, 0.0, 0.0, 0.0, 0.0, 0.0, 0.0, 0.0, 0.0, 0.0, 0.0, 0.0, 0.0, 0.0, 0.0, 0.0, 0.0, 0.0, 0.0, 0.0, 0.0, 0.0, 0.0, 0.0, 0.0, 1.0, 4.0], \"median\": 0.0, \"numeric\": true, \"num_unique\": 5, \"num_undefined\": 0, \"var\": 0.012151623764337816, \"progress\": 1.0, \"size\": 183531, \"frequent_items\": {\"0\": {\"frequency\": 181514, \"value\": 0}, \"1\": {\"frequency\": 1952, \"value\": 1}, \"2\": {\"frequency\": 58, \"value\": 2}, \"3\": {\"frequency\": 6, \"value\": 3}, \"4\": {\"frequency\": 1, \"value\": 4}}, \"mean\": 0.011387721965226576}, \"selected_variable\": {\"name\": [\"<SArray>\"], \"dtype\": \"int\", \"view_component\": \"Categorical\", \"view_file\": \"sarray\", \"descriptives\": {\"rows\": 183531}, \"type\": \"SArray\", \"view_components\": [\"Numeric\", \"Categorical\"]}, \"histogram\": {\"progress\": 1.0, \"histogram\": {\"max\": 4.02932, \"bins\": [181514, 0, 0, 1952, 0, 58, 0, 0, 6, 0, 0, 1], \"min\": -0.025719999999999743}, \"min\": 0, \"complete\": 1, \"max\": 4}}, e);\n",
       "                });\n",
       "            })();\n",
       "        "
      ]
     },
     "metadata": {},
     "output_type": "display_data"
    },
    {
     "name": "stdout",
     "output_type": "stream",
     "text": [
      "None\n"
     ]
    }
   ],
   "source": [
    "print data['awesome'].show(view ='Categorical')"
   ]
  },
  {
   "cell_type": "code",
   "execution_count": 32,
   "metadata": {
    "collapsed": false
   },
   "outputs": [
    {
     "data": {
      "text/html": [
       "<div style=\"max-height:1000px;max-width:1500px;overflow:auto;\"><table frame=\"box\" rules=\"cols\">\n",
       "    <tr>\n",
       "        <th style=\"padding-left: 1em; padding-right: 1em; text-align: center\">name</th>\n",
       "        <th style=\"padding-left: 1em; padding-right: 1em; text-align: center\">review</th>\n",
       "        <th style=\"padding-left: 1em; padding-right: 1em; text-align: center\">rating</th>\n",
       "        <th style=\"padding-left: 1em; padding-right: 1em; text-align: center\">word_count</th>\n",
       "        <th style=\"padding-left: 1em; padding-right: 1em; text-align: center\">awesome</th>\n",
       "    </tr>\n",
       "    <tr>\n",
       "        <td style=\"padding-left: 1em; padding-right: 1em; text-align: center; vertical-align: top\">Planetwise Flannel Wipes</td>\n",
       "        <td style=\"padding-left: 1em; padding-right: 1em; text-align: center; vertical-align: top\">These flannel wipes are<br>OK, but in my opinion ...</td>\n",
       "        <td style=\"padding-left: 1em; padding-right: 1em; text-align: center; vertical-align: top\">3.0</td>\n",
       "        <td style=\"padding-left: 1em; padding-right: 1em; text-align: center; vertical-align: top\">{'and': 5L, 'stink': 1L,<br>'because': 1L, 'order ...</td>\n",
       "        <td style=\"padding-left: 1em; padding-right: 1em; text-align: center; vertical-align: top\">0</td>\n",
       "    </tr>\n",
       "    <tr>\n",
       "        <td style=\"padding-left: 1em; padding-right: 1em; text-align: center; vertical-align: top\">Planetwise Wipe Pouch</td>\n",
       "        <td style=\"padding-left: 1em; padding-right: 1em; text-align: center; vertical-align: top\">it came early and was not<br>disappointed. i love ...</td>\n",
       "        <td style=\"padding-left: 1em; padding-right: 1em; text-align: center; vertical-align: top\">5.0</td>\n",
       "        <td style=\"padding-left: 1em; padding-right: 1em; text-align: center; vertical-align: top\">{'and': 3L, 'love': 1L,<br>'it': 2L, 'highly': 1L, ...</td>\n",
       "        <td style=\"padding-left: 1em; padding-right: 1em; text-align: center; vertical-align: top\">0</td>\n",
       "    </tr>\n",
       "    <tr>\n",
       "        <td style=\"padding-left: 1em; padding-right: 1em; text-align: center; vertical-align: top\">Annas Dream Full Quilt<br>with 2 Shams ...</td>\n",
       "        <td style=\"padding-left: 1em; padding-right: 1em; text-align: center; vertical-align: top\">Very soft and comfortable<br>and warmer than it ...</td>\n",
       "        <td style=\"padding-left: 1em; padding-right: 1em; text-align: center; vertical-align: top\">5.0</td>\n",
       "        <td style=\"padding-left: 1em; padding-right: 1em; text-align: center; vertical-align: top\">{'and': 2L, 'quilt': 1L,<br>'it': 1L, 'comfortable': ...</td>\n",
       "        <td style=\"padding-left: 1em; padding-right: 1em; text-align: center; vertical-align: top\">0</td>\n",
       "    </tr>\n",
       "    <tr>\n",
       "        <td style=\"padding-left: 1em; padding-right: 1em; text-align: center; vertical-align: top\">Stop Pacifier Sucking<br>without tears with ...</td>\n",
       "        <td style=\"padding-left: 1em; padding-right: 1em; text-align: center; vertical-align: top\">This is a product well<br>worth the purchase.  I ...</td>\n",
       "        <td style=\"padding-left: 1em; padding-right: 1em; text-align: center; vertical-align: top\">5.0</td>\n",
       "        <td style=\"padding-left: 1em; padding-right: 1em; text-align: center; vertical-align: top\">{'ingenious': 1L, 'and':<br>3L, 'love': 2L, ...</td>\n",
       "        <td style=\"padding-left: 1em; padding-right: 1em; text-align: center; vertical-align: top\">0</td>\n",
       "    </tr>\n",
       "    <tr>\n",
       "        <td style=\"padding-left: 1em; padding-right: 1em; text-align: center; vertical-align: top\">Stop Pacifier Sucking<br>without tears with ...</td>\n",
       "        <td style=\"padding-left: 1em; padding-right: 1em; text-align: center; vertical-align: top\">All of my kids have cried<br>non-stop when I tried to ...</td>\n",
       "        <td style=\"padding-left: 1em; padding-right: 1em; text-align: center; vertical-align: top\">5.0</td>\n",
       "        <td style=\"padding-left: 1em; padding-right: 1em; text-align: center; vertical-align: top\">{'and': 2L, 'parents!!':<br>1L, 'all': 2L, 'puppe ...</td>\n",
       "        <td style=\"padding-left: 1em; padding-right: 1em; text-align: center; vertical-align: top\">0</td>\n",
       "    </tr>\n",
       "    <tr>\n",
       "        <td style=\"padding-left: 1em; padding-right: 1em; text-align: center; vertical-align: top\">Stop Pacifier Sucking<br>without tears with ...</td>\n",
       "        <td style=\"padding-left: 1em; padding-right: 1em; text-align: center; vertical-align: top\">When the Binky Fairy came<br>to our house, we didn't ...</td>\n",
       "        <td style=\"padding-left: 1em; padding-right: 1em; text-align: center; vertical-align: top\">5.0</td>\n",
       "        <td style=\"padding-left: 1em; padding-right: 1em; text-align: center; vertical-align: top\">{'and': 2L, 'cute': 1L,<br>'help': 2L, 'doll': 1L, ...</td>\n",
       "        <td style=\"padding-left: 1em; padding-right: 1em; text-align: center; vertical-align: top\">0</td>\n",
       "    </tr>\n",
       "    <tr>\n",
       "        <td style=\"padding-left: 1em; padding-right: 1em; text-align: center; vertical-align: top\">A Tale of Baby's Days<br>with Peter Rabbit ...</td>\n",
       "        <td style=\"padding-left: 1em; padding-right: 1em; text-align: center; vertical-align: top\">Lovely book, it's bound<br>tightly so you may no ...</td>\n",
       "        <td style=\"padding-left: 1em; padding-right: 1em; text-align: center; vertical-align: top\">4.0</td>\n",
       "        <td style=\"padding-left: 1em; padding-right: 1em; text-align: center; vertical-align: top\">{'shop': 1L, 'be': 1L,<br>'is': 1L, 'it': 1L, ' ...</td>\n",
       "        <td style=\"padding-left: 1em; padding-right: 1em; text-align: center; vertical-align: top\">0</td>\n",
       "    </tr>\n",
       "    <tr>\n",
       "        <td style=\"padding-left: 1em; padding-right: 1em; text-align: center; vertical-align: top\">Baby Tracker&amp;reg; - Daily<br>Childcare Journal, ...</td>\n",
       "        <td style=\"padding-left: 1em; padding-right: 1em; text-align: center; vertical-align: top\">Perfect for new parents.<br>We were able to keep ...</td>\n",
       "        <td style=\"padding-left: 1em; padding-right: 1em; text-align: center; vertical-align: top\">5.0</td>\n",
       "        <td style=\"padding-left: 1em; padding-right: 1em; text-align: center; vertical-align: top\">{'feeding,': 1L, 'and':<br>2L, 'all': 1L, 'right': ...</td>\n",
       "        <td style=\"padding-left: 1em; padding-right: 1em; text-align: center; vertical-align: top\">0</td>\n",
       "    </tr>\n",
       "    <tr>\n",
       "        <td style=\"padding-left: 1em; padding-right: 1em; text-align: center; vertical-align: top\">Baby Tracker&amp;reg; - Daily<br>Childcare Journal, ...</td>\n",
       "        <td style=\"padding-left: 1em; padding-right: 1em; text-align: center; vertical-align: top\">A friend of mine pinned<br>this product on Pinte ...</td>\n",
       "        <td style=\"padding-left: 1em; padding-right: 1em; text-align: center; vertical-align: top\">5.0</td>\n",
       "        <td style=\"padding-left: 1em; padding-right: 1em; text-align: center; vertical-align: top\">{'and': 1L, 'help': 1L,<br>'give': 1L, 'is': 1L, ...</td>\n",
       "        <td style=\"padding-left: 1em; padding-right: 1em; text-align: center; vertical-align: top\">0</td>\n",
       "    </tr>\n",
       "    <tr>\n",
       "        <td style=\"padding-left: 1em; padding-right: 1em; text-align: center; vertical-align: top\">Baby Tracker&amp;reg; - Daily<br>Childcare Journal, ...</td>\n",
       "        <td style=\"padding-left: 1em; padding-right: 1em; text-align: center; vertical-align: top\">This has been an easy way<br>for my nanny to record ...</td>\n",
       "        <td style=\"padding-left: 1em; padding-right: 1em; text-align: center; vertical-align: top\">4.0</td>\n",
       "        <td style=\"padding-left: 1em; padding-right: 1em; text-align: center; vertical-align: top\">{'journal.': 1L, 'all':<br>1L, 'standarad': 1L, ...</td>\n",
       "        <td style=\"padding-left: 1em; padding-right: 1em; text-align: center; vertical-align: top\">0</td>\n",
       "    </tr>\n",
       "</table>\n",
       "[183531 rows x 5 columns]<br/>Note: Only the head of the SFrame is printed.<br/>You can use print_rows(num_rows=m, num_columns=n) to print more rows and columns.\n",
       "</div>"
      ],
      "text/plain": [
       "Columns:\n",
       "\tname\tstr\n",
       "\treview\tstr\n",
       "\trating\tfloat\n",
       "\tword_count\tdict\n",
       "\tawesome\tint\n",
       "\n",
       "Rows: 183531\n",
       "\n",
       "Data:\n",
       "+-------------------------------+-------------------------------+--------+\n",
       "|              name             |             review            | rating |\n",
       "+-------------------------------+-------------------------------+--------+\n",
       "|    Planetwise Flannel Wipes   | These flannel wipes are OK... |  3.0   |\n",
       "|     Planetwise Wipe Pouch     | it came early and was not ... |  5.0   |\n",
       "| Annas Dream Full Quilt wit... | Very soft and comfortable ... |  5.0   |\n",
       "| Stop Pacifier Sucking with... | This is a product well wor... |  5.0   |\n",
       "| Stop Pacifier Sucking with... | All of my kids have cried ... |  5.0   |\n",
       "| Stop Pacifier Sucking with... | When the Binky Fairy came ... |  5.0   |\n",
       "| A Tale of Baby's Days with... | Lovely book, it's bound ti... |  4.0   |\n",
       "| Baby Tracker&reg; - Daily ... | Perfect for new parents. W... |  5.0   |\n",
       "| Baby Tracker&reg; - Daily ... | A friend of mine pinned th... |  5.0   |\n",
       "| Baby Tracker&reg; - Daily ... | This has been an easy way ... |  4.0   |\n",
       "+-------------------------------+-------------------------------+--------+\n",
       "+-------------------------------+---------+\n",
       "|           word_count          | awesome |\n",
       "+-------------------------------+---------+\n",
       "| {'and': 5L, 'stink': 1L, '... |    0    |\n",
       "| {'and': 3L, 'love': 1L, 'i... |    0    |\n",
       "| {'and': 2L, 'quilt': 1L, '... |    0    |\n",
       "| {'ingenious': 1L, 'and': 3... |    0    |\n",
       "| {'and': 2L, 'parents!!': 1... |    0    |\n",
       "| {'and': 2L, 'cute': 1L, 'h... |    0    |\n",
       "| {'shop': 1L, 'be': 1L, 'is... |    0    |\n",
       "| {'feeding,': 1L, 'and': 2L... |    0    |\n",
       "| {'and': 1L, 'help': 1L, 'g... |    0    |\n",
       "| {'journal.': 1L, 'all': 1L... |    0    |\n",
       "+-------------------------------+---------+\n",
       "[183531 rows x 5 columns]\n",
       "Note: Only the head of the SFrame is printed.\n",
       "You can use print_rows(num_rows=m, num_columns=n) to print more rows and columns."
      ]
     },
     "execution_count": 32,
     "metadata": {},
     "output_type": "execute_result"
    }
   ],
   "source": [
    "data.remove_column('and')"
   ]
  },
  {
   "cell_type": "code",
   "execution_count": 33,
   "metadata": {
    "collapsed": true
   },
   "outputs": [],
   "source": [
    "def awesome_count(diction,i):\n",
    "    if i in diction:\n",
    "        return diction[i]\n",
    "    else:\n",
    "        return 0"
   ]
  },
  {
   "cell_type": "code",
   "execution_count": 9,
   "metadata": {
    "collapsed": false
   },
   "outputs": [],
   "source": [
    "for word in selected_words:\n",
    "    data[word] = data['word_count'].apply(lambda counts:counts.get(word,0))"
   ]
  },
  {
   "cell_type": "code",
   "execution_count": 10,
   "metadata": {
    "collapsed": false
   },
   "outputs": [
    {
     "name": "stdout",
     "output_type": "stream",
     "text": [
      "+-------------------------------+-------------------------------+--------+\n",
      "|              name             |             review            | rating |\n",
      "+-------------------------------+-------------------------------+--------+\n",
      "|    Planetwise Flannel Wipes   | These flannel wipes are OK... |  3.0   |\n",
      "|     Planetwise Wipe Pouch     | it came early and was not ... |  5.0   |\n",
      "| Annas Dream Full Quilt wit... | Very soft and comfortable ... |  5.0   |\n",
      "| Stop Pacifier Sucking with... | This is a product well wor... |  5.0   |\n",
      "| Stop Pacifier Sucking with... | All of my kids have cried ... |  5.0   |\n",
      "| Stop Pacifier Sucking with... | When the Binky Fairy came ... |  5.0   |\n",
      "| A Tale of Baby's Days with... | Lovely book, it's bound ti... |  4.0   |\n",
      "| Baby Tracker&reg; - Daily ... | Perfect for new parents. W... |  5.0   |\n",
      "| Baby Tracker&reg; - Daily ... | A friend of mine pinned th... |  5.0   |\n",
      "| Baby Tracker&reg; - Daily ... | This has been an easy way ... |  4.0   |\n",
      "+-------------------------------+-------------------------------+--------+\n",
      "+-------------------------------+---------+-------+-----------+---------+------+\n",
      "|           word_count          | awesome | great | fantastic | amazing | love |\n",
      "+-------------------------------+---------+-------+-----------+---------+------+\n",
      "| {'and': 5L, 'stink': 1L, '... |    0    |   0   |     0     |    0    |  0   |\n",
      "| {'and': 3L, 'love': 1L, 'i... |    0    |   0   |     0     |    0    |  1   |\n",
      "| {'and': 2L, 'quilt': 1L, '... |    0    |   0   |     0     |    0    |  0   |\n",
      "| {'ingenious': 1L, 'and': 3... |    0    |   0   |     0     |    0    |  2   |\n",
      "| {'and': 2L, 'parents!!': 1... |    0    |   1   |     0     |    0    |  0   |\n",
      "| {'and': 2L, 'cute': 1L, 'h... |    0    |   1   |     0     |    0    |  0   |\n",
      "| {'shop': 1L, 'be': 1L, 'is... |    0    |   0   |     0     |    0    |  0   |\n",
      "| {'feeding,': 1L, 'and': 2L... |    0    |   0   |     0     |    0    |  0   |\n",
      "| {'and': 1L, 'help': 1L, 'g... |    0    |   0   |     0     |    0    |  0   |\n",
      "| {'journal.': 1L, 'all': 1L... |    0    |   0   |     0     |    0    |  0   |\n",
      "+-------------------------------+---------+-------+-----------+---------+------+\n",
      "+----------+-----+----------+-------+-----+------+\n",
      "| horrible | bad | terrible | awful | wow | hate |\n",
      "+----------+-----+----------+-------+-----+------+\n",
      "|    0     |  0  |    0     |   0   |  0  |  0   |\n",
      "|    0     |  0  |    0     |   0   |  0  |  0   |\n",
      "|    0     |  0  |    0     |   0   |  0  |  0   |\n",
      "|    0     |  0  |    0     |   0   |  0  |  0   |\n",
      "|    0     |  0  |    0     |   0   |  0  |  0   |\n",
      "|    0     |  0  |    0     |   0   |  0  |  0   |\n",
      "|    0     |  0  |    0     |   0   |  0  |  0   |\n",
      "|    0     |  0  |    0     |   0   |  0  |  0   |\n",
      "|    0     |  0  |    0     |   0   |  0  |  0   |\n",
      "|    0     |  0  |    0     |   0   |  0  |  0   |\n",
      "+----------+-----+----------+-------+-----+------+\n",
      "[10 rows x 15 columns]\n",
      "\n"
     ]
    }
   ],
   "source": [
    "print data.head()"
   ]
  },
  {
   "cell_type": "code",
   "execution_count": 11,
   "metadata": {
    "collapsed": false
   },
   "outputs": [
    {
     "name": "stdout",
     "output_type": "stream",
     "text": [
      "2090\n",
      "45206\n",
      "932\n",
      "1363\n",
      "42065\n",
      "734\n",
      "3724\n",
      "748\n",
      "383\n",
      "144\n",
      "1220\n"
     ]
    }
   ],
   "source": [
    "for i in selected_words:\n",
    "    print data[i].sum()"
   ]
  },
  {
   "cell_type": "code",
   "execution_count": 7,
   "metadata": {
    "collapsed": false
   },
   "outputs": [
    {
     "name": "stdout",
     "output_type": "stream",
     "text": [
      "['awesome', 'great', 'fantastic', 'amazing', 'love', 'horrible', 'bad', 'terrible', 'awful', 'wow', 'hate']\n"
     ]
    }
   ],
   "source": [
    "print selected_words"
   ]
  },
  {
   "cell_type": "code",
   "execution_count": 26,
   "metadata": {
    "collapsed": false
   },
   "outputs": [
    {
     "name": "stdout",
     "output_type": "stream",
     "text": [
      "42420\n"
     ]
    }
   ],
   "source": [
    "print data['great'].sum()"
   ]
  },
  {
   "cell_type": "code",
   "execution_count": 16,
   "metadata": {
    "collapsed": false
   },
   "outputs": [],
   "source": [
    "train_data,test_data = data.random_split(.8, seed=0)"
   ]
  },
  {
   "cell_type": "code",
   "execution_count": 17,
   "metadata": {
    "collapsed": true
   },
   "outputs": [],
   "source": [
    "features=selected_words"
   ]
  },
  {
   "cell_type": "code",
   "execution_count": 13,
   "metadata": {
    "collapsed": false
   },
   "outputs": [],
   "source": [
    "data = data[data['rating']!=3]"
   ]
  },
  {
   "cell_type": "code",
   "execution_count": 14,
   "metadata": {
    "collapsed": true
   },
   "outputs": [],
   "source": [
    "data['sentiment'] = data['rating']>=4"
   ]
  },
  {
   "cell_type": "code",
   "execution_count": 15,
   "metadata": {
    "collapsed": false
   },
   "outputs": [
    {
     "name": "stdout",
     "output_type": "stream",
     "text": [
      "+-------------------------------+-------------------------------+--------+\n",
      "|              name             |             review            | rating |\n",
      "+-------------------------------+-------------------------------+--------+\n",
      "|     Planetwise Wipe Pouch     | it came early and was not ... |  5.0   |\n",
      "| Annas Dream Full Quilt wit... | Very soft and comfortable ... |  5.0   |\n",
      "| Stop Pacifier Sucking with... | This is a product well wor... |  5.0   |\n",
      "| Stop Pacifier Sucking with... | All of my kids have cried ... |  5.0   |\n",
      "| Stop Pacifier Sucking with... | When the Binky Fairy came ... |  5.0   |\n",
      "| A Tale of Baby's Days with... | Lovely book, it's bound ti... |  4.0   |\n",
      "| Baby Tracker&reg; - Daily ... | Perfect for new parents. W... |  5.0   |\n",
      "| Baby Tracker&reg; - Daily ... | A friend of mine pinned th... |  5.0   |\n",
      "| Baby Tracker&reg; - Daily ... | This has been an easy way ... |  4.0   |\n",
      "| Baby Tracker&reg; - Daily ... | I love this journal and ou... |  4.0   |\n",
      "+-------------------------------+-------------------------------+--------+\n",
      "+-------------------------------+---------+-------+-----------+---------+------+\n",
      "|           word_count          | awesome | great | fantastic | amazing | love |\n",
      "+-------------------------------+---------+-------+-----------+---------+------+\n",
      "| {'and': 3L, 'love': 1L, 'i... |    0    |   0   |     0     |    0    |  1   |\n",
      "| {'and': 2L, 'quilt': 1L, '... |    0    |   0   |     0     |    0    |  0   |\n",
      "| {'ingenious': 1L, 'and': 3... |    0    |   0   |     0     |    0    |  2   |\n",
      "| {'and': 2L, 'parents!!': 1... |    0    |   1   |     0     |    0    |  0   |\n",
      "| {'and': 2L, 'cute': 1L, 'h... |    0    |   1   |     0     |    0    |  0   |\n",
      "| {'shop': 1L, 'be': 1L, 'is... |    0    |   0   |     0     |    0    |  0   |\n",
      "| {'feeding,': 1L, 'and': 2L... |    0    |   0   |     0     |    0    |  0   |\n",
      "| {'and': 1L, 'help': 1L, 'g... |    0    |   0   |     0     |    0    |  0   |\n",
      "| {'journal.': 1L, 'all': 1L... |    0    |   0   |     0     |    0    |  0   |\n",
      "| {'all': 1L, 'forget': 1L, ... |    0    |   0   |     0     |    0    |  2   |\n",
      "+-------------------------------+---------+-------+-----------+---------+------+\n",
      "+----------+-----+----------+-------+-----+------+-----------+\n",
      "| horrible | bad | terrible | awful | wow | hate | sentiment |\n",
      "+----------+-----+----------+-------+-----+------+-----------+\n",
      "|    0     |  0  |    0     |   0   |  0  |  0   |     1     |\n",
      "|    0     |  0  |    0     |   0   |  0  |  0   |     1     |\n",
      "|    0     |  0  |    0     |   0   |  0  |  0   |     1     |\n",
      "|    0     |  0  |    0     |   0   |  0  |  0   |     1     |\n",
      "|    0     |  0  |    0     |   0   |  0  |  0   |     1     |\n",
      "|    0     |  0  |    0     |   0   |  0  |  0   |     1     |\n",
      "|    0     |  0  |    0     |   0   |  0  |  0   |     1     |\n",
      "|    0     |  0  |    0     |   0   |  0  |  0   |     1     |\n",
      "|    0     |  0  |    0     |   0   |  0  |  0   |     1     |\n",
      "|    0     |  0  |    0     |   0   |  0  |  0   |     1     |\n",
      "+----------+-----+----------+-------+-----+------+-----------+\n",
      "[10 rows x 16 columns]\n",
      "\n"
     ]
    }
   ],
   "source": [
    "print data.head()"
   ]
  },
  {
   "cell_type": "code",
   "execution_count": 18,
   "metadata": {
    "collapsed": false
   },
   "outputs": [
    {
     "data": {
      "text/html": [
       "<pre>Logistic regression:</pre>"
      ],
      "text/plain": [
       "Logistic regression:"
      ]
     },
     "metadata": {},
     "output_type": "display_data"
    },
    {
     "data": {
      "text/html": [
       "<pre>--------------------------------------------------------</pre>"
      ],
      "text/plain": [
       "--------------------------------------------------------"
      ]
     },
     "metadata": {},
     "output_type": "display_data"
    },
    {
     "data": {
      "text/html": [
       "<pre>Number of examples          : 133448</pre>"
      ],
      "text/plain": [
       "Number of examples          : 133448"
      ]
     },
     "metadata": {},
     "output_type": "display_data"
    },
    {
     "data": {
      "text/html": [
       "<pre>Number of classes           : 2</pre>"
      ],
      "text/plain": [
       "Number of classes           : 2"
      ]
     },
     "metadata": {},
     "output_type": "display_data"
    },
    {
     "data": {
      "text/html": [
       "<pre>Number of feature columns   : 11</pre>"
      ],
      "text/plain": [
       "Number of feature columns   : 11"
      ]
     },
     "metadata": {},
     "output_type": "display_data"
    },
    {
     "data": {
      "text/html": [
       "<pre>Number of unpacked features : 11</pre>"
      ],
      "text/plain": [
       "Number of unpacked features : 11"
      ]
     },
     "metadata": {},
     "output_type": "display_data"
    },
    {
     "data": {
      "text/html": [
       "<pre>Number of coefficients    : 12</pre>"
      ],
      "text/plain": [
       "Number of coefficients    : 12"
      ]
     },
     "metadata": {},
     "output_type": "display_data"
    },
    {
     "data": {
      "text/html": [
       "<pre>Starting Newton Method</pre>"
      ],
      "text/plain": [
       "Starting Newton Method"
      ]
     },
     "metadata": {},
     "output_type": "display_data"
    },
    {
     "data": {
      "text/html": [
       "<pre>--------------------------------------------------------</pre>"
      ],
      "text/plain": [
       "--------------------------------------------------------"
      ]
     },
     "metadata": {},
     "output_type": "display_data"
    },
    {
     "data": {
      "text/html": [
       "<pre>+-----------+----------+--------------+-------------------+---------------------+</pre>"
      ],
      "text/plain": [
       "+-----------+----------+--------------+-------------------+---------------------+"
      ]
     },
     "metadata": {},
     "output_type": "display_data"
    },
    {
     "data": {
      "text/html": [
       "<pre>| Iteration | Passes   | Elapsed Time | Training-accuracy | Validation-accuracy |</pre>"
      ],
      "text/plain": [
       "| Iteration | Passes   | Elapsed Time | Training-accuracy | Validation-accuracy |"
      ]
     },
     "metadata": {},
     "output_type": "display_data"
    },
    {
     "data": {
      "text/html": [
       "<pre>+-----------+----------+--------------+-------------------+---------------------+</pre>"
      ],
      "text/plain": [
       "+-----------+----------+--------------+-------------------+---------------------+"
      ]
     },
     "metadata": {},
     "output_type": "display_data"
    },
    {
     "data": {
      "text/html": [
       "<pre>| 1         | 2        | 1.258667     | 0.844299          | 0.842842            |</pre>"
      ],
      "text/plain": [
       "| 1         | 2        | 1.258667     | 0.844299          | 0.842842            |"
      ]
     },
     "metadata": {},
     "output_type": "display_data"
    },
    {
     "data": {
      "text/html": [
       "<pre>| 2         | 3        | 1.407571     | 0.844186          | 0.842842            |</pre>"
      ],
      "text/plain": [
       "| 2         | 3        | 1.407571     | 0.844186          | 0.842842            |"
      ]
     },
     "metadata": {},
     "output_type": "display_data"
    },
    {
     "data": {
      "text/html": [
       "<pre>| 3         | 4        | 1.547236     | 0.844276          | 0.843142            |</pre>"
      ],
      "text/plain": [
       "| 3         | 4        | 1.547236     | 0.844276          | 0.843142            |"
      ]
     },
     "metadata": {},
     "output_type": "display_data"
    },
    {
     "data": {
      "text/html": [
       "<pre>| 4         | 5        | 1.688675     | 0.844269          | 0.843142            |</pre>"
      ],
      "text/plain": [
       "| 4         | 5        | 1.688675     | 0.844269          | 0.843142            |"
      ]
     },
     "metadata": {},
     "output_type": "display_data"
    },
    {
     "data": {
      "text/html": [
       "<pre>| 5         | 6        | 1.892807     | 0.844269          | 0.843142            |</pre>"
      ],
      "text/plain": [
       "| 5         | 6        | 1.892807     | 0.844269          | 0.843142            |"
      ]
     },
     "metadata": {},
     "output_type": "display_data"
    },
    {
     "data": {
      "text/html": [
       "<pre>| 6         | 7        | 2.091335     | 0.844269          | 0.843142            |</pre>"
      ],
      "text/plain": [
       "| 6         | 7        | 2.091335     | 0.844269          | 0.843142            |"
      ]
     },
     "metadata": {},
     "output_type": "display_data"
    },
    {
     "data": {
      "text/html": [
       "<pre>+-----------+----------+--------------+-------------------+---------------------+</pre>"
      ],
      "text/plain": [
       "+-----------+----------+--------------+-------------------+---------------------+"
      ]
     },
     "metadata": {},
     "output_type": "display_data"
    },
    {
     "data": {
      "text/html": [
       "<pre>SUCCESS: Optimal solution found.</pre>"
      ],
      "text/plain": [
       "SUCCESS: Optimal solution found."
      ]
     },
     "metadata": {},
     "output_type": "display_data"
    },
    {
     "data": {
      "text/html": [
       "<pre></pre>"
      ],
      "text/plain": []
     },
     "metadata": {},
     "output_type": "display_data"
    }
   ],
   "source": [
    "log_model = gl.logistic_classifier.create(train_data,target='sentiment',validation_set=test_data,features=selected_words)"
   ]
  },
  {
   "cell_type": "code",
   "execution_count": 25,
   "metadata": {
    "collapsed": false
   },
   "outputs": [
    {
     "name": "stdout",
     "output_type": "stream",
     "text": [
      "+-----------+-------+-------+------------------+-----------------+\n",
      "|    name   | index | class |      value       |      stderr     |\n",
      "+-----------+-------+-------+------------------+-----------------+\n",
      "|  terrible |  None |   1   |  -2.09049998487  | 0.0967241912229 |\n",
      "|  horrible |  None |   1   |  -1.99651800559  | 0.0973584169028 |\n",
      "|   awful   |  None |   1   |  -1.76469955631  |  0.134679803365 |\n",
      "|    hate   |  None |   1   |  -1.40916406276  | 0.0771983993506 |\n",
      "|    bad    |  None |   1   | -0.985827369929  | 0.0433603009142 |\n",
      "|    wow    |  None |   1   | -0.0541450123333 |  0.275616449416 |\n",
      "|   great   |  None |   1   |  0.883937894898  | 0.0217379527921 |\n",
      "| fantastic |  None |   1   |  0.891303090304  |  0.154532343591 |\n",
      "|  amazing  |  None |   1   |  0.892802422508  |  0.127989503231 |\n",
      "|  awesome  |  None |   1   |  1.05800888878   |  0.110865296265 |\n",
      "+-----------+-------+-------+------------------+-----------------+\n",
      "[12 rows x 5 columns]\n",
      "Note: Only the head of the SFrame is printed.\n",
      "You can use print_rows(num_rows=m, num_columns=n) to print more rows and columns.\n"
     ]
    }
   ],
   "source": [
    "print log_model['coefficients'].sort('value')"
   ]
  },
  {
   "cell_type": "code",
   "execution_count": 28,
   "metadata": {
    "collapsed": false
   },
   "outputs": [
    {
     "name": "stdout",
     "output_type": "stream",
     "text": [
      "+-------------+-------+-------+------------------+------------------+\n",
      "|     name    | index | class |      value       |      stderr      |\n",
      "+-------------+-------+-------+------------------+------------------+\n",
      "|     love    |  None |   1   |  1.39989834302   | 0.0287147460124  |\n",
      "| (intercept) |  None |   1   |  1.36728315229   | 0.00861805467824 |\n",
      "|   awesome   |  None |   1   |  1.05800888878   |  0.110865296265  |\n",
      "|   amazing   |  None |   1   |  0.892802422508  |  0.127989503231  |\n",
      "|  fantastic  |  None |   1   |  0.891303090304  |  0.154532343591  |\n",
      "|    great    |  None |   1   |  0.883937894898  | 0.0217379527921  |\n",
      "|     wow     |  None |   1   | -0.0541450123333 |  0.275616449416  |\n",
      "|     bad     |  None |   1   | -0.985827369929  | 0.0433603009142  |\n",
      "|     hate    |  None |   1   |  -1.40916406276  | 0.0771983993506  |\n",
      "|    awful    |  None |   1   |  -1.76469955631  |  0.134679803365  |\n",
      "+-------------+-------+-------+------------------+------------------+\n",
      "[12 rows x 5 columns]\n",
      "Note: Only the head of the SFrame is printed.\n",
      "You can use print_rows(num_rows=m, num_columns=n) to print more rows and columns.\n"
     ]
    }
   ],
   "source": [
    "print log_model['coefficients'].sort('value',ascending = False)"
   ]
  },
  {
   "cell_type": "code",
   "execution_count": 19,
   "metadata": {
    "collapsed": false
   },
   "outputs": [
    {
     "data": {
      "text/plain": [
       "{'accuracy': 0.8431419649291376,\n",
       " 'auc': 0.6648096413721418,\n",
       " 'confusion_matrix': Columns:\n",
       " \ttarget_label\tint\n",
       " \tpredicted_label\tint\n",
       " \tcount\tint\n",
       " \n",
       " Rows: 4\n",
       " \n",
       " Data:\n",
       " +--------------+-----------------+-------+\n",
       " | target_label | predicted_label | count |\n",
       " +--------------+-----------------+-------+\n",
       " |      0       |        0        |  234  |\n",
       " |      1       |        0        |  130  |\n",
       " |      0       |        1        |  5094 |\n",
       " |      1       |        1        | 27846 |\n",
       " +--------------+-----------------+-------+\n",
       " [4 rows x 3 columns],\n",
       " 'f1_score': 0.914242563530107,\n",
       " 'log_loss': 0.405474711036565,\n",
       " 'precision': 0.8453551912568306,\n",
       " 'recall': 0.9953531598513011,\n",
       " 'roc_curve': Columns:\n",
       " \tthreshold\tfloat\n",
       " \tfpr\tfloat\n",
       " \ttpr\tfloat\n",
       " \tp\tint\n",
       " \tn\tint\n",
       " \n",
       " Rows: 100001\n",
       " \n",
       " Data:\n",
       " +-----------+-----+-----+-------+------+\n",
       " | threshold | fpr | tpr |   p   |  n   |\n",
       " +-----------+-----+-----+-------+------+\n",
       " |    0.0    | 1.0 | 1.0 | 27976 | 5328 |\n",
       " |   1e-05   | 1.0 | 1.0 | 27976 | 5328 |\n",
       " |   2e-05   | 1.0 | 1.0 | 27976 | 5328 |\n",
       " |   3e-05   | 1.0 | 1.0 | 27976 | 5328 |\n",
       " |   4e-05   | 1.0 | 1.0 | 27976 | 5328 |\n",
       " |   5e-05   | 1.0 | 1.0 | 27976 | 5328 |\n",
       " |   6e-05   | 1.0 | 1.0 | 27976 | 5328 |\n",
       " |   7e-05   | 1.0 | 1.0 | 27976 | 5328 |\n",
       " |   8e-05   | 1.0 | 1.0 | 27976 | 5328 |\n",
       " |   9e-05   | 1.0 | 1.0 | 27976 | 5328 |\n",
       " +-----------+-----+-----+-------+------+\n",
       " [100001 rows x 5 columns]\n",
       " Note: Only the head of the SFrame is printed.\n",
       " You can use print_rows(num_rows=m, num_columns=n) to print more rows and columns.}"
      ]
     },
     "execution_count": 19,
     "metadata": {},
     "output_type": "execute_result"
    }
   ],
   "source": [
    "log_model.evaluate(test_data)"
   ]
  },
  {
   "cell_type": "code",
   "execution_count": 21,
   "metadata": {
    "collapsed": false
   },
   "outputs": [
    {
     "name": "stdout",
     "output_type": "stream",
     "text": [
      "0.843141964929\n"
     ]
    }
   ],
   "source": [
    "print float(27846+234)/(27846+130+5094+234)"
   ]
  },
  {
   "cell_type": "code",
   "execution_count": 22,
   "metadata": {
    "collapsed": true
   },
   "outputs": [],
   "source": [
    "diaper_champ_reviews= data[data['name']=='Baby Trend Diaper Champ']"
   ]
  },
  {
   "cell_type": "code",
   "execution_count": 40,
   "metadata": {
    "collapsed": true
   },
   "outputs": [],
   "source": [
    "diaper_champ_reviews['predicted_sentiment'] = sentiment_model.predict(diaper_champ_reviews,output_type='probability')"
   ]
  },
  {
   "cell_type": "code",
   "execution_count": 41,
   "metadata": {
    "collapsed": true
   },
   "outputs": [],
   "source": [
    "diaper_champ_reviews = diaper_champ_reviews.sort('predicted_sentiment',ascending=False)"
   ]
  },
  {
   "cell_type": "code",
   "execution_count": 42,
   "metadata": {
    "collapsed": false
   },
   "outputs": [
    {
     "name": "stdout",
     "output_type": "stream",
     "text": [
      "Baby Luke can turn a clean diaper to a dirty diaper in 3 seconds flat. The diaper champ turns the smelly diaper into \"what diaper smell\" in less time than that. I hesitated and wondered what I REALLY needed for the nursery. This is one of the best purchases we made. The champ, the baby bjorn, fluerville diaper bag, and graco pack and play bassinet all vie for the best baby purchase.Great product, easy to use, economical, effective, absolutly fabulous.UpdateI knew that I loved the champ, and useing the diaper genie at a friend's house REALLY reinforced that!! There is no comparison, the chanp is easy and smell free, the genie was difficult to use one handed (which is absolutly vital if you have a little one on a changing pad) and there was a deffinite odor eminating from the genieplus we found that the quick tie garbage bags where the ties are integrated into the bag work really well because there isn't any added bulk around the sealing edge of the champ.\n"
     ]
    }
   ],
   "source": [
    "print diaper_champ_reviews[0]['review']"
   ]
  },
  {
   "cell_type": "code",
   "execution_count": 43,
   "metadata": {
    "collapsed": false
   },
   "outputs": [
    {
     "data": {
      "text/plain": [
       "dtype: float\n",
       "Rows: 1\n",
       "[0.9999999372669541]"
      ]
     },
     "execution_count": 43,
     "metadata": {},
     "output_type": "execute_result"
    }
   ],
   "source": [
    "sentiment_model.predict(diaper_champ_reviews[0:1], output_type='probability')"
   ]
  },
  {
   "cell_type": "code",
   "execution_count": 35,
   "metadata": {
    "collapsed": false
   },
   "outputs": [
    {
     "name": "stdout",
     "output_type": "stream",
     "text": [
      "+-------------------------+-------------------------------+--------+\n",
      "|           name          |             review            | rating |\n",
      "+-------------------------+-------------------------------+--------+\n",
      "| Baby Trend Diaper Champ | I LOVE LOVE LOVE this prod... |  4.0   |\n",
      "+-------------------------+-------------------------------+--------+\n",
      "+-------------------------------+---------+-------+-----------+---------+------+\n",
      "|           word_count          | awesome | great | fantastic | amazing | love |\n",
      "+-------------------------------+---------+-------+-----------+---------+------+\n",
      "| {'rating': 1L, 'contacted'... |    0    |   1   |     0     |    0    |  3   |\n",
      "+-------------------------------+---------+-------+-----------+---------+------+\n",
      "+----------+-----+----------+-------+-----+------+-----------+---------------------+\n",
      "| horrible | bad | terrible | awful | wow | hate | sentiment | predicted_sentiment |\n",
      "+----------+-----+----------+-------+-----+------+-----------+---------------------+\n",
      "|    0     |  0  |    0     |   0   |  0  |  0   |     1     |    0.998423414594   |\n",
      "+----------+-----+----------+-------+-----+------+-----------+---------------------+\n",
      "[1 rows x 17 columns]\n",
      "\n"
     ]
    }
   ],
   "source": [
    "print diaper_champ_reviews[0:1]\n"
   ]
  },
  {
   "cell_type": "code",
   "execution_count": 38,
   "metadata": {
    "collapsed": false
   },
   "outputs": [
    {
     "ename": "SyntaxError",
     "evalue": "invalid syntax (<ipython-input-38-3b52494c8a02>, line 1)",
     "output_type": "error",
     "traceback": [
      "\u001b[1;36m  File \u001b[1;32m\"<ipython-input-38-3b52494c8a02>\"\u001b[1;36m, line \u001b[1;32m1\u001b[0m\n\u001b[1;33m    a = \"For my first child, we tried a variety of toy teethers with no luck.  The only thing that worked was frozen fruit in theMunchkin 2 Pack Fresh Food Feeder, Colors May VaryandHyland's Homeopathic Teething Tablets 100% Natural Symptomatic Relief for Teething in Children 135 Tablets. Tylenol and cold facecloths were not as effective for us.For the second baby (boy), I coughed up the money for Vulli's Sophie Giraffe + Chan Pie Gnon set as all of my friends raved about how much their babies (all female) loved Sophie.  I also picked up the toy tether from Nordstroms ($12) as I sure as heck wasn't going to lose that expensive giraffe.Well, my son and Sophie are not a match made in heaven at 4-5 months.  He likes to look at it and that's about it.  At 5 months he has one tooth and has developed a fierce affection for Chan Pie Gnon -- aka \"mushroom head\".  His second favorites are the Eric Carle caterpillar teether and a frozen banana in the Munchkin mesh bag teether.  The caterpillar teether worked best pre-tooth, and the Munchkin mesh bag is helpful now that we've started foods.  (Sassy also makes a mesh bag teether which has a cover; however, it's more expensive, more difficult to take apart and harder for my baby to hold).Sophie, while cute, proved to be a bit too difficult for my son to hold and get a good chomp on -- at least at this point.  It requires more fine motor skills and squeaks when the body is squeezed.  My preschooler is much more intrigued by Sophie than the infant.  He dangles it in front of the baby so it's become more of an eye tracking item.  I suspect that Sophie may work better later on once fine motor skills are improved.Chan Pie Gnon, on the other hand, is heaven-sent.  (We affectionately call it \"mushroom head\" because it looks like a mutant mushroom and it sounds better than \"giant nipple with a smiley face\").  It's much more flexible and squeaky in multiple ways.  You can hold the body and shake it to make the head wiggle like crazy, squeaking up a storm (equivalent to a dog squeaky toy) as well as just squeaking the body.  Yes, it may drive you bonkers if an older child learns to wiggle it and you can't tune it out; it's a higher pitched squeak than Sophie.  However, right now, baby chomps on it with barely a squeak heard.  The head is like a giant rounded nipple (maybe 1/4 - 1/2\" depth?), his face is easy to get a chomp on from the side, and the body is extremely easy to grasp for 4+ months (we've passed the 'hands to midline' developmental step).  And, there's something about the dorky smile that makes my son smile whenever he sees it... right before shoving the side of the head in his mouth.  My baby has an easier time holding it which means it gets dropped a lot less frequently.  And, it's easy to clean.  I would definitely recommend this teether (as long as you can get it under $16).***UPDATE: After a growth spurt and improved motor skills, Chan is still the favorite and Sophie is getting a little more attention.  Chan seems to work best in lieu of a pacifier (aka binky, fooler, lovey) and for front chewing.  Sophie's legs work great for chewing on the back gums.  Despite active use, both clean up nicely after usage and drops, and they look brand new.  We're managing well just using Chan, Sophie and frozen fruit (firmer fruit) in theMunchkin 2 Pack Fresh Food Feeder, Colors May Vary.  We use theHyland's Homeopathic Teething Tablets 100% Natural Symptomatic Relief for Teething in Children 135 Tablets(teeny pills that dissolve fast) for more dire needs.*Pet Note: We finally had an incident where a visiting dog did attempt to abduct Chan after seeing it and hearing it squeak.  Sophie, however, was left alone.\"\"\u001b[0m\n\u001b[1;37m                                                                                                                                                                                                                                                                                                                                                                                                                                                                                                                                                                                                                                                                                                                                                                                                                                                                                          ^\u001b[0m\n\u001b[1;31mSyntaxError\u001b[0m\u001b[1;31m:\u001b[0m invalid syntax\n"
     ]
    }
   ],
   "source": [
    "a = \"For my first child, we tried a variety of toy teethers with no luck.  The only thing that worked was frozen fruit in theMunchkin 2 Pack Fresh Food Feeder, Colors May VaryandHyland's Homeopathic Teething Tablets 100% Natural Symptomatic Relief for Teething in Children 135 Tablets. Tylenol and cold facecloths were not as effective for us.For the second baby (boy), I coughed up the money for Vulli's Sophie Giraffe + Chan Pie Gnon set as all of my friends raved about how much their babies (all female) loved Sophie.  I also picked up the toy tether from Nordstroms ($12) as I sure as heck wasn't going to lose that expensive giraffe.Well, my son and Sophie are not a match made in heaven at 4-5 months.  He likes to look at it and that's about it.  At 5 months he has one tooth and has developed a fierce affection for Chan Pie Gnon -- aka \"mushroom head\".  His second favorites are the Eric Carle caterpillar teether and a frozen banana in the Munchkin mesh bag teether.  The caterpillar teether worked best pre-tooth, and the Munchkin mesh bag is helpful now that we've started foods.  (Sassy also makes a mesh bag teether which has a cover; however, it's more expensive, more difficult to take apart and harder for my baby to hold).Sophie, while cute, proved to be a bit too difficult for my son to hold and get a good chomp on -- at least at this point.  It requires more fine motor skills and squeaks when the body is squeezed.  My preschooler is much more intrigued by Sophie than the infant.  He dangles it in front of the baby so it's become more of an eye tracking item.  I suspect that Sophie may work better later on once fine motor skills are improved.Chan Pie Gnon, on the other hand, is heaven-sent.  (We affectionately call it \"mushroom head\" because it looks like a mutant mushroom and it sounds better than \"giant nipple with a smiley face\").  It's much more flexible and squeaky in multiple ways.  You can hold the body and shake it to make the head wiggle like crazy, squeaking up a storm (equivalent to a dog squeaky toy) as well as just squeaking the body.  Yes, it may drive you bonkers if an older child learns to wiggle it and you can't tune it out; it's a higher pitched squeak than Sophie.  However, right now, baby chomps on it with barely a squeak heard.  The head is like a giant rounded nipple (maybe 1/4 - 1/2\" depth?), his face is easy to get a chomp on from the side, and the body is extremely easy to grasp for 4+ months (we've passed the 'hands to midline' developmental step).  And, there's something about the dorky smile that makes my son smile whenever he sees it... right before shoving the side of the head in his mouth.  My baby has an easier time holding it which means it gets dropped a lot less frequently.  And, it's easy to clean.  I would definitely recommend this teether (as long as you can get it under $16).***UPDATE: After a growth spurt and improved motor skills, Chan is still the favorite and Sophie is getting a little more attention.  Chan seems to work best in lieu of a pacifier (aka binky, fooler, lovey) and for front chewing.  Sophie's legs work great for chewing on the back gums.  Despite active use, both clean up nicely after usage and drops, and they look brand new.  We're managing well just using Chan, Sophie and frozen fruit (firmer fruit) in theMunchkin 2 Pack Fresh Food Feeder, Colors May Vary.  We use theHyland's Homeopathic Teething Tablets 100% Natural Symptomatic Relief for Teething in Children 135 Tablets(teeny pills that dissolve fast) for more dire needs.*Pet Note: We finally had an incident where a visiting dog did attempt to abduct Chan after seeing it and hearing it squeak.  Sophie, however, was left alone.\"\""
   ]
  },
  {
   "cell_type": "code",
   "execution_count": 39,
   "metadata": {
    "collapsed": false
   },
   "outputs": [
    {
     "data": {
      "text/html": [
       "<pre>WARNING: The number of feature dimensions in this problem is very large in comparison with the number of examples. Unless an appropriate regularization value is set, this model may not provide accurate predictions for a validation/test set.</pre>"
      ],
      "text/plain": [
       "WARNING: The number of feature dimensions in this problem is very large in comparison with the number of examples. Unless an appropriate regularization value is set, this model may not provide accurate predictions for a validation/test set."
      ]
     },
     "metadata": {},
     "output_type": "display_data"
    },
    {
     "data": {
      "text/html": [
       "<pre>Logistic regression:</pre>"
      ],
      "text/plain": [
       "Logistic regression:"
      ]
     },
     "metadata": {},
     "output_type": "display_data"
    },
    {
     "data": {
      "text/html": [
       "<pre>--------------------------------------------------------</pre>"
      ],
      "text/plain": [
       "--------------------------------------------------------"
      ]
     },
     "metadata": {},
     "output_type": "display_data"
    },
    {
     "data": {
      "text/html": [
       "<pre>Number of examples          : 133448</pre>"
      ],
      "text/plain": [
       "Number of examples          : 133448"
      ]
     },
     "metadata": {},
     "output_type": "display_data"
    },
    {
     "data": {
      "text/html": [
       "<pre>Number of classes           : 2</pre>"
      ],
      "text/plain": [
       "Number of classes           : 2"
      ]
     },
     "metadata": {},
     "output_type": "display_data"
    },
    {
     "data": {
      "text/html": [
       "<pre>Number of feature columns   : 1</pre>"
      ],
      "text/plain": [
       "Number of feature columns   : 1"
      ]
     },
     "metadata": {},
     "output_type": "display_data"
    },
    {
     "data": {
      "text/html": [
       "<pre>Number of unpacked features : 219217</pre>"
      ],
      "text/plain": [
       "Number of unpacked features : 219217"
      ]
     },
     "metadata": {},
     "output_type": "display_data"
    },
    {
     "data": {
      "text/html": [
       "<pre>Number of coefficients    : 219218</pre>"
      ],
      "text/plain": [
       "Number of coefficients    : 219218"
      ]
     },
     "metadata": {},
     "output_type": "display_data"
    },
    {
     "data": {
      "text/html": [
       "<pre>Starting L-BFGS</pre>"
      ],
      "text/plain": [
       "Starting L-BFGS"
      ]
     },
     "metadata": {},
     "output_type": "display_data"
    },
    {
     "data": {
      "text/html": [
       "<pre>--------------------------------------------------------</pre>"
      ],
      "text/plain": [
       "--------------------------------------------------------"
      ]
     },
     "metadata": {},
     "output_type": "display_data"
    },
    {
     "data": {
      "text/html": [
       "<pre>+-----------+----------+-----------+--------------+-------------------+---------------------+</pre>"
      ],
      "text/plain": [
       "+-----------+----------+-----------+--------------+-------------------+---------------------+"
      ]
     },
     "metadata": {},
     "output_type": "display_data"
    },
    {
     "data": {
      "text/html": [
       "<pre>| Iteration | Passes   | Step size | Elapsed Time | Training-accuracy | Validation-accuracy |</pre>"
      ],
      "text/plain": [
       "| Iteration | Passes   | Step size | Elapsed Time | Training-accuracy | Validation-accuracy |"
      ]
     },
     "metadata": {},
     "output_type": "display_data"
    },
    {
     "data": {
      "text/html": [
       "<pre>+-----------+----------+-----------+--------------+-------------------+---------------------+</pre>"
      ],
      "text/plain": [
       "+-----------+----------+-----------+--------------+-------------------+---------------------+"
      ]
     },
     "metadata": {},
     "output_type": "display_data"
    },
    {
     "data": {
      "text/html": [
       "<pre>| 1         | 5        | 0.000002  | 1.873642     | 0.841481          | 0.839989            |</pre>"
      ],
      "text/plain": [
       "| 1         | 5        | 0.000002  | 1.873642     | 0.841481          | 0.839989            |"
      ]
     },
     "metadata": {},
     "output_type": "display_data"
    },
    {
     "data": {
      "text/html": [
       "<pre>| 2         | 9        | 3.000000  | 4.217698     | 0.947425          | 0.894877            |</pre>"
      ],
      "text/plain": [
       "| 2         | 9        | 3.000000  | 4.217698     | 0.947425          | 0.894877            |"
      ]
     },
     "metadata": {},
     "output_type": "display_data"
    },
    {
     "data": {
      "text/html": [
       "<pre>| 3         | 10       | 3.000000  | 5.219862     | 0.923768          | 0.866232            |</pre>"
      ],
      "text/plain": [
       "| 3         | 10       | 3.000000  | 5.219862     | 0.923768          | 0.866232            |"
      ]
     },
     "metadata": {},
     "output_type": "display_data"
    },
    {
     "data": {
      "text/html": [
       "<pre>| 4         | 11       | 3.000000  | 6.087169     | 0.971779          | 0.912743            |</pre>"
      ],
      "text/plain": [
       "| 4         | 11       | 3.000000  | 6.087169     | 0.971779          | 0.912743            |"
      ]
     },
     "metadata": {},
     "output_type": "display_data"
    },
    {
     "data": {
      "text/html": [
       "<pre>| 5         | 12       | 3.000000  | 6.955478     | 0.975511          | 0.908900            |</pre>"
      ],
      "text/plain": [
       "| 5         | 12       | 3.000000  | 6.955478     | 0.975511          | 0.908900            |"
      ]
     },
     "metadata": {},
     "output_type": "display_data"
    },
    {
     "data": {
      "text/html": [
       "<pre>| 6         | 13       | 3.000000  | 7.604197     | 0.899991          | 0.825967            |</pre>"
      ],
      "text/plain": [
       "| 6         | 13       | 3.000000  | 7.604197     | 0.899991          | 0.825967            |"
      ]
     },
     "metadata": {},
     "output_type": "display_data"
    },
    {
     "data": {
      "text/html": [
       "<pre>| 7         | 15       | 1.000000  | 8.667116     | 0.984548          | 0.921451            |</pre>"
      ],
      "text/plain": [
       "| 7         | 15       | 1.000000  | 8.667116     | 0.984548          | 0.921451            |"
      ]
     },
     "metadata": {},
     "output_type": "display_data"
    },
    {
     "data": {
      "text/html": [
       "<pre>| 8         | 16       | 1.000000  | 9.312834     | 0.985118          | 0.921871            |</pre>"
      ],
      "text/plain": [
       "| 8         | 16       | 1.000000  | 9.312834     | 0.985118          | 0.921871            |"
      ]
     },
     "metadata": {},
     "output_type": "display_data"
    },
    {
     "data": {
      "text/html": [
       "<pre>| 9         | 17       | 1.000000  | 9.976628     | 0.987066          | 0.919709            |</pre>"
      ],
      "text/plain": [
       "| 9         | 17       | 1.000000  | 9.976628     | 0.987066          | 0.919709            |"
      ]
     },
     "metadata": {},
     "output_type": "display_data"
    },
    {
     "data": {
      "text/html": [
       "<pre>| 10        | 18       | 1.000000  | 10.603796    | 0.988715          | 0.916256            |</pre>"
      ],
      "text/plain": [
       "| 10        | 18       | 1.000000  | 10.603796    | 0.988715          | 0.916256            |"
      ]
     },
     "metadata": {},
     "output_type": "display_data"
    },
    {
     "data": {
      "text/html": [
       "<pre>+-----------+----------+-----------+--------------+-------------------+---------------------+</pre>"
      ],
      "text/plain": [
       "+-----------+----------+-----------+--------------+-------------------+---------------------+"
      ]
     },
     "metadata": {},
     "output_type": "display_data"
    },
    {
     "data": {
      "text/html": [
       "<pre>TERMINATED: Iteration limit reached.</pre>"
      ],
      "text/plain": [
       "TERMINATED: Iteration limit reached."
      ]
     },
     "metadata": {},
     "output_type": "display_data"
    },
    {
     "data": {
      "text/html": [
       "<pre>This model may not be optimal. To improve it, consider increasing `max_iterations`.</pre>"
      ],
      "text/plain": [
       "This model may not be optimal. To improve it, consider increasing `max_iterations`."
      ]
     },
     "metadata": {},
     "output_type": "display_data"
    }
   ],
   "source": [
    "sentiment_model = gl.logistic_classifier.create(train_data,target='sentiment',\n",
    "                                                     features=['word_count'],\n",
    "                                                     validation_set=test_data)"
   ]
  },
  {
   "cell_type": "code",
   "execution_count": 51,
   "metadata": {
    "collapsed": false
   },
   "outputs": [
    {
     "name": "stdout",
     "output_type": "stream",
     "text": [
      "[0.796940851290671]\n"
     ]
    }
   ],
   "source": [
    "print log_model.predict(diaper_champ_reviews[0:1],output_type='probability')"
   ]
  },
  {
   "cell_type": "code",
   "execution_count": 45,
   "metadata": {
    "collapsed": false
   },
   "outputs": [
    {
     "data": {
      "text/plain": [
       "{'amazing': 0L,\n",
       " 'awesome': 0L,\n",
       " 'awful': 0L,\n",
       " 'bad': 0L,\n",
       " 'fantastic': 0L,\n",
       " 'great': 0L,\n",
       " 'hate': 0L,\n",
       " 'horrible': 0L,\n",
       " 'love': 0L,\n",
       " 'name': 'Baby Trend Diaper Champ',\n",
       " 'predicted_sentiment': 0.9999999372669541,\n",
       " 'rating': 5.0,\n",
       " 'review': 'Baby Luke can turn a clean diaper to a dirty diaper in 3 seconds flat. The diaper champ turns the smelly diaper into \"what diaper smell\" in less time than that. I hesitated and wondered what I REALLY needed for the nursery. This is one of the best purchases we made. The champ, the baby bjorn, fluerville diaper bag, and graco pack and play bassinet all vie for the best baby purchase.Great product, easy to use, economical, effective, absolutly fabulous.UpdateI knew that I loved the champ, and useing the diaper genie at a friend\\'s house REALLY reinforced that!! There is no comparison, the chanp is easy and smell free, the genie was difficult to use one handed (which is absolutly vital if you have a little one on a changing pad) and there was a deffinite odor eminating from the genieplus we found that the quick tie garbage bags where the ties are integrated into the bag work really well because there isn\\'t any added bulk around the sealing edge of the champ.',\n",
       " 'sentiment': 1L,\n",
       " 'terrible': 0L,\n",
       " 'word_count': {'\"what': 1L,\n",
       "  '(which': 1L,\n",
       "  '3': 1L,\n",
       "  'a': 6L,\n",
       "  'absolutly': 2L,\n",
       "  'added': 1L,\n",
       "  'all': 1L,\n",
       "  'and': 6L,\n",
       "  'any': 1L,\n",
       "  'are': 1L,\n",
       "  'around': 1L,\n",
       "  'at': 1L,\n",
       "  'baby': 3L,\n",
       "  'bag': 1L,\n",
       "  'bag,': 1L,\n",
       "  'bags': 1L,\n",
       "  'bassinet': 1L,\n",
       "  'because': 1L,\n",
       "  'best': 2L,\n",
       "  'bjorn,': 1L,\n",
       "  'bulk': 1L,\n",
       "  'can': 1L,\n",
       "  'champ': 1L,\n",
       "  'champ,': 2L,\n",
       "  'champ.': 1L,\n",
       "  'changing': 1L,\n",
       "  'chanp': 1L,\n",
       "  'clean': 1L,\n",
       "  'comparison,': 1L,\n",
       "  'deffinite': 1L,\n",
       "  'diaper': 7L,\n",
       "  'difficult': 1L,\n",
       "  'dirty': 1L,\n",
       "  'easy': 2L,\n",
       "  'economical,': 1L,\n",
       "  'edge': 1L,\n",
       "  'effective,': 1L,\n",
       "  'eminating': 1L,\n",
       "  'fabulous.updatei': 1L,\n",
       "  'flat.': 1L,\n",
       "  'fluerville': 1L,\n",
       "  'for': 2L,\n",
       "  'found': 1L,\n",
       "  'free,': 1L,\n",
       "  \"friend's\": 1L,\n",
       "  'from': 1L,\n",
       "  'garbage': 1L,\n",
       "  'genie': 2L,\n",
       "  'genieplus': 1L,\n",
       "  'graco': 1L,\n",
       "  'handed': 1L,\n",
       "  'have': 1L,\n",
       "  'hesitated': 1L,\n",
       "  'house': 1L,\n",
       "  'i': 3L,\n",
       "  'if': 1L,\n",
       "  'in': 2L,\n",
       "  'integrated': 1L,\n",
       "  'into': 2L,\n",
       "  'is': 4L,\n",
       "  \"isn't\": 1L,\n",
       "  'knew': 1L,\n",
       "  'less': 1L,\n",
       "  'little': 1L,\n",
       "  'loved': 1L,\n",
       "  'luke': 1L,\n",
       "  'made.': 1L,\n",
       "  'needed': 1L,\n",
       "  'no': 1L,\n",
       "  'nursery.': 1L,\n",
       "  'odor': 1L,\n",
       "  'of': 2L,\n",
       "  'on': 1L,\n",
       "  'one': 3L,\n",
       "  'pack': 1L,\n",
       "  'pad)': 1L,\n",
       "  'play': 1L,\n",
       "  'product,': 1L,\n",
       "  'purchase.great': 1L,\n",
       "  'purchases': 1L,\n",
       "  'quick': 1L,\n",
       "  'really': 3L,\n",
       "  'reinforced': 1L,\n",
       "  'sealing': 1L,\n",
       "  'seconds': 1L,\n",
       "  'smell': 1L,\n",
       "  'smell\"': 1L,\n",
       "  'smelly': 1L,\n",
       "  'than': 1L,\n",
       "  'that': 2L,\n",
       "  'that!!': 1L,\n",
       "  'that.': 1L,\n",
       "  'the': 17L,\n",
       "  'there': 3L,\n",
       "  'this': 1L,\n",
       "  'tie': 1L,\n",
       "  'ties': 1L,\n",
       "  'time': 1L,\n",
       "  'to': 3L,\n",
       "  'turn': 1L,\n",
       "  'turns': 1L,\n",
       "  'use': 1L,\n",
       "  'use,': 1L,\n",
       "  'useing': 1L,\n",
       "  'vie': 1L,\n",
       "  'vital': 1L,\n",
       "  'was': 2L,\n",
       "  'we': 2L,\n",
       "  'well': 1L,\n",
       "  'what': 1L,\n",
       "  'where': 1L,\n",
       "  'wondered': 1L,\n",
       "  'work': 1L,\n",
       "  'you': 1L},\n",
       " 'wow': 0L}"
      ]
     },
     "execution_count": 45,
     "metadata": {},
     "output_type": "execute_result"
    }
   ],
   "source": [
    "diaper_champ_reviews[0]"
   ]
  },
  {
   "cell_type": "code",
   "execution_count": 46,
   "metadata": {
    "collapsed": false
   },
   "outputs": [
    {
     "data": {
      "text/plain": [
       "dtype: int\n",
       "Rows: 298\n",
       "[1L, 1L, 1L, 1L, 1L, 1L, 1L, 1L, 0L, 1L, 1L, 1L, 1L, 1L, 1L, 1L, 1L, 1L, 1L, 1L, 1L, 1L, 1L, 1L, 1L, 1L, 1L, 1L, 1L, 1L, 1L, 1L, 1L, 1L, 1L, 1L, 1L, 1L, 1L, 1L, 1L, 1L, 1L, 1L, 1L, 1L, 1L, 1L, 1L, 1L, 1L, 1L, 1L, 1L, 1L, 1L, 1L, 1L, 1L, 1L, 1L, 1L, 1L, 1L, 1L, 1L, 1L, 1L, 1L, 1L, 1L, 1L, 1L, 1L, 1L, 1L, 1L, 1L, 1L, 1L, 1L, 1L, 1L, 1L, 1L, 1L, 1L, 1L, 1L, 1L, 1L, 1L, 1L, 1L, 1L, 1L, 1L, 1L, 1L, 1L, ... ]"
      ]
     },
     "execution_count": 46,
     "metadata": {},
     "output_type": "execute_result"
    }
   ],
   "source": [
    "log_model.predict(diaper_champ_reviews)"
   ]
  },
  {
   "cell_type": "code",
   "execution_count": 53,
   "metadata": {
    "collapsed": false
   },
   "outputs": [
    {
     "name": "stdout",
     "output_type": "stream",
     "text": [
      "0\n",
      "0\n",
      "0\n",
      "0\n",
      "0\n",
      "0\n",
      "0\n",
      "0\n",
      "0\n",
      "0\n",
      "0\n"
     ]
    }
   ],
   "source": [
    "for word in selected_words:\n",
    "    for i in diaper_champ_reviews[0]['word_count']:\n",
    "        if word==i:\n",
    "            print diaper_champ_reviews[0]['review'][word]\n",
    "            break\n",
    "    print 0"
   ]
  },
  {
   "cell_type": "code",
   "execution_count": 54,
   "metadata": {
    "collapsed": false
   },
   "outputs": [
    {
     "name": "stdout",
     "output_type": "stream",
     "text": [
      "['awesome', 'great', 'fantastic', 'amazing', 'love', 'horrible', 'bad', 'terrible', 'awful', 'wow', 'hate']\n"
     ]
    }
   ],
   "source": [
    "print selected_words"
   ]
  },
  {
   "cell_type": "code",
   "execution_count": null,
   "metadata": {
    "collapsed": true
   },
   "outputs": [],
   "source": []
  }
 ],
 "metadata": {
  "kernelspec": {
   "display_name": "Python 2",
   "language": "python",
   "name": "python2"
  },
  "language_info": {
   "codemirror_mode": {
    "name": "ipython",
    "version": 2
   },
   "file_extension": ".py",
   "mimetype": "text/x-python",
   "name": "python",
   "nbconvert_exporter": "python",
   "pygments_lexer": "ipython2",
   "version": "2.7.11"
  }
 },
 "nbformat": 4,
 "nbformat_minor": 0
}
