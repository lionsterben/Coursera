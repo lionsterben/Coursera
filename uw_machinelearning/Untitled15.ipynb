{
 "cells": [
  {
   "cell_type": "code",
   "execution_count": 1,
   "metadata": {
    "collapsed": true
   },
   "outputs": [],
   "source": [
    "import graphlab as gl"
   ]
  },
  {
   "cell_type": "code",
   "execution_count": 12,
   "metadata": {
    "collapsed": false
   },
   "outputs": [
    {
     "data": {
      "text/html": [
       "<pre>Finished parsing file C:\\Users\\david\\another.csv</pre>"
      ],
      "text/plain": [
       "Finished parsing file C:\\Users\\david\\another.csv"
      ]
     },
     "metadata": {},
     "output_type": "display_data"
    },
    {
     "data": {
      "text/html": [
       "<pre>Parsing completed. Parsed 100 lines in 0.845453 secs.</pre>"
      ],
      "text/plain": [
       "Parsing completed. Parsed 100 lines in 0.845453 secs."
      ]
     },
     "metadata": {},
     "output_type": "display_data"
    },
    {
     "name": "stdout",
     "output_type": "stream",
     "text": [
      "------------------------------------------------------\n",
      "Inferred types from first 100 line(s) of file as \n",
      "column_type_hints=[long,long,long,str,str,str,long,float,float,float,long,long,str,long,long,long,long,long,long,long,long,long,long,long,long,long,long,long,long,long,long,long,long,long,long,long,long,long,long,long]\n",
      "If parsing fails due to incorrect types, you can correct\n",
      "the inferred type list above and pass it to read_csv in\n",
      "the column_type_hints argument\n",
      "------------------------------------------------------\n"
     ]
    },
    {
     "data": {
      "text/html": [
       "<pre>Finished parsing file C:\\Users\\david\\another.csv</pre>"
      ],
      "text/plain": [
       "Finished parsing file C:\\Users\\david\\another.csv"
      ]
     },
     "metadata": {},
     "output_type": "display_data"
    },
    {
     "data": {
      "text/html": [
       "<pre>Parsing completed. Parsed 409292 lines in 1.51105 secs.</pre>"
      ],
      "text/plain": [
       "Parsing completed. Parsed 409292 lines in 1.51105 secs."
      ]
     },
     "metadata": {},
     "output_type": "display_data"
    }
   ],
   "source": [
    "data = gl.SFrame('another.csv')"
   ]
  },
  {
   "cell_type": "code",
   "execution_count": 13,
   "metadata": {
    "collapsed": true
   },
   "outputs": [],
   "source": [
    "features_2 = ['quarter_1','quarter_2','quarter_3','quarter_4','time_1',\n",
    "              'time_2','time_3','time_4','time_5','time_6','time_7','time_8',\n",
    "              'time_9','time_10','week_1','week_2','week_3','week_4','week_5','week_6','week_7',\n",
    "              'airport','control','guarantee']"
   ]
  },
  {
   "cell_type": "code",
   "execution_count": 20,
   "metadata": {
    "collapsed": false
   },
   "outputs": [
    {
     "name": "stdout",
     "output_type": "stream",
     "text": [
      "PROGRESS: Creating a validation set from 5 percent of training data. This may take a while.\n",
      "          You can set ``validation_set=None`` to disable validation tracking.\n",
      "\n"
     ]
    },
    {
     "name": "stderr",
     "output_type": "stream",
     "text": [
      "[ERROR] graphlab.toolkits._main: Toolkit error: Target column has missing value.                    Please use dropna() to drop rows with missing target values.\n"
     ]
    },
    {
     "ename": "ToolkitError",
     "evalue": "Target column has missing value.                    Please use dropna() to drop rows with missing target values.",
     "output_type": "error",
     "traceback": [
      "\u001b[1;31m---------------------------------------------------------------------------\u001b[0m",
      "\u001b[1;31mToolkitError\u001b[0m                              Traceback (most recent call last)",
      "\u001b[1;32m<ipython-input-20-3b98479c36a4>\u001b[0m in \u001b[0;36m<module>\u001b[1;34m()\u001b[0m\n\u001b[1;32m----> 1\u001b[1;33m \u001b[0mlog_model\u001b[0m \u001b[1;33m=\u001b[0m \u001b[0mgl\u001b[0m\u001b[1;33m.\u001b[0m\u001b[0mlogistic_classifier\u001b[0m\u001b[1;33m.\u001b[0m\u001b[0mcreate\u001b[0m\u001b[1;33m(\u001b[0m\u001b[0mtrain_data\u001b[0m\u001b[1;33m,\u001b[0m\u001b[0mtarget\u001b[0m\u001b[1;33m=\u001b[0m\u001b[1;34m'delay'\u001b[0m\u001b[1;33m,\u001b[0m\u001b[0mfeatures\u001b[0m\u001b[1;33m=\u001b[0m\u001b[0mfeatures_2\u001b[0m\u001b[1;33m)\u001b[0m\u001b[1;33m\u001b[0m\u001b[0m\n\u001b[0m",
      "\u001b[1;32mC:\\Users\\david\\Anaconda2\\envs\\gl-env\\lib\\site-packages\\graphlab\\toolkits\\classifier\\logistic_classifier.pyc\u001b[0m in \u001b[0;36mcreate\u001b[1;34m(dataset, target, features, l2_penalty, l1_penalty, solver, feature_rescaling, convergence_threshold, step_size, lbfgs_memory_level, max_iterations, class_weights, validation_set, verbose)\u001b[0m\n\u001b[0;32m    306\u001b[0m                         \u001b[0mlbfgs_memory_level\u001b[0m \u001b[1;33m=\u001b[0m \u001b[0mlbfgs_memory_level\u001b[0m\u001b[1;33m,\u001b[0m\u001b[1;33m\u001b[0m\u001b[0m\n\u001b[0;32m    307\u001b[0m                         \u001b[0mmax_iterations\u001b[0m \u001b[1;33m=\u001b[0m \u001b[0mmax_iterations\u001b[0m\u001b[1;33m,\u001b[0m\u001b[1;33m\u001b[0m\u001b[0m\n\u001b[1;32m--> 308\u001b[1;33m                         class_weights = class_weights)\n\u001b[0m\u001b[0;32m    309\u001b[0m \u001b[1;33m\u001b[0m\u001b[0m\n\u001b[0;32m    310\u001b[0m     \u001b[1;32mreturn\u001b[0m \u001b[0mLogisticClassifier\u001b[0m\u001b[1;33m(\u001b[0m\u001b[0mmodel\u001b[0m\u001b[1;33m.\u001b[0m\u001b[0m__proxy__\u001b[0m\u001b[1;33m)\u001b[0m\u001b[1;33m\u001b[0m\u001b[0m\n",
      "\u001b[1;32mC:\\Users\\david\\Anaconda2\\envs\\gl-env\\lib\\site-packages\\graphlab\\toolkits\\_supervised_learning.pyc\u001b[0m in \u001b[0;36mcreate\u001b[1;34m(dataset, target, model_name, features, validation_set, verbose, distributed, **kwargs)\u001b[0m\n\u001b[0;32m    434\u001b[0m \u001b[1;33m\u001b[0m\u001b[0m\n\u001b[0;32m    435\u001b[0m     ret = _graphlab.toolkits._main.run(\"supervised_learning_train\",\n\u001b[1;32m--> 436\u001b[1;33m                                        options, verbose)\n\u001b[0m\u001b[0;32m    437\u001b[0m     \u001b[0mmodel\u001b[0m \u001b[1;33m=\u001b[0m \u001b[0mSupervisedLearningModel\u001b[0m\u001b[1;33m(\u001b[0m\u001b[0mret\u001b[0m\u001b[1;33m[\u001b[0m\u001b[1;34m'model'\u001b[0m\u001b[1;33m]\u001b[0m\u001b[1;33m,\u001b[0m \u001b[0mmodel_name\u001b[0m\u001b[1;33m)\u001b[0m\u001b[1;33m\u001b[0m\u001b[0m\n\u001b[0;32m    438\u001b[0m \u001b[1;33m\u001b[0m\u001b[0m\n",
      "\u001b[1;32mC:\\Users\\david\\Anaconda2\\envs\\gl-env\\lib\\site-packages\\graphlab\\toolkits\\_main.pyc\u001b[0m in \u001b[0;36mrun\u001b[1;34m(toolkit_name, options, verbose, show_progress)\u001b[0m\n\u001b[0;32m     87\u001b[0m         \u001b[0m_get_metric_tracker\u001b[0m\u001b[1;33m(\u001b[0m\u001b[1;33m)\u001b[0m\u001b[1;33m.\u001b[0m\u001b[0mtrack\u001b[0m\u001b[1;33m(\u001b[0m\u001b[0mmetric_name\u001b[0m\u001b[1;33m,\u001b[0m \u001b[0mvalue\u001b[0m\u001b[1;33m=\u001b[0m\u001b[1;36m1\u001b[0m\u001b[1;33m,\u001b[0m \u001b[0mproperties\u001b[0m\u001b[1;33m=\u001b[0m\u001b[0mtrack_props\u001b[0m\u001b[1;33m,\u001b[0m \u001b[0msend_sys_info\u001b[0m\u001b[1;33m=\u001b[0m\u001b[0mFalse\u001b[0m\u001b[1;33m)\u001b[0m\u001b[1;33m\u001b[0m\u001b[0m\n\u001b[0;32m     88\u001b[0m \u001b[1;33m\u001b[0m\u001b[0m\n\u001b[1;32m---> 89\u001b[1;33m         \u001b[1;32mraise\u001b[0m \u001b[0mToolkitError\u001b[0m\u001b[1;33m(\u001b[0m\u001b[0mstr\u001b[0m\u001b[1;33m(\u001b[0m\u001b[0mmessage\u001b[0m\u001b[1;33m)\u001b[0m\u001b[1;33m)\u001b[0m\u001b[1;33m\u001b[0m\u001b[0m\n\u001b[0m",
      "\u001b[1;31mToolkitError\u001b[0m: Target column has missing value.                    Please use dropna() to drop rows with missing target values."
     ]
    }
   ],
   "source": [
    "log_model = gl.logistic_classifier.create(train_data,target='delay',features=features_2)"
   ]
  },
  {
   "cell_type": "code",
   "execution_count": 14,
   "metadata": {
    "collapsed": true
   },
   "outputs": [],
   "source": [
    "train_data,test_data = data.random_split(0.8)"
   ]
  },
  {
   "cell_type": "code",
   "execution_count": 18,
   "metadata": {
    "collapsed": false
   },
   "outputs": [
    {
     "name": "stdout",
     "output_type": "stream",
     "text": [
      "PROGRESS: Creating a validation set from 5 percent of training data. This may take a while.\n",
      "          You can set ``validation_set=None`` to disable validation tracking.\n",
      "\n"
     ]
    },
    {
     "name": "stderr",
     "output_type": "stream",
     "text": [
      "[ERROR] graphlab.toolkits._main: Toolkit error: Target column has missing value.                    Please use dropna() to drop rows with missing target values.\n"
     ]
    },
    {
     "ename": "ToolkitError",
     "evalue": "Target column has missing value.                    Please use dropna() to drop rows with missing target values.",
     "output_type": "error",
     "traceback": [
      "\u001b[1;31m---------------------------------------------------------------------------\u001b[0m",
      "\u001b[1;31mToolkitError\u001b[0m                              Traceback (most recent call last)",
      "\u001b[1;32m<ipython-input-18-3b98479c36a4>\u001b[0m in \u001b[0;36m<module>\u001b[1;34m()\u001b[0m\n\u001b[1;32m----> 1\u001b[1;33m \u001b[0mlog_model\u001b[0m \u001b[1;33m=\u001b[0m \u001b[0mgl\u001b[0m\u001b[1;33m.\u001b[0m\u001b[0mlogistic_classifier\u001b[0m\u001b[1;33m.\u001b[0m\u001b[0mcreate\u001b[0m\u001b[1;33m(\u001b[0m\u001b[0mtrain_data\u001b[0m\u001b[1;33m,\u001b[0m\u001b[0mtarget\u001b[0m\u001b[1;33m=\u001b[0m\u001b[1;34m'delay'\u001b[0m\u001b[1;33m,\u001b[0m\u001b[0mfeatures\u001b[0m\u001b[1;33m=\u001b[0m\u001b[0mfeatures_2\u001b[0m\u001b[1;33m)\u001b[0m\u001b[1;33m\u001b[0m\u001b[0m\n\u001b[0m",
      "\u001b[1;32mC:\\Users\\david\\Anaconda2\\envs\\gl-env\\lib\\site-packages\\graphlab\\toolkits\\classifier\\logistic_classifier.pyc\u001b[0m in \u001b[0;36mcreate\u001b[1;34m(dataset, target, features, l2_penalty, l1_penalty, solver, feature_rescaling, convergence_threshold, step_size, lbfgs_memory_level, max_iterations, class_weights, validation_set, verbose)\u001b[0m\n\u001b[0;32m    306\u001b[0m                         \u001b[0mlbfgs_memory_level\u001b[0m \u001b[1;33m=\u001b[0m \u001b[0mlbfgs_memory_level\u001b[0m\u001b[1;33m,\u001b[0m\u001b[1;33m\u001b[0m\u001b[0m\n\u001b[0;32m    307\u001b[0m                         \u001b[0mmax_iterations\u001b[0m \u001b[1;33m=\u001b[0m \u001b[0mmax_iterations\u001b[0m\u001b[1;33m,\u001b[0m\u001b[1;33m\u001b[0m\u001b[0m\n\u001b[1;32m--> 308\u001b[1;33m                         class_weights = class_weights)\n\u001b[0m\u001b[0;32m    309\u001b[0m \u001b[1;33m\u001b[0m\u001b[0m\n\u001b[0;32m    310\u001b[0m     \u001b[1;32mreturn\u001b[0m \u001b[0mLogisticClassifier\u001b[0m\u001b[1;33m(\u001b[0m\u001b[0mmodel\u001b[0m\u001b[1;33m.\u001b[0m\u001b[0m__proxy__\u001b[0m\u001b[1;33m)\u001b[0m\u001b[1;33m\u001b[0m\u001b[0m\n",
      "\u001b[1;32mC:\\Users\\david\\Anaconda2\\envs\\gl-env\\lib\\site-packages\\graphlab\\toolkits\\_supervised_learning.pyc\u001b[0m in \u001b[0;36mcreate\u001b[1;34m(dataset, target, model_name, features, validation_set, verbose, distributed, **kwargs)\u001b[0m\n\u001b[0;32m    434\u001b[0m \u001b[1;33m\u001b[0m\u001b[0m\n\u001b[0;32m    435\u001b[0m     ret = _graphlab.toolkits._main.run(\"supervised_learning_train\",\n\u001b[1;32m--> 436\u001b[1;33m                                        options, verbose)\n\u001b[0m\u001b[0;32m    437\u001b[0m     \u001b[0mmodel\u001b[0m \u001b[1;33m=\u001b[0m \u001b[0mSupervisedLearningModel\u001b[0m\u001b[1;33m(\u001b[0m\u001b[0mret\u001b[0m\u001b[1;33m[\u001b[0m\u001b[1;34m'model'\u001b[0m\u001b[1;33m]\u001b[0m\u001b[1;33m,\u001b[0m \u001b[0mmodel_name\u001b[0m\u001b[1;33m)\u001b[0m\u001b[1;33m\u001b[0m\u001b[0m\n\u001b[0;32m    438\u001b[0m \u001b[1;33m\u001b[0m\u001b[0m\n",
      "\u001b[1;32mC:\\Users\\david\\Anaconda2\\envs\\gl-env\\lib\\site-packages\\graphlab\\toolkits\\_main.pyc\u001b[0m in \u001b[0;36mrun\u001b[1;34m(toolkit_name, options, verbose, show_progress)\u001b[0m\n\u001b[0;32m     87\u001b[0m         \u001b[0m_get_metric_tracker\u001b[0m\u001b[1;33m(\u001b[0m\u001b[1;33m)\u001b[0m\u001b[1;33m.\u001b[0m\u001b[0mtrack\u001b[0m\u001b[1;33m(\u001b[0m\u001b[0mmetric_name\u001b[0m\u001b[1;33m,\u001b[0m \u001b[0mvalue\u001b[0m\u001b[1;33m=\u001b[0m\u001b[1;36m1\u001b[0m\u001b[1;33m,\u001b[0m \u001b[0mproperties\u001b[0m\u001b[1;33m=\u001b[0m\u001b[0mtrack_props\u001b[0m\u001b[1;33m,\u001b[0m \u001b[0msend_sys_info\u001b[0m\u001b[1;33m=\u001b[0m\u001b[0mFalse\u001b[0m\u001b[1;33m)\u001b[0m\u001b[1;33m\u001b[0m\u001b[0m\n\u001b[0;32m     88\u001b[0m \u001b[1;33m\u001b[0m\u001b[0m\n\u001b[1;32m---> 89\u001b[1;33m         \u001b[1;32mraise\u001b[0m \u001b[0mToolkitError\u001b[0m\u001b[1;33m(\u001b[0m\u001b[0mstr\u001b[0m\u001b[1;33m(\u001b[0m\u001b[0mmessage\u001b[0m\u001b[1;33m)\u001b[0m\u001b[1;33m)\u001b[0m\u001b[1;33m\u001b[0m\u001b[0m\n\u001b[0m",
      "\u001b[1;31mToolkitError\u001b[0m: Target column has missing value.                    Please use dropna() to drop rows with missing target values."
     ]
    }
   ],
   "source": [
    "log_model = gl.logistic_classifier.create(train_data,target='delay',features=features_2)"
   ]
  },
  {
   "cell_type": "code",
   "execution_count": 7,
   "metadata": {
    "collapsed": false
   },
   "outputs": [
    {
     "name": "stdout",
     "output_type": "stream",
     "text": [
      "+------+----+----+----------+-------+------------+------+--------------+\n",
      "| ﻿年  | 月 | 日 |  航班号  |  机号 | 实际起飞站 | 计飞 | previous_leg |\n",
      "+------+----+----+----------+-------+------------+------+--------------+\n",
      "| 2015 | 1  | 1  | CES219&  | B5943 |    PVG     |  5   |     0.0      |\n",
      "| 2015 | 1  | 1  | CES553&  | B5952 |    PVG     |  5   |     0.0      |\n",
      "| 2015 | 1  | 1  |  CES779  | B5902 |    PVG     |  5   |     0.0      |\n",
      "| 2015 | 1  | 1  | MU2335#& | B2378 |    PVG     | 710  |     0.0      |\n",
      "| 2015 | 1  | 1  | FM9461&  | B5260 |    PVG     | 735  |     0.0      |\n",
      "| 2015 | 1  | 1  | MU5534&  | B2208 |    TNA     | 740  |     0.0      |\n",
      "| 2015 | 1  | 1  | MU5586&  | B5101 |    WNZ     | 745  |     0.0      |\n",
      "| 2015 | 1  | 1  | MU5747#& | B5265 |    JHG     | 750  |     0.0      |\n",
      "| 2015 | 1  | 1  | FM9171&  | B5833 |    PVG     | 755  |     0.0      |\n",
      "| 2015 | 1  | 1  | FM9177&  | B5460 |    PVG     | 805  |     0.0      |\n",
      "+------+----+----+----------+-------+------------+------+--------------+\n",
      "+-------------+-------------+------------+-------+---------+----------+------+----------------+\n",
      "|   control   |  guarantee  | delay_time | delay | max_num | 航班日期 | 星期 | 计划起飞时间段 |\n",
      "+-------------+-------------+------------+-------+---------+----------+------+----------------+\n",
      "| 0.002320186 |     0.0     |     0      |   0   |    1    | 2015/1/1 |  4   |       0        |\n",
      "| 0.000928074 | 0.000696379 |     0      |   0   |    1    | 2015/1/1 |  4   |       0        |\n",
      "| 0.002088167 |     0.0     |     0      |   0   |    1    | 2015/1/1 |  4   |       0        |\n",
      "| 0.000464037 |     0.0     |     0      |   0   |   None  | 2015/1/1 |  4   |       7        |\n",
      "| 0.001160093 |     0.0     |     0      |   0   |   None  | 2015/1/1 |  4   |       7        |\n",
      "| 0.003016241 |     0.0     |     0      |   0   |   None  | 2015/1/1 |  4   |       7        |\n",
      "| 0.000464037 |     0.0     |     0      |   0   |   None  | 2015/1/1 |  4   |       7        |\n",
      "| 0.000232019 |     0.0     |     0      |   0   |   None  | 2015/1/1 |  4   |       7        |\n",
      "| 0.000696056 |     0.0     |     0      |   0   |   None  | 2015/1/1 |  4   |       7        |\n",
      "| 0.000928074 |     0.0     |     0      |   0   |   None  | 2015/1/1 |  4   |       8        |\n",
      "+-------------+-------------+------------+-------+---------+----------+------+----------------+\n",
      "+-----------+-----------+-----------+-----------+-----+\n",
      "| quarter_1 | quarter_2 | quarter_3 | quarter_4 | ... |\n",
      "+-----------+-----------+-----------+-----------+-----+\n",
      "|     1     |     0     |     0     |     0     | ... |\n",
      "|     1     |     0     |     0     |     0     | ... |\n",
      "|     1     |     0     |     0     |     0     | ... |\n",
      "|     1     |     0     |     0     |     0     | ... |\n",
      "|     1     |     0     |     0     |     0     | ... |\n",
      "|     1     |     0     |     0     |     0     | ... |\n",
      "|     1     |     0     |     0     |     0     | ... |\n",
      "|     1     |     0     |     0     |     0     | ... |\n",
      "|     1     |     0     |     0     |     0     | ... |\n",
      "|     1     |     0     |     0     |     0     | ... |\n",
      "+-----------+-----------+-----------+-----------+-----+\n",
      "[327097 rows x 41 columns]\n",
      "Note: Only the head of the SFrame is printed.\n",
      "You can use print_rows(num_rows=m, num_columns=n) to print more rows and columns.\n"
     ]
    }
   ],
   "source": [
    "print train_data"
   ]
  },
  {
   "cell_type": "code",
   "execution_count": 8,
   "metadata": {
    "collapsed": false
   },
   "outputs": [
    {
     "name": "stdout",
     "output_type": "stream",
     "text": [
      "[0L, 0L, 0L, 0L, 0L, 0L, 0L, 0L, 0L, 0L, 0L, 0L, 0L, 0L, 0L, 0L, 0L, 0L, 0L, 0L, 0L, 0L, 0L, 0L, 0L, 0L, 1L, 1L, 0L, 0L, 1L, 0L, 0L, 1L, 0L, 0L, 0L, 0L, 0L, 1L, 1L, 0L, 0L, 1L, 0L, 0L, 0L, 1L, 0L, 0L, 0L, 0L, 0L, 0L, 0L, 1L, 0L, 1L, 0L, 1L, 0L, 0L, 0L, 0L, 0L, 1L, 0L, 0L, 1L, 1L, 0L, 1L, 0L, 0L, 0L, 1L, 1L, 0L, 0L, 0L, 0L, 0L, 1L, 0L, 0L, 0L, 0L, 1L, 0L, 1L, 0L, 0L, 0L, 0L, 0L, 1L, 0L, 0L, 1L, 1L, ... ]\n"
     ]
    }
   ],
   "source": [
    "print train_data['delay']"
   ]
  },
  {
   "cell_type": "code",
   "execution_count": 9,
   "metadata": {
    "collapsed": false
   },
   "outputs": [
    {
     "name": "stdout",
     "output_type": "stream",
     "text": [
      "<bound method SFrame.show of Columns:\n",
      "\t﻿年\tint\n",
      "\t月\tint\n",
      "\t日\tint\n",
      "\t航班号\tstr\n",
      "\t机号\tstr\n",
      "\t实际起飞站\tstr\n",
      "\t计飞\tint\n",
      "\tprevious_leg\tfloat\n",
      "\tcontrol\tfloat\n",
      "\tguarantee\tfloat\n",
      "\tdelay_time\tint\n",
      "\tdelay\tint\n",
      "\tmax_num\tint\n",
      "\t航班日期\tstr\n",
      "\t星期\tint\n",
      "\t计划起飞时间段\tint\n",
      "\tquarter_1\tint\n",
      "\tquarter_2\tint\n",
      "\tquarter_3\tint\n",
      "\tquarter_4\tint\n",
      "\tweek_1\tint\n",
      "\tweek_2\tint\n",
      "\tweek_3\tint\n",
      "\tweek_4\tint\n",
      "\tweek_5\tint\n",
      "\tweek_6\tint\n",
      "\tweek_7\tint\n",
      "\ttime_1\tint\n",
      "\ttime_2\tint\n",
      "\ttime_3\tint\n",
      "\ttime_4\tint\n",
      "\ttime_5\tint\n",
      "\ttime_6\tint\n",
      "\ttime_7\tint\n",
      "\ttime_8\tint\n",
      "\ttime_9\tint\n",
      "\ttime_10\tint\n",
      "\tairport\tint\n",
      "\told_previous_leg\tint\n",
      "\told_control\tint\n",
      "\told_guarantee\tint\n",
      "\n",
      "Rows: 327097\n",
      "\n",
      "Data:\n",
      "+------+----+----+----------+-------+------------+------+--------------+\n",
      "| ﻿年  | 月 | 日 |  航班号  |  机号 | 实际起飞站 | 计飞 | previous_leg |\n",
      "+------+----+----+----------+-------+------------+------+--------------+\n",
      "| 2015 | 1  | 1  | CES219&  | B5943 |    PVG     |  5   |     0.0      |\n",
      "| 2015 | 1  | 1  | CES553&  | B5952 |    PVG     |  5   |     0.0      |\n",
      "| 2015 | 1  | 1  |  CES779  | B5902 |    PVG     |  5   |     0.0      |\n",
      "| 2015 | 1  | 1  | MU2335#& | B2378 |    PVG     | 710  |     0.0      |\n",
      "| 2015 | 1  | 1  | FM9461&  | B5260 |    PVG     | 735  |     0.0      |\n",
      "| 2015 | 1  | 1  | MU5534&  | B2208 |    TNA     | 740  |     0.0      |\n",
      "| 2015 | 1  | 1  | MU5586&  | B5101 |    WNZ     | 745  |     0.0      |\n",
      "| 2015 | 1  | 1  | MU5747#& | B5265 |    JHG     | 750  |     0.0      |\n",
      "| 2015 | 1  | 1  | FM9171&  | B5833 |    PVG     | 755  |     0.0      |\n",
      "| 2015 | 1  | 1  | FM9177&  | B5460 |    PVG     | 805  |     0.0      |\n",
      "+------+----+----+----------+-------+------------+------+--------------+\n",
      "+-------------+-------------+------------+-------+---------+----------+------+----------------+\n",
      "|   control   |  guarantee  | delay_time | delay | max_num | 航班日期 | 星期 | 计划起飞时间段 |\n",
      "+-------------+-------------+------------+-------+---------+----------+------+----------------+\n",
      "| 0.002320186 |     0.0     |     0      |   0   |    1    | 2015/1/1 |  4   |       0        |\n",
      "| 0.000928074 | 0.000696379 |     0      |   0   |    1    | 2015/1/1 |  4   |       0        |\n",
      "| 0.002088167 |     0.0     |     0      |   0   |    1    | 2015/1/1 |  4   |       0        |\n",
      "| 0.000464037 |     0.0     |     0      |   0   |   None  | 2015/1/1 |  4   |       7        |\n",
      "| 0.001160093 |     0.0     |     0      |   0   |   None  | 2015/1/1 |  4   |       7        |\n",
      "| 0.003016241 |     0.0     |     0      |   0   |   None  | 2015/1/1 |  4   |       7        |\n",
      "| 0.000464037 |     0.0     |     0      |   0   |   None  | 2015/1/1 |  4   |       7        |\n",
      "| 0.000232019 |     0.0     |     0      |   0   |   None  | 2015/1/1 |  4   |       7        |\n",
      "| 0.000696056 |     0.0     |     0      |   0   |   None  | 2015/1/1 |  4   |       7        |\n",
      "| 0.000928074 |     0.0     |     0      |   0   |   None  | 2015/1/1 |  4   |       8        |\n",
      "+-------------+-------------+------------+-------+---------+----------+------+----------------+\n",
      "+-----------+-----------+-----------+-----------+-----+\n",
      "| quarter_1 | quarter_2 | quarter_3 | quarter_4 | ... |\n",
      "+-----------+-----------+-----------+-----------+-----+\n",
      "|     1     |     0     |     0     |     0     | ... |\n",
      "|     1     |     0     |     0     |     0     | ... |\n",
      "|     1     |     0     |     0     |     0     | ... |\n",
      "|     1     |     0     |     0     |     0     | ... |\n",
      "|     1     |     0     |     0     |     0     | ... |\n",
      "|     1     |     0     |     0     |     0     | ... |\n",
      "|     1     |     0     |     0     |     0     | ... |\n",
      "|     1     |     0     |     0     |     0     | ... |\n",
      "|     1     |     0     |     0     |     0     | ... |\n",
      "|     1     |     0     |     0     |     0     | ... |\n",
      "+-----------+-----------+-----------+-----------+-----+\n",
      "[327097 rows x 41 columns]\n",
      "Note: Only the head of the SFrame is printed.\n",
      "You can use print_rows(num_rows=m, num_columns=n) to print more rows and columns.>\n"
     ]
    }
   ],
   "source": [
    "print train_data.show"
   ]
  },
  {
   "cell_type": "code",
   "execution_count": 10,
   "metadata": {
    "collapsed": false
   },
   "outputs": [
    {
     "name": "stdout",
     "output_type": "stream",
     "text": [
      "<bound method SFrame.show of Columns:\n",
      "\t﻿年\tint\n",
      "\t月\tint\n",
      "\t日\tint\n",
      "\t航班号\tstr\n",
      "\t机号\tstr\n",
      "\t实际起飞站\tstr\n",
      "\t计飞\tint\n",
      "\tprevious_leg\tfloat\n",
      "\tcontrol\tfloat\n",
      "\tguarantee\tfloat\n",
      "\tdelay_time\tint\n",
      "\tdelay\tint\n",
      "\tmax_num\tint\n",
      "\t航班日期\tstr\n",
      "\t星期\tint\n",
      "\t计划起飞时间段\tint\n",
      "\tquarter_1\tint\n",
      "\tquarter_2\tint\n",
      "\tquarter_3\tint\n",
      "\tquarter_4\tint\n",
      "\tweek_1\tint\n",
      "\tweek_2\tint\n",
      "\tweek_3\tint\n",
      "\tweek_4\tint\n",
      "\tweek_5\tint\n",
      "\tweek_6\tint\n",
      "\tweek_7\tint\n",
      "\ttime_1\tint\n",
      "\ttime_2\tint\n",
      "\ttime_3\tint\n",
      "\ttime_4\tint\n",
      "\ttime_5\tint\n",
      "\ttime_6\tint\n",
      "\ttime_7\tint\n",
      "\ttime_8\tint\n",
      "\ttime_9\tint\n",
      "\ttime_10\tint\n",
      "\tairport\tint\n",
      "\told_previous_leg\tint\n",
      "\told_control\tint\n",
      "\told_guarantee\tint\n",
      "\n",
      "Rows: 409292\n",
      "\n",
      "Data:\n",
      "+------+----+----+----------+-------+------------+------+--------------+\n",
      "| ﻿年  | 月 | 日 |  航班号  |  机号 | 实际起飞站 | 计飞 | previous_leg |\n",
      "+------+----+----+----------+-------+------------+------+--------------+\n",
      "| 2015 | 1  | 1  | CES219&  | B5943 |    PVG     |  5   |     0.0      |\n",
      "| 2015 | 1  | 1  | CES553&  | B5952 |    PVG     |  5   |     0.0      |\n",
      "| 2015 | 1  | 1  |  CES779  | B5902 |    PVG     |  5   |     0.0      |\n",
      "| 2015 | 1  | 1  | MU2335#& | B2378 |    PVG     | 710  |     0.0      |\n",
      "| 2015 | 1  | 1  | FM9461&  | B5260 |    PVG     | 735  |     0.0      |\n",
      "| 2015 | 1  | 1  | MU5534&  | B2208 |    TNA     | 740  |     0.0      |\n",
      "| 2015 | 1  | 1  | MU5586&  | B5101 |    WNZ     | 745  |     0.0      |\n",
      "| 2015 | 1  | 1  | FM9189&  | B1900 |    PVG     | 745  |     0.0      |\n",
      "| 2015 | 1  | 1  | MU5747#& | B5265 |    JHG     | 750  |     0.0      |\n",
      "| 2015 | 1  | 1  | FM9123&  | B1721 |    PVG     | 750  |     0.0      |\n",
      "+------+----+----+----------+-------+------------+------+--------------+\n",
      "+-------------+-------------+------------+-------+---------+----------+------+----------------+\n",
      "|   control   |  guarantee  | delay_time | delay | max_num | 航班日期 | 星期 | 计划起飞时间段 |\n",
      "+-------------+-------------+------------+-------+---------+----------+------+----------------+\n",
      "| 0.002320186 |     0.0     |     0      |   0   |    1    | 2015/1/1 |  4   |       0        |\n",
      "| 0.000928074 | 0.000696379 |     0      |   0   |    1    | 2015/1/1 |  4   |       0        |\n",
      "| 0.002088167 |     0.0     |     0      |   0   |    1    | 2015/1/1 |  4   |       0        |\n",
      "| 0.000464037 |     0.0     |     0      |   0   |   None  | 2015/1/1 |  4   |       7        |\n",
      "| 0.001160093 |     0.0     |     0      |   0   |   None  | 2015/1/1 |  4   |       7        |\n",
      "| 0.003016241 |     0.0     |     0      |   0   |   None  | 2015/1/1 |  4   |       7        |\n",
      "| 0.000464037 |     0.0     |     0      |   0   |   None  | 2015/1/1 |  4   |       7        |\n",
      "| 0.000696056 |     0.0     |     0      |   0   |   None  | 2015/1/1 |  4   |       7        |\n",
      "| 0.000232019 |     0.0     |     0      |   0   |   None  | 2015/1/1 |  4   |       7        |\n",
      "| 0.000696056 |     0.0     |     0      |   0   |   None  | 2015/1/1 |  4   |       7        |\n",
      "+-------------+-------------+------------+-------+---------+----------+------+----------------+\n",
      "+-----------+-----------+-----------+-----------+-----+\n",
      "| quarter_1 | quarter_2 | quarter_3 | quarter_4 | ... |\n",
      "+-----------+-----------+-----------+-----------+-----+\n",
      "|     1     |     0     |     0     |     0     | ... |\n",
      "|     1     |     0     |     0     |     0     | ... |\n",
      "|     1     |     0     |     0     |     0     | ... |\n",
      "|     1     |     0     |     0     |     0     | ... |\n",
      "|     1     |     0     |     0     |     0     | ... |\n",
      "|     1     |     0     |     0     |     0     | ... |\n",
      "|     1     |     0     |     0     |     0     | ... |\n",
      "|     1     |     0     |     0     |     0     | ... |\n",
      "|     1     |     0     |     0     |     0     | ... |\n",
      "|     1     |     0     |     0     |     0     | ... |\n",
      "+-----------+-----------+-----------+-----------+-----+\n",
      "[409292 rows x 41 columns]\n",
      "Note: Only the head of the SFrame is printed.\n",
      "You can use print_rows(num_rows=m, num_columns=n) to print more rows and columns.>\n"
     ]
    }
   ],
   "source": [
    "print data.show"
   ]
  },
  {
   "cell_type": "code",
   "execution_count": 11,
   "metadata": {
    "collapsed": false
   },
   "outputs": [
    {
     "name": "stdout",
     "output_type": "stream",
     "text": [
      "Canvas is accessible via web browser at the URL: http://localhost:2187/index.html\n",
      "Opening Canvas in default web browser.\n",
      "None\n"
     ]
    }
   ],
   "source": [
    "print data.show()"
   ]
  },
  {
   "cell_type": "code",
   "execution_count": 16,
   "metadata": {
    "collapsed": false
   },
   "outputs": [
    {
     "data": {
      "text/plain": [
       "<bound method SFrame.dropna of Columns:\n",
       "\t﻿年\tint\n",
       "\t月\tint\n",
       "\t日\tint\n",
       "\t航班号\tstr\n",
       "\t机号\tstr\n",
       "\t实际起飞站\tstr\n",
       "\t计飞\tint\n",
       "\tprevious_leg\tfloat\n",
       "\tcontrol\tfloat\n",
       "\tguarantee\tfloat\n",
       "\tdelay_time\tint\n",
       "\tdelay\tint\n",
       "\t航班日期\tstr\n",
       "\t星期\tint\n",
       "\t计划起飞时间段\tint\n",
       "\tquarter_1\tint\n",
       "\tquarter_2\tint\n",
       "\tquarter_3\tint\n",
       "\tquarter_4\tint\n",
       "\tweek_1\tint\n",
       "\tweek_2\tint\n",
       "\tweek_3\tint\n",
       "\tweek_4\tint\n",
       "\tweek_5\tint\n",
       "\tweek_6\tint\n",
       "\tweek_7\tint\n",
       "\ttime_1\tint\n",
       "\ttime_2\tint\n",
       "\ttime_3\tint\n",
       "\ttime_4\tint\n",
       "\ttime_5\tint\n",
       "\ttime_6\tint\n",
       "\ttime_7\tint\n",
       "\ttime_8\tint\n",
       "\ttime_9\tint\n",
       "\ttime_10\tint\n",
       "\tairport\tint\n",
       "\told_previous_leg\tint\n",
       "\told_control\tint\n",
       "\told_guarantee\tint\n",
       "\n",
       "Rows: 327478\n",
       "\n",
       "Data:\n",
       "+------+----+----+----------+-------+------------+------+--------------+\n",
       "| ﻿年  | 月 | 日 |  航班号  |  机号 | 实际起飞站 | 计飞 | previous_leg |\n",
       "+------+----+----+----------+-------+------------+------+--------------+\n",
       "| 2015 | 1  | 1  | CES219&  | B5943 |    PVG     |  5   |     0.0      |\n",
       "| 2015 | 1  | 1  |  CES779  | B5902 |    PVG     |  5   |     0.0      |\n",
       "| 2015 | 1  | 1  | MU2335#& | B2378 |    PVG     | 710  |     0.0      |\n",
       "| 2015 | 1  | 1  | FM9461&  | B5260 |    PVG     | 735  |     0.0      |\n",
       "| 2015 | 1  | 1  | MU5534&  | B2208 |    TNA     | 740  |     0.0      |\n",
       "| 2015 | 1  | 1  | MU5747#& | B5265 |    JHG     | 750  |     0.0      |\n",
       "| 2015 | 1  | 1  | FM9171&  | B5833 |    PVG     | 755  |     0.0      |\n",
       "| 2015 | 1  | 1  | FM9177&  | B5460 |    PVG     | 805  |     0.0      |\n",
       "| 2015 | 1  | 1  | MU5667#  | B6616 |    PVG     | 805  |     0.0      |\n",
       "| 2015 | 1  | 1  | MU2152&  | B9907 |    PVG     | 810  |     0.0      |\n",
       "+------+----+----+----------+-------+------------+------+--------------+\n",
       "+-------------+-----------+------------+-------+----------+------+----------------+\n",
       "|   control   | guarantee | delay_time | delay | 航班日期 | 星期 | 计划起飞时间段 |\n",
       "+-------------+-----------+------------+-------+----------+------+----------------+\n",
       "| 0.002320186 |    0.0    |     0      |   0   | 2015/1/1 |  4   |       0        |\n",
       "| 0.002088167 |    0.0    |     0      |   0   | 2015/1/1 |  4   |       0        |\n",
       "| 0.000464037 |    0.0    |     0      |   0   | 2015/1/1 |  4   |       7        |\n",
       "| 0.001160093 |    0.0    |     0      |   0   | 2015/1/1 |  4   |       7        |\n",
       "| 0.003016241 |    0.0    |     0      |   0   | 2015/1/1 |  4   |       7        |\n",
       "| 0.000232019 |    0.0    |     0      |   0   | 2015/1/1 |  4   |       7        |\n",
       "| 0.000696056 |    0.0    |     0      |   0   | 2015/1/1 |  4   |       7        |\n",
       "| 0.000928074 |    0.0    |     0      |   0   | 2015/1/1 |  4   |       8        |\n",
       "| 0.001392111 |    0.0    |     0      |   0   | 2015/1/1 |  4   |       8        |\n",
       "| 0.003944316 |    0.0    |     2      |   1   | 2015/1/1 |  4   |       8        |\n",
       "+-------------+-----------+------------+-------+----------+------+----------------+\n",
       "+-----------+-----------+-----------+-----------+--------+-----+\n",
       "| quarter_1 | quarter_2 | quarter_3 | quarter_4 | week_1 | ... |\n",
       "+-----------+-----------+-----------+-----------+--------+-----+\n",
       "|     1     |     0     |     0     |     0     |   0    | ... |\n",
       "|     1     |     0     |     0     |     0     |   0    | ... |\n",
       "|     1     |     0     |     0     |     0     |   0    | ... |\n",
       "|     1     |     0     |     0     |     0     |   0    | ... |\n",
       "|     1     |     0     |     0     |     0     |   0    | ... |\n",
       "|     1     |     0     |     0     |     0     |   0    | ... |\n",
       "|     1     |     0     |     0     |     0     |   0    | ... |\n",
       "|     1     |     0     |     0     |     0     |   0    | ... |\n",
       "|     1     |     0     |     0     |     0     |   0    | ... |\n",
       "|     1     |     0     |     0     |     0     |   0    | ... |\n",
       "+-----------+-----------+-----------+-----------+--------+-----+\n",
       "[327478 rows x 40 columns]\n",
       "Note: Only the head of the SFrame is printed.\n",
       "You can use print_rows(num_rows=m, num_columns=n) to print more rows and columns.>"
      ]
     },
     "execution_count": 16,
     "metadata": {},
     "output_type": "execute_result"
    }
   ],
   "source": [
    "train_data.dropna"
   ]
  },
  {
   "cell_type": "code",
   "execution_count": 17,
   "metadata": {
    "collapsed": false
   },
   "outputs": [
    {
     "name": "stdout",
     "output_type": "stream",
     "text": [
      "327478\n"
     ]
    }
   ],
   "source": [
    "print len(train_data)"
   ]
  },
  {
   "cell_type": "code",
   "execution_count": 19,
   "metadata": {
    "collapsed": false
   },
   "outputs": [
    {
     "name": "stdout",
     "output_type": "stream",
     "text": [
      "[0L, 0L, 0L, 0L, 0L, 0L, 0L, 0L, 0L, 0L, 0L, 0L, 0L, 0L, 1L, 0L, 0L, 0L, 0L, 0L, 0L, 0L, 0L, 0L, 0L, 0L, 0L, 0L, 0L, 0L, 0L, 0L, 1L, 0L, 1L, 0L, 0L, 0L, 1L, 0L, 0L, 0L, 1L, 0L, 0L, 0L, 0L, 0L, 0L, 0L, 1L, 1L, 0L, 0L, 0L, 1L, 0L, 0L, 0L, 1L, 0L, 0L, 1L, 0L, 1L, 0L, 0L, 1L, 0L, 0L, 0L, 0L, 1L, 0L, 0L, 1L, 0L, 0L, 1L, 0L, 1L, 0L, 0L, 0L, 0L, 0L, 1L, 0L, 0L, 1L, 1L, 0L, 0L, 1L, 0L, 0L, 0L, 1L, 1L, 0L, ... ]\n"
     ]
    }
   ],
   "source": [
    "print data['delay']"
   ]
  },
  {
   "cell_type": "code",
   "execution_count": 21,
   "metadata": {
    "collapsed": false
   },
   "outputs": [
    {
     "data": {
      "text/html": [
       "<pre>Finished parsing file C:\\Users\\david\\test.csv</pre>"
      ],
      "text/plain": [
       "Finished parsing file C:\\Users\\david\\test.csv"
      ]
     },
     "metadata": {},
     "output_type": "display_data"
    },
    {
     "data": {
      "text/html": [
       "<pre>Parsing completed. Parsed 100 lines in 0.188903 secs.</pre>"
      ],
      "text/plain": [
       "Parsing completed. Parsed 100 lines in 0.188903 secs."
      ]
     },
     "metadata": {},
     "output_type": "display_data"
    },
    {
     "name": "stdout",
     "output_type": "stream",
     "text": [
      "------------------------------------------------------\n",
      "Inferred types from first 100 line(s) of file as \n",
      "column_type_hints=[long,float,float,float,long,long,long,long,long,long,long,long,long,long,long,long,long,long,long,long,long,long,long,long,long,long,long,long,long,long,long]\n",
      "If parsing fails due to incorrect types, you can correct\n",
      "the inferred type list above and pass it to read_csv in\n",
      "the column_type_hints argument\n",
      "------------------------------------------------------\n"
     ]
    },
    {
     "data": {
      "text/html": [
       "<pre>Finished parsing file C:\\Users\\david\\test.csv</pre>"
      ],
      "text/plain": [
       "Finished parsing file C:\\Users\\david\\test.csv"
      ]
     },
     "metadata": {},
     "output_type": "display_data"
    },
    {
     "data": {
      "text/html": [
       "<pre>Parsing completed. Parsed 97892 lines in 0.247484 secs.</pre>"
      ],
      "text/plain": [
       "Parsing completed. Parsed 97892 lines in 0.247484 secs."
      ]
     },
     "metadata": {},
     "output_type": "display_data"
    }
   ],
   "source": [
    "data2 = gl.SFrame('test.csv')"
   ]
  },
  {
   "cell_type": "code",
   "execution_count": 22,
   "metadata": {
    "collapsed": true
   },
   "outputs": [],
   "source": [
    "train_data,test_data = data2.random_split(0.8)"
   ]
  },
  {
   "cell_type": "code",
   "execution_count": 23,
   "metadata": {
    "collapsed": false
   },
   "outputs": [
    {
     "name": "stdout",
     "output_type": "stream",
     "text": [
      "PROGRESS: Creating a validation set from 5 percent of training data. This may take a while.\n",
      "          You can set ``validation_set=None`` to disable validation tracking.\n",
      "\n"
     ]
    },
    {
     "data": {
      "text/html": [
       "<pre>Logistic regression:</pre>"
      ],
      "text/plain": [
       "Logistic regression:"
      ]
     },
     "metadata": {},
     "output_type": "display_data"
    },
    {
     "data": {
      "text/html": [
       "<pre>--------------------------------------------------------</pre>"
      ],
      "text/plain": [
       "--------------------------------------------------------"
      ]
     },
     "metadata": {},
     "output_type": "display_data"
    },
    {
     "data": {
      "text/html": [
       "<pre>Number of examples          : 74368</pre>"
      ],
      "text/plain": [
       "Number of examples          : 74368"
      ]
     },
     "metadata": {},
     "output_type": "display_data"
    },
    {
     "data": {
      "text/html": [
       "<pre>Number of classes           : 2</pre>"
      ],
      "text/plain": [
       "Number of classes           : 2"
      ]
     },
     "metadata": {},
     "output_type": "display_data"
    },
    {
     "data": {
      "text/html": [
       "<pre>Number of feature columns   : 24</pre>"
      ],
      "text/plain": [
       "Number of feature columns   : 24"
      ]
     },
     "metadata": {},
     "output_type": "display_data"
    },
    {
     "data": {
      "text/html": [
       "<pre>Number of unpacked features : 24</pre>"
      ],
      "text/plain": [
       "Number of unpacked features : 24"
      ]
     },
     "metadata": {},
     "output_type": "display_data"
    },
    {
     "data": {
      "text/html": [
       "<pre>Number of coefficients    : 25</pre>"
      ],
      "text/plain": [
       "Number of coefficients    : 25"
      ]
     },
     "metadata": {},
     "output_type": "display_data"
    },
    {
     "data": {
      "text/html": [
       "<pre>Starting Newton Method</pre>"
      ],
      "text/plain": [
       "Starting Newton Method"
      ]
     },
     "metadata": {},
     "output_type": "display_data"
    },
    {
     "data": {
      "text/html": [
       "<pre>--------------------------------------------------------</pre>"
      ],
      "text/plain": [
       "--------------------------------------------------------"
      ]
     },
     "metadata": {},
     "output_type": "display_data"
    },
    {
     "data": {
      "text/html": [
       "<pre>+-----------+----------+--------------+-------------------+---------------------+</pre>"
      ],
      "text/plain": [
       "+-----------+----------+--------------+-------------------+---------------------+"
      ]
     },
     "metadata": {},
     "output_type": "display_data"
    },
    {
     "data": {
      "text/html": [
       "<pre>| Iteration | Passes   | Elapsed Time | Training-accuracy | Validation-accuracy |</pre>"
      ],
      "text/plain": [
       "| Iteration | Passes   | Elapsed Time | Training-accuracy | Validation-accuracy |"
      ]
     },
     "metadata": {},
     "output_type": "display_data"
    },
    {
     "data": {
      "text/html": [
       "<pre>+-----------+----------+--------------+-------------------+---------------------+</pre>"
      ],
      "text/plain": [
       "+-----------+----------+--------------+-------------------+---------------------+"
      ]
     },
     "metadata": {},
     "output_type": "display_data"
    },
    {
     "data": {
      "text/html": [
       "<pre>| 1         | 2        | 1.288145     | 0.656438          | 0.646620            |</pre>"
      ],
      "text/plain": [
       "| 1         | 2        | 1.288145     | 0.656438          | 0.646620            |"
      ]
     },
     "metadata": {},
     "output_type": "display_data"
    },
    {
     "data": {
      "text/html": [
       "<pre>| 2         | 3        | 1.437155     | 0.724115          | 0.719609            |</pre>"
      ],
      "text/plain": [
       "| 2         | 3        | 1.437155     | 0.724115          | 0.719609            |"
      ]
     },
     "metadata": {},
     "output_type": "display_data"
    },
    {
     "data": {
      "text/html": [
       "<pre>| 3         | 4        | 1.563198     | 0.756038          | 0.752763            |</pre>"
      ],
      "text/plain": [
       "| 3         | 4        | 1.563198     | 0.756038          | 0.752763            |"
      ]
     },
     "metadata": {},
     "output_type": "display_data"
    },
    {
     "data": {
      "text/html": [
       "<pre>+-----------+----------+--------------+-------------------+---------------------+</pre>"
      ],
      "text/plain": [
       "+-----------+----------+--------------+-------------------+---------------------+"
      ]
     },
     "metadata": {},
     "output_type": "display_data"
    },
    {
     "data": {
      "text/html": [
       "<pre>TERMINATED: Terminated due to numerical difficulties.</pre>"
      ],
      "text/plain": [
       "TERMINATED: Terminated due to numerical difficulties."
      ]
     },
     "metadata": {},
     "output_type": "display_data"
    },
    {
     "data": {
      "text/html": [
       "<pre>This model may not be ideal. To improve it, consider doing one of the following:\n",
       "(a) Increasing the regularization.\n",
       "(b) Standardizing the input data.\n",
       "(c) Removing highly correlated features.\n",
       "(d) Removing `inf` and `NaN` values in the training data.</pre>"
      ],
      "text/plain": [
       "This model may not be ideal. To improve it, consider doing one of the following:\n",
       "(a) Increasing the regularization.\n",
       "(b) Standardizing the input data.\n",
       "(c) Removing highly correlated features.\n",
       "(d) Removing `inf` and `NaN` values in the training data."
      ]
     },
     "metadata": {},
     "output_type": "display_data"
    }
   ],
   "source": [
    "log_model = gl.logistic_classifier.create(train_data,target='delay',features=features_2)"
   ]
  },
  {
   "cell_type": "code",
   "execution_count": 24,
   "metadata": {
    "collapsed": false
   },
   "outputs": [
    {
     "ename": "TypeError",
     "evalue": "'LogisticClassifier' object is not callable",
     "output_type": "error",
     "traceback": [
      "\u001b[1;31m---------------------------------------------------------------------------\u001b[0m",
      "\u001b[1;31mTypeError\u001b[0m                                 Traceback (most recent call last)",
      "\u001b[1;32m<ipython-input-24-1941df32a69e>\u001b[0m in \u001b[0;36m<module>\u001b[1;34m()\u001b[0m\n\u001b[1;32m----> 1\u001b[1;33m \u001b[1;32mprint\u001b[0m \u001b[0mlog_model\u001b[0m\u001b[1;33m(\u001b[0m\u001b[0mtest_data\u001b[0m\u001b[1;33m)\u001b[0m\u001b[1;33m\u001b[0m\u001b[0m\n\u001b[0m",
      "\u001b[1;31mTypeError\u001b[0m: 'LogisticClassifier' object is not callable"
     ]
    }
   ],
   "source": [
    "print log_model(test_data)"
   ]
  },
  {
   "cell_type": "code",
   "execution_count": 25,
   "metadata": {
    "collapsed": false
   },
   "outputs": [
    {
     "name": "stdout",
     "output_type": "stream",
     "text": [
      "{'f1_score': 0.7150290786654423, 'auc': 0.8391781958131035, 'recall': 0.6218057921635435, 'precision': 0.8411349560708627, 'log_loss': 0.485979199894211, 'roc_curve': Columns:\n",
      "\tthreshold\tfloat\n",
      "\tfpr\tfloat\n",
      "\ttpr\tfloat\n",
      "\tp\tint\n",
      "\tn\tint\n",
      "\n",
      "Rows: 100001\n",
      "\n",
      "Data:\n",
      "+-----------+-----+----------------+------+-------+\n",
      "| threshold | fpr |      tpr       |  p   |   n   |\n",
      "+-----------+-----+----------------+------+-------+\n",
      "|    0.0    | 1.0 |      1.0       | 9392 | 10241 |\n",
      "|   1e-05   | 1.0 | 0.999893526405 | 9392 | 10241 |\n",
      "|   2e-05   | 1.0 | 0.999893526405 | 9392 | 10241 |\n",
      "|   3e-05   | 1.0 | 0.999893526405 | 9392 | 10241 |\n",
      "|   4e-05   | 1.0 | 0.999893526405 | 9392 | 10241 |\n",
      "|   5e-05   | 1.0 | 0.999893526405 | 9392 | 10241 |\n",
      "|   6e-05   | 1.0 | 0.999893526405 | 9392 | 10241 |\n",
      "|   7e-05   | 1.0 | 0.999893526405 | 9392 | 10241 |\n",
      "|   8e-05   | 1.0 | 0.999893526405 | 9392 | 10241 |\n",
      "|   9e-05   | 1.0 | 0.999893526405 | 9392 | 10241 |\n",
      "+-----------+-----+----------------+------+-------+\n",
      "[100001 rows x 5 columns]\n",
      "Note: Only the head of the SFrame is printed.\n",
      "You can use print_rows(num_rows=m, num_columns=n) to print more rows and columns., 'confusion_matrix': Columns:\n",
      "\ttarget_label\tint\n",
      "\tpredicted_label\tint\n",
      "\tcount\tint\n",
      "\n",
      "Rows: 4\n",
      "\n",
      "Data:\n",
      "+--------------+-----------------+-------+\n",
      "| target_label | predicted_label | count |\n",
      "+--------------+-----------------+-------+\n",
      "|      0       |        1        |  1103 |\n",
      "|      1       |        1        |  5840 |\n",
      "|      1       |        0        |  3552 |\n",
      "|      0       |        0        |  9138 |\n",
      "+--------------+-----------------+-------+\n",
      "[4 rows x 3 columns]\n",
      ", 'accuracy': 0.7628992003259818}\n"
     ]
    }
   ],
   "source": [
    "print log_model.evaluate(test_data)"
   ]
  },
  {
   "cell_type": "code",
   "execution_count": 26,
   "metadata": {
    "collapsed": false
   },
   "outputs": [
    {
     "name": "stdout",
     "output_type": "stream",
     "text": [
      "PROGRESS: Creating a validation set from 5 percent of training data. This may take a while.\n",
      "          You can set ``validation_set=None`` to disable validation tracking.\n",
      "\n"
     ]
    },
    {
     "data": {
      "text/html": [
       "<pre>Random forest classifier:</pre>"
      ],
      "text/plain": [
       "Random forest classifier:"
      ]
     },
     "metadata": {},
     "output_type": "display_data"
    },
    {
     "data": {
      "text/html": [
       "<pre>--------------------------------------------------------</pre>"
      ],
      "text/plain": [
       "--------------------------------------------------------"
      ]
     },
     "metadata": {},
     "output_type": "display_data"
    },
    {
     "data": {
      "text/html": [
       "<pre>Number of examples          : 74463</pre>"
      ],
      "text/plain": [
       "Number of examples          : 74463"
      ]
     },
     "metadata": {},
     "output_type": "display_data"
    },
    {
     "data": {
      "text/html": [
       "<pre>Number of classes           : 2</pre>"
      ],
      "text/plain": [
       "Number of classes           : 2"
      ]
     },
     "metadata": {},
     "output_type": "display_data"
    },
    {
     "data": {
      "text/html": [
       "<pre>Number of feature columns   : 24</pre>"
      ],
      "text/plain": [
       "Number of feature columns   : 24"
      ]
     },
     "metadata": {},
     "output_type": "display_data"
    },
    {
     "data": {
      "text/html": [
       "<pre>Number of unpacked features : 24</pre>"
      ],
      "text/plain": [
       "Number of unpacked features : 24"
      ]
     },
     "metadata": {},
     "output_type": "display_data"
    },
    {
     "data": {
      "text/html": [
       "<pre>+-----------+--------------+-------------------+---------------------+-------------------+---------------------+</pre>"
      ],
      "text/plain": [
       "+-----------+--------------+-------------------+---------------------+-------------------+---------------------+"
      ]
     },
     "metadata": {},
     "output_type": "display_data"
    },
    {
     "data": {
      "text/html": [
       "<pre>| Iteration | Elapsed Time | Training-accuracy | Validation-accuracy | Training-log_loss | Validation-log_loss |</pre>"
      ],
      "text/plain": [
       "| Iteration | Elapsed Time | Training-accuracy | Validation-accuracy | Training-log_loss | Validation-log_loss |"
      ]
     },
     "metadata": {},
     "output_type": "display_data"
    },
    {
     "data": {
      "text/html": [
       "<pre>+-----------+--------------+-------------------+---------------------+-------------------+---------------------+</pre>"
      ],
      "text/plain": [
       "+-----------+--------------+-------------------+---------------------+-------------------+---------------------+"
      ]
     },
     "metadata": {},
     "output_type": "display_data"
    },
    {
     "data": {
      "text/html": [
       "<pre>| 1         | 0.106322     | 0.669272          | 0.664910            | 0.571234          | 0.571788            |</pre>"
      ],
      "text/plain": [
       "| 1         | 0.106322     | 0.669272          | 0.664910            | 0.571234          | 0.571788            |"
      ]
     },
     "metadata": {},
     "output_type": "display_data"
    },
    {
     "data": {
      "text/html": [
       "<pre>| 2         | 0.188544     | 0.778736          | 0.781085            | 0.503193          | 0.504663            |</pre>"
      ],
      "text/plain": [
       "| 2         | 0.188544     | 0.778736          | 0.781085            | 0.503193          | 0.504663            |"
      ]
     },
     "metadata": {},
     "output_type": "display_data"
    },
    {
     "data": {
      "text/html": [
       "<pre>| 3         | 0.274421     | 0.779018          | 0.781612            | 0.490321          | 0.491774            |</pre>"
      ],
      "text/plain": [
       "| 3         | 0.274421     | 0.779018          | 0.781612            | 0.490321          | 0.491774            |"
      ]
     },
     "metadata": {},
     "output_type": "display_data"
    },
    {
     "data": {
      "text/html": [
       "<pre>| 4         | 0.358386     | 0.779985          | 0.778978            | 0.484598          | 0.485471            |</pre>"
      ],
      "text/plain": [
       "| 4         | 0.358386     | 0.779985          | 0.778978            | 0.484598          | 0.485471            |"
      ]
     },
     "metadata": {},
     "output_type": "display_data"
    },
    {
     "data": {
      "text/html": [
       "<pre>| 5         | 0.433250     | 0.779649          | 0.780032            | 0.481398          | 0.482604            |</pre>"
      ],
      "text/plain": [
       "| 5         | 0.433250     | 0.779649          | 0.780032            | 0.481398          | 0.482604            |"
      ]
     },
     "metadata": {},
     "output_type": "display_data"
    },
    {
     "data": {
      "text/html": [
       "<pre>| 6         | 0.528001     | 0.779488          | 0.778978            | 0.484309          | 0.486090            |</pre>"
      ],
      "text/plain": [
       "| 6         | 0.528001     | 0.779488          | 0.778978            | 0.484309          | 0.486090            |"
      ]
     },
     "metadata": {},
     "output_type": "display_data"
    },
    {
     "data": {
      "text/html": [
       "<pre>+-----------+--------------+-------------------+---------------------+-------------------+---------------------+</pre>"
      ],
      "text/plain": [
       "+-----------+--------------+-------------------+---------------------+-------------------+---------------------+"
      ]
     },
     "metadata": {},
     "output_type": "display_data"
    }
   ],
   "source": [
    "forset_model = gl.random_forest_classifier.create(train_data,target='delay',features=features_2)"
   ]
  },
  {
   "cell_type": "code",
   "execution_count": 27,
   "metadata": {
    "collapsed": false
   },
   "outputs": [
    {
     "name": "stdout",
     "output_type": "stream",
     "text": [
      "{'f1_score': 0.7198088891682908, 'auc': 0.8519256406131813, 'recall': 0.60956132879046, 'precision': 0.8787413660782809, 'log_loss': 0.4903259346796114, 'roc_curve': Columns:\n",
      "\tthreshold\tfloat\n",
      "\tfpr\tfloat\n",
      "\ttpr\tfloat\n",
      "\tp\tint\n",
      "\tn\tint\n",
      "\n",
      "Rows: 100001\n",
      "\n",
      "Data:\n",
      "+-----------+-----+-----+------+-------+\n",
      "| threshold | fpr | tpr |  p   |   n   |\n",
      "+-----------+-----+-----+------+-------+\n",
      "|    0.0    | 1.0 | 1.0 | 9392 | 10241 |\n",
      "|   1e-05   | 1.0 | 1.0 | 9392 | 10241 |\n",
      "|   2e-05   | 1.0 | 1.0 | 9392 | 10241 |\n",
      "|   3e-05   | 1.0 | 1.0 | 9392 | 10241 |\n",
      "|   4e-05   | 1.0 | 1.0 | 9392 | 10241 |\n",
      "|   5e-05   | 1.0 | 1.0 | 9392 | 10241 |\n",
      "|   6e-05   | 1.0 | 1.0 | 9392 | 10241 |\n",
      "|   7e-05   | 1.0 | 1.0 | 9392 | 10241 |\n",
      "|   8e-05   | 1.0 | 1.0 | 9392 | 10241 |\n",
      "|   9e-05   | 1.0 | 1.0 | 9392 | 10241 |\n",
      "+-----------+-----+-----+------+-------+\n",
      "[100001 rows x 5 columns]\n",
      "Note: Only the head of the SFrame is printed.\n",
      "You can use print_rows(num_rows=m, num_columns=n) to print more rows and columns., 'confusion_matrix': Columns:\n",
      "\ttarget_label\tint\n",
      "\tpredicted_label\tint\n",
      "\tcount\tint\n",
      "\n",
      "Rows: 4\n",
      "\n",
      "Data:\n",
      "+--------------+-----------------+-------+\n",
      "| target_label | predicted_label | count |\n",
      "+--------------+-----------------+-------+\n",
      "|      1       |        1        |  5725 |\n",
      "|      1       |        0        |  3667 |\n",
      "|      0       |        1        |  790  |\n",
      "|      0       |        0        |  9451 |\n",
      "+--------------+-----------------+-------+\n",
      "[4 rows x 3 columns]\n",
      ", 'accuracy': 0.7729842611928895}\n"
     ]
    }
   ],
   "source": [
    "print forset_model.evaluate(test_data)"
   ]
  },
  {
   "cell_type": "code",
   "execution_count": 28,
   "metadata": {
    "collapsed": false
   },
   "outputs": [
    {
     "name": "stdout",
     "output_type": "stream",
     "text": [
      "PROGRESS: Creating a validation set from 5 percent of training data. This may take a while.\n",
      "          You can set ``validation_set=None`` to disable validation tracking.\n",
      "\n"
     ]
    },
    {
     "data": {
      "text/html": [
       "<pre>SVM:</pre>"
      ],
      "text/plain": [
       "SVM:"
      ]
     },
     "metadata": {},
     "output_type": "display_data"
    },
    {
     "data": {
      "text/html": [
       "<pre>--------------------------------------------------------</pre>"
      ],
      "text/plain": [
       "--------------------------------------------------------"
      ]
     },
     "metadata": {},
     "output_type": "display_data"
    },
    {
     "data": {
      "text/html": [
       "<pre>Number of examples          : 74385</pre>"
      ],
      "text/plain": [
       "Number of examples          : 74385"
      ]
     },
     "metadata": {},
     "output_type": "display_data"
    },
    {
     "data": {
      "text/html": [
       "<pre>Number of classes           : 2</pre>"
      ],
      "text/plain": [
       "Number of classes           : 2"
      ]
     },
     "metadata": {},
     "output_type": "display_data"
    },
    {
     "data": {
      "text/html": [
       "<pre>Number of feature columns   : 24</pre>"
      ],
      "text/plain": [
       "Number of feature columns   : 24"
      ]
     },
     "metadata": {},
     "output_type": "display_data"
    },
    {
     "data": {
      "text/html": [
       "<pre>Number of unpacked features : 24</pre>"
      ],
      "text/plain": [
       "Number of unpacked features : 24"
      ]
     },
     "metadata": {},
     "output_type": "display_data"
    },
    {
     "data": {
      "text/html": [
       "<pre>Number of coefficients    : 25</pre>"
      ],
      "text/plain": [
       "Number of coefficients    : 25"
      ]
     },
     "metadata": {},
     "output_type": "display_data"
    },
    {
     "data": {
      "text/html": [
       "<pre>Starting L-BFGS</pre>"
      ],
      "text/plain": [
       "Starting L-BFGS"
      ]
     },
     "metadata": {},
     "output_type": "display_data"
    },
    {
     "data": {
      "text/html": [
       "<pre>--------------------------------------------------------</pre>"
      ],
      "text/plain": [
       "--------------------------------------------------------"
      ]
     },
     "metadata": {},
     "output_type": "display_data"
    },
    {
     "data": {
      "text/html": [
       "<pre>+-----------+----------+-----------+--------------+-------------------+---------------------+</pre>"
      ],
      "text/plain": [
       "+-----------+----------+-----------+--------------+-------------------+---------------------+"
      ]
     },
     "metadata": {},
     "output_type": "display_data"
    },
    {
     "data": {
      "text/html": [
       "<pre>| Iteration | Passes   | Step size | Elapsed Time | Training-accuracy | Validation-accuracy |</pre>"
      ],
      "text/plain": [
       "| Iteration | Passes   | Step size | Elapsed Time | Training-accuracy | Validation-accuracy |"
      ]
     },
     "metadata": {},
     "output_type": "display_data"
    },
    {
     "data": {
      "text/html": [
       "<pre>+-----------+----------+-----------+--------------+-------------------+---------------------+</pre>"
      ],
      "text/plain": [
       "+-----------+----------+-----------+--------------+-------------------+---------------------+"
      ]
     },
     "metadata": {},
     "output_type": "display_data"
    },
    {
     "data": {
      "text/html": [
       "<pre>| 1         | 4        | 0.000067  | 0.120123     | 0.653021          | 0.656944            |</pre>"
      ],
      "text/plain": [
       "| 1         | 4        | 0.000067  | 0.120123     | 0.653021          | 0.656944            |"
      ]
     },
     "metadata": {},
     "output_type": "display_data"
    },
    {
     "data": {
      "text/html": [
       "<pre>| 2         | 7        | 0.500000  | 0.239570     | 0.654877          | 0.665462            |</pre>"
      ],
      "text/plain": [
       "| 2         | 7        | 0.500000  | 0.239570     | 0.654877          | 0.665462            |"
      ]
     },
     "metadata": {},
     "output_type": "display_data"
    },
    {
     "data": {
      "text/html": [
       "<pre>| 3         | 8        | 0.500000  | 0.296228     | 0.653694          | 0.664688            |</pre>"
      ],
      "text/plain": [
       "| 3         | 8        | 0.500000  | 0.296228     | 0.653694          | 0.664688            |"
      ]
     },
     "metadata": {},
     "output_type": "display_data"
    },
    {
     "data": {
      "text/html": [
       "<pre>| 4         | 9        | 0.500000  | 0.373374     | 0.530026          | 0.543108            |</pre>"
      ],
      "text/plain": [
       "| 4         | 9        | 0.500000  | 0.373374     | 0.530026          | 0.543108            |"
      ]
     },
     "metadata": {},
     "output_type": "display_data"
    },
    {
     "data": {
      "text/html": [
       "<pre>| 5         | 11       | 1.000000  | 0.482510     | 0.698246          | 0.691533            |</pre>"
      ],
      "text/plain": [
       "| 5         | 11       | 1.000000  | 0.482510     | 0.698246          | 0.691533            |"
      ]
     },
     "metadata": {},
     "output_type": "display_data"
    },
    {
     "data": {
      "text/html": [
       "<pre>| 6         | 12       | 1.000000  | 0.540412     | 0.701284          | 0.696954            |</pre>"
      ],
      "text/plain": [
       "| 6         | 12       | 1.000000  | 0.540412     | 0.701284          | 0.696954            |"
      ]
     },
     "metadata": {},
     "output_type": "display_data"
    },
    {
     "data": {
      "text/html": [
       "<pre>| 11        | 17       | 1.000000  | 0.870941     | 0.761269          | 0.758131            |</pre>"
      ],
      "text/plain": [
       "| 11        | 17       | 1.000000  | 0.870941     | 0.761269          | 0.758131            |"
      ]
     },
     "metadata": {},
     "output_type": "display_data"
    },
    {
     "data": {
      "text/html": [
       "<pre>| 25        | 34       | 1.000000  | 1.898298     | 0.773879          | 0.766391            |</pre>"
      ],
      "text/plain": [
       "| 25        | 34       | 1.000000  | 1.898298     | 0.773879          | 0.766391            |"
      ]
     },
     "metadata": {},
     "output_type": "display_data"
    },
    {
     "data": {
      "text/html": [
       "<pre>| 50        | 71       | 0.500000  | 3.694795     | 0.777953          | 0.768715            |</pre>"
      ],
      "text/plain": [
       "| 50        | 71       | 0.500000  | 3.694795     | 0.777953          | 0.768715            |"
      ]
     },
     "metadata": {},
     "output_type": "display_data"
    },
    {
     "data": {
      "text/html": [
       "<pre>| 51        | 72       | 0.500000  | 3.765444     | 0.777953          | 0.768715            |</pre>"
      ],
      "text/plain": [
       "| 51        | 72       | 0.500000  | 3.765444     | 0.777953          | 0.768715            |"
      ]
     },
     "metadata": {},
     "output_type": "display_data"
    },
    {
     "data": {
      "text/html": [
       "<pre>| 75        | 109      | 1.000000  | 5.353692     | 0.777953          | 0.768715            |</pre>"
      ],
      "text/plain": [
       "| 75        | 109      | 1.000000  | 5.353692     | 0.777953          | 0.768715            |"
      ]
     },
     "metadata": {},
     "output_type": "display_data"
    },
    {
     "data": {
      "text/html": [
       "<pre>+-----------+----------+-----------+--------------+-------------------+---------------------+</pre>"
      ],
      "text/plain": [
       "+-----------+----------+-----------+--------------+-------------------+---------------------+"
      ]
     },
     "metadata": {},
     "output_type": "display_data"
    },
    {
     "data": {
      "text/html": [
       "<pre>SUCCESS: Optimal solution found.</pre>"
      ],
      "text/plain": [
       "SUCCESS: Optimal solution found."
      ]
     },
     "metadata": {},
     "output_type": "display_data"
    },
    {
     "data": {
      "text/html": [
       "<pre></pre>"
      ],
      "text/plain": []
     },
     "metadata": {},
     "output_type": "display_data"
    }
   ],
   "source": [
    "svm_model = gl.svm_classifier.create(train_data,target='delay',features=features_2,max_iterations=100)"
   ]
  },
  {
   "cell_type": "code",
   "execution_count": 29,
   "metadata": {
    "collapsed": false
   },
   "outputs": [
    {
     "ename": "NameError",
     "evalue": "name 'tets_data' is not defined",
     "output_type": "error",
     "traceback": [
      "\u001b[1;31m---------------------------------------------------------------------------\u001b[0m",
      "\u001b[1;31mNameError\u001b[0m                                 Traceback (most recent call last)",
      "\u001b[1;32m<ipython-input-29-d83b8defaa53>\u001b[0m in \u001b[0;36m<module>\u001b[1;34m()\u001b[0m\n\u001b[1;32m----> 1\u001b[1;33m \u001b[1;32mprint\u001b[0m \u001b[0msvm_model\u001b[0m\u001b[1;33m.\u001b[0m\u001b[0mevaluate\u001b[0m\u001b[1;33m(\u001b[0m\u001b[0mtets_data\u001b[0m\u001b[1;33m)\u001b[0m\u001b[1;33m\u001b[0m\u001b[0m\n\u001b[0m",
      "\u001b[1;31mNameError\u001b[0m: name 'tets_data' is not defined"
     ]
    }
   ],
   "source": [
    "print svm_model.evaluate(tets_data)"
   ]
  },
  {
   "cell_type": "code",
   "execution_count": 30,
   "metadata": {
    "collapsed": false
   },
   "outputs": [
    {
     "name": "stdout",
     "output_type": "stream",
     "text": [
      "{'f1_score': 0.7153507933473524, 'recall': 0.5976362862010222, 'confusion_matrix': Columns:\n",
      "\ttarget_label\tint\n",
      "\tpredicted_label\tint\n",
      "\tcount\tint\n",
      "\n",
      "Rows: 4\n",
      "\n",
      "Data:\n",
      "+--------------+-----------------+-------+\n",
      "| target_label | predicted_label | count |\n",
      "+--------------+-----------------+-------+\n",
      "|      0       |        1        |  688  |\n",
      "|      1       |        1        |  5613 |\n",
      "|      1       |        0        |  3779 |\n",
      "|      0       |        0        |  9553 |\n",
      "+--------------+-----------------+-------+\n",
      "[4 rows x 3 columns]\n",
      ", 'precision': 0.8908109823837486, 'accuracy': 0.7724749146844598}\n"
     ]
    }
   ],
   "source": [
    "print svm_model.evaluate(test_data)"
   ]
  },
  {
   "cell_type": "code",
   "execution_count": 31,
   "metadata": {
    "collapsed": false
   },
   "outputs": [
    {
     "name": "stdout",
     "output_type": "stream",
     "text": [
      "PROGRESS: Creating a validation set from 5 percent of training data. This may take a while.\n",
      "          You can set ``validation_set=None`` to disable validation tracking.\n",
      "\n"
     ]
    },
    {
     "data": {
      "text/html": [
       "<pre>Boosted trees classifier:</pre>"
      ],
      "text/plain": [
       "Boosted trees classifier:"
      ]
     },
     "metadata": {},
     "output_type": "display_data"
    },
    {
     "data": {
      "text/html": [
       "<pre>--------------------------------------------------------</pre>"
      ],
      "text/plain": [
       "--------------------------------------------------------"
      ]
     },
     "metadata": {},
     "output_type": "display_data"
    },
    {
     "data": {
      "text/html": [
       "<pre>Number of examples          : 74299</pre>"
      ],
      "text/plain": [
       "Number of examples          : 74299"
      ]
     },
     "metadata": {},
     "output_type": "display_data"
    },
    {
     "data": {
      "text/html": [
       "<pre>Number of classes           : 2</pre>"
      ],
      "text/plain": [
       "Number of classes           : 2"
      ]
     },
     "metadata": {},
     "output_type": "display_data"
    },
    {
     "data": {
      "text/html": [
       "<pre>Number of feature columns   : 24</pre>"
      ],
      "text/plain": [
       "Number of feature columns   : 24"
      ]
     },
     "metadata": {},
     "output_type": "display_data"
    },
    {
     "data": {
      "text/html": [
       "<pre>Number of unpacked features : 24</pre>"
      ],
      "text/plain": [
       "Number of unpacked features : 24"
      ]
     },
     "metadata": {},
     "output_type": "display_data"
    },
    {
     "data": {
      "text/html": [
       "<pre>+-----------+--------------+-------------------+---------------------+-------------------+---------------------+</pre>"
      ],
      "text/plain": [
       "+-----------+--------------+-------------------+---------------------+-------------------+---------------------+"
      ]
     },
     "metadata": {},
     "output_type": "display_data"
    },
    {
     "data": {
      "text/html": [
       "<pre>| Iteration | Elapsed Time | Training-accuracy | Validation-accuracy | Training-log_loss | Validation-log_loss |</pre>"
      ],
      "text/plain": [
       "| Iteration | Elapsed Time | Training-accuracy | Validation-accuracy | Training-log_loss | Validation-log_loss |"
      ]
     },
     "metadata": {},
     "output_type": "display_data"
    },
    {
     "data": {
      "text/html": [
       "<pre>+-----------+--------------+-------------------+---------------------+-------------------+---------------------+</pre>"
      ],
      "text/plain": [
       "+-----------+--------------+-------------------+---------------------+-------------------+---------------------+"
      ]
     },
     "metadata": {},
     "output_type": "display_data"
    },
    {
     "data": {
      "text/html": [
       "<pre>| 1         | 0.095261     | 0.773631          | 0.765152            | 0.591630          | 0.594687            |</pre>"
      ],
      "text/plain": [
       "| 1         | 0.095261     | 0.773631          | 0.765152            | 0.591630          | 0.594687            |"
      ]
     },
     "metadata": {},
     "output_type": "display_data"
    },
    {
     "data": {
      "text/html": [
       "<pre>| 2         | 0.192531     | 0.777184          | 0.768939            | 0.536031          | 0.540542            |</pre>"
      ],
      "text/plain": [
       "| 2         | 0.192531     | 0.777184          | 0.768939            | 0.536031          | 0.540542            |"
      ]
     },
     "metadata": {},
     "output_type": "display_data"
    },
    {
     "data": {
      "text/html": [
       "<pre>| 3         | 0.281782     | 0.779405          | 0.770960            | 0.502583          | 0.508236            |</pre>"
      ],
      "text/plain": [
       "| 3         | 0.281782     | 0.779405          | 0.770960            | 0.502583          | 0.508236            |"
      ]
     },
     "metadata": {},
     "output_type": "display_data"
    },
    {
     "data": {
      "text/html": [
       "<pre>| 4         | 0.367647     | 0.780401          | 0.770960            | 0.481644          | 0.488227            |</pre>"
      ],
      "text/plain": [
       "| 4         | 0.367647     | 0.780401          | 0.770960            | 0.481644          | 0.488227            |"
      ]
     },
     "metadata": {},
     "output_type": "display_data"
    },
    {
     "data": {
      "text/html": [
       "<pre>| 5         | 0.452051     | 0.781383          | 0.770707            | 0.468100          | 0.475211            |</pre>"
      ],
      "text/plain": [
       "| 5         | 0.452051     | 0.781383          | 0.770707            | 0.468100          | 0.475211            |"
      ]
     },
     "metadata": {},
     "output_type": "display_data"
    },
    {
     "data": {
      "text/html": [
       "<pre>| 6         | 0.551807     | 0.782810          | 0.773232            | 0.458148          | 0.465350            |</pre>"
      ],
      "text/plain": [
       "| 6         | 0.551807     | 0.782810          | 0.773232            | 0.458148          | 0.465350            |"
      ]
     },
     "metadata": {},
     "output_type": "display_data"
    },
    {
     "data": {
      "text/html": [
       "<pre>+-----------+--------------+-------------------+---------------------+-------------------+---------------------+</pre>"
      ],
      "text/plain": [
       "+-----------+--------------+-------------------+---------------------+-------------------+---------------------+"
      ]
     },
     "metadata": {},
     "output_type": "display_data"
    }
   ],
   "source": [
    "boost_model = gl.boosted_trees_classifier.create(train_data,target='delay',features=features_2)"
   ]
  },
  {
   "cell_type": "code",
   "execution_count": 32,
   "metadata": {
    "collapsed": false
   },
   "outputs": [
    {
     "name": "stdout",
     "output_type": "stream",
     "text": [
      "{'f1_score': 0.7282420034713613, 'auc': 0.8593003380040192, 'recall': 0.6254258943781942, 'precision': 0.871513353115727, 'log_loss': 0.44484329096303765, 'roc_curve': Columns:\n",
      "\tthreshold\tfloat\n",
      "\tfpr\tfloat\n",
      "\ttpr\tfloat\n",
      "\tp\tint\n",
      "\tn\tint\n",
      "\n",
      "Rows: 100001\n",
      "\n",
      "Data:\n",
      "+-----------+-----+-----+------+-------+\n",
      "| threshold | fpr | tpr |  p   |   n   |\n",
      "+-----------+-----+-----+------+-------+\n",
      "|    0.0    | 1.0 | 1.0 | 9392 | 10241 |\n",
      "|   1e-05   | 1.0 | 1.0 | 9392 | 10241 |\n",
      "|   2e-05   | 1.0 | 1.0 | 9392 | 10241 |\n",
      "|   3e-05   | 1.0 | 1.0 | 9392 | 10241 |\n",
      "|   4e-05   | 1.0 | 1.0 | 9392 | 10241 |\n",
      "|   5e-05   | 1.0 | 1.0 | 9392 | 10241 |\n",
      "|   6e-05   | 1.0 | 1.0 | 9392 | 10241 |\n",
      "|   7e-05   | 1.0 | 1.0 | 9392 | 10241 |\n",
      "|   8e-05   | 1.0 | 1.0 | 9392 | 10241 |\n",
      "|   9e-05   | 1.0 | 1.0 | 9392 | 10241 |\n",
      "+-----------+-----+-----+------+-------+\n",
      "[100001 rows x 5 columns]\n",
      "Note: Only the head of the SFrame is printed.\n",
      "You can use print_rows(num_rows=m, num_columns=n) to print more rows and columns., 'confusion_matrix': Columns:\n",
      "\ttarget_label\tint\n",
      "\tpredicted_label\tint\n",
      "\tcount\tint\n",
      "\n",
      "Rows: 4\n",
      "\n",
      "Data:\n",
      "+--------------+-----------------+-------+\n",
      "| target_label | predicted_label | count |\n",
      "+--------------+-----------------+-------+\n",
      "|      1       |        1        |  5874 |\n",
      "|      1       |        0        |  3518 |\n",
      "|      0       |        1        |  866  |\n",
      "|      0       |        0        |  9375 |\n",
      "+--------------+-----------------+-------+\n",
      "[4 rows x 3 columns]\n",
      ", 'accuracy': 0.7767024907044262}\n"
     ]
    }
   ],
   "source": [
    "print boost_model.evaluate(test_data)"
   ]
  },
  {
   "cell_type": "code",
   "execution_count": 33,
   "metadata": {
    "collapsed": false
   },
   "outputs": [
    {
     "name": "stdout",
     "output_type": "stream",
     "text": [
      "0\n"
     ]
    }
   ],
   "source": [
    "print (5874+9375)/(5874+9375+3518+866)"
   ]
  },
  {
   "cell_type": "code",
   "execution_count": 34,
   "metadata": {
    "collapsed": false
   },
   "outputs": [
    {
     "name": "stdout",
     "output_type": "stream",
     "text": [
      "0.776702490704\n"
     ]
    }
   ],
   "source": [
    "print float(5874+9375)/(5874+9375+3518+866)"
   ]
  },
  {
   "cell_type": "code",
   "execution_count": 35,
   "metadata": {
    "collapsed": false
   },
   "outputs": [
    {
     "name": "stdout",
     "output_type": "stream",
     "text": [
      "0.763963088878\n"
     ]
    }
   ],
   "source": [
    "print float(1148+425)/(1148+425+108+378)"
   ]
  },
  {
   "cell_type": "code",
   "execution_count": 36,
   "metadata": {
    "collapsed": false
   },
   "outputs": [
    {
     "name": "stdout",
     "output_type": "stream",
     "text": [
      "0.248\n"
     ]
    }
   ],
   "source": [
    "print float(866/(866+9375)*0.6+0.62*0.4)"
   ]
  },
  {
   "cell_type": "code",
   "execution_count": 37,
   "metadata": {
    "collapsed": false
   },
   "outputs": [
    {
     "name": "stdout",
     "output_type": "stream",
     "text": [
      "0.248\n"
     ]
    }
   ],
   "source": [
    "print float(9375/(866+9375)*0.6+0.62*0.4)"
   ]
  },
  {
   "cell_type": "code",
   "execution_count": 38,
   "metadata": {
    "collapsed": false
   },
   "outputs": [
    {
     "name": "stdout",
     "output_type": "stream",
     "text": [
      "0.248\n"
     ]
    }
   ],
   "source": [
    "print float(9375/(866+9375)*0.6+0.62*0.4)"
   ]
  },
  {
   "cell_type": "code",
   "execution_count": 39,
   "metadata": {
    "collapsed": false
   },
   "outputs": [
    {
     "data": {
      "text/plain": [
       "0"
      ]
     },
     "execution_count": 39,
     "metadata": {},
     "output_type": "execute_result"
    }
   ],
   "source": [
    "9375/(866+9375)"
   ]
  },
  {
   "cell_type": "code",
   "execution_count": 40,
   "metadata": {
    "collapsed": false
   },
   "outputs": [
    {
     "name": "stdout",
     "output_type": "stream",
     "text": [
      "0.797262767308\n"
     ]
    }
   ],
   "source": [
    "print float(9375)/(866+9375)*0.6+0.62*0.4"
   ]
  },
  {
   "cell_type": "code",
   "execution_count": 41,
   "metadata": {
    "collapsed": false
   },
   "outputs": [
    {
     "name": "stdout",
     "output_type": "stream",
     "text": [
      "0.915437945513\n"
     ]
    }
   ],
   "source": [
    "print float(9375)/(866+9375)"
   ]
  },
  {
   "cell_type": "code",
   "execution_count": 42,
   "metadata": {
    "collapsed": false
   },
   "outputs": [
    {
     "name": "stdout",
     "output_type": "stream",
     "text": [
      "97892\n"
     ]
    }
   ],
   "source": [
    "print len(data2)"
   ]
  },
  {
   "cell_type": "code",
   "execution_count": 43,
   "metadata": {
    "collapsed": false
   },
   "outputs": [
    {
     "name": "stdout",
     "output_type": "stream",
     "text": [
      "39156.8\n"
     ]
    }
   ],
   "source": [
    "print 97892*0.4"
   ]
  },
  {
   "cell_type": "code",
   "execution_count": 44,
   "metadata": {
    "collapsed": false
   },
   "outputs": [
    {
     "name": "stdout",
     "output_type": "stream",
     "text": [
      "7182\n"
     ]
    }
   ],
   "source": [
    "print 46339-39157\n"
   ]
  },
  {
   "cell_type": "code",
   "execution_count": null,
   "metadata": {
    "collapsed": true
   },
   "outputs": [],
   "source": []
  }
 ],
 "metadata": {
  "kernelspec": {
   "display_name": "Python 2",
   "language": "python",
   "name": "python2"
  },
  "language_info": {
   "codemirror_mode": {
    "name": "ipython",
    "version": 2
   },
   "file_extension": ".py",
   "mimetype": "text/x-python",
   "name": "python",
   "nbconvert_exporter": "python",
   "pygments_lexer": "ipython2",
   "version": "2.7.11"
  }
 },
 "nbformat": 4,
 "nbformat_minor": 0
}
