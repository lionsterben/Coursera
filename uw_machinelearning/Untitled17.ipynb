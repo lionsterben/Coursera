{
 "cells": [
  {
   "cell_type": "code",
   "execution_count": 2,
   "metadata": {
    "collapsed": false
   },
   "outputs": [],
   "source": [
    "import graphlab as gl"
   ]
  },
  {
   "cell_type": "code",
   "execution_count": 3,
   "metadata": {
    "collapsed": false
   },
   "outputs": [
    {
     "name": "stdout",
     "output_type": "stream",
     "text": [
      "This non-commercial license of GraphLab Create for academic use is assigned to lionsterben@outlook.com and will expire on May 04, 2018.\n"
     ]
    },
    {
     "name": "stderr",
     "output_type": "stream",
     "text": [
      "[INFO] graphlab.cython.cy_server: GraphLab Create v2.1 started. Logging: C:\\Users\\david\\AppData\\Local\\Temp\\graphlab_server_1494550355.log.0\n"
     ]
    },
    {
     "data": {
      "text/html": [
       "<pre>Finished parsing file C:\\Users\\david\\tst.csv</pre>"
      ],
      "text/plain": [
       "Finished parsing file C:\\Users\\david\\tst.csv"
      ]
     },
     "metadata": {},
     "output_type": "display_data"
    },
    {
     "data": {
      "text/html": [
       "<pre>Parsing completed. Parsed 100 lines in 0.429429 secs.</pre>"
      ],
      "text/plain": [
       "Parsing completed. Parsed 100 lines in 0.429429 secs."
      ]
     },
     "metadata": {},
     "output_type": "display_data"
    },
    {
     "name": "stdout",
     "output_type": "stream",
     "text": [
      "------------------------------------------------------\n",
      "Inferred types from first 100 line(s) of file as \n",
      "column_type_hints=[long,float,float,float,long,long,long,long,long,long,long,long,long,long,long,long,long,long,long,long,long,long,long,long,long,long,long,long]\n",
      "If parsing fails due to incorrect types, you can correct\n",
      "the inferred type list above and pass it to read_csv in\n",
      "the column_type_hints argument\n",
      "------------------------------------------------------\n"
     ]
    },
    {
     "data": {
      "text/html": [
       "<pre>Finished parsing file C:\\Users\\david\\tst.csv</pre>"
      ],
      "text/plain": [
       "Finished parsing file C:\\Users\\david\\tst.csv"
      ]
     },
     "metadata": {},
     "output_type": "display_data"
    },
    {
     "data": {
      "text/html": [
       "<pre>Parsing completed. Parsed 255336 lines in 0.616526 secs.</pre>"
      ],
      "text/plain": [
       "Parsing completed. Parsed 255336 lines in 0.616526 secs."
      ]
     },
     "metadata": {},
     "output_type": "display_data"
    }
   ],
   "source": [
    "data = gl.SFrame('tst.csv')"
   ]
  },
  {
   "cell_type": "raw",
   "metadata": {},
   "source": [
    "print len(data)"
   ]
  },
  {
   "cell_type": "code",
   "execution_count": 4,
   "metadata": {
    "collapsed": false
   },
   "outputs": [
    {
     "name": "stdout",
     "output_type": "stream",
     "text": [
      "255336\n"
     ]
    }
   ],
   "source": [
    "print len(data)"
   ]
  },
  {
   "cell_type": "code",
   "execution_count": 5,
   "metadata": {
    "collapsed": true
   },
   "outputs": [],
   "source": [
    "train_data,test_data = data.random_split(0.8,seed=23)"
   ]
  },
  {
   "cell_type": "code",
   "execution_count": 6,
   "metadata": {
    "collapsed": true
   },
   "outputs": [],
   "source": [
    "my_features = ['quarter_1','quarter_2','quarter_3','quarter_4','time_1',\n",
    "              'time_2','time_3','time_4','time_5','time_6','time_7','time_8',\n",
    "              'time_9','time_10','week_1','week_2','week_3','week_4','week_5','week_6','week_7',\n",
    "              'airport','control','guarantee']"
   ]
  },
  {
   "cell_type": "code",
   "execution_count": 7,
   "metadata": {
    "collapsed": false
   },
   "outputs": [
    {
     "name": "stdout",
     "output_type": "stream",
     "text": [
      "PROGRESS: Creating a validation set from 5 percent of training data. This may take a while.\n",
      "          You can set ``validation_set=None`` to disable validation tracking.\n",
      "\n"
     ]
    },
    {
     "data": {
      "text/html": [
       "<pre>Logistic regression:</pre>"
      ],
      "text/plain": [
       "Logistic regression:"
      ]
     },
     "metadata": {},
     "output_type": "display_data"
    },
    {
     "data": {
      "text/html": [
       "<pre>--------------------------------------------------------</pre>"
      ],
      "text/plain": [
       "--------------------------------------------------------"
      ]
     },
     "metadata": {},
     "output_type": "display_data"
    },
    {
     "data": {
      "text/html": [
       "<pre>Number of examples          : 194077</pre>"
      ],
      "text/plain": [
       "Number of examples          : 194077"
      ]
     },
     "metadata": {},
     "output_type": "display_data"
    },
    {
     "data": {
      "text/html": [
       "<pre>Number of classes           : 2</pre>"
      ],
      "text/plain": [
       "Number of classes           : 2"
      ]
     },
     "metadata": {},
     "output_type": "display_data"
    },
    {
     "data": {
      "text/html": [
       "<pre>Number of feature columns   : 24</pre>"
      ],
      "text/plain": [
       "Number of feature columns   : 24"
      ]
     },
     "metadata": {},
     "output_type": "display_data"
    },
    {
     "data": {
      "text/html": [
       "<pre>Number of unpacked features : 24</pre>"
      ],
      "text/plain": [
       "Number of unpacked features : 24"
      ]
     },
     "metadata": {},
     "output_type": "display_data"
    },
    {
     "data": {
      "text/html": [
       "<pre>Number of coefficients    : 25</pre>"
      ],
      "text/plain": [
       "Number of coefficients    : 25"
      ]
     },
     "metadata": {},
     "output_type": "display_data"
    },
    {
     "data": {
      "text/html": [
       "<pre>Starting Newton Method</pre>"
      ],
      "text/plain": [
       "Starting Newton Method"
      ]
     },
     "metadata": {},
     "output_type": "display_data"
    },
    {
     "data": {
      "text/html": [
       "<pre>--------------------------------------------------------</pre>"
      ],
      "text/plain": [
       "--------------------------------------------------------"
      ]
     },
     "metadata": {},
     "output_type": "display_data"
    },
    {
     "data": {
      "text/html": [
       "<pre>+-----------+----------+--------------+-------------------+---------------------+</pre>"
      ],
      "text/plain": [
       "+-----------+----------+--------------+-------------------+---------------------+"
      ]
     },
     "metadata": {},
     "output_type": "display_data"
    },
    {
     "data": {
      "text/html": [
       "<pre>| Iteration | Passes   | Elapsed Time | Training-accuracy | Validation-accuracy |</pre>"
      ],
      "text/plain": [
       "| Iteration | Passes   | Elapsed Time | Training-accuracy | Validation-accuracy |"
      ]
     },
     "metadata": {},
     "output_type": "display_data"
    },
    {
     "data": {
      "text/html": [
       "<pre>+-----------+----------+--------------+-------------------+---------------------+</pre>"
      ],
      "text/plain": [
       "+-----------+----------+--------------+-------------------+---------------------+"
      ]
     },
     "metadata": {},
     "output_type": "display_data"
    },
    {
     "data": {
      "text/html": [
       "<pre>| 1         | 2        | 1.815008     | 0.640895          | 0.640090            |</pre>"
      ],
      "text/plain": [
       "| 1         | 2        | 1.815008     | 0.640895          | 0.640090            |"
      ]
     },
     "metadata": {},
     "output_type": "display_data"
    },
    {
     "data": {
      "text/html": [
       "<pre>| 2         | 3        | 2.285805     | 0.712109          | 0.715722            |</pre>"
      ],
      "text/plain": [
       "| 2         | 3        | 2.285805     | 0.712109          | 0.715722            |"
      ]
     },
     "metadata": {},
     "output_type": "display_data"
    },
    {
     "data": {
      "text/html": [
       "<pre>| 3         | 4        | 2.714564     | 0.734142          | 0.737094            |</pre>"
      ],
      "text/plain": [
       "| 3         | 4        | 2.714564     | 0.734142          | 0.737094            |"
      ]
     },
     "metadata": {},
     "output_type": "display_data"
    },
    {
     "data": {
      "text/html": [
       "<pre>| 4         | 5        | 3.065712     | 0.738867          | 0.741485            |</pre>"
      ],
      "text/plain": [
       "| 4         | 5        | 3.065712     | 0.738867          | 0.741485            |"
      ]
     },
     "metadata": {},
     "output_type": "display_data"
    },
    {
     "data": {
      "text/html": [
       "<pre>| 5         | 6        | 3.413327     | 0.739938          | 0.742071            |</pre>"
      ],
      "text/plain": [
       "| 5         | 6        | 3.413327     | 0.739938          | 0.742071            |"
      ]
     },
     "metadata": {},
     "output_type": "display_data"
    },
    {
     "data": {
      "text/html": [
       "<pre>| 6         | 7        | 3.827762     | 0.740036          | 0.741973            |</pre>"
      ],
      "text/plain": [
       "| 6         | 7        | 3.827762     | 0.740036          | 0.741973            |"
      ]
     },
     "metadata": {},
     "output_type": "display_data"
    },
    {
     "data": {
      "text/html": [
       "<pre>+-----------+----------+--------------+-------------------+---------------------+</pre>"
      ],
      "text/plain": [
       "+-----------+----------+--------------+-------------------+---------------------+"
      ]
     },
     "metadata": {},
     "output_type": "display_data"
    },
    {
     "data": {
      "text/html": [
       "<pre>SUCCESS: Optimal solution found.</pre>"
      ],
      "text/plain": [
       "SUCCESS: Optimal solution found."
      ]
     },
     "metadata": {},
     "output_type": "display_data"
    },
    {
     "data": {
      "text/html": [
       "<pre></pre>"
      ],
      "text/plain": []
     },
     "metadata": {},
     "output_type": "display_data"
    }
   ],
   "source": [
    "log_model = gl.logistic_classifier.create(train_data,target='delay',features=my_features)"
   ]
  },
  {
   "cell_type": "code",
   "execution_count": 8,
   "metadata": {
    "collapsed": false
   },
   "outputs": [
    {
     "name": "stdout",
     "output_type": "stream",
     "text": [
      "{'f1_score': 0.6767260634337618, 'auc': 0.806386338389288, 'recall': 0.585980143550952, 'precision': 0.8007282551242145, 'log_loss': 0.5491011534359412, 'roc_curve': Columns:\n",
      "\tthreshold\tfloat\n",
      "\tfpr\tfloat\n",
      "\ttpr\tfloat\n",
      "\tp\tint\n",
      "\tn\tint\n",
      "\n",
      "Rows: 100001\n",
      "\n",
      "Data:\n",
      "+-----------+---------------+----------------+-------+-------+\n",
      "| threshold |      fpr      |      tpr       |   p   |   n   |\n",
      "+-----------+---------------+----------------+-------+-------+\n",
      "|    0.0    |      1.0      |      1.0       | 23267 | 27745 |\n",
      "|   1e-05   | 0.99996395747 | 0.999828082692 | 23267 | 27745 |\n",
      "|   2e-05   | 0.99996395747 | 0.999828082692 | 23267 | 27745 |\n",
      "|   3e-05   | 0.99996395747 | 0.999828082692 | 23267 | 27745 |\n",
      "|   4e-05   | 0.99996395747 | 0.999785103365 | 23267 | 27745 |\n",
      "|   5e-05   | 0.99996395747 | 0.999742124038 | 23267 | 27745 |\n",
      "|   6e-05   | 0.99996395747 | 0.999742124038 | 23267 | 27745 |\n",
      "|   7e-05   | 0.99996395747 | 0.999742124038 | 23267 | 27745 |\n",
      "|   8e-05   | 0.99996395747 | 0.999742124038 | 23267 | 27745 |\n",
      "|   9e-05   | 0.99996395747 | 0.999742124038 | 23267 | 27745 |\n",
      "+-----------+---------------+----------------+-------+-------+\n",
      "[100001 rows x 5 columns]\n",
      "Note: Only the head of the SFrame is printed.\n",
      "You can use print_rows(num_rows=m, num_columns=n) to print more rows and columns., 'confusion_matrix': Columns:\n",
      "\ttarget_label\tint\n",
      "\tpredicted_label\tint\n",
      "\tcount\tint\n",
      "\n",
      "Rows: 4\n",
      "\n",
      "Data:\n",
      "+--------------+-----------------+-------+\n",
      "| target_label | predicted_label | count |\n",
      "+--------------+-----------------+-------+\n",
      "|      1       |        0        |  9633 |\n",
      "|      0       |        1        |  3393 |\n",
      "|      1       |        1        | 13634 |\n",
      "|      0       |        0        | 24352 |\n",
      "+--------------+-----------------+-------+\n",
      "[4 rows x 3 columns]\n",
      ", 'accuracy': 0.7446483180428135}\n"
     ]
    }
   ],
   "source": [
    "print log_model.evaluate(test_data)"
   ]
  },
  {
   "cell_type": "code",
   "execution_count": 9,
   "metadata": {
    "collapsed": false
   },
   "outputs": [
    {
     "name": "stdout",
     "output_type": "stream",
     "text": [
      "51012\n"
     ]
    }
   ],
   "source": [
    "print len(test_data)"
   ]
  },
  {
   "cell_type": "code",
   "execution_count": 10,
   "metadata": {
    "collapsed": false
   },
   "outputs": [
    {
     "name": "stdout",
     "output_type": "stream",
     "text": [
      "Class                          : LogisticClassifier\n",
      "\n",
      "Schema\n",
      "------\n",
      "Number of coefficients         : 25\n",
      "Number of examples             : 194077\n",
      "Number of classes              : 2\n",
      "Number of feature columns      : 24\n",
      "Number of unpacked features    : 24\n",
      "\n",
      "Hyperparameters\n",
      "---------------\n",
      "L1 penalty                     : 0.0\n",
      "L2 penalty                     : 0.01\n",
      "\n",
      "Training Summary\n",
      "----------------\n",
      "Solver                         : newton\n",
      "Solver iterations              : 7\n",
      "Solver status                  : SUCCESS: Optimal solution found.\n",
      "Training time (sec)            : 4.4158\n",
      "\n",
      "Settings\n",
      "--------\n",
      "Log-likelihood                 : 109463.1477\n",
      "\n",
      "Highest Positive Coefficients\n",
      "-----------------------------\n",
      "control                        : 303.5118\n",
      "guarantee                      : 210.3113\n",
      "time_7                         : 0.4501\n",
      "quarter_3                      : 0.3558\n",
      "time_6                         : 0.2988\n",
      "\n",
      "Lowest Negative Coefficients\n",
      "----------------------------\n",
      "time_2                         : -1.2537\n",
      "(intercept)                    : -0.7668\n",
      "time_1                         : -0.5719\n",
      "time_3                         : -0.4734\n",
      "airport                        : -0.4557\n",
      "\n"
     ]
    }
   ],
   "source": [
    "print log_model"
   ]
  },
  {
   "cell_type": "code",
   "execution_count": 22,
   "metadata": {
    "collapsed": false
   },
   "outputs": [
    {
     "name": "stdout",
     "output_type": "stream",
     "text": [
      "PROGRESS: Creating a validation set from 5 percent of training data. This may take a while.\n",
      "          You can set ``validation_set=None`` to disable validation tracking.\n",
      "\n"
     ]
    },
    {
     "data": {
      "text/html": [
       "<pre>Boosted trees classifier:</pre>"
      ],
      "text/plain": [
       "Boosted trees classifier:"
      ]
     },
     "metadata": {},
     "output_type": "display_data"
    },
    {
     "data": {
      "text/html": [
       "<pre>--------------------------------------------------------</pre>"
      ],
      "text/plain": [
       "--------------------------------------------------------"
      ]
     },
     "metadata": {},
     "output_type": "display_data"
    },
    {
     "data": {
      "text/html": [
       "<pre>Number of examples          : 194041</pre>"
      ],
      "text/plain": [
       "Number of examples          : 194041"
      ]
     },
     "metadata": {},
     "output_type": "display_data"
    },
    {
     "data": {
      "text/html": [
       "<pre>Number of classes           : 2</pre>"
      ],
      "text/plain": [
       "Number of classes           : 2"
      ]
     },
     "metadata": {},
     "output_type": "display_data"
    },
    {
     "data": {
      "text/html": [
       "<pre>Number of feature columns   : 24</pre>"
      ],
      "text/plain": [
       "Number of feature columns   : 24"
      ]
     },
     "metadata": {},
     "output_type": "display_data"
    },
    {
     "data": {
      "text/html": [
       "<pre>Number of unpacked features : 24</pre>"
      ],
      "text/plain": [
       "Number of unpacked features : 24"
      ]
     },
     "metadata": {},
     "output_type": "display_data"
    },
    {
     "data": {
      "text/html": [
       "<pre>+-----------+--------------+-------------------+---------------------+-------------------+---------------------+</pre>"
      ],
      "text/plain": [
       "+-----------+--------------+-------------------+---------------------+-------------------+---------------------+"
      ]
     },
     "metadata": {},
     "output_type": "display_data"
    },
    {
     "data": {
      "text/html": [
       "<pre>| Iteration | Elapsed Time | Training-accuracy | Validation-accuracy | Training-log_loss | Validation-log_loss |</pre>"
      ],
      "text/plain": [
       "| Iteration | Elapsed Time | Training-accuracy | Validation-accuracy | Training-log_loss | Validation-log_loss |"
      ]
     },
     "metadata": {},
     "output_type": "display_data"
    },
    {
     "data": {
      "text/html": [
       "<pre>+-----------+--------------+-------------------+---------------------+-------------------+---------------------+</pre>"
      ],
      "text/plain": [
       "+-----------+--------------+-------------------+---------------------+-------------------+---------------------+"
      ]
     },
     "metadata": {},
     "output_type": "display_data"
    },
    {
     "data": {
      "text/html": [
       "<pre>| 1         | 0.269351     | 0.753356          | 0.751045            | 0.608912          | 0.609635            |</pre>"
      ],
      "text/plain": [
       "| 1         | 0.269351     | 0.753356          | 0.751045            | 0.608912          | 0.609635            |"
      ]
     },
     "metadata": {},
     "output_type": "display_data"
    },
    {
     "data": {
      "text/html": [
       "<pre>| 2         | 0.537345     | 0.754372          | 0.751434            | 0.563397          | 0.564803            |</pre>"
      ],
      "text/plain": [
       "| 2         | 0.537345     | 0.754372          | 0.751434            | 0.563397          | 0.564803            |"
      ]
     },
     "metadata": {},
     "output_type": "display_data"
    },
    {
     "data": {
      "text/html": [
       "<pre>| 3         | 0.781494     | 0.755078          | 0.751532            | 0.536121          | 0.538153            |</pre>"
      ],
      "text/plain": [
       "| 3         | 0.781494     | 0.755078          | 0.751532            | 0.536121          | 0.538153            |"
      ]
     },
     "metadata": {},
     "output_type": "display_data"
    },
    {
     "data": {
      "text/html": [
       "<pre>| 4         | 1.131047     | 0.755990          | 0.751629            | 0.519160          | 0.521873            |</pre>"
      ],
      "text/plain": [
       "| 4         | 1.131047     | 0.755990          | 0.751629            | 0.519160          | 0.521873            |"
      ]
     },
     "metadata": {},
     "output_type": "display_data"
    },
    {
     "data": {
      "text/html": [
       "<pre>| 5         | 1.500039     | 0.756232          | 0.752699            | 0.508193          | 0.511121            |</pre>"
      ],
      "text/plain": [
       "| 5         | 1.500039     | 0.756232          | 0.752699            | 0.508193          | 0.511121            |"
      ]
     },
     "metadata": {},
     "output_type": "display_data"
    },
    {
     "data": {
      "text/html": [
       "<pre>| 6         | 1.928167     | 0.756531          | 0.752699            | 0.500779          | 0.504092            |</pre>"
      ],
      "text/plain": [
       "| 6         | 1.928167     | 0.756531          | 0.752699            | 0.500779          | 0.504092            |"
      ]
     },
     "metadata": {},
     "output_type": "display_data"
    },
    {
     "data": {
      "text/html": [
       "<pre>| 10        | 3.288426     | 0.758407          | 0.754546            | 0.487715          | 0.492071            |</pre>"
      ],
      "text/plain": [
       "| 10        | 3.288426     | 0.758407          | 0.754546            | 0.487715          | 0.492071            |"
      ]
     },
     "metadata": {},
     "output_type": "display_data"
    },
    {
     "data": {
      "text/html": [
       "<pre>+-----------+--------------+-------------------+---------------------+-------------------+---------------------+</pre>"
      ],
      "text/plain": [
       "+-----------+--------------+-------------------+---------------------+-------------------+---------------------+"
      ]
     },
     "metadata": {},
     "output_type": "display_data"
    }
   ],
   "source": [
    "boost_model = gl.boosted_trees_classifier.create(train_data,target='delay',features=my_features)"
   ]
  },
  {
   "cell_type": "code",
   "execution_count": 12,
   "metadata": {
    "collapsed": false
   },
   "outputs": [
    {
     "name": "stdout",
     "output_type": "stream",
     "text": [
      "{'f1_score': 0.6871868289191124, 'auc': 0.827632550192268, 'recall': 0.5776421541238664, 'precision': 0.848003028582245, 'log_loss': 0.4882789278950075, 'roc_curve': Columns:\n",
      "\tthreshold\tfloat\n",
      "\tfpr\tfloat\n",
      "\ttpr\tfloat\n",
      "\tp\tint\n",
      "\tn\tint\n",
      "\n",
      "Rows: 100001\n",
      "\n",
      "Data:\n",
      "+-----------+-----+-----+-------+-------+\n",
      "| threshold | fpr | tpr |   p   |   n   |\n",
      "+-----------+-----+-----+-------+-------+\n",
      "|    0.0    | 1.0 | 1.0 | 23267 | 27745 |\n",
      "|   1e-05   | 1.0 | 1.0 | 23267 | 27745 |\n",
      "|   2e-05   | 1.0 | 1.0 | 23267 | 27745 |\n",
      "|   3e-05   | 1.0 | 1.0 | 23267 | 27745 |\n",
      "|   4e-05   | 1.0 | 1.0 | 23267 | 27745 |\n",
      "|   5e-05   | 1.0 | 1.0 | 23267 | 27745 |\n",
      "|   6e-05   | 1.0 | 1.0 | 23267 | 27745 |\n",
      "|   7e-05   | 1.0 | 1.0 | 23267 | 27745 |\n",
      "|   8e-05   | 1.0 | 1.0 | 23267 | 27745 |\n",
      "|   9e-05   | 1.0 | 1.0 | 23267 | 27745 |\n",
      "+-----------+-----+-----+-------+-------+\n",
      "[100001 rows x 5 columns]\n",
      "Note: Only the head of the SFrame is printed.\n",
      "You can use print_rows(num_rows=m, num_columns=n) to print more rows and columns., 'confusion_matrix': Columns:\n",
      "\ttarget_label\tint\n",
      "\tpredicted_label\tint\n",
      "\tcount\tint\n",
      "\n",
      "Rows: 4\n",
      "\n",
      "Data:\n",
      "+--------------+-----------------+-------+\n",
      "| target_label | predicted_label | count |\n",
      "+--------------+-----------------+-------+\n",
      "|      1       |        0        |  9827 |\n",
      "|      0       |        1        |  2409 |\n",
      "|      1       |        1        | 13440 |\n",
      "|      0       |        0        | 25336 |\n",
      "+--------------+-----------------+-------+\n",
      "[4 rows x 3 columns]\n",
      ", 'accuracy': 0.7601348702266133}\n"
     ]
    }
   ],
   "source": [
    "print boost_model.evaluate(test_data)"
   ]
  },
  {
   "cell_type": "code",
   "execution_count": 14,
   "metadata": {
    "collapsed": false
   },
   "outputs": [
    {
     "name": "stdout",
     "output_type": "stream",
     "text": [
      "PROGRESS: Creating a validation set from 5 percent of training data. This may take a while.\n",
      "          You can set ``validation_set=None`` to disable validation tracking.\n",
      "\n"
     ]
    },
    {
     "data": {
      "text/html": [
       "<pre>SVM:</pre>"
      ],
      "text/plain": [
       "SVM:"
      ]
     },
     "metadata": {},
     "output_type": "display_data"
    },
    {
     "data": {
      "text/html": [
       "<pre>--------------------------------------------------------</pre>"
      ],
      "text/plain": [
       "--------------------------------------------------------"
      ]
     },
     "metadata": {},
     "output_type": "display_data"
    },
    {
     "data": {
      "text/html": [
       "<pre>Number of examples          : 194150</pre>"
      ],
      "text/plain": [
       "Number of examples          : 194150"
      ]
     },
     "metadata": {},
     "output_type": "display_data"
    },
    {
     "data": {
      "text/html": [
       "<pre>Number of classes           : 2</pre>"
      ],
      "text/plain": [
       "Number of classes           : 2"
      ]
     },
     "metadata": {},
     "output_type": "display_data"
    },
    {
     "data": {
      "text/html": [
       "<pre>Number of feature columns   : 24</pre>"
      ],
      "text/plain": [
       "Number of feature columns   : 24"
      ]
     },
     "metadata": {},
     "output_type": "display_data"
    },
    {
     "data": {
      "text/html": [
       "<pre>Number of unpacked features : 24</pre>"
      ],
      "text/plain": [
       "Number of unpacked features : 24"
      ]
     },
     "metadata": {},
     "output_type": "display_data"
    },
    {
     "data": {
      "text/html": [
       "<pre>Number of coefficients    : 25</pre>"
      ],
      "text/plain": [
       "Number of coefficients    : 25"
      ]
     },
     "metadata": {},
     "output_type": "display_data"
    },
    {
     "data": {
      "text/html": [
       "<pre>Starting L-BFGS</pre>"
      ],
      "text/plain": [
       "Starting L-BFGS"
      ]
     },
     "metadata": {},
     "output_type": "display_data"
    },
    {
     "data": {
      "text/html": [
       "<pre>--------------------------------------------------------</pre>"
      ],
      "text/plain": [
       "--------------------------------------------------------"
      ]
     },
     "metadata": {},
     "output_type": "display_data"
    },
    {
     "data": {
      "text/html": [
       "<pre>+-----------+----------+-----------+--------------+-------------------+---------------------+</pre>"
      ],
      "text/plain": [
       "+-----------+----------+-----------+--------------+-------------------+---------------------+"
      ]
     },
     "metadata": {},
     "output_type": "display_data"
    },
    {
     "data": {
      "text/html": [
       "<pre>| Iteration | Passes   | Step size | Elapsed Time | Training-accuracy | Validation-accuracy |</pre>"
      ],
      "text/plain": [
       "| Iteration | Passes   | Step size | Elapsed Time | Training-accuracy | Validation-accuracy |"
      ]
     },
     "metadata": {},
     "output_type": "display_data"
    },
    {
     "data": {
      "text/html": [
       "<pre>+-----------+----------+-----------+--------------+-------------------+---------------------+</pre>"
      ],
      "text/plain": [
       "+-----------+----------+-----------+--------------+-------------------+---------------------+"
      ]
     },
     "metadata": {},
     "output_type": "display_data"
    },
    {
     "data": {
      "text/html": [
       "<pre>| 1         | 6        | 0.000010  | 0.445466     | 0.575200          | 0.574307            |</pre>"
      ],
      "text/plain": [
       "| 1         | 6        | 0.000010  | 0.445466     | 0.575200          | 0.574307            |"
      ]
     },
     "metadata": {},
     "output_type": "display_data"
    },
    {
     "data": {
      "text/html": [
       "<pre>| 2         | 8        | 1.000000  | 0.665182     | 0.636230          | 0.629448            |</pre>"
      ],
      "text/plain": [
       "| 2         | 8        | 1.000000  | 0.665182     | 0.636230          | 0.629448            |"
      ]
     },
     "metadata": {},
     "output_type": "display_data"
    },
    {
     "data": {
      "text/html": [
       "<pre>| 3         | 9        | 1.000000  | 0.812360     | 0.643719          | 0.636721            |</pre>"
      ],
      "text/plain": [
       "| 3         | 9        | 1.000000  | 0.812360     | 0.643719          | 0.636721            |"
      ]
     },
     "metadata": {},
     "output_type": "display_data"
    },
    {
     "data": {
      "text/html": [
       "<pre>| 4         | 10       | 1.000000  | 0.960897     | 0.644965          | 0.639768            |</pre>"
      ],
      "text/plain": [
       "| 4         | 10       | 1.000000  | 0.960897     | 0.644965          | 0.639768            |"
      ]
     },
     "metadata": {},
     "output_type": "display_data"
    },
    {
     "data": {
      "text/html": [
       "<pre>| 5         | 11       | 1.000000  | 1.222232     | 0.662004          | 0.655396            |</pre>"
      ],
      "text/plain": [
       "| 5         | 11       | 1.000000  | 1.222232     | 0.662004          | 0.655396            |"
      ]
     },
     "metadata": {},
     "output_type": "display_data"
    },
    {
     "data": {
      "text/html": [
       "<pre>| 6         | 12       | 1.000000  | 1.383829     | 0.672619          | 0.666699            |</pre>"
      ],
      "text/plain": [
       "| 6         | 12       | 1.000000  | 1.383829     | 0.672619          | 0.666699            |"
      ]
     },
     "metadata": {},
     "output_type": "display_data"
    },
    {
     "data": {
      "text/html": [
       "<pre>| 10        | 16       | 1.000000  | 2.099776     | 0.732444          | 0.733242            |</pre>"
      ],
      "text/plain": [
       "| 10        | 16       | 1.000000  | 2.099776     | 0.732444          | 0.733242            |"
      ]
     },
     "metadata": {},
     "output_type": "display_data"
    },
    {
     "data": {
      "text/html": [
       "<pre>+-----------+----------+-----------+--------------+-------------------+---------------------+</pre>"
      ],
      "text/plain": [
       "+-----------+----------+-----------+--------------+-------------------+---------------------+"
      ]
     },
     "metadata": {},
     "output_type": "display_data"
    },
    {
     "data": {
      "text/html": [
       "<pre>TERMINATED: Iteration limit reached.</pre>"
      ],
      "text/plain": [
       "TERMINATED: Iteration limit reached."
      ]
     },
     "metadata": {},
     "output_type": "display_data"
    },
    {
     "data": {
      "text/html": [
       "<pre>This model may not be optimal. To improve it, consider increasing `max_iterations`.</pre>"
      ],
      "text/plain": [
       "This model may not be optimal. To improve it, consider increasing `max_iterations`."
      ]
     },
     "metadata": {},
     "output_type": "display_data"
    }
   ],
   "source": [
    "svm_model = gl.svm_classifier.create(train_data,target='delay',features=my_features)"
   ]
  },
  {
   "cell_type": "code",
   "execution_count": 15,
   "metadata": {
    "collapsed": false
   },
   "outputs": [
    {
     "name": "stdout",
     "output_type": "stream",
     "text": [
      "PROGRESS: Creating a validation set from 5 percent of training data. This may take a while.\n",
      "          You can set ``validation_set=None`` to disable validation tracking.\n",
      "\n"
     ]
    },
    {
     "data": {
      "text/html": [
       "<pre>SVM:</pre>"
      ],
      "text/plain": [
       "SVM:"
      ]
     },
     "metadata": {},
     "output_type": "display_data"
    },
    {
     "data": {
      "text/html": [
       "<pre>--------------------------------------------------------</pre>"
      ],
      "text/plain": [
       "--------------------------------------------------------"
      ]
     },
     "metadata": {},
     "output_type": "display_data"
    },
    {
     "data": {
      "text/html": [
       "<pre>Number of examples          : 194336</pre>"
      ],
      "text/plain": [
       "Number of examples          : 194336"
      ]
     },
     "metadata": {},
     "output_type": "display_data"
    },
    {
     "data": {
      "text/html": [
       "<pre>Number of classes           : 2</pre>"
      ],
      "text/plain": [
       "Number of classes           : 2"
      ]
     },
     "metadata": {},
     "output_type": "display_data"
    },
    {
     "data": {
      "text/html": [
       "<pre>Number of feature columns   : 24</pre>"
      ],
      "text/plain": [
       "Number of feature columns   : 24"
      ]
     },
     "metadata": {},
     "output_type": "display_data"
    },
    {
     "data": {
      "text/html": [
       "<pre>Number of unpacked features : 24</pre>"
      ],
      "text/plain": [
       "Number of unpacked features : 24"
      ]
     },
     "metadata": {},
     "output_type": "display_data"
    },
    {
     "data": {
      "text/html": [
       "<pre>Number of coefficients    : 25</pre>"
      ],
      "text/plain": [
       "Number of coefficients    : 25"
      ]
     },
     "metadata": {},
     "output_type": "display_data"
    },
    {
     "data": {
      "text/html": [
       "<pre>Starting L-BFGS</pre>"
      ],
      "text/plain": [
       "Starting L-BFGS"
      ]
     },
     "metadata": {},
     "output_type": "display_data"
    },
    {
     "data": {
      "text/html": [
       "<pre>--------------------------------------------------------</pre>"
      ],
      "text/plain": [
       "--------------------------------------------------------"
      ]
     },
     "metadata": {},
     "output_type": "display_data"
    },
    {
     "data": {
      "text/html": [
       "<pre>+-----------+----------+-----------+--------------+-------------------+---------------------+</pre>"
      ],
      "text/plain": [
       "+-----------+----------+-----------+--------------+-------------------+---------------------+"
      ]
     },
     "metadata": {},
     "output_type": "display_data"
    },
    {
     "data": {
      "text/html": [
       "<pre>| Iteration | Passes   | Step size | Elapsed Time | Training-accuracy | Validation-accuracy |</pre>"
      ],
      "text/plain": [
       "| Iteration | Passes   | Step size | Elapsed Time | Training-accuracy | Validation-accuracy |"
      ]
     },
     "metadata": {},
     "output_type": "display_data"
    },
    {
     "data": {
      "text/html": [
       "<pre>+-----------+----------+-----------+--------------+-------------------+---------------------+</pre>"
      ],
      "text/plain": [
       "+-----------+----------+-----------+--------------+-------------------+---------------------+"
      ]
     },
     "metadata": {},
     "output_type": "display_data"
    },
    {
     "data": {
      "text/html": [
       "<pre>| 1         | 6        | 0.000010  | 0.452237     | 0.575210          | 0.575190            |</pre>"
      ],
      "text/plain": [
       "| 1         | 6        | 0.000010  | 0.452237     | 0.575210          | 0.575190            |"
      ]
     },
     "metadata": {},
     "output_type": "display_data"
    },
    {
     "data": {
      "text/html": [
       "<pre>| 2         | 8        | 1.000000  | 0.698616     | 0.636074          | 0.629856            |</pre>"
      ],
      "text/plain": [
       "| 2         | 8        | 1.000000  | 0.698616     | 0.636074          | 0.629856            |"
      ]
     },
     "metadata": {},
     "output_type": "display_data"
    },
    {
     "data": {
      "text/html": [
       "<pre>| 3         | 9        | 1.000000  | 0.967342     | 0.643808          | 0.640469            |</pre>"
      ],
      "text/plain": [
       "| 3         | 9        | 1.000000  | 0.967342     | 0.643808          | 0.640469            |"
      ]
     },
     "metadata": {},
     "output_type": "display_data"
    },
    {
     "data": {
      "text/html": [
       "<pre>| 4         | 10       | 1.000000  | 1.147836     | 0.644307          | 0.642171            |</pre>"
      ],
      "text/plain": [
       "| 4         | 10       | 1.000000  | 1.147836     | 0.644307          | 0.642171            |"
      ]
     },
     "metadata": {},
     "output_type": "display_data"
    },
    {
     "data": {
      "text/html": [
       "<pre>| 5         | 11       | 1.000000  | 1.401654     | 0.662018          | 0.653885            |</pre>"
      ],
      "text/plain": [
       "| 5         | 11       | 1.000000  | 1.401654     | 0.662018          | 0.653885            |"
      ]
     },
     "metadata": {},
     "output_type": "display_data"
    },
    {
     "data": {
      "text/html": [
       "<pre>| 6         | 12       | 1.000000  | 1.549316     | 0.672500          | 0.664397            |</pre>"
      ],
      "text/plain": [
       "| 6         | 12       | 1.000000  | 1.549316     | 0.672500          | 0.664397            |"
      ]
     },
     "metadata": {},
     "output_type": "display_data"
    },
    {
     "data": {
      "text/html": [
       "<pre>| 10        | 16       | 1.000000  | 2.142058     | 0.732371          | 0.727473            |</pre>"
      ],
      "text/plain": [
       "| 10        | 16       | 1.000000  | 2.142058     | 0.732371          | 0.727473            |"
      ]
     },
     "metadata": {},
     "output_type": "display_data"
    },
    {
     "data": {
      "text/html": [
       "<pre>| 11        | 17       | 1.000000  | 2.307003     | 0.740053          | 0.735583            |</pre>"
      ],
      "text/plain": [
       "| 11        | 17       | 1.000000  | 2.307003     | 0.740053          | 0.735583            |"
      ]
     },
     "metadata": {},
     "output_type": "display_data"
    },
    {
     "data": {
      "text/html": [
       "<pre>| 15        | 22       | 1.000000  | 3.090009     | 0.745883          | 0.741990            |</pre>"
      ],
      "text/plain": [
       "| 15        | 22       | 1.000000  | 3.090009     | 0.745883          | 0.741990            |"
      ]
     },
     "metadata": {},
     "output_type": "display_data"
    },
    {
     "data": {
      "text/html": [
       "<pre>| 20        | 27       | 1.000000  | 4.002902     | 0.745590          | 0.742091            |</pre>"
      ],
      "text/plain": [
       "| 20        | 27       | 1.000000  | 4.002902     | 0.745590          | 0.742091            |"
      ]
     },
     "metadata": {},
     "output_type": "display_data"
    },
    {
     "data": {
      "text/html": [
       "<pre>| 25        | 32       | 1.000000  | 4.755134     | 0.744412          | 0.741790            |</pre>"
      ],
      "text/plain": [
       "| 25        | 32       | 1.000000  | 4.755134     | 0.744412          | 0.741790            |"
      ]
     },
     "metadata": {},
     "output_type": "display_data"
    },
    {
     "data": {
      "text/html": [
       "<pre>| 30        | 39       | 1.000000  | 5.631771     | 0.744443          | 0.741790            |</pre>"
      ],
      "text/plain": [
       "| 30        | 39       | 1.000000  | 5.631771     | 0.744443          | 0.741790            |"
      ]
     },
     "metadata": {},
     "output_type": "display_data"
    },
    {
     "data": {
      "text/html": [
       "<pre>| 35        | 45       | 1.000000  | 6.389059     | 0.744443          | 0.741790            |</pre>"
      ],
      "text/plain": [
       "| 35        | 45       | 1.000000  | 6.389059     | 0.744443          | 0.741790            |"
      ]
     },
     "metadata": {},
     "output_type": "display_data"
    },
    {
     "data": {
      "text/html": [
       "<pre>| 40        | 54       | 1.000000  | 7.581337     | 0.744453          | 0.741790            |</pre>"
      ],
      "text/plain": [
       "| 40        | 54       | 1.000000  | 7.581337     | 0.744453          | 0.741790            |"
      ]
     },
     "metadata": {},
     "output_type": "display_data"
    },
    {
     "data": {
      "text/html": [
       "<pre>| 45        | 63       | 1.000000  | 8.608535     | 0.744417          | 0.741690            |</pre>"
      ],
      "text/plain": [
       "| 45        | 63       | 1.000000  | 8.608535     | 0.744417          | 0.741690            |"
      ]
     },
     "metadata": {},
     "output_type": "display_data"
    },
    {
     "data": {
      "text/html": [
       "<pre>| 50        | 70       | 1.000000  | 9.437238     | 0.744448          | 0.741790            |</pre>"
      ],
      "text/plain": [
       "| 50        | 70       | 1.000000  | 9.437238     | 0.744448          | 0.741790            |"
      ]
     },
     "metadata": {},
     "output_type": "display_data"
    },
    {
     "data": {
      "text/html": [
       "<pre>| 51        | 71       | 1.000000  | 9.614492     | 0.744468          | 0.741890            |</pre>"
      ],
      "text/plain": [
       "| 51        | 71       | 1.000000  | 9.614492     | 0.744468          | 0.741890            |"
      ]
     },
     "metadata": {},
     "output_type": "display_data"
    },
    {
     "data": {
      "text/html": [
       "<pre>| 55        | 78       | 1.000000  | 10.603931    | 0.744443          | 0.741790            |</pre>"
      ],
      "text/plain": [
       "| 55        | 78       | 1.000000  | 10.603931    | 0.744443          | 0.741790            |"
      ]
     },
     "metadata": {},
     "output_type": "display_data"
    },
    {
     "data": {
      "text/html": [
       "<pre>+-----------+----------+-----------+--------------+-------------------+---------------------+</pre>"
      ],
      "text/plain": [
       "+-----------+----------+-----------+--------------+-------------------+---------------------+"
      ]
     },
     "metadata": {},
     "output_type": "display_data"
    },
    {
     "data": {
      "text/html": [
       "<pre>SUCCESS: Optimal solution found.</pre>"
      ],
      "text/plain": [
       "SUCCESS: Optimal solution found."
      ]
     },
     "metadata": {},
     "output_type": "display_data"
    },
    {
     "data": {
      "text/html": [
       "<pre></pre>"
      ],
      "text/plain": []
     },
     "metadata": {},
     "output_type": "display_data"
    }
   ],
   "source": [
    "svm_model = gl.svm_classifier.create(train_data,target='delay',features=my_features,max_iterations=100)"
   ]
  },
  {
   "cell_type": "code",
   "execution_count": 16,
   "metadata": {
    "collapsed": false
   },
   "outputs": [
    {
     "name": "stdout",
     "output_type": "stream",
     "text": [
      "{'f1_score': 0.6563058139844854, 'recall': 0.5290755146774402, 'confusion_matrix': Columns:\n",
      "\ttarget_label\tint\n",
      "\tpredicted_label\tint\n",
      "\tcount\tint\n",
      "\n",
      "Rows: 4\n",
      "\n",
      "Data:\n",
      "+--------------+-----------------+-------+\n",
      "| target_label | predicted_label | count |\n",
      "+--------------+-----------------+-------+\n",
      "|      1       |        0        | 10957 |\n",
      "|      0       |        1        |  1936 |\n",
      "|      1       |        1        | 12310 |\n",
      "|      0       |        0        | 25809 |\n",
      "+--------------+-----------------+-------+\n",
      "[4 rows x 3 columns]\n",
      ", 'precision': 0.8641022041274744, 'accuracy': 0.7472555477142633}\n"
     ]
    }
   ],
   "source": [
    "print svm_model.evaluate(test_data)"
   ]
  },
  {
   "cell_type": "code",
   "execution_count": 18,
   "metadata": {
    "collapsed": false
   },
   "outputs": [
    {
     "data": {
      "text/html": [
       "<pre>Finished parsing file C:\\Users\\david\\test.csv</pre>"
      ],
      "text/plain": [
       "Finished parsing file C:\\Users\\david\\test.csv"
      ]
     },
     "metadata": {},
     "output_type": "display_data"
    },
    {
     "data": {
      "text/html": [
       "<pre>Parsing completed. Parsed 100 lines in 0.187784 secs.</pre>"
      ],
      "text/plain": [
       "Parsing completed. Parsed 100 lines in 0.187784 secs."
      ]
     },
     "metadata": {},
     "output_type": "display_data"
    },
    {
     "name": "stdout",
     "output_type": "stream",
     "text": [
      "------------------------------------------------------\n",
      "Inferred types from first 100 line(s) of file as \n",
      "column_type_hints=[long,float,float,float,long,long,long,long,long,long,long,long,long,long,long,long,long,long,long,long,long,long,long,long,long,long,long,long,long,long,long]\n",
      "If parsing fails due to incorrect types, you can correct\n",
      "the inferred type list above and pass it to read_csv in\n",
      "the column_type_hints argument\n",
      "------------------------------------------------------\n"
     ]
    },
    {
     "data": {
      "text/html": [
       "<pre>Finished parsing file C:\\Users\\david\\test.csv</pre>"
      ],
      "text/plain": [
       "Finished parsing file C:\\Users\\david\\test.csv"
      ]
     },
     "metadata": {},
     "output_type": "display_data"
    },
    {
     "data": {
      "text/html": [
       "<pre>Parsing completed. Parsed 97892 lines in 0.247649 secs.</pre>"
      ],
      "text/plain": [
       "Parsing completed. Parsed 97892 lines in 0.247649 secs."
      ]
     },
     "metadata": {},
     "output_type": "display_data"
    }
   ],
   "source": [
    "data2 = gl.SFrame('test.csv')"
   ]
  },
  {
   "cell_type": "code",
   "execution_count": 21,
   "metadata": {
    "collapsed": false
   },
   "outputs": [
    {
     "name": "stdout",
     "output_type": "stream",
     "text": [
      "PROGRESS: Creating a validation set from 5 percent of training data. This may take a while.\n",
      "          You can set ``validation_set=None`` to disable validation tracking.\n",
      "\n"
     ]
    },
    {
     "data": {
      "text/html": [
       "<pre>Boosted trees classifier:</pre>"
      ],
      "text/plain": [
       "Boosted trees classifier:"
      ]
     },
     "metadata": {},
     "output_type": "display_data"
    },
    {
     "data": {
      "text/html": [
       "<pre>--------------------------------------------------------</pre>"
      ],
      "text/plain": [
       "--------------------------------------------------------"
      ]
     },
     "metadata": {},
     "output_type": "display_data"
    },
    {
     "data": {
      "text/html": [
       "<pre>Number of examples          : 194267</pre>"
      ],
      "text/plain": [
       "Number of examples          : 194267"
      ]
     },
     "metadata": {},
     "output_type": "display_data"
    },
    {
     "data": {
      "text/html": [
       "<pre>Number of classes           : 2</pre>"
      ],
      "text/plain": [
       "Number of classes           : 2"
      ]
     },
     "metadata": {},
     "output_type": "display_data"
    },
    {
     "data": {
      "text/html": [
       "<pre>Number of feature columns   : 24</pre>"
      ],
      "text/plain": [
       "Number of feature columns   : 24"
      ]
     },
     "metadata": {},
     "output_type": "display_data"
    },
    {
     "data": {
      "text/html": [
       "<pre>Number of unpacked features : 24</pre>"
      ],
      "text/plain": [
       "Number of unpacked features : 24"
      ]
     },
     "metadata": {},
     "output_type": "display_data"
    },
    {
     "data": {
      "text/html": [
       "<pre>+-----------+--------------+-------------------+---------------------+-------------------+---------------------+</pre>"
      ],
      "text/plain": [
       "+-----------+--------------+-------------------+---------------------+-------------------+---------------------+"
      ]
     },
     "metadata": {},
     "output_type": "display_data"
    },
    {
     "data": {
      "text/html": [
       "<pre>| Iteration | Elapsed Time | Training-accuracy | Validation-accuracy | Training-log_loss | Validation-log_loss |</pre>"
      ],
      "text/plain": [
       "| Iteration | Elapsed Time | Training-accuracy | Validation-accuracy | Training-log_loss | Validation-log_loss |"
      ]
     },
     "metadata": {},
     "output_type": "display_data"
    },
    {
     "data": {
      "text/html": [
       "<pre>+-----------+--------------+-------------------+---------------------+-------------------+---------------------+</pre>"
      ],
      "text/plain": [
       "+-----------+--------------+-------------------+---------------------+-------------------+---------------------+"
      ]
     },
     "metadata": {},
     "output_type": "display_data"
    },
    {
     "data": {
      "text/html": [
       "<pre>| 1         | 0.215959     | 0.753767          | 0.741871            | 0.608743          | 0.611708            |</pre>"
      ],
      "text/plain": [
       "| 1         | 0.215959     | 0.753767          | 0.741871            | 0.608743          | 0.611708            |"
      ]
     },
     "metadata": {},
     "output_type": "display_data"
    },
    {
     "data": {
      "text/html": [
       "<pre>| 2         | 0.400382     | 0.754817          | 0.743860            | 0.563206          | 0.567755            |</pre>"
      ],
      "text/plain": [
       "| 2         | 0.400382     | 0.754817          | 0.743860            | 0.563206          | 0.567755            |"
      ]
     },
     "metadata": {},
     "output_type": "display_data"
    },
    {
     "data": {
      "text/html": [
       "<pre>| 3         | 0.612354     | 0.755671          | 0.743761            | 0.535770          | 0.542027            |</pre>"
      ],
      "text/plain": [
       "| 3         | 0.612354     | 0.755671          | 0.743761            | 0.535770          | 0.542027            |"
      ]
     },
     "metadata": {},
     "output_type": "display_data"
    },
    {
     "data": {
      "text/html": [
       "<pre>| 4         | 0.801095     | 0.756160          | 0.744954            | 0.518573          | 0.525872            |</pre>"
      ],
      "text/plain": [
       "| 4         | 0.801095     | 0.756160          | 0.744954            | 0.518573          | 0.525872            |"
      ]
     },
     "metadata": {},
     "output_type": "display_data"
    },
    {
     "data": {
      "text/html": [
       "<pre>| 5         | 1.138903     | 0.756629          | 0.743959            | 0.507708          | 0.515774            |</pre>"
      ],
      "text/plain": [
       "| 5         | 1.138903     | 0.756629          | 0.743959            | 0.507708          | 0.515774            |"
      ]
     },
     "metadata": {},
     "output_type": "display_data"
    },
    {
     "data": {
      "text/html": [
       "<pre>| 6         | 1.333715     | 0.757319          | 0.744059            | 0.500522          | 0.509167            |</pre>"
      ],
      "text/plain": [
       "| 6         | 1.333715     | 0.757319          | 0.744059            | 0.500522          | 0.509167            |"
      ]
     },
     "metadata": {},
     "output_type": "display_data"
    },
    {
     "data": {
      "text/html": [
       "<pre>| 10        | 2.080812     | 0.759604          | 0.747141            | 0.486890          | 0.496768            |</pre>"
      ],
      "text/plain": [
       "| 10        | 2.080812     | 0.759604          | 0.747141            | 0.486890          | 0.496768            |"
      ]
     },
     "metadata": {},
     "output_type": "display_data"
    },
    {
     "data": {
      "text/html": [
       "<pre>+-----------+--------------+-------------------+---------------------+-------------------+---------------------+</pre>"
      ],
      "text/plain": [
       "+-----------+--------------+-------------------+---------------------+-------------------+---------------------+"
      ]
     },
     "metadata": {},
     "output_type": "display_data"
    }
   ],
   "source": [
    "boost_model_2 = gl.boosted_trees_classifier.create(train_data,target='delay',features=my_features)"
   ]
  },
  {
   "cell_type": "code",
   "execution_count": 23,
   "metadata": {
    "collapsed": false
   },
   "outputs": [
    {
     "name": "stdout",
     "output_type": "stream",
     "text": [
      "{'f1_score': 0.6871281566784976, 'auc': 0.8277864741184532, 'recall': 0.5782868440280226, 'precision': 0.8464393558127831, 'log_loss': 0.488225245324381, 'roc_curve': Columns:\n",
      "\tthreshold\tfloat\n",
      "\tfpr\tfloat\n",
      "\ttpr\tfloat\n",
      "\tp\tint\n",
      "\tn\tint\n",
      "\n",
      "Rows: 100001\n",
      "\n",
      "Data:\n",
      "+-----------+-----+-----+-------+-------+\n",
      "| threshold | fpr | tpr |   p   |   n   |\n",
      "+-----------+-----+-----+-------+-------+\n",
      "|    0.0    | 1.0 | 1.0 | 23267 | 27745 |\n",
      "|   1e-05   | 1.0 | 1.0 | 23267 | 27745 |\n",
      "|   2e-05   | 1.0 | 1.0 | 23267 | 27745 |\n",
      "|   3e-05   | 1.0 | 1.0 | 23267 | 27745 |\n",
      "|   4e-05   | 1.0 | 1.0 | 23267 | 27745 |\n",
      "|   5e-05   | 1.0 | 1.0 | 23267 | 27745 |\n",
      "|   6e-05   | 1.0 | 1.0 | 23267 | 27745 |\n",
      "|   7e-05   | 1.0 | 1.0 | 23267 | 27745 |\n",
      "|   8e-05   | 1.0 | 1.0 | 23267 | 27745 |\n",
      "|   9e-05   | 1.0 | 1.0 | 23267 | 27745 |\n",
      "+-----------+-----+-----+-------+-------+\n",
      "[100001 rows x 5 columns]\n",
      "Note: Only the head of the SFrame is printed.\n",
      "You can use print_rows(num_rows=m, num_columns=n) to print more rows and columns., 'confusion_matrix': Columns:\n",
      "\ttarget_label\tint\n",
      "\tpredicted_label\tint\n",
      "\tcount\tint\n",
      "\n",
      "Rows: 4\n",
      "\n",
      "Data:\n",
      "+--------------+-----------------+-------+\n",
      "| target_label | predicted_label | count |\n",
      "+--------------+-----------------+-------+\n",
      "|      1       |        0        |  9812 |\n",
      "|      0       |        1        |  2441 |\n",
      "|      1       |        1        | 13455 |\n",
      "|      0       |        0        | 25304 |\n",
      "+--------------+-----------------+-------+\n",
      "[4 rows x 3 columns]\n",
      ", 'accuracy': 0.7598016153062025}\n"
     ]
    }
   ],
   "source": [
    "print boost_model_2.evaluate(test_data) "
   ]
  },
  {
   "cell_type": "code",
   "execution_count": 24,
   "metadata": {
    "collapsed": true
   },
   "outputs": [],
   "source": [
    "train_data_2,test_data_2 = data2.random_split(0.8,seed=23)"
   ]
  },
  {
   "cell_type": "code",
   "execution_count": 25,
   "metadata": {
    "collapsed": false
   },
   "outputs": [
    {
     "name": "stdout",
     "output_type": "stream",
     "text": [
      "PROGRESS: Creating a validation set from 5 percent of training data. This may take a while.\n",
      "          You can set ``validation_set=None`` to disable validation tracking.\n",
      "\n"
     ]
    },
    {
     "data": {
      "text/html": [
       "<pre>Boosted trees classifier:</pre>"
      ],
      "text/plain": [
       "Boosted trees classifier:"
      ]
     },
     "metadata": {},
     "output_type": "display_data"
    },
    {
     "data": {
      "text/html": [
       "<pre>--------------------------------------------------------</pre>"
      ],
      "text/plain": [
       "--------------------------------------------------------"
      ]
     },
     "metadata": {},
     "output_type": "display_data"
    },
    {
     "data": {
      "text/html": [
       "<pre>Number of examples          : 74767</pre>"
      ],
      "text/plain": [
       "Number of examples          : 74767"
      ]
     },
     "metadata": {},
     "output_type": "display_data"
    },
    {
     "data": {
      "text/html": [
       "<pre>Number of classes           : 2</pre>"
      ],
      "text/plain": [
       "Number of classes           : 2"
      ]
     },
     "metadata": {},
     "output_type": "display_data"
    },
    {
     "data": {
      "text/html": [
       "<pre>Number of feature columns   : 24</pre>"
      ],
      "text/plain": [
       "Number of feature columns   : 24"
      ]
     },
     "metadata": {},
     "output_type": "display_data"
    },
    {
     "data": {
      "text/html": [
       "<pre>Number of unpacked features : 24</pre>"
      ],
      "text/plain": [
       "Number of unpacked features : 24"
      ]
     },
     "metadata": {},
     "output_type": "display_data"
    },
    {
     "data": {
      "text/html": [
       "<pre>+-----------+--------------+-------------------+---------------------+-------------------+---------------------+</pre>"
      ],
      "text/plain": [
       "+-----------+--------------+-------------------+---------------------+-------------------+---------------------+"
      ]
     },
     "metadata": {},
     "output_type": "display_data"
    },
    {
     "data": {
      "text/html": [
       "<pre>| Iteration | Elapsed Time | Training-accuracy | Validation-accuracy | Training-log_loss | Validation-log_loss |</pre>"
      ],
      "text/plain": [
       "| Iteration | Elapsed Time | Training-accuracy | Validation-accuracy | Training-log_loss | Validation-log_loss |"
      ]
     },
     "metadata": {},
     "output_type": "display_data"
    },
    {
     "data": {
      "text/html": [
       "<pre>+-----------+--------------+-------------------+---------------------+-------------------+---------------------+</pre>"
      ],
      "text/plain": [
       "+-----------+--------------+-------------------+---------------------+-------------------+---------------------+"
      ]
     },
     "metadata": {},
     "output_type": "display_data"
    },
    {
     "data": {
      "text/html": [
       "<pre>| 1         | 0.091074     | 0.770219          | 0.778311            | 0.592805          | 0.589951            |</pre>"
      ],
      "text/plain": [
       "| 1         | 0.091074     | 0.770219          | 0.778311            | 0.592805          | 0.589951            |"
      ]
     },
     "metadata": {},
     "output_type": "display_data"
    },
    {
     "data": {
      "text/html": [
       "<pre>| 2         | 0.191230     | 0.774433          | 0.783373            | 0.537075          | 0.532335            |</pre>"
      ],
      "text/plain": [
       "| 2         | 0.191230     | 0.774433          | 0.783373            | 0.537075          | 0.532335            |"
      ]
     },
     "metadata": {},
     "output_type": "display_data"
    },
    {
     "data": {
      "text/html": [
       "<pre>| 3         | 0.271326     | 0.778017          | 0.786837            | 0.503247          | 0.497844            |</pre>"
      ],
      "text/plain": [
       "| 3         | 0.271326     | 0.778017          | 0.786837            | 0.503247          | 0.497844            |"
      ]
     },
     "metadata": {},
     "output_type": "display_data"
    },
    {
     "data": {
      "text/html": [
       "<pre>| 4         | 0.365410     | 0.778860          | 0.786837            | 0.482888          | 0.476715            |</pre>"
      ],
      "text/plain": [
       "| 4         | 0.365410     | 0.778860          | 0.786837            | 0.482888          | 0.476715            |"
      ]
     },
     "metadata": {},
     "output_type": "display_data"
    },
    {
     "data": {
      "text/html": [
       "<pre>| 5         | 0.456295     | 0.779555          | 0.790568            | 0.468595          | 0.462230            |</pre>"
      ],
      "text/plain": [
       "| 5         | 0.456295     | 0.779555          | 0.790568            | 0.468595          | 0.462230            |"
      ]
     },
     "metadata": {},
     "output_type": "display_data"
    },
    {
     "data": {
      "text/html": [
       "<pre>| 6         | 0.538487     | 0.780358          | 0.789502            | 0.459518          | 0.453267            |</pre>"
      ],
      "text/plain": [
       "| 6         | 0.538487     | 0.780358          | 0.789502            | 0.459518          | 0.453267            |"
      ]
     },
     "metadata": {},
     "output_type": "display_data"
    },
    {
     "data": {
      "text/html": [
       "<pre>+-----------+--------------+-------------------+---------------------+-------------------+---------------------+</pre>"
      ],
      "text/plain": [
       "+-----------+--------------+-------------------+---------------------+-------------------+---------------------+"
      ]
     },
     "metadata": {},
     "output_type": "display_data"
    }
   ],
   "source": [
    "boost_model_2 = gl.boosted_trees_classifier.create(train_data_2,target='delay',features=my_features)"
   ]
  },
  {
   "cell_type": "code",
   "execution_count": 26,
   "metadata": {
    "collapsed": false
   },
   "outputs": [
    {
     "name": "stdout",
     "output_type": "stream",
     "text": [
      "{'f1_score': 0.6882111970869367, 'auc': 0.820469958995677, 'recall': 0.5848626810504147, 'precision': 0.8359235825296394, 'log_loss': 0.49625559391054364, 'roc_curve': Columns:\n",
      "\tthreshold\tfloat\n",
      "\tfpr\tfloat\n",
      "\ttpr\tfloat\n",
      "\tp\tint\n",
      "\tn\tint\n",
      "\n",
      "Rows: 100001\n",
      "\n",
      "Data:\n",
      "+-----------+-----+-----+-------+-------+\n",
      "| threshold | fpr | tpr |   p   |   n   |\n",
      "+-----------+-----+-----+-------+-------+\n",
      "|    0.0    | 1.0 | 1.0 | 23267 | 27745 |\n",
      "|   1e-05   | 1.0 | 1.0 | 23267 | 27745 |\n",
      "|   2e-05   | 1.0 | 1.0 | 23267 | 27745 |\n",
      "|   3e-05   | 1.0 | 1.0 | 23267 | 27745 |\n",
      "|   4e-05   | 1.0 | 1.0 | 23267 | 27745 |\n",
      "|   5e-05   | 1.0 | 1.0 | 23267 | 27745 |\n",
      "|   6e-05   | 1.0 | 1.0 | 23267 | 27745 |\n",
      "|   7e-05   | 1.0 | 1.0 | 23267 | 27745 |\n",
      "|   8e-05   | 1.0 | 1.0 | 23267 | 27745 |\n",
      "|   9e-05   | 1.0 | 1.0 | 23267 | 27745 |\n",
      "+-----------+-----+-----+-------+-------+\n",
      "[100001 rows x 5 columns]\n",
      "Note: Only the head of the SFrame is printed.\n",
      "You can use print_rows(num_rows=m, num_columns=n) to print more rows and columns., 'confusion_matrix': Columns:\n",
      "\ttarget_label\tint\n",
      "\tpredicted_label\tint\n",
      "\tcount\tint\n",
      "\n",
      "Rows: 4\n",
      "\n",
      "Data:\n",
      "+--------------+-----------------+-------+\n",
      "| target_label | predicted_label | count |\n",
      "+--------------+-----------------+-------+\n",
      "|      1       |        0        |  9659 |\n",
      "|      0       |        1        |  2671 |\n",
      "|      1       |        1        | 13608 |\n",
      "|      0       |        0        | 25074 |\n",
      "+--------------+-----------------+-------+\n",
      "[4 rows x 3 columns]\n",
      ", 'accuracy': 0.7582921665490473}\n"
     ]
    }
   ],
   "source": [
    "print boost_model_2.evaluate(test_data)"
   ]
  },
  {
   "cell_type": "code",
   "execution_count": 27,
   "metadata": {
    "collapsed": false
   },
   "outputs": [
    {
     "name": "stdout",
     "output_type": "stream",
     "text": [
      "{'f1_score': 0.7354520755670689, 'auc': 0.8608751958753939, 'recall': 0.6320590790616855, 'precision': 0.879286901344614, 'log_loss': 0.4424114809007444, 'roc_curve': Columns:\n",
      "\tthreshold\tfloat\n",
      "\tfpr\tfloat\n",
      "\ttpr\tfloat\n",
      "\tp\tint\n",
      "\tn\tint\n",
      "\n",
      "Rows: 100001\n",
      "\n",
      "Data:\n",
      "+-----------+-----+-----+------+-------+\n",
      "| threshold | fpr | tpr |  p   |   n   |\n",
      "+-----------+-----+-----+------+-------+\n",
      "|    0.0    | 1.0 | 1.0 | 9208 | 10164 |\n",
      "|   1e-05   | 1.0 | 1.0 | 9208 | 10164 |\n",
      "|   2e-05   | 1.0 | 1.0 | 9208 | 10164 |\n",
      "|   3e-05   | 1.0 | 1.0 | 9208 | 10164 |\n",
      "|   4e-05   | 1.0 | 1.0 | 9208 | 10164 |\n",
      "|   5e-05   | 1.0 | 1.0 | 9208 | 10164 |\n",
      "|   6e-05   | 1.0 | 1.0 | 9208 | 10164 |\n",
      "|   7e-05   | 1.0 | 1.0 | 9208 | 10164 |\n",
      "|   8e-05   | 1.0 | 1.0 | 9208 | 10164 |\n",
      "|   9e-05   | 1.0 | 1.0 | 9208 | 10164 |\n",
      "+-----------+-----+-----+------+-------+\n",
      "[100001 rows x 5 columns]\n",
      "Note: Only the head of the SFrame is printed.\n",
      "You can use print_rows(num_rows=m, num_columns=n) to print more rows and columns., 'confusion_matrix': Columns:\n",
      "\ttarget_label\tint\n",
      "\tpredicted_label\tint\n",
      "\tcount\tint\n",
      "\n",
      "Rows: 4\n",
      "\n",
      "Data:\n",
      "+--------------+-----------------+-------+\n",
      "| target_label | predicted_label | count |\n",
      "+--------------+-----------------+-------+\n",
      "|      1       |        0        |  3388 |\n",
      "|      0       |        1        |  799  |\n",
      "|      1       |        1        |  5820 |\n",
      "|      0       |        0        |  9365 |\n",
      "+--------------+-----------------+-------+\n",
      "[4 rows x 3 columns]\n",
      ", 'accuracy': 0.7838633078670245}\n"
     ]
    }
   ],
   "source": [
    "print boost_model_2.evaluate(test_data_2)"
   ]
  },
  {
   "cell_type": "code",
   "execution_count": 28,
   "metadata": {
    "collapsed": false
   },
   "outputs": [
    {
     "name": "stdout",
     "output_type": "stream",
     "text": [
      "{'f1_score': 0.7058229127194645, 'auc': 0.8331641060542814, 'recall': 0.606863596872285, 'precision': 0.8433444008451555, 'log_loss': 0.5070548998934675, 'roc_curve': Columns:\n",
      "\tthreshold\tfloat\n",
      "\tfpr\tfloat\n",
      "\ttpr\tfloat\n",
      "\tp\tint\n",
      "\tn\tint\n",
      "\n",
      "Rows: 100001\n",
      "\n",
      "Data:\n",
      "+-----------+-----+-----+------+-------+\n",
      "| threshold | fpr | tpr |  p   |   n   |\n",
      "+-----------+-----+-----+------+-------+\n",
      "|    0.0    | 1.0 | 1.0 | 9208 | 10164 |\n",
      "|   1e-05   | 1.0 | 1.0 | 9208 | 10164 |\n",
      "|   2e-05   | 1.0 | 1.0 | 9208 | 10164 |\n",
      "|   3e-05   | 1.0 | 1.0 | 9208 | 10164 |\n",
      "|   4e-05   | 1.0 | 1.0 | 9208 | 10164 |\n",
      "|   5e-05   | 1.0 | 1.0 | 9208 | 10164 |\n",
      "|   6e-05   | 1.0 | 1.0 | 9208 | 10164 |\n",
      "|   7e-05   | 1.0 | 1.0 | 9208 | 10164 |\n",
      "|   8e-05   | 1.0 | 1.0 | 9208 | 10164 |\n",
      "|   9e-05   | 1.0 | 1.0 | 9208 | 10164 |\n",
      "+-----------+-----+-----+------+-------+\n",
      "[100001 rows x 5 columns]\n",
      "Note: Only the head of the SFrame is printed.\n",
      "You can use print_rows(num_rows=m, num_columns=n) to print more rows and columns., 'confusion_matrix': Columns:\n",
      "\ttarget_label\tint\n",
      "\tpredicted_label\tint\n",
      "\tcount\tint\n",
      "\n",
      "Rows: 4\n",
      "\n",
      "Data:\n",
      "+--------------+-----------------+-------+\n",
      "| target_label | predicted_label | count |\n",
      "+--------------+-----------------+-------+\n",
      "|      1       |        0        |  3620 |\n",
      "|      0       |        1        |  1038 |\n",
      "|      1       |        1        |  5588 |\n",
      "|      0       |        0        |  9126 |\n",
      "+--------------+-----------------+-------+\n",
      "[4 rows x 3 columns]\n",
      ", 'accuracy': 0.7595498657856701}\n"
     ]
    }
   ],
   "source": [
    "print log_model.evaluate(test_data_2)"
   ]
  },
  {
   "cell_type": "code",
   "execution_count": 29,
   "metadata": {
    "collapsed": false
   },
   "outputs": [
    {
     "name": "stdout",
     "output_type": "stream",
     "text": [
      "{'f1_score': 0.7315414715504523, 'auc': 0.8583424015990067, 'recall': 0.619244135534318, 'precision': 0.893590346340699, 'log_loss': 0.4543463327258645, 'roc_curve': Columns:\n",
      "\tthreshold\tfloat\n",
      "\tfpr\tfloat\n",
      "\ttpr\tfloat\n",
      "\tp\tint\n",
      "\tn\tint\n",
      "\n",
      "Rows: 100001\n",
      "\n",
      "Data:\n",
      "+-----------+-----+-----+------+-------+\n",
      "| threshold | fpr | tpr |  p   |   n   |\n",
      "+-----------+-----+-----+------+-------+\n",
      "|    0.0    | 1.0 | 1.0 | 9208 | 10164 |\n",
      "|   1e-05   | 1.0 | 1.0 | 9208 | 10164 |\n",
      "|   2e-05   | 1.0 | 1.0 | 9208 | 10164 |\n",
      "|   3e-05   | 1.0 | 1.0 | 9208 | 10164 |\n",
      "|   4e-05   | 1.0 | 1.0 | 9208 | 10164 |\n",
      "|   5e-05   | 1.0 | 1.0 | 9208 | 10164 |\n",
      "|   6e-05   | 1.0 | 1.0 | 9208 | 10164 |\n",
      "|   7e-05   | 1.0 | 1.0 | 9208 | 10164 |\n",
      "|   8e-05   | 1.0 | 1.0 | 9208 | 10164 |\n",
      "|   9e-05   | 1.0 | 1.0 | 9208 | 10164 |\n",
      "+-----------+-----+-----+------+-------+\n",
      "[100001 rows x 5 columns]\n",
      "Note: Only the head of the SFrame is printed.\n",
      "You can use print_rows(num_rows=m, num_columns=n) to print more rows and columns., 'confusion_matrix': Columns:\n",
      "\ttarget_label\tint\n",
      "\tpredicted_label\tint\n",
      "\tcount\tint\n",
      "\n",
      "Rows: 4\n",
      "\n",
      "Data:\n",
      "+--------------+-----------------+-------+\n",
      "| target_label | predicted_label | count |\n",
      "+--------------+-----------------+-------+\n",
      "|      1       |        0        |  3506 |\n",
      "|      0       |        1        |  679  |\n",
      "|      1       |        1        |  5702 |\n",
      "|      0       |        0        |  9485 |\n",
      "+--------------+-----------------+-------+\n",
      "[4 rows x 3 columns]\n",
      ", 'accuracy': 0.7839665496593021}\n"
     ]
    }
   ],
   "source": [
    "print boost_model.evaluate(test_data_2)"
   ]
  },
  {
   "cell_type": "code",
   "execution_count": 30,
   "metadata": {
    "collapsed": false
   },
   "outputs": [
    {
     "name": "stdout",
     "output_type": "stream",
     "text": [
      "{'f1_score': 0.6898695681557072, 'recall': 0.5543006081668115, 'confusion_matrix': Columns:\n",
      "\ttarget_label\tint\n",
      "\tpredicted_label\tint\n",
      "\tcount\tint\n",
      "\n",
      "Rows: 4\n",
      "\n",
      "Data:\n",
      "+--------------+-----------------+-------+\n",
      "| target_label | predicted_label | count |\n",
      "+--------------+-----------------+-------+\n",
      "|      1       |        0        |  4104 |\n",
      "|      0       |        1        |  485  |\n",
      "|      1       |        1        |  5104 |\n",
      "|      0       |        0        |  9679 |\n",
      "+--------------+-----------------+-------+\n",
      "[4 rows x 3 columns]\n",
      ", 'precision': 0.9132224011451064, 'accuracy': 0.7631117076192443}\n"
     ]
    }
   ],
   "source": [
    "print svm_model.evaluate(test_data_2)"
   ]
  },
  {
   "cell_type": "code",
   "execution_count": 31,
   "metadata": {
    "collapsed": false
   },
   "outputs": [
    {
     "name": "stdout",
     "output_type": "stream",
     "text": [
      "204324\n"
     ]
    }
   ],
   "source": [
    "print len(train_data)"
   ]
  },
  {
   "cell_type": "code",
   "execution_count": 32,
   "metadata": {
    "collapsed": false
   },
   "outputs": [
    {
     "name": "stdout",
     "output_type": "stream",
     "text": [
      "78520\n"
     ]
    }
   ],
   "source": [
    "print len(train_data_2)"
   ]
  },
  {
   "cell_type": "code",
   "execution_count": null,
   "metadata": {
    "collapsed": true
   },
   "outputs": [],
   "source": []
  }
 ],
 "metadata": {
  "kernelspec": {
   "display_name": "Python 2",
   "language": "python",
   "name": "python2"
  },
  "language_info": {
   "codemirror_mode": {
    "name": "ipython",
    "version": 2
   },
   "file_extension": ".py",
   "mimetype": "text/x-python",
   "name": "python",
   "nbconvert_exporter": "python",
   "pygments_lexer": "ipython2",
   "version": "2.7.11"
  }
 },
 "nbformat": 4,
 "nbformat_minor": 0
}
